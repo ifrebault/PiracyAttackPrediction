{
 "cells": [
  {
   "cell_type": "code",
   "execution_count": 39,
   "metadata": {
    "collapsed": false
   },
   "outputs": [],
   "source": [
    "import pandas as pd\n",
    "import math\n",
    "from decimal import *\n",
    "import numpy as np\n",
    "from geopy.distance import vincenty"
   ]
  },
  {
   "cell_type": "code",
   "execution_count": 85,
   "metadata": {
    "collapsed": false
   },
   "outputs": [],
   "source": [
    "xl = pd.ExcelFile(\"./data/donneesBrutesPirateriesIssuesInternet.xlsx\")\n",
    "xl.sheet_names\n",
    "df = xl.parse(\"Feuil1\")"
   ]
  },
  {
   "cell_type": "markdown",
   "metadata": {},
   "source": [
    "# On supprime la deuxieme ligne"
   ]
  },
  {
   "cell_type": "code",
   "execution_count": 5,
   "metadata": {
    "collapsed": false
   },
   "outputs": [],
   "source": [
    "df=df.drop(df.index[0])"
   ]
  },
  {
   "cell_type": "markdown",
   "metadata": {},
   "source": [
    "# On convertit les degrés en latitude/longitude"
   ]
  },
  {
   "cell_type": "code",
   "execution_count": 12,
   "metadata": {
    "collapsed": false
   },
   "outputs": [
    {
     "name": "stdout",
     "output_type": "stream",
     "text": [
      "-9.40166666667\n",
      "-9.401667\n",
      "-9.4017\n"
     ]
    }
   ],
   "source": [
    "def dmsToDd(dms):  \n",
    "    #remove the last character : N S E W\n",
    "    direction=dms[-1:]\n",
    "    dms = dms[:-1]\n",
    "    \n",
    "    tab=dms.split(':', 1 )\n",
    "    degree=tab[0]\n",
    "    minuteSeconde=tab[1]\n",
    "    #print degree\n",
    "    #print minuteSeconde\n",
    "    if \":\" in minuteSeconde:\n",
    "        minuteSeconde=minuteSeconde.replace(\":\", \".\")\n",
    "    #print \"-------------\"\n",
    "    #print degree\n",
    "    #print minuteSeconde\n",
    "    lastChar=minuteSeconde[-1:]\n",
    "    if lastChar==\".\":\n",
    "        minuteSeconde=minuteSeconde[:-1]\n",
    "    \n",
    "    if \".\" in minuteSeconde:\n",
    "        tab2=minuteSeconde.split('.', 1 )\n",
    "        minute=tab2[0]\n",
    "        seconde=tab2[1]\n",
    "        #print minuteSeconde\n",
    "        #print minute\n",
    "        #print seconde\n",
    "        result=float(degree)+(float(minute)/60)+(float(seconde)/3600) \n",
    "    else:\n",
    "        result=float(degree)+(float(minuteSeconde)/60)\n",
    "    \n",
    "    if direction==\"S\" or direction==\"W\":\n",
    "        result=-result\n",
    "    return result\n",
    "    \n",
    "\n",
    "dms=\"09:24.6S\"\n",
    "\n",
    "toto =dmsToDd(dms)\n",
    "print toto\n",
    "print format(toto, '.6f')\n",
    "print round(toto, 4)"
   ]
  },
  {
   "cell_type": "code",
   "execution_count": 13,
   "metadata": {
    "collapsed": false
   },
   "outputs": [],
   "source": [
    "df['latitude'] = df.apply(lambda row: dmsToDd(row['lat (0)']), axis=1)\n",
    "df['longitude'] = df.apply(lambda row: dmsToDd(row['long(0)']), axis=1)"
   ]
  },
  {
   "cell_type": "code",
   "execution_count": 14,
   "metadata": {
    "collapsed": false
   },
   "outputs": [
    {
     "name": "stdout",
     "output_type": "stream",
     "text": [
      "2188\n"
     ]
    }
   ],
   "source": [
    "print len(df)"
   ]
  },
  {
   "cell_type": "markdown",
   "metadata": {},
   "source": [
    "# On écrit dans un csv"
   ]
  },
  {
   "cell_type": "code",
   "execution_count": 86,
   "metadata": {
    "collapsed": true
   },
   "outputs": [],
   "source": [
    "df.to_csv(\"./data/donneesBrutesPirateriesLatLon.csv\",sep=';', encoding='utf-8')"
   ]
  },
  {
   "cell_type": "markdown",
   "metadata": {},
   "source": []
  }
 ],
 "metadata": {
  "kernelspec": {
   "display_name": "Python 2",
   "language": "python",
   "name": "python2"
  },
  "language_info": {
   "codemirror_mode": {
    "name": "ipython",
    "version": 2
   },
   "file_extension": ".py",
   "mimetype": "text/x-python",
   "name": "python",
   "nbconvert_exporter": "python",
   "pygments_lexer": "ipython2",
   "version": "2.7.11"
  }
 },
 "nbformat": 4,
 "nbformat_minor": 0
}
