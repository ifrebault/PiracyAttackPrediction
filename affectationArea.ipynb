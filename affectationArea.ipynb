{
 "cells": [
  {
   "cell_type": "code",
   "execution_count": 2,
   "metadata": {
    "collapsed": true
   },
   "outputs": [],
   "source": [
    "import pandas as pd\n",
    "import math\n",
    "from decimal import *\n",
    "import numpy as np\n",
    "from geopy.distance import vincenty"
   ]
  },
  {
   "cell_type": "code",
   "execution_count": 60,
   "metadata": {
    "collapsed": true
   },
   "outputs": [],
   "source": [
    "dfAden = pd.read_csv('./data/aden.csv',sep=';')"
   ]
  },
  {
   "cell_type": "markdown",
   "metadata": {},
   "source": [
    "# Affectation des zones"
   ]
  },
  {
   "cell_type": "code",
   "execution_count": 61,
   "metadata": {
    "collapsed": false
   },
   "outputs": [
    {
     "name": "stdout",
     "output_type": "stream",
     "text": [
      "70\n",
      "80\n",
      "[31, 31.593495841258633, 32.185972950854925, 32.77749833108579, 33.36813845760308, 33.95795931801276, 34.547026449809984, 35.13540497770493, 35.72315965039237, 36.31035487681666, 36.89705476198269, 37.48332314236187, 38.069223620941685, 38.654819601965976, 39.24017432541272, 39.825350901255234, 40.410412343552274, 40.99542160441203, 41.58044160787476, 42.16553528375859, 42.75076560151286, 43.336195604123574, 43.92188844211536, 44.50790740769495, 45.094315969081194, 45.681177805067264, 46.26855683986128, 46.85651727825219, 47.44512364114857, 48.034440801539, 48.62453402092363, 49.21546898626784, 49.807311847529995, 50.40012925581715, 50.99398840222365, 51.58895705740979, 52.1851036119793, 52.7824971177166, 53.38120732974716, 53.981304749686416, 54.582860669845715, 55.185947218566305, 55.79063740675562, 56.39700517570336, 57.00512544625837, 57.61507416945126, 58.226928378651685, 58.84076624335363, 59.456667124686824, 60.07471163275748, 60.694981685926805, 61.31756057214194, 61.94253301243982, 62.56998522675147, 63.20000500214145, 63.83268176362464, 64.46810664771122, 65.10637257883944, 65.74757434886541, 66.3918086997895, 67.03917440990986, 67.68977238360603, 68.34370574496761, 69.00107993549771, 69.66200281613521, 70.32658477385613, 70.99493883313184, 71.66718077254058, 72.34342924684866, 73.02380591490018, 73.632846580333521, 74.241887245766861, 74.850927911200202, 75.459968576633543, 76.069009242066883, 76.678049907500224, 77.287090572933565, 77.896131238366905, 78.505171903800246, 79.114212569233587]\n"
     ]
    }
   ],
   "source": [
    "min_lat=-10\n",
    "max_lat=31\n",
    "min_lon=31\n",
    "max_lon=78\n",
    "\n",
    "#un degre de latitude \"vaut\"  111,11 km\n",
    "accuracy_km=65\n",
    "accuracy_lat=accuracy_km/111.11\n",
    "\n",
    "diff_lat=max_lat-min_lat\n",
    "diff_lon=max_lon-min_lon\n",
    "\n",
    "path_lat=float(diff_lat)/float(accuracy_lat)\n",
    "\n",
    "latitude_grid=np.linspace(min_lat, max_lat, path_lat)\n",
    "longitude_grid=[]\n",
    "longitude_grid.append(min_lon)\n",
    "\n",
    "tab=[]\n",
    "for i in range(0,len(latitude_grid)-1):\n",
    "    mean_lat=float(latitude_grid[i]+latitude_grid[i+1])/2\n",
    "    \n",
    "    #print mean_lat\n",
    "    #print math.cos(math.radians(mean_lat))\n",
    "    km_lon=111.11*math.cos(math.radians(mean_lat))\n",
    "    accuracy_lon=accuracy_km/km_lon\n",
    "    \n",
    "    tab.append(accuracy_lon)\n",
    "    \n",
    "    currentLon=longitude_grid[i]+accuracy_lon\n",
    "    longitude_grid.append(currentLon)\n",
    "    #print 111.11*math.cos(math.radians(mean_lat))\n",
    "\n",
    "    \n",
    "#on complete jusqu'a 78\n",
    "maxCurrent=max(longitude_grid)\n",
    "meanPath=np.mean(tab)\n",
    "while maxCurrent<78:\n",
    "    maxCurrent=max(longitude_grid)\n",
    "    longitude_grid.append(maxCurrent+meanPath)\n",
    "    \n",
    "    \n",
    "print len(latitude_grid)\n",
    "print len(longitude_grid)\n",
    "#print latitude_grid\n",
    "print longitude_grid\n"
   ]
  },
  {
   "cell_type": "code",
   "execution_count": 62,
   "metadata": {
    "collapsed": true
   },
   "outputs": [],
   "source": [
    "def affectation_zone(latitude,longitude,latitude_grid,longitude_grid,lat_bool):\n",
    "    #print 'latitude : '+ str(latitude)\n",
    "    #print 'longitude : '+ str(longitude)\n",
    "    \n",
    "    for i in range(0,len(latitude_grid)-1):\n",
    "        if latitude<latitude_grid[i+1] and latitude>latitude_grid[i]:\n",
    "            idx_zone_lat=i\n",
    "            \n",
    "    for i in range(0,len(longitude_grid)-1):\n",
    "        if longitude<longitude_grid[i+1] and longitude>longitude_grid[i]:\n",
    "            idx_zone_lon=i\n",
    "\n",
    "    #print idx_zone_lon\n",
    "    #print idx_zone_lat\n",
    "    if lat_bool:\n",
    "        return idx_zone_lat\n",
    "    else:\n",
    "        return idx_zone_lon"
   ]
  },
  {
   "cell_type": "code",
   "execution_count": 63,
   "metadata": {
    "collapsed": false
   },
   "outputs": [
    {
     "name": "stdout",
     "output_type": "stream",
     "text": [
      "33\n",
      "74\n"
     ]
    }
   ],
   "source": [
    "latitude=9.91666666667\n",
    "longitude=76.0833333333\n",
    "idx_zone_lat=affectation_zone(latitude,longitude,latitude_grid,longitude_grid,True)\n",
    "idx_zone_lon=affectation_zone(latitude,longitude,latitude_grid,longitude_grid,False)\n",
    "print idx_zone_lat\n",
    "print idx_zone_lon"
   ]
  },
  {
   "cell_type": "code",
   "execution_count": 64,
   "metadata": {
    "collapsed": false
   },
   "outputs": [],
   "source": [
    "dfAden['lat_area'] = dfAden.apply(lambda row: affectation_zone(row['latitude'],row['longitude'],latitude_grid,longitude_grid,True), axis=1)\n",
    "dfAden['lon_area'] = dfAden.apply(lambda row: affectation_zone(row['latitude'],row['longitude'],latitude_grid,longitude_grid,False), axis=1)"
   ]
  },
  {
   "cell_type": "markdown",
   "metadata": {},
   "source": [
    "# Affectation des quinzines"
   ]
  },
  {
   "cell_type": "code",
   "execution_count": 72,
   "metadata": {
    "collapsed": false
   },
   "outputs": [
    {
     "data": {
      "text/plain": [
       "4.0"
      ]
     },
     "execution_count": 72,
     "metadata": {},
     "output_type": "execute_result"
    }
   ],
   "source": [
    "def quinzaine(month,day):\n",
    "    if day<15:\n",
    "        return ((month-1))*2+1\n",
    "    else:\n",
    "        return ((month-1)*2)+2\n",
    "quinzaine(2.0,23.0)"
   ]
  },
  {
   "cell_type": "code",
   "execution_count": 74,
   "metadata": {
    "collapsed": false
   },
   "outputs": [],
   "source": [
    "dfAden['quinzaine_week']=dfAden.apply(lambda row: quinzaine(row['mois (0)'],row['jour (0)']), axis=1)"
   ]
  },
  {
   "cell_type": "code",
   "execution_count": 75,
   "metadata": {
    "collapsed": false
   },
   "outputs": [],
   "source": [
    "dfAden.to_csv(\"./data/aden.csv\",sep=';', encoding='utf-8')"
   ]
  },
  {
   "cell_type": "code",
   "execution_count": null,
   "metadata": {
    "collapsed": true
   },
   "outputs": [],
   "source": []
  }
 ],
 "metadata": {
  "kernelspec": {
   "display_name": "Python 2",
   "language": "python",
   "name": "python2"
  },
  "language_info": {
   "codemirror_mode": {
    "name": "ipython",
    "version": 2
   },
   "file_extension": ".py",
   "mimetype": "text/x-python",
   "name": "python",
   "nbconvert_exporter": "python",
   "pygments_lexer": "ipython2",
   "version": "2.7.11"
  }
 },
 "nbformat": 4,
 "nbformat_minor": 0
}
