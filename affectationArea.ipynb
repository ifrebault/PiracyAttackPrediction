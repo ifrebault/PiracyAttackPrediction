{
 "cells": [
  {
   "cell_type": "code",
   "execution_count": 1,
   "metadata": {
    "collapsed": true
   },
   "outputs": [],
   "source": [
    "import pandas as pd\n",
    "import math\n",
    "from decimal import *\n",
    "import numpy as np\n",
    "from geopy.distance import vincenty"
   ]
  },
  {
   "cell_type": "code",
   "execution_count": 2,
   "metadata": {
    "collapsed": true
   },
   "outputs": [],
   "source": [
    "dfAden = pd.read_csv('./data/aden.csv',sep=';')"
   ]
  },
  {
   "cell_type": "markdown",
   "metadata": {},
   "source": [
    "# Affectation des zones"
   ]
  },
  {
   "cell_type": "code",
   "execution_count": 4,
   "metadata": {
    "collapsed": false
   },
   "outputs": [
    {
     "name": "stdout",
     "output_type": "stream",
     "text": [
      "70\n",
      "80\n"
     ]
    }
   ],
   "source": [
    "min_lat=-10\n",
    "max_lat=31\n",
    "min_lon=31\n",
    "max_lon=78\n",
    "\n",
    "#un degre de latitude \"vaut\"  111,11 km\n",
    "accuracy_km=65\n",
    "accuracy_lat=accuracy_km/111.11\n",
    "\n",
    "diff_lat=max_lat-min_lat\n",
    "diff_lon=max_lon-min_lon\n",
    "\n",
    "path_lat=float(diff_lat)/float(accuracy_lat)\n",
    "\n",
    "latitude_grid=np.linspace(min_lat, max_lat, path_lat)\n",
    "longitude_grid=[]\n",
    "longitude_grid.append(min_lon)\n",
    "\n",
    "tab=[]\n",
    "for i in range(0,len(latitude_grid)-1):\n",
    "    mean_lat=float(latitude_grid[i]+latitude_grid[i+1])/2\n",
    "    \n",
    "    #print mean_lat\n",
    "    #print math.cos(math.radians(mean_lat))\n",
    "    km_lon=111.11*math.cos(math.radians(mean_lat))\n",
    "    accuracy_lon=accuracy_km/km_lon\n",
    "    \n",
    "    tab.append(accuracy_lon)\n",
    "    \n",
    "    currentLon=longitude_grid[i]+accuracy_lon\n",
    "    longitude_grid.append(currentLon)\n",
    "    #print 111.11*math.cos(math.radians(mean_lat))\n",
    "\n",
    "    \n",
    "#on complete jusqu'a 78\n",
    "maxCurrent=max(longitude_grid)\n",
    "meanPath=np.mean(tab)\n",
    "while maxCurrent<78:\n",
    "    maxCurrent=max(longitude_grid)\n",
    "    longitude_grid.append(maxCurrent+meanPath)\n",
    "    \n",
    "    \n",
    "print len(latitude_grid)\n",
    "print len(longitude_grid)\n",
    "#print latitude_grid\n",
    "#print longitude_grid\n"
   ]
  },
  {
   "cell_type": "code",
   "execution_count": 5,
   "metadata": {
    "collapsed": true
   },
   "outputs": [],
   "source": [
    "def affectation_zone(latitude,longitude,latitude_grid,longitude_grid,lat_bool):\n",
    "    #print 'latitude : '+ str(latitude)\n",
    "    #print 'longitude : '+ str(longitude)\n",
    "    \n",
    "    for i in range(0,len(latitude_grid)-1):\n",
    "        if latitude<latitude_grid[i+1] and latitude>latitude_grid[i]:\n",
    "            idx_zone_lat=i\n",
    "            \n",
    "    for i in range(0,len(longitude_grid)-1):\n",
    "        if longitude<longitude_grid[i+1] and longitude>longitude_grid[i]:\n",
    "            idx_zone_lon=i\n",
    "\n",
    "    #print idx_zone_lon\n",
    "    #print idx_zone_lat\n",
    "    if lat_bool:\n",
    "        return idx_zone_lat\n",
    "    else:\n",
    "        return idx_zone_lon"
   ]
  },
  {
   "cell_type": "code",
   "execution_count": 6,
   "metadata": {
    "collapsed": false
   },
   "outputs": [
    {
     "name": "stdout",
     "output_type": "stream",
     "text": [
      "33\n",
      "74\n"
     ]
    }
   ],
   "source": [
    "latitude=9.91666666667\n",
    "longitude=76.0833333333\n",
    "idx_zone_lat=affectation_zone(latitude,longitude,latitude_grid,longitude_grid,True)\n",
    "idx_zone_lon=affectation_zone(latitude,longitude,latitude_grid,longitude_grid,False)\n",
    "print idx_zone_lat\n",
    "print idx_zone_lon"
   ]
  },
  {
   "cell_type": "code",
   "execution_count": 7,
   "metadata": {
    "collapsed": false
   },
   "outputs": [],
   "source": [
    "dfAden['lat_area'] = dfAden.apply(lambda row: affectation_zone(row['latitude'],row['longitude'],latitude_grid,longitude_grid,True), axis=1)\n",
    "dfAden['lon_area'] = dfAden.apply(lambda row: affectation_zone(row['latitude'],row['longitude'],latitude_grid,longitude_grid,False), axis=1)"
   ]
  },
  {
   "cell_type": "markdown",
   "metadata": {},
   "source": []
  },
  {
   "cell_type": "code",
   "execution_count": 7,
   "metadata": {
    "collapsed": false
   },
   "outputs": [],
   "source": [
    "dfAden.to_csv(\"./data/aden.csv\",sep=';', encoding='utf-8')"
   ]
  },
  {
   "cell_type": "code",
   "execution_count": null,
   "metadata": {
    "collapsed": true
   },
   "outputs": [],
   "source": []
  }
 ],
 "metadata": {
  "kernelspec": {
   "display_name": "Python 2",
   "language": "python",
   "name": "python2"
  },
  "language_info": {
   "codemirror_mode": {
    "name": "ipython",
    "version": 2
   },
   "file_extension": ".py",
   "mimetype": "text/x-python",
   "name": "python",
   "nbconvert_exporter": "python",
   "pygments_lexer": "ipython2",
   "version": "2.7.11"
  }
 },
 "nbformat": 4,
 "nbformat_minor": 0
}
