{
 "cells": [
  {
   "cell_type": "code",
   "execution_count": 55,
   "metadata": {
    "collapsed": false
   },
   "outputs": [],
   "source": [
    "import numpy as np\n",
    "import pandas as pd\n",
    "import datetime\n",
    "from sklearn.cross_validation import cross_val_score\n",
    "from sklearn.datasets import make_blobs\n",
    "from sklearn.ensemble import RandomForestClassifier\n",
    "from sklearn.ensemble import RandomForestRegressor\n",
    "from sklearn.ensemble import ExtraTreesClassifier\n",
    "from sklearn.tree import DecisionTreeClassifier\n",
    "%matplotlib inline\n",
    "\n",
    "from sklearn.linear_model import LinearRegression\n",
    "\n",
    "from sklearn.linear_model import Ridge\n",
    "from sklearn.preprocessing import PolynomialFeatures\n",
    "from sklearn.pipeline import make_pipeline\n",
    "import matplotlib.pyplot as plt"
   ]
  },
  {
   "cell_type": "code",
   "execution_count": 60,
   "metadata": {
    "collapsed": false
   },
   "outputs": [
    {
     "name": "stdout",
     "output_type": "stream",
     "text": [
      "15\n",
      "01\n",
      "     2_week  Years  count   full_years month day       date\n",
      "0         1   2008      0  2008.041667    01  01 2008-01-01\n",
      "1         2   2008      0  2008.083333    01  15 2008-01-15\n",
      "2         3   2008      5  2008.125000    02  01 2008-02-01\n",
      "3         4   2008      0  2008.166667    02  15 2008-02-15\n",
      "4         5   2008      3  2008.208333    03  01 2008-03-01\n",
      "5         6   2008      5  2008.250000    03  15 2008-03-15\n",
      "6         7   2008      4  2008.291667    04  01 2008-04-01\n",
      "7         8   2008      6  2008.333333    04  15 2008-04-15\n",
      "8         9   2008      1  2008.375000    05  01 2008-05-01\n",
      "9        10   2008      7  2008.416667    05  15 2008-05-15\n",
      "10       11   2008      1  2008.458333    06  01 2008-06-01\n",
      "11       12   2008      1  2008.500000    06  15 2008-06-15\n",
      "12       13   2008      1  2008.541667    07  01 2008-07-01\n",
      "13       14   2008      4  2008.583333    07  15 2008-07-15\n",
      "14       15   2008      2  2008.625000    08  01 2008-08-01\n",
      "15       16   2008     11  2008.666667    08  15 2008-08-15\n",
      "16       17   2008     16  2008.708333    09  01 2008-09-01\n",
      "17       18   2008     12  2008.750000    09  15 2008-09-15\n",
      "18       19   2008     10  2008.791667    10  01 2008-10-01\n",
      "19       20   2008      8  2008.833333    10  15 2008-10-15\n",
      "20       21   2008     11  2008.875000    11  01 2008-11-01\n",
      "21       22   2008      9  2008.916667    11  15 2008-11-15\n",
      "22       23   2008      5  2008.958333    12  01 2008-12-01\n",
      "23       24   2008      6  2009.000000    12  15 2008-12-15\n",
      "24        1   2009     18  2009.041667    01  01 2009-01-01\n",
      "25        2   2009      3  2009.083333    01  15 2009-01-15\n",
      "26        3   2009      5  2009.125000    02  01 2009-02-01\n",
      "27        4   2009      6  2009.166667    02  15 2009-02-15\n",
      "28        5   2009     10  2009.208333    03  01 2009-03-01\n",
      "29        6   2009     20  2009.250000    03  15 2009-03-15\n",
      "..      ...    ...    ...          ...   ...  ..        ...\n",
      "138      19   2013      1  2013.791667    10  01 2013-10-01\n",
      "139      20   2013      2  2013.833333    10  15 2013-10-15\n",
      "140      21   2013      2  2013.875000    11  01 2013-11-01\n",
      "141      22   2013      2  2013.916667    11  15 2013-11-15\n",
      "142      23   2013      3  2013.958333    12  01 2013-12-01\n",
      "143      24   2013      0  2014.000000    12  15 2013-12-15\n",
      "144       1   2014      0  2014.041667    01  01 2014-01-01\n",
      "145       2   2014      2  2014.083333    01  15 2014-01-15\n",
      "146       3   2014      2  2014.125000    02  01 2014-02-01\n",
      "147       4   2014      0  2014.166667    02  15 2014-02-15\n",
      "148       5   2014      2  2014.208333    03  01 2014-03-01\n",
      "149       6   2014      2  2014.250000    03  15 2014-03-15\n",
      "150       7   2014      3  2014.291667    04  01 2014-04-01\n",
      "151       8   2014      2  2014.333333    04  15 2014-04-15\n",
      "152       9   2014      0  2014.375000    05  01 2014-05-01\n",
      "153      10   2014      0  2014.416667    05  15 2014-05-15\n",
      "154      11   2014      0  2014.458333    06  01 2014-06-01\n",
      "155      12   2014      0  2014.500000    06  15 2014-06-15\n",
      "156      13   2014      2  2014.541667    07  01 2014-07-01\n",
      "157      14   2014      0  2014.583333    07  15 2014-07-15\n",
      "158      15   2014      0  2014.625000    08  01 2014-08-01\n",
      "159      16   2014      1  2014.666667    08  15 2014-08-15\n",
      "160      17   2014      1  2014.708333    09  01 2014-09-01\n",
      "161      18   2014      3  2014.750000    09  15 2014-09-15\n",
      "162      19   2014      1  2014.791667    10  01 2014-10-01\n",
      "163      20   2014      0  2014.833333    10  15 2014-10-15\n",
      "164      21   2014      0  2014.875000    11  01 2014-11-01\n",
      "165      22   2014      0  2014.916667    11  15 2014-11-15\n",
      "166      23   2014      0  2014.958333    12  01 2014-12-01\n",
      "167      24   2014      1  2015.000000    12  15 2014-12-15\n",
      "\n",
      "[168 rows x 7 columns]\n"
     ]
    }
   ],
   "source": [
    "df = pd.read_csv('../data/adenMatrix.csv',sep=';')\n",
    "#df['type_attack']=df['type_attack'].astype('str')\n",
    "#print df['2_week']/2\n",
    "\n",
    "def month(quinzine):\n",
    "    if(str(quinzine).split('.', 1 )[1]=='5'):\n",
    "        if len(str(int(str(quinzine).split('.', 1 )[0])+1))==1:\n",
    "            return '0'+str(int(str(quinzine).split('.', 1 )[0])+1)\n",
    "        else:\n",
    "            return str(int(str(quinzine).split('.', 1 )[0])+1)\n",
    "    else:\n",
    "        if len(str(quinzine).split('.', 1 )[0])==1:\n",
    "            return '0'+str(quinzine).split('.', 1 )[0]\n",
    "        else:\n",
    "            return str(quinzine).split('.', 1 )[0]\n",
    "        \n",
    "def day(quinzine):\n",
    "    if(quinzine%2==0):\n",
    "        return '15'\n",
    "    else:\n",
    "        return '01'\n",
    "    \n",
    "print day(2) \n",
    "print day(1) \n",
    "df['month'] =df.apply(lambda row: month(row['2_week']/2), axis=1)\n",
    "df['day'] =df.apply(lambda row: day(row['2_week']), axis=1)\n",
    "df['date'] =df.apply(lambda row: str(row['Years'])+'-'+str(row['month'])+'-'+str(row['day']), axis=1)\n",
    "\n",
    "df['date']=df.apply(lambda row: datetime.datetime.strptime(row['date'], \"%Y-%m-%d\"), axis=1)\n",
    "\n",
    "#df['date']=datetime.datetime.strptime(df['date'], \"%Y-%m-%d\")\n",
    "\n",
    "print df\n",
    "#print len(df)\n",
    "#print df.dtypes"
   ]
  },
  {
   "cell_type": "code",
   "execution_count": 3,
   "metadata": {
    "collapsed": false
   },
   "outputs": [],
   "source": [
    "features=['2_week','Years','Boarded','Fired upon','Hijacked','Attempted']\n",
    "target='count'"
   ]
  },
  {
   "cell_type": "code",
   "execution_count": 4,
   "metadata": {
    "collapsed": false
   },
   "outputs": [
    {
     "name": "stdout",
     "output_type": "stream",
     "text": [
      "124\n",
      "12\n",
      "144\n",
      "24\n"
     ]
    }
   ],
   "source": [
    "dfTrain=df[df['Years']!=2014]\n",
    "dfTest=df[df['Years']==2014]\n",
    "print len(dfTrain[dfTrain['count']!=0])\n",
    "print len(dfTest[dfTest['count']!=0])\n",
    "\n",
    "print len(dfTrain)\n",
    "print len(dfTest)"
   ]
  },
  {
   "cell_type": "markdown",
   "metadata": {},
   "source": [
    "# Forest"
   ]
  },
  {
   "cell_type": "code",
   "execution_count": 5,
   "metadata": {
    "collapsed": false
   },
   "outputs": [],
   "source": [
    "forest = RandomForestClassifier(n_jobs=1,n_estimators=600)\n",
    "forest=forest.fit(dfTrain[features], dfTrain[target])"
   ]
  },
  {
   "cell_type": "code",
   "execution_count": 6,
   "metadata": {
    "collapsed": false
   },
   "outputs": [
    {
     "name": "stdout",
     "output_type": "stream",
     "text": [
      "[1 1 0 0 0 0 0 0 1 0 0 0 0 1 0 0 0 0 0 2 1 0 1 0 0 1 0 0 0 0 0 0 0 0 0 0 1\n",
      " 0 0 1 0 0 1 0 1 0 0 0 0 0 0 1 1 0 0 1 0 0 0 0 0 0 0 0 0 0 0 0 0 0 0 0 0 1\n",
      " 0 0 2 0 0 0 0 2 0 0 2 0 0 0 1 2 0 0 0 0 0 0]\n"
     ]
    }
   ],
   "source": [
    "predictions=forest.predict(dfTest[features])\n",
    "print predictions"
   ]
  },
  {
   "cell_type": "code",
   "execution_count": 7,
   "metadata": {
    "collapsed": false
   },
   "outputs": [
    {
     "data": {
      "text/html": [
       "<div>\n",
       "<table border=\"1\" class=\"dataframe\">\n",
       "  <thead>\n",
       "    <tr style=\"text-align: right;\">\n",
       "      <th>preds</th>\n",
       "      <th>0</th>\n",
       "      <th>1</th>\n",
       "      <th>2</th>\n",
       "    </tr>\n",
       "    <tr>\n",
       "      <th>actual</th>\n",
       "      <th></th>\n",
       "      <th></th>\n",
       "      <th></th>\n",
       "    </tr>\n",
       "  </thead>\n",
       "  <tbody>\n",
       "    <tr>\n",
       "      <th>0</th>\n",
       "      <td>59</td>\n",
       "      <td>16</td>\n",
       "      <td>4</td>\n",
       "    </tr>\n",
       "    <tr>\n",
       "      <th>1</th>\n",
       "      <td>12</td>\n",
       "      <td>0</td>\n",
       "      <td>1</td>\n",
       "    </tr>\n",
       "    <tr>\n",
       "      <th>2</th>\n",
       "      <td>3</td>\n",
       "      <td>0</td>\n",
       "      <td>0</td>\n",
       "    </tr>\n",
       "    <tr>\n",
       "      <th>3</th>\n",
       "      <td>1</td>\n",
       "      <td>0</td>\n",
       "      <td>0</td>\n",
       "    </tr>\n",
       "  </tbody>\n",
       "</table>\n",
       "</div>"
      ],
      "text/plain": [
       "preds    0   1  2\n",
       "actual           \n",
       "0       59  16  4\n",
       "1       12   0  1\n",
       "2        3   0  0\n",
       "3        1   0  0"
      ]
     },
     "execution_count": 7,
     "metadata": {},
     "output_type": "execute_result"
    }
   ],
   "source": [
    "pd.crosstab(dfTest[target],predictions,rownames=['actual'], colnames=['preds'])"
   ]
  },
  {
   "cell_type": "markdown",
   "metadata": {
    "collapsed": true
   },
   "source": [
    "# Compare area"
   ]
  },
  {
   "cell_type": "code",
   "execution_count": 8,
   "metadata": {
    "collapsed": false
   },
   "outputs": [
    {
     "name": "stderr",
     "output_type": "stream",
     "text": [
      "/Users/romainphilippe/app/anaconda2/lib/python2.7/site-packages/ipykernel/__main__.py:1: SettingWithCopyWarning: \n",
      "A value is trying to be set on a copy of a slice from a DataFrame.\n",
      "Try using .loc[row_indexer,col_indexer] = value instead\n",
      "\n",
      "See the caveats in the documentation: http://pandas.pydata.org/pandas-docs/stable/indexing.html#indexing-view-versus-copy\n",
      "  if __name__ == '__main__':\n",
      "/Users/romainphilippe/app/anaconda2/lib/python2.7/site-packages/ipykernel/__main__.py:2: FutureWarning: sort(columns=....) is deprecated, use sort_values(by=.....)\n",
      "  from ipykernel import kernelapp as app\n"
     ]
    },
    {
     "data": {
      "text/html": [
       "<div>\n",
       "<table border=\"1\" class=\"dataframe\">\n",
       "  <thead>\n",
       "    <tr style=\"text-align: right;\">\n",
       "      <th></th>\n",
       "      <th>2_week</th>\n",
       "      <th>Years</th>\n",
       "      <th>count</th>\n",
       "      <th>type_attack</th>\n",
       "      <th>Boarded</th>\n",
       "      <th>Fired upon</th>\n",
       "      <th>Hijacked</th>\n",
       "      <th>Attempted</th>\n",
       "      <th>prediction</th>\n",
       "    </tr>\n",
       "  </thead>\n",
       "  <tbody>\n",
       "    <tr>\n",
       "      <th>576</th>\n",
       "      <td>1</td>\n",
       "      <td>2014</td>\n",
       "      <td>0</td>\n",
       "      <td>Boarded</td>\n",
       "      <td>1</td>\n",
       "      <td>0</td>\n",
       "      <td>0</td>\n",
       "      <td>0</td>\n",
       "      <td>1</td>\n",
       "    </tr>\n",
       "    <tr>\n",
       "      <th>577</th>\n",
       "      <td>1</td>\n",
       "      <td>2014</td>\n",
       "      <td>0</td>\n",
       "      <td>Fired upon</td>\n",
       "      <td>0</td>\n",
       "      <td>1</td>\n",
       "      <td>0</td>\n",
       "      <td>0</td>\n",
       "      <td>1</td>\n",
       "    </tr>\n",
       "    <tr>\n",
       "      <th>580</th>\n",
       "      <td>2</td>\n",
       "      <td>2014</td>\n",
       "      <td>1</td>\n",
       "      <td>Boarded</td>\n",
       "      <td>1</td>\n",
       "      <td>0</td>\n",
       "      <td>0</td>\n",
       "      <td>0</td>\n",
       "      <td>0</td>\n",
       "    </tr>\n",
       "    <tr>\n",
       "      <th>581</th>\n",
       "      <td>2</td>\n",
       "      <td>2014</td>\n",
       "      <td>1</td>\n",
       "      <td>Fired upon</td>\n",
       "      <td>0</td>\n",
       "      <td>1</td>\n",
       "      <td>0</td>\n",
       "      <td>0</td>\n",
       "      <td>0</td>\n",
       "    </tr>\n",
       "    <tr>\n",
       "      <th>584</th>\n",
       "      <td>3</td>\n",
       "      <td>2014</td>\n",
       "      <td>0</td>\n",
       "      <td>Boarded</td>\n",
       "      <td>1</td>\n",
       "      <td>0</td>\n",
       "      <td>0</td>\n",
       "      <td>0</td>\n",
       "      <td>1</td>\n",
       "    </tr>\n",
       "    <tr>\n",
       "      <th>585</th>\n",
       "      <td>3</td>\n",
       "      <td>2014</td>\n",
       "      <td>1</td>\n",
       "      <td>Fired upon</td>\n",
       "      <td>0</td>\n",
       "      <td>1</td>\n",
       "      <td>0</td>\n",
       "      <td>0</td>\n",
       "      <td>0</td>\n",
       "    </tr>\n",
       "    <tr>\n",
       "      <th>587</th>\n",
       "      <td>3</td>\n",
       "      <td>2014</td>\n",
       "      <td>1</td>\n",
       "      <td>Attempted</td>\n",
       "      <td>0</td>\n",
       "      <td>0</td>\n",
       "      <td>0</td>\n",
       "      <td>1</td>\n",
       "      <td>0</td>\n",
       "    </tr>\n",
       "    <tr>\n",
       "      <th>589</th>\n",
       "      <td>4</td>\n",
       "      <td>2014</td>\n",
       "      <td>0</td>\n",
       "      <td>Fired upon</td>\n",
       "      <td>0</td>\n",
       "      <td>1</td>\n",
       "      <td>0</td>\n",
       "      <td>0</td>\n",
       "      <td>1</td>\n",
       "    </tr>\n",
       "    <tr>\n",
       "      <th>595</th>\n",
       "      <td>5</td>\n",
       "      <td>2014</td>\n",
       "      <td>1</td>\n",
       "      <td>Attempted</td>\n",
       "      <td>0</td>\n",
       "      <td>0</td>\n",
       "      <td>0</td>\n",
       "      <td>1</td>\n",
       "      <td>2</td>\n",
       "    </tr>\n",
       "    <tr>\n",
       "      <th>592</th>\n",
       "      <td>5</td>\n",
       "      <td>2014</td>\n",
       "      <td>1</td>\n",
       "      <td>Boarded</td>\n",
       "      <td>1</td>\n",
       "      <td>0</td>\n",
       "      <td>0</td>\n",
       "      <td>0</td>\n",
       "      <td>0</td>\n",
       "    </tr>\n",
       "    <tr>\n",
       "      <th>596</th>\n",
       "      <td>6</td>\n",
       "      <td>2014</td>\n",
       "      <td>0</td>\n",
       "      <td>Boarded</td>\n",
       "      <td>1</td>\n",
       "      <td>0</td>\n",
       "      <td>0</td>\n",
       "      <td>0</td>\n",
       "      <td>1</td>\n",
       "    </tr>\n",
       "    <tr>\n",
       "      <th>597</th>\n",
       "      <td>6</td>\n",
       "      <td>2014</td>\n",
       "      <td>1</td>\n",
       "      <td>Fired upon</td>\n",
       "      <td>0</td>\n",
       "      <td>1</td>\n",
       "      <td>0</td>\n",
       "      <td>0</td>\n",
       "      <td>0</td>\n",
       "    </tr>\n",
       "    <tr>\n",
       "      <th>598</th>\n",
       "      <td>6</td>\n",
       "      <td>2014</td>\n",
       "      <td>0</td>\n",
       "      <td>Hijacked</td>\n",
       "      <td>0</td>\n",
       "      <td>0</td>\n",
       "      <td>1</td>\n",
       "      <td>0</td>\n",
       "      <td>1</td>\n",
       "    </tr>\n",
       "    <tr>\n",
       "      <th>599</th>\n",
       "      <td>6</td>\n",
       "      <td>2014</td>\n",
       "      <td>1</td>\n",
       "      <td>Attempted</td>\n",
       "      <td>0</td>\n",
       "      <td>0</td>\n",
       "      <td>0</td>\n",
       "      <td>1</td>\n",
       "      <td>0</td>\n",
       "    </tr>\n",
       "    <tr>\n",
       "      <th>601</th>\n",
       "      <td>7</td>\n",
       "      <td>2014</td>\n",
       "      <td>0</td>\n",
       "      <td>Fired upon</td>\n",
       "      <td>0</td>\n",
       "      <td>1</td>\n",
       "      <td>0</td>\n",
       "      <td>0</td>\n",
       "      <td>1</td>\n",
       "    </tr>\n",
       "    <tr>\n",
       "      <th>603</th>\n",
       "      <td>7</td>\n",
       "      <td>2014</td>\n",
       "      <td>3</td>\n",
       "      <td>Attempted</td>\n",
       "      <td>0</td>\n",
       "      <td>0</td>\n",
       "      <td>0</td>\n",
       "      <td>1</td>\n",
       "      <td>0</td>\n",
       "    </tr>\n",
       "    <tr>\n",
       "      <th>607</th>\n",
       "      <td>8</td>\n",
       "      <td>2014</td>\n",
       "      <td>2</td>\n",
       "      <td>Attempted</td>\n",
       "      <td>0</td>\n",
       "      <td>0</td>\n",
       "      <td>0</td>\n",
       "      <td>1</td>\n",
       "      <td>0</td>\n",
       "    </tr>\n",
       "    <tr>\n",
       "      <th>615</th>\n",
       "      <td>10</td>\n",
       "      <td>2014</td>\n",
       "      <td>0</td>\n",
       "      <td>Attempted</td>\n",
       "      <td>0</td>\n",
       "      <td>0</td>\n",
       "      <td>0</td>\n",
       "      <td>1</td>\n",
       "      <td>1</td>\n",
       "    </tr>\n",
       "    <tr>\n",
       "      <th>612</th>\n",
       "      <td>10</td>\n",
       "      <td>2014</td>\n",
       "      <td>0</td>\n",
       "      <td>Boarded</td>\n",
       "      <td>1</td>\n",
       "      <td>0</td>\n",
       "      <td>0</td>\n",
       "      <td>0</td>\n",
       "      <td>1</td>\n",
       "    </tr>\n",
       "    <tr>\n",
       "      <th>618</th>\n",
       "      <td>11</td>\n",
       "      <td>2014</td>\n",
       "      <td>0</td>\n",
       "      <td>Hijacked</td>\n",
       "      <td>0</td>\n",
       "      <td>0</td>\n",
       "      <td>1</td>\n",
       "      <td>0</td>\n",
       "      <td>1</td>\n",
       "    </tr>\n",
       "    <tr>\n",
       "      <th>620</th>\n",
       "      <td>12</td>\n",
       "      <td>2014</td>\n",
       "      <td>0</td>\n",
       "      <td>Boarded</td>\n",
       "      <td>1</td>\n",
       "      <td>0</td>\n",
       "      <td>0</td>\n",
       "      <td>0</td>\n",
       "      <td>1</td>\n",
       "    </tr>\n",
       "    <tr>\n",
       "      <th>624</th>\n",
       "      <td>13</td>\n",
       "      <td>2014</td>\n",
       "      <td>2</td>\n",
       "      <td>Boarded</td>\n",
       "      <td>1</td>\n",
       "      <td>0</td>\n",
       "      <td>0</td>\n",
       "      <td>0</td>\n",
       "      <td>0</td>\n",
       "    </tr>\n",
       "    <tr>\n",
       "      <th>627</th>\n",
       "      <td>13</td>\n",
       "      <td>2014</td>\n",
       "      <td>0</td>\n",
       "      <td>Attempted</td>\n",
       "      <td>0</td>\n",
       "      <td>0</td>\n",
       "      <td>0</td>\n",
       "      <td>1</td>\n",
       "      <td>1</td>\n",
       "    </tr>\n",
       "    <tr>\n",
       "      <th>628</th>\n",
       "      <td>14</td>\n",
       "      <td>2014</td>\n",
       "      <td>0</td>\n",
       "      <td>Boarded</td>\n",
       "      <td>1</td>\n",
       "      <td>0</td>\n",
       "      <td>0</td>\n",
       "      <td>0</td>\n",
       "      <td>1</td>\n",
       "    </tr>\n",
       "    <tr>\n",
       "      <th>631</th>\n",
       "      <td>14</td>\n",
       "      <td>2014</td>\n",
       "      <td>0</td>\n",
       "      <td>Attempted</td>\n",
       "      <td>0</td>\n",
       "      <td>0</td>\n",
       "      <td>0</td>\n",
       "      <td>1</td>\n",
       "      <td>1</td>\n",
       "    </tr>\n",
       "    <tr>\n",
       "      <th>639</th>\n",
       "      <td>16</td>\n",
       "      <td>2014</td>\n",
       "      <td>1</td>\n",
       "      <td>Attempted</td>\n",
       "      <td>0</td>\n",
       "      <td>0</td>\n",
       "      <td>0</td>\n",
       "      <td>1</td>\n",
       "      <td>0</td>\n",
       "    </tr>\n",
       "    <tr>\n",
       "      <th>640</th>\n",
       "      <td>17</td>\n",
       "      <td>2014</td>\n",
       "      <td>1</td>\n",
       "      <td>Boarded</td>\n",
       "      <td>1</td>\n",
       "      <td>0</td>\n",
       "      <td>0</td>\n",
       "      <td>0</td>\n",
       "      <td>0</td>\n",
       "    </tr>\n",
       "    <tr>\n",
       "      <th>644</th>\n",
       "      <td>18</td>\n",
       "      <td>2014</td>\n",
       "      <td>2</td>\n",
       "      <td>Boarded</td>\n",
       "      <td>1</td>\n",
       "      <td>0</td>\n",
       "      <td>0</td>\n",
       "      <td>0</td>\n",
       "      <td>0</td>\n",
       "    </tr>\n",
       "    <tr>\n",
       "      <th>647</th>\n",
       "      <td>18</td>\n",
       "      <td>2014</td>\n",
       "      <td>1</td>\n",
       "      <td>Attempted</td>\n",
       "      <td>0</td>\n",
       "      <td>0</td>\n",
       "      <td>0</td>\n",
       "      <td>1</td>\n",
       "      <td>0</td>\n",
       "    </tr>\n",
       "    <tr>\n",
       "      <th>648</th>\n",
       "      <td>19</td>\n",
       "      <td>2014</td>\n",
       "      <td>1</td>\n",
       "      <td>Boarded</td>\n",
       "      <td>1</td>\n",
       "      <td>0</td>\n",
       "      <td>0</td>\n",
       "      <td>0</td>\n",
       "      <td>0</td>\n",
       "    </tr>\n",
       "    <tr>\n",
       "      <th>649</th>\n",
       "      <td>19</td>\n",
       "      <td>2014</td>\n",
       "      <td>0</td>\n",
       "      <td>Fired upon</td>\n",
       "      <td>0</td>\n",
       "      <td>1</td>\n",
       "      <td>0</td>\n",
       "      <td>0</td>\n",
       "      <td>1</td>\n",
       "    </tr>\n",
       "    <tr>\n",
       "      <th>652</th>\n",
       "      <td>20</td>\n",
       "      <td>2014</td>\n",
       "      <td>0</td>\n",
       "      <td>Boarded</td>\n",
       "      <td>1</td>\n",
       "      <td>0</td>\n",
       "      <td>0</td>\n",
       "      <td>0</td>\n",
       "      <td>2</td>\n",
       "    </tr>\n",
       "    <tr>\n",
       "      <th>657</th>\n",
       "      <td>21</td>\n",
       "      <td>2014</td>\n",
       "      <td>0</td>\n",
       "      <td>Fired upon</td>\n",
       "      <td>0</td>\n",
       "      <td>1</td>\n",
       "      <td>0</td>\n",
       "      <td>0</td>\n",
       "      <td>2</td>\n",
       "    </tr>\n",
       "    <tr>\n",
       "      <th>660</th>\n",
       "      <td>22</td>\n",
       "      <td>2014</td>\n",
       "      <td>0</td>\n",
       "      <td>Boarded</td>\n",
       "      <td>1</td>\n",
       "      <td>0</td>\n",
       "      <td>0</td>\n",
       "      <td>0</td>\n",
       "      <td>2</td>\n",
       "    </tr>\n",
       "    <tr>\n",
       "      <th>665</th>\n",
       "      <td>23</td>\n",
       "      <td>2014</td>\n",
       "      <td>0</td>\n",
       "      <td>Fired upon</td>\n",
       "      <td>0</td>\n",
       "      <td>1</td>\n",
       "      <td>0</td>\n",
       "      <td>0</td>\n",
       "      <td>2</td>\n",
       "    </tr>\n",
       "    <tr>\n",
       "      <th>664</th>\n",
       "      <td>23</td>\n",
       "      <td>2014</td>\n",
       "      <td>0</td>\n",
       "      <td>Boarded</td>\n",
       "      <td>1</td>\n",
       "      <td>0</td>\n",
       "      <td>0</td>\n",
       "      <td>0</td>\n",
       "      <td>1</td>\n",
       "    </tr>\n",
       "    <tr>\n",
       "      <th>671</th>\n",
       "      <td>24</td>\n",
       "      <td>2014</td>\n",
       "      <td>1</td>\n",
       "      <td>Attempted</td>\n",
       "      <td>0</td>\n",
       "      <td>0</td>\n",
       "      <td>0</td>\n",
       "      <td>1</td>\n",
       "      <td>0</td>\n",
       "    </tr>\n",
       "  </tbody>\n",
       "</table>\n",
       "</div>"
      ],
      "text/plain": [
       "     2_week  Years  count type_attack  Boarded  Fired upon  Hijacked  \\\n",
       "576       1   2014      0     Boarded        1           0         0   \n",
       "577       1   2014      0  Fired upon        0           1         0   \n",
       "580       2   2014      1     Boarded        1           0         0   \n",
       "581       2   2014      1  Fired upon        0           1         0   \n",
       "584       3   2014      0     Boarded        1           0         0   \n",
       "585       3   2014      1  Fired upon        0           1         0   \n",
       "587       3   2014      1   Attempted        0           0         0   \n",
       "589       4   2014      0  Fired upon        0           1         0   \n",
       "595       5   2014      1   Attempted        0           0         0   \n",
       "592       5   2014      1     Boarded        1           0         0   \n",
       "596       6   2014      0     Boarded        1           0         0   \n",
       "597       6   2014      1  Fired upon        0           1         0   \n",
       "598       6   2014      0    Hijacked        0           0         1   \n",
       "599       6   2014      1   Attempted        0           0         0   \n",
       "601       7   2014      0  Fired upon        0           1         0   \n",
       "603       7   2014      3   Attempted        0           0         0   \n",
       "607       8   2014      2   Attempted        0           0         0   \n",
       "615      10   2014      0   Attempted        0           0         0   \n",
       "612      10   2014      0     Boarded        1           0         0   \n",
       "618      11   2014      0    Hijacked        0           0         1   \n",
       "620      12   2014      0     Boarded        1           0         0   \n",
       "624      13   2014      2     Boarded        1           0         0   \n",
       "627      13   2014      0   Attempted        0           0         0   \n",
       "628      14   2014      0     Boarded        1           0         0   \n",
       "631      14   2014      0   Attempted        0           0         0   \n",
       "639      16   2014      1   Attempted        0           0         0   \n",
       "640      17   2014      1     Boarded        1           0         0   \n",
       "644      18   2014      2     Boarded        1           0         0   \n",
       "647      18   2014      1   Attempted        0           0         0   \n",
       "648      19   2014      1     Boarded        1           0         0   \n",
       "649      19   2014      0  Fired upon        0           1         0   \n",
       "652      20   2014      0     Boarded        1           0         0   \n",
       "657      21   2014      0  Fired upon        0           1         0   \n",
       "660      22   2014      0     Boarded        1           0         0   \n",
       "665      23   2014      0  Fired upon        0           1         0   \n",
       "664      23   2014      0     Boarded        1           0         0   \n",
       "671      24   2014      1   Attempted        0           0         0   \n",
       "\n",
       "     Attempted  prediction  \n",
       "576          0           1  \n",
       "577          0           1  \n",
       "580          0           0  \n",
       "581          0           0  \n",
       "584          0           1  \n",
       "585          0           0  \n",
       "587          1           0  \n",
       "589          0           1  \n",
       "595          1           2  \n",
       "592          0           0  \n",
       "596          0           1  \n",
       "597          0           0  \n",
       "598          0           1  \n",
       "599          1           0  \n",
       "601          0           1  \n",
       "603          1           0  \n",
       "607          1           0  \n",
       "615          1           1  \n",
       "612          0           1  \n",
       "618          0           1  \n",
       "620          0           1  \n",
       "624          0           0  \n",
       "627          1           1  \n",
       "628          0           1  \n",
       "631          1           1  \n",
       "639          1           0  \n",
       "640          0           0  \n",
       "644          0           0  \n",
       "647          1           0  \n",
       "648          0           0  \n",
       "649          0           1  \n",
       "652          0           2  \n",
       "657          0           2  \n",
       "660          0           2  \n",
       "665          0           2  \n",
       "664          0           1  \n",
       "671          1           0  "
      ]
     },
     "execution_count": 8,
     "metadata": {},
     "output_type": "execute_result"
    }
   ],
   "source": [
    "dfTest['prediction']=predictions\n",
    "dfTest[(dfTest[target]!=0) | (dfTest['prediction']!=0)].sort('2_week')"
   ]
  },
  {
   "cell_type": "markdown",
   "metadata": {
    "collapsed": true
   },
   "source": [
    "# Regression"
   ]
  },
  {
   "cell_type": "code",
   "execution_count": 5,
   "metadata": {
    "collapsed": true
   },
   "outputs": [],
   "source": [
    "\n",
    "\n",
    "features_regression=['full_years']\n",
    "\n",
    "target='count'\n",
    "\n",
    "dfTrain=df[df['full_years']<2014]\n",
    "dfTest=df[df['full_years']>2014]\n",
    "\n",
    "\n",
    "# creation du modele\n",
    "model = LinearRegression()"
   ]
  },
  {
   "cell_type": "code",
   "execution_count": 8,
   "metadata": {
    "collapsed": false
   },
   "outputs": [],
   "source": [
    "test=np.linspace(2010, 2012, num=24*2)\n",
    "#print dfTrain[target]"
   ]
  },
  {
   "cell_type": "code",
   "execution_count": 68,
   "metadata": {
    "collapsed": false
   },
   "outputs": [
    {
     "name": "stderr",
     "output_type": "stream",
     "text": [
      "/Users/romainphilippe/app/anaconda2/lib/python2.7/site-packages/sklearn/utils/validation.py:386: DeprecationWarning: Passing 1d arrays as data is deprecated in 0.17 and willraise ValueError in 0.19. Reshape your data either using X.reshape(-1, 1) if your data has a single feature or X.reshape(1, -1) if it contains a single sample.\n",
      "  DeprecationWarning)\n",
      "/Users/romainphilippe/app/anaconda2/lib/python2.7/site-packages/sklearn/utils/validation.py:386: DeprecationWarning: Passing 1d arrays as data is deprecated in 0.17 and willraise ValueError in 0.19. Reshape your data either using X.reshape(-1, 1) if your data has a single feature or X.reshape(1, -1) if it contains a single sample.\n",
      "  DeprecationWarning)\n"
     ]
    },
    {
     "ename": "ValueError",
     "evalue": "shapes (1,462) and (6,) not aligned: 462 (dim 1) != 6 (dim 0)",
     "output_type": "error",
     "traceback": [
      "\u001b[0;31m---------------------------------------------------------------------------\u001b[0m",
      "\u001b[0;31mValueError\u001b[0m                                Traceback (most recent call last)",
      "\u001b[0;32m<ipython-input-68-55d537cfc7e0>\u001b[0m in \u001b[0;36m<module>\u001b[0;34m()\u001b[0m\n\u001b[1;32m     20\u001b[0m     \u001b[0mprediction_quadratic\u001b[0m \u001b[0;34m=\u001b[0m \u001b[0mquadratic\u001b[0m\u001b[0;34m.\u001b[0m\u001b[0mfit_transform\u001b[0m\u001b[0;34m(\u001b[0m\u001b[0mprediction_brute\u001b[0m\u001b[0;34m)\u001b[0m\u001b[0;34m\u001b[0m\u001b[0m\n\u001b[1;32m     21\u001b[0m \u001b[0;34m\u001b[0m\u001b[0m\n\u001b[0;32m---> 22\u001b[0;31m     \u001b[0my_plot\u001b[0m \u001b[0;34m=\u001b[0m \u001b[0mmodel\u001b[0m\u001b[0;34m.\u001b[0m\u001b[0mpredict\u001b[0m\u001b[0;34m(\u001b[0m\u001b[0mprediction_quadratic\u001b[0m\u001b[0;34m)\u001b[0m\u001b[0;34m\u001b[0m\u001b[0m\n\u001b[0m\u001b[1;32m     23\u001b[0m     \u001b[0;32mprint\u001b[0m \u001b[0mlen\u001b[0m\u001b[0;34m(\u001b[0m\u001b[0my_plot\u001b[0m\u001b[0;34m)\u001b[0m\u001b[0;34m\u001b[0m\u001b[0m\n\u001b[1;32m     24\u001b[0m     \u001b[0;32mprint\u001b[0m \u001b[0mlen\u001b[0m\u001b[0;34m(\u001b[0m\u001b[0mprediction_quadratic\u001b[0m\u001b[0;34m)\u001b[0m\u001b[0;34m\u001b[0m\u001b[0m\n",
      "\u001b[0;32m/Users/romainphilippe/app/anaconda2/lib/python2.7/site-packages/sklearn/linear_model/base.pyc\u001b[0m in \u001b[0;36mpredict\u001b[0;34m(self, X)\u001b[0m\n\u001b[1;32m    198\u001b[0m             \u001b[0mReturns\u001b[0m \u001b[0mpredicted\u001b[0m \u001b[0mvalues\u001b[0m\u001b[0;34m.\u001b[0m\u001b[0;34m\u001b[0m\u001b[0m\n\u001b[1;32m    199\u001b[0m         \"\"\"\n\u001b[0;32m--> 200\u001b[0;31m         \u001b[0;32mreturn\u001b[0m \u001b[0mself\u001b[0m\u001b[0;34m.\u001b[0m\u001b[0m_decision_function\u001b[0m\u001b[0;34m(\u001b[0m\u001b[0mX\u001b[0m\u001b[0;34m)\u001b[0m\u001b[0;34m\u001b[0m\u001b[0m\n\u001b[0m\u001b[1;32m    201\u001b[0m \u001b[0;34m\u001b[0m\u001b[0m\n\u001b[1;32m    202\u001b[0m     \u001b[0m_center_data\u001b[0m \u001b[0;34m=\u001b[0m \u001b[0mstaticmethod\u001b[0m\u001b[0;34m(\u001b[0m\u001b[0mcenter_data\u001b[0m\u001b[0;34m)\u001b[0m\u001b[0;34m\u001b[0m\u001b[0m\n",
      "\u001b[0;32m/Users/romainphilippe/app/anaconda2/lib/python2.7/site-packages/sklearn/linear_model/base.pyc\u001b[0m in \u001b[0;36m_decision_function\u001b[0;34m(self, X)\u001b[0m\n\u001b[1;32m    183\u001b[0m         \u001b[0mX\u001b[0m \u001b[0;34m=\u001b[0m \u001b[0mcheck_array\u001b[0m\u001b[0;34m(\u001b[0m\u001b[0mX\u001b[0m\u001b[0;34m,\u001b[0m \u001b[0maccept_sparse\u001b[0m\u001b[0;34m=\u001b[0m\u001b[0;34m[\u001b[0m\u001b[0;34m'csr'\u001b[0m\u001b[0;34m,\u001b[0m \u001b[0;34m'csc'\u001b[0m\u001b[0;34m,\u001b[0m \u001b[0;34m'coo'\u001b[0m\u001b[0;34m]\u001b[0m\u001b[0;34m)\u001b[0m\u001b[0;34m\u001b[0m\u001b[0m\n\u001b[1;32m    184\u001b[0m         return safe_sparse_dot(X, self.coef_.T,\n\u001b[0;32m--> 185\u001b[0;31m                                dense_output=True) + self.intercept_\n\u001b[0m\u001b[1;32m    186\u001b[0m \u001b[0;34m\u001b[0m\u001b[0m\n\u001b[1;32m    187\u001b[0m     \u001b[0;32mdef\u001b[0m \u001b[0mpredict\u001b[0m\u001b[0;34m(\u001b[0m\u001b[0mself\u001b[0m\u001b[0;34m,\u001b[0m \u001b[0mX\u001b[0m\u001b[0;34m)\u001b[0m\u001b[0;34m:\u001b[0m\u001b[0;34m\u001b[0m\u001b[0m\n",
      "\u001b[0;32m/Users/romainphilippe/app/anaconda2/lib/python2.7/site-packages/sklearn/utils/extmath.pyc\u001b[0m in \u001b[0;36msafe_sparse_dot\u001b[0;34m(a, b, dense_output)\u001b[0m\n\u001b[1;32m    182\u001b[0m         \u001b[0;32mreturn\u001b[0m \u001b[0mret\u001b[0m\u001b[0;34m\u001b[0m\u001b[0m\n\u001b[1;32m    183\u001b[0m     \u001b[0;32melse\u001b[0m\u001b[0;34m:\u001b[0m\u001b[0;34m\u001b[0m\u001b[0m\n\u001b[0;32m--> 184\u001b[0;31m         \u001b[0;32mreturn\u001b[0m \u001b[0mfast_dot\u001b[0m\u001b[0;34m(\u001b[0m\u001b[0ma\u001b[0m\u001b[0;34m,\u001b[0m \u001b[0mb\u001b[0m\u001b[0;34m)\u001b[0m\u001b[0;34m\u001b[0m\u001b[0m\n\u001b[0m\u001b[1;32m    185\u001b[0m \u001b[0;34m\u001b[0m\u001b[0m\n\u001b[1;32m    186\u001b[0m \u001b[0;34m\u001b[0m\u001b[0m\n",
      "\u001b[0;31mValueError\u001b[0m: shapes (1,462) and (6,) not aligned: 462 (dim 1) != 6 (dim 0)"
     ]
    },
    {
     "data": {
      "image/png": "[encoded data removed]",
      "text/plain": [
       "<matplotlib.figure.Figure at 0x1179b6210>"
      ]
     },
     "metadata": {},
     "output_type": "display_data"
    }
   ],
   "source": [
    "\n",
    "plt.plot(dfTrain[features_regression], dfTrain[target], label=\"ground truth\")\n",
    "\n",
    "for degree in [11]:\n",
    "\n",
    "    #model = make_pipeline(PolynomialFeatures(degree), Ridge())\n",
    "    #model.fit(dfTrain[features_regression], dfTrain[target])\n",
    "    \n",
    "    \n",
    "    \n",
    "    quadratic = PolynomialFeatures(degree=5)\n",
    "    # Préprocessing des diamétres :\n",
    "    diametres_quadratic = quadratic.fit_transform(dfTrain[features_regression])\n",
    "\n",
    "    #print diametres_quadratic\n",
    "    model.fit(diametres_quadratic, dfTrain[target])\n",
    "    \n",
    "    \n",
    "    prediction_brute=[2008,2009,2010,2011,2012,2013]\n",
    "    prediction_quadratic = quadratic.fit_transform(prediction_brute)\n",
    "    \n",
    "    y_plot = model.predict(prediction_quadratic)\n",
    "    print len(y_plot)\n",
    "    print len(prediction_quadratic)\n",
    "    print len(prediction_brute)\n",
    "    \n",
    "    plt.plot(prediction_brute, y_plot, label=\"degree %d\" % degree)\n",
    "\n",
    "\n",
    "    \n",
    "    \n",
    "\n",
    "plt.legend(loc='lower left')\n",
    "plt.show()"
   ]
  },
  {
   "cell_type": "markdown",
   "metadata": {
    "collapsed": false
   },
   "source": [
    "# Bayes Regression"
   ]
  },
  {
   "cell_type": "code",
   "execution_count": 42,
   "metadata": {
    "collapsed": true
   },
   "outputs": [],
   "source": [
    "from sklearn.linear_model import BayesianRidge, LinearRegression\n",
    "\n",
    "prediction_brute=[[2009]]\n",
    "\n",
    "clf = linear_model.BayesianRidge()"
   ]
  },
  {
   "cell_type": "code",
   "execution_count": 43,
   "metadata": {
    "collapsed": false
   },
   "outputs": [
    {
     "data": {
      "text/plain": [
       "BayesianRidge(alpha_1=1e-06, alpha_2=1e-06, compute_score=False, copy_X=True,\n",
       "       fit_intercept=True, lambda_1=1e-06, lambda_2=1e-06, n_iter=300,\n",
       "       normalize=False, tol=0.001, verbose=False)"
      ]
     },
     "execution_count": 43,
     "metadata": {},
     "output_type": "execute_result"
    }
   ],
   "source": [
    "clf.fit(dfTrain[features_regression], dfTrain[target])"
   ]
  },
  {
   "cell_type": "code",
   "execution_count": 44,
   "metadata": {
    "collapsed": false
   },
   "outputs": [],
   "source": [
    "y_plot = clf.predict(dfTrain[features_regression])"
   ]
  },
  {
   "cell_type": "code",
   "execution_count": 46,
   "metadata": {
    "collapsed": false
   },
   "outputs": [
    {
     "data": {
      "text/plain": [
       "[<matplotlib.lines.Line2D at 0x117e5bf90>]"
      ]
     },
     "execution_count": 46,
     "metadata": {},
     "output_type": "execute_result"
    },
    {
     "data": {
      "image/png": "[encoded data removed]",
      "text/plain": [
       "<matplotlib.figure.Figure at 0x117c4e310>"
      ]
     },
     "metadata": {},
     "output_type": "display_data"
    }
   ],
   "source": [
    "plt.plot(dfTrain[features_regression], dfTrain[target], label=\"ground truth\")\n",
    "plt.plot(dfTrain[features_regression], y_plot, label=\"degree %d\" % degree)"
   ]
  },
  {
   "cell_type": "markdown",
   "metadata": {},
   "source": [
    "#     zzzz"
   ]
  },
  {
   "cell_type": "code",
   "execution_count": 80,
   "metadata": {
    "collapsed": false
   },
   "outputs": [
    {
     "name": "stdout",
     "output_type": "stream",
     "text": [
      "200\n"
     ]
    },
    {
     "data": {
      "text/plain": [
       "<matplotlib.legend.Legend at 0x117faf810>"
      ]
     },
     "execution_count": 80,
     "metadata": {},
     "output_type": "execute_result"
    },
    {
     "data": {
      "image/png": "[encoded data removed]",
      "text/plain": [
       "<matplotlib.figure.Figure at 0x119231c10>"
      ]
     },
     "metadata": {},
     "output_type": "display_data"
    }
   ],
   "source": [
    "import pandas, numpy as np\n",
    "ewma = pandas.stats.moments.ewma\n",
    "\n",
    "# make a hat function, and add noise\n",
    "x = np.linspace(0,1,100)\n",
    "x = np.hstack((x,x[::-1]))\n",
    "x += np.random.normal( loc=0, scale=0.1, size=200 )\n",
    "\n",
    "print len(x)\n",
    "\n",
    "plt.plot( x, alpha=0.4, label='Raw' )\n",
    "\n",
    "# take EWMA in both directions with a smaller span term\n",
    "fwd = ewma( x, span=15 )          # take EWMA in fwd direction\n",
    "bwd = ewma( x[::-1], span=15 )    # take EWMA in bwd direction\n",
    "c = np.vstack(( fwd, bwd[::-1] )) # lump fwd and bwd together\n",
    "c = np.mean( c, axis=0 )          # average  \n",
    "\n",
    "# regular EWMA, with bias against trend\n",
    "plt.plot( ewma( x, span=20 ), 'b', label='EWMA, span=20' )\n",
    "\n",
    "# \"corrected\" (?) EWMA\n",
    "plt.plot( c, 'r', label='Reversed-Recombined' )\n",
    "\n",
    "plt.legend(loc=8)\n",
    "#plt.savefig( 'ewma_correction.png', fmt='png', dpi=100 )"
   ]
  },
  {
   "cell_type": "code",
   "execution_count": 6,
   "metadata": {
    "collapsed": false
   },
   "outputs": [
    {
     "name": "stdout",
     "output_type": "stream",
     "text": [
      "<class 'pandas.core.series.Series'>\n"
     ]
    }
   ],
   "source": [
    "from sklearn.svm import SVR\n",
    "import random\n",
    "import numpy as np\n",
    "\n",
    "'''\n",
    "data: the train set, 24 elements\n",
    "label: label for each time\n",
    "'''\n",
    "\n",
    "#data = [10+y for  y in [x * .5 for x in range(24)]]\n",
    "#label =  [z for z in [random.random()]*24]\n",
    "\n",
    "# reshaping the train set and the label ...\n",
    "\n",
    "#DATA = np.array([data]).T\n",
    "#LABEL = np.array(label)\n",
    "\n",
    "#print DATA\n",
    "#print dfTrain[features_regression].values\n",
    "#print label\n",
    "print type(dfTrain[target])\n",
    "# Declaring model and fitting it\n",
    "\n",
    "clf  = SVR()\n",
    "clf.fit(dfTrain[features_regression].values, dfTrain[target].as_matrix())\n",
    "\n",
    "# predict the next label \n",
    "\n",
    "#to_predict = DATA[DATA[23,0]+0.5]\n",
    "\n",
    "predic=clf.predict(df[features_regression].values)"
   ]
  },
  {
   "cell_type": "code",
   "execution_count": 7,
   "metadata": {
    "collapsed": false
   },
   "outputs": [],
   "source": [
    "#print dfTrain[features_regression].values"
   ]
  },
  {
   "cell_type": "code",
   "execution_count": 8,
   "metadata": {
    "collapsed": false
   },
   "outputs": [
    {
     "data": {
      "text/plain": [
       "[<matplotlib.lines.Line2D at 0x113ecb510>]"
      ]
     },
     "execution_count": 8,
     "metadata": {},
     "output_type": "execute_result"
    },
    {
     "data": {
      "image/png": "[encoded data removed]",
      "text/plain": [
       "<matplotlib.figure.Figure at 0x113ecbdd0>"
      ]
     },
     "metadata": {},
     "output_type": "display_data"
    }
   ],
   "source": [
    "plt.plot(df[features_regression], df[target], label=\"ground truth\")\n",
    "plt.plot(df[features_regression], predic, label=\"ground truth\")"
   ]
  },
  {
   "cell_type": "code",
   "execution_count": null,
   "metadata": {
    "collapsed": true
   },
   "outputs": [],
   "source": []
  }
 ],
 "metadata": {
  "kernelspec": {
   "display_name": "Python 2",
   "language": "python",
   "name": "python2"
  },
  "language_info": {
   "codemirror_mode": {
    "name": "ipython",
    "version": 2
   },
   "file_extension": ".py",
   "mimetype": "text/x-python",
   "name": "python",
   "nbconvert_exporter": "python",
   "pygments_lexer": "ipython2",
   "version": "2.7.11"
  }
 },
 "nbformat": 4,
 "nbformat_minor": 0
}
