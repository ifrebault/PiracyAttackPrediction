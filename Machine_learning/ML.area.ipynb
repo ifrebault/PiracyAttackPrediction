{
 "cells": [
  {
   "cell_type": "code",
   "execution_count": 37,
   "metadata": {
    "collapsed": false
   },
   "outputs": [],
   "source": [
    "import numpy as np\n",
    "import pandas as pd\n",
    "import datetime\n",
    "from sklearn.cross_validation import cross_val_score\n",
    "from sklearn.datasets import make_blobs\n",
    "from sklearn.ensemble import RandomForestClassifier\n",
    "from sklearn.ensemble import RandomForestRegressor\n",
    "from sklearn.ensemble import ExtraTreesClassifier\n",
    "from sklearn.tree import DecisionTreeClassifier\n",
    "%matplotlib inline\n",
    "\n",
    "from sklearn.linear_model import LinearRegression\n",
    "\n",
    "from sklearn.linear_model import Ridge\n",
    "from sklearn.preprocessing import PolynomialFeatures\n",
    "from sklearn.pipeline import make_pipeline\n",
    "import matplotlib.pyplot as plt"
   ]
  },
  {
   "cell_type": "code",
   "execution_count": 38,
   "metadata": {
    "collapsed": true
   },
   "outputs": [],
   "source": [
    "df = pd.read_csv('../data/aden_golfe_matrix_area.csv',sep=';')\n"
   ]
  },
  {
   "cell_type": "code",
   "execution_count": 39,
   "metadata": {
    "collapsed": false
   },
   "outputs": [
    {
     "name": "stdout",
     "output_type": "stream",
     "text": [
      "15\n",
      "01\n",
      "       2_week  Years  count  lat_area  lon_area month day       date\n",
      "980         3   2008      2         4        20    02  01 2008-02-01\n",
      "2197        6   2008      1         3        21    03  15 2008-03-15\n",
      "2226        6   2008      1         4        18    03  15 2008-03-15\n",
      "2291        6   2008      1         6        19    03  15 2008-03-15\n",
      "2672        7   2008      1         5        16    04  01 2008-04-01\n",
      "2674        7   2008      1         5        18    04  01 2008-04-01\n",
      "2736        7   2008      1         7        16    04  01 2008-04-01\n",
      "3056        8   2008      1         4        16    04  15 2008-04-15\n",
      "3057        8   2008      1         4        17    04  15 2008-04-15\n",
      "3122        8   2008      1         6        18    04  15 2008-04-15\n",
      "3888       10   2008      1         4        16    05  15 2008-05-15\n",
      "3891       10   2008      1         4        19    05  15 2008-05-15\n",
      "3918       10   2008      1         5        14    05  15 2008-05-15\n",
      "3920       10   2008      1         5        16    05  15 2008-05-15\n",
      "3923       10   2008      1         5        19    05  15 2008-05-15\n",
      "3955       10   2008      1         6        19    05  15 2008-05-15\n",
      "4305       11   2008      1         4        17    06  01 2008-06-01\n",
      "4718       12   2008      1         4        14    06  15 2008-06-15\n",
      "5126       13   2008      1         4         6    07  01 2008-07-01\n",
      "5555       14   2008      1         4        19    07  15 2008-07-15\n",
      "5584       14   2008      1         5        16    07  15 2008-07-15\n",
      "5586       14   2008      1         5        18    07  15 2008-07-15\n",
      "6001       15   2008      2         5        17    08  01 2008-08-01\n",
      "6382       16   2008      1         4        14    08  15 2008-08-15\n",
      "6384       16   2008      1         4        16    08  15 2008-08-15\n",
      "6411       16   2008      1         5        11    08  15 2008-08-15\n",
      "6418       16   2008      1         5        18    08  15 2008-08-15\n",
      "6449       16   2008      1         6        17    08  15 2008-08-15\n",
      "6450       16   2008      2         6        18    08  15 2008-08-15\n",
      "6738       17   2008      1         2        18    09  01 2008-09-01\n",
      "...       ...    ...    ...       ...       ...   ...  ..        ...\n",
      "42647       7   2012      1         6        23    04  01 2012-04-01\n",
      "42952       8   2012      1         3         8    04  15 2012-04-15\n",
      "43075       8   2012      1         7         3    04  15 2012-04-15\n",
      "43125       8   2012      1         8        21    04  15 2012-04-15\n",
      "43461       9   2012      1         6         5    05  01 2012-05-01\n",
      "43813      10   2012      1         4         5    05  15 2012-05-15\n",
      "44229      11   2012      1         4         5    06  01 2012-06-01\n",
      "44261      11   2012      1         5         5    06  01 2012-06-01\n",
      "44615      12   2012      1         3         7    06  15 2012-06-15\n",
      "44730      12   2012      1         6        26    06  15 2012-06-15\n",
      "45508      14   2012      1         5         4    07  15 2012-07-15\n",
      "49584      24   2012      1         2        16    12  15 2012-12-15\n",
      "51763       5   2013      1         5        19    03  01 2013-03-01\n",
      "51793       5   2013      1         6        17    03  01 2013-03-01\n",
      "52084       6   2013      1         2        20    03  15 2013-03-15\n",
      "53767      10   2013      1         3         7    05  15 2013-05-15\n",
      "54160      11   2013      1         2        16    06  01 2013-06-01\n",
      "55045      13   2013      1         4         5    07  01 2013-07-01\n",
      "55493      14   2013      1         5         5    07  15 2013-07-15\n",
      "59214      23   2013      2         4        14    12  01 2013-12-01\n",
      "60601       2   2014      1         8        25    01  15 2014-01-15\n",
      "60838       3   2014      1         3         6    02  01 2014-02-01\n",
      "61783       5   2014      1         6        23    03  01 2014-03-01\n",
      "62149       6   2014      1         5         5    03  15 2014-03-15\n",
      "62502       7   2014      1         3         6    04  01 2014-04-01\n",
      "62534       7   2014      1         4         6    04  01 2014-04-01\n",
      "62619       7   2014      1         6        27    04  01 2014-04-01\n",
      "62918       8   2014      1         3         6    04  15 2014-04-15\n",
      "66277      16   2014      1         4         5    08  15 2014-08-15\n",
      "69731      24   2014      1         8         3    12  15 2014-12-15\n",
      "\n",
      "[347 rows x 8 columns]\n"
     ]
    }
   ],
   "source": [
    "def month(quinzine):\n",
    "    if(str(quinzine).split('.', 1 )[1]=='5'):\n",
    "        if len(str(int(str(quinzine).split('.', 1 )[0])+1))==1:\n",
    "            return '0'+str(int(str(quinzine).split('.', 1 )[0])+1)\n",
    "        else:\n",
    "            return str(int(str(quinzine).split('.', 1 )[0])+1)\n",
    "    else:\n",
    "        if len(str(quinzine).split('.', 1 )[0])==1:\n",
    "            return '0'+str(quinzine).split('.', 1 )[0]\n",
    "        else:\n",
    "            return str(quinzine).split('.', 1 )[0]\n",
    "        \n",
    "def day(quinzine):\n",
    "    if(quinzine%2==0):\n",
    "        return '15'\n",
    "    else:\n",
    "        return '01'\n",
    "    \n",
    "print day(2) \n",
    "print day(1) \n",
    "df['month'] =df.apply(lambda row: month(row['2_week']/2), axis=1)\n",
    "df['day'] =df.apply(lambda row: day(row['2_week']), axis=1)\n",
    "df['date'] =df.apply(lambda row: str(row['Years'])+'-'+str(row['month'])+'-'+str(row['day']), axis=1)\n",
    "\n",
    "df['date']=df.apply(lambda row: datetime.datetime.strptime(row['date'], \"%Y-%m-%d\"), axis=1)\n",
    "\n",
    "#df['date']=datetime.datetime.strptime(df['date'], \"%Y-%m-%d\")\n",
    "\n",
    "print df[df['count']!=0]\n",
    "#print len(df)\n",
    "#print df.dtypes"
   ]
  },
  {
   "cell_type": "code",
   "execution_count": 40,
   "metadata": {
    "collapsed": false
   },
   "outputs": [],
   "source": [
    "features=['2_week','Years','month','day']\n",
    "target='count'"
   ]
  },
  {
   "cell_type": "code",
   "execution_count": 41,
   "metadata": {
    "collapsed": false
   },
   "outputs": [
    {
     "name": "stdout",
     "output_type": "stream",
     "text": [
      "337\n",
      "10\n",
      "59904\n",
      "9984\n"
     ]
    }
   ],
   "source": [
    "dfTrain=df[df['Years']!=2014]\n",
    "dfTest=df[df['Years']==2014]\n",
    "print len(dfTrain[dfTrain['count']!=0])\n",
    "print len(dfTest[dfTest['count']!=0])\n",
    "\n",
    "print len(dfTrain)\n",
    "print len(dfTest)"
   ]
  },
  {
   "cell_type": "markdown",
   "metadata": {},
   "source": [
    "# Forest"
   ]
  },
  {
   "cell_type": "code",
   "execution_count": 46,
   "metadata": {
    "collapsed": false
   },
   "outputs": [],
   "source": [
    "forest = RandomForestClassifier(n_jobs=1)\n",
    "forest=forest.fit(dfTrain[features], dfTrain[target])"
   ]
  },
  {
   "cell_type": "code",
   "execution_count": 47,
   "metadata": {
    "collapsed": false
   },
   "outputs": [
    {
     "name": "stdout",
     "output_type": "stream",
     "text": [
      "0\n"
     ]
    }
   ],
   "source": [
    "predictions=forest.predict(dfTest[features])\n",
    "print predictions.sum()"
   ]
  },
  {
   "cell_type": "code",
   "execution_count": 48,
   "metadata": {
    "collapsed": false
   },
   "outputs": [
    {
     "data": {
      "text/html": [
       "<div>\n",
       "<table border=\"1\" class=\"dataframe\">\n",
       "  <thead>\n",
       "    <tr style=\"text-align: right;\">\n",
       "      <th>preds</th>\n",
       "      <th>0</th>\n",
       "    </tr>\n",
       "    <tr>\n",
       "      <th>actual</th>\n",
       "      <th></th>\n",
       "    </tr>\n",
       "  </thead>\n",
       "  <tbody>\n",
       "    <tr>\n",
       "      <th>0</th>\n",
       "      <td>9974</td>\n",
       "    </tr>\n",
       "    <tr>\n",
       "      <th>1</th>\n",
       "      <td>10</td>\n",
       "    </tr>\n",
       "  </tbody>\n",
       "</table>\n",
       "</div>"
      ],
      "text/plain": [
       "preds      0\n",
       "actual      \n",
       "0       9974\n",
       "1         10"
      ]
     },
     "execution_count": 48,
     "metadata": {},
     "output_type": "execute_result"
    }
   ],
   "source": [
    "pd.crosstab(dfTest[target],predictions,rownames=['actual'], colnames=['preds'])"
   ]
  },
  {
   "cell_type": "markdown",
   "metadata": {
    "collapsed": true
   },
   "source": [
    "# Compare area"
   ]
  },
  {
   "cell_type": "code",
   "execution_count": 45,
   "metadata": {
    "collapsed": false
   },
   "outputs": [
    {
     "name": "stderr",
     "output_type": "stream",
     "text": [
      "/Users/romainphilippe/app/anaconda2/lib/python2.7/site-packages/ipykernel/__main__.py:1: SettingWithCopyWarning: \n",
      "A value is trying to be set on a copy of a slice from a DataFrame.\n",
      "Try using .loc[row_indexer,col_indexer] = value instead\n",
      "\n",
      "See the caveats in the documentation: http://pandas.pydata.org/pandas-docs/stable/indexing.html#indexing-view-versus-copy\n",
      "  if __name__ == '__main__':\n",
      "/Users/romainphilippe/app/anaconda2/lib/python2.7/site-packages/ipykernel/__main__.py:2: FutureWarning: sort(columns=....) is deprecated, use sort_values(by=.....)\n",
      "  from ipykernel import kernelapp as app\n"
     ]
    },
    {
     "data": {
      "text/html": [
       "<div>\n",
       "<table border=\"1\" class=\"dataframe\">\n",
       "  <thead>\n",
       "    <tr style=\"text-align: right;\">\n",
       "      <th></th>\n",
       "      <th>2_week</th>\n",
       "      <th>Years</th>\n",
       "      <th>count</th>\n",
       "      <th>lat_area</th>\n",
       "      <th>lon_area</th>\n",
       "      <th>month</th>\n",
       "      <th>day</th>\n",
       "      <th>date</th>\n",
       "      <th>prediction</th>\n",
       "    </tr>\n",
       "  </thead>\n",
       "  <tbody>\n",
       "    <tr>\n",
       "      <th>60601</th>\n",
       "      <td>2</td>\n",
       "      <td>2014</td>\n",
       "      <td>1</td>\n",
       "      <td>8</td>\n",
       "      <td>25</td>\n",
       "      <td>01</td>\n",
       "      <td>15</td>\n",
       "      <td>2014-01-15</td>\n",
       "      <td>0</td>\n",
       "    </tr>\n",
       "    <tr>\n",
       "      <th>60838</th>\n",
       "      <td>3</td>\n",
       "      <td>2014</td>\n",
       "      <td>1</td>\n",
       "      <td>3</td>\n",
       "      <td>6</td>\n",
       "      <td>02</td>\n",
       "      <td>01</td>\n",
       "      <td>2014-02-01</td>\n",
       "      <td>0</td>\n",
       "    </tr>\n",
       "    <tr>\n",
       "      <th>61783</th>\n",
       "      <td>5</td>\n",
       "      <td>2014</td>\n",
       "      <td>1</td>\n",
       "      <td>6</td>\n",
       "      <td>23</td>\n",
       "      <td>03</td>\n",
       "      <td>01</td>\n",
       "      <td>2014-03-01</td>\n",
       "      <td>0</td>\n",
       "    </tr>\n",
       "    <tr>\n",
       "      <th>62149</th>\n",
       "      <td>6</td>\n",
       "      <td>2014</td>\n",
       "      <td>1</td>\n",
       "      <td>5</td>\n",
       "      <td>5</td>\n",
       "      <td>03</td>\n",
       "      <td>15</td>\n",
       "      <td>2014-03-15</td>\n",
       "      <td>0</td>\n",
       "    </tr>\n",
       "    <tr>\n",
       "      <th>62502</th>\n",
       "      <td>7</td>\n",
       "      <td>2014</td>\n",
       "      <td>1</td>\n",
       "      <td>3</td>\n",
       "      <td>6</td>\n",
       "      <td>04</td>\n",
       "      <td>01</td>\n",
       "      <td>2014-04-01</td>\n",
       "      <td>0</td>\n",
       "    </tr>\n",
       "    <tr>\n",
       "      <th>62534</th>\n",
       "      <td>7</td>\n",
       "      <td>2014</td>\n",
       "      <td>1</td>\n",
       "      <td>4</td>\n",
       "      <td>6</td>\n",
       "      <td>04</td>\n",
       "      <td>01</td>\n",
       "      <td>2014-04-01</td>\n",
       "      <td>0</td>\n",
       "    </tr>\n",
       "    <tr>\n",
       "      <th>62619</th>\n",
       "      <td>7</td>\n",
       "      <td>2014</td>\n",
       "      <td>1</td>\n",
       "      <td>6</td>\n",
       "      <td>27</td>\n",
       "      <td>04</td>\n",
       "      <td>01</td>\n",
       "      <td>2014-04-01</td>\n",
       "      <td>0</td>\n",
       "    </tr>\n",
       "    <tr>\n",
       "      <th>62918</th>\n",
       "      <td>8</td>\n",
       "      <td>2014</td>\n",
       "      <td>1</td>\n",
       "      <td>3</td>\n",
       "      <td>6</td>\n",
       "      <td>04</td>\n",
       "      <td>15</td>\n",
       "      <td>2014-04-15</td>\n",
       "      <td>0</td>\n",
       "    </tr>\n",
       "    <tr>\n",
       "      <th>66277</th>\n",
       "      <td>16</td>\n",
       "      <td>2014</td>\n",
       "      <td>1</td>\n",
       "      <td>4</td>\n",
       "      <td>5</td>\n",
       "      <td>08</td>\n",
       "      <td>15</td>\n",
       "      <td>2014-08-15</td>\n",
       "      <td>0</td>\n",
       "    </tr>\n",
       "    <tr>\n",
       "      <th>69731</th>\n",
       "      <td>24</td>\n",
       "      <td>2014</td>\n",
       "      <td>1</td>\n",
       "      <td>8</td>\n",
       "      <td>3</td>\n",
       "      <td>12</td>\n",
       "      <td>15</td>\n",
       "      <td>2014-12-15</td>\n",
       "      <td>0</td>\n",
       "    </tr>\n",
       "  </tbody>\n",
       "</table>\n",
       "</div>"
      ],
      "text/plain": [
       "       2_week  Years  count  lat_area  lon_area month day       date  \\\n",
       "60601       2   2014      1         8        25    01  15 2014-01-15   \n",
       "60838       3   2014      1         3         6    02  01 2014-02-01   \n",
       "61783       5   2014      1         6        23    03  01 2014-03-01   \n",
       "62149       6   2014      1         5         5    03  15 2014-03-15   \n",
       "62502       7   2014      1         3         6    04  01 2014-04-01   \n",
       "62534       7   2014      1         4         6    04  01 2014-04-01   \n",
       "62619       7   2014      1         6        27    04  01 2014-04-01   \n",
       "62918       8   2014      1         3         6    04  15 2014-04-15   \n",
       "66277      16   2014      1         4         5    08  15 2014-08-15   \n",
       "69731      24   2014      1         8         3    12  15 2014-12-15   \n",
       "\n",
       "       prediction  \n",
       "60601           0  \n",
       "60838           0  \n",
       "61783           0  \n",
       "62149           0  \n",
       "62502           0  \n",
       "62534           0  \n",
       "62619           0  \n",
       "62918           0  \n",
       "66277           0  \n",
       "69731           0  "
      ]
     },
     "execution_count": 45,
     "metadata": {},
     "output_type": "execute_result"
    }
   ],
   "source": [
    "dfTest['prediction']=predictions\n",
    "dfTest[(dfTest[target]!=0) | (dfTest['prediction']!=0)].sort('2_week')"
   ]
  },
  {
   "cell_type": "code",
   "execution_count": null,
   "metadata": {
    "collapsed": true
   },
   "outputs": [],
   "source": []
  }
 ],
 "metadata": {
  "kernelspec": {
   "display_name": "Python 2",
   "language": "python",
   "name": "python2"
  },
  "language_info": {
   "codemirror_mode": {
    "name": "ipython",
    "version": 2
   },
   "file_extension": ".py",
   "mimetype": "text/x-python",
   "name": "python",
   "nbconvert_exporter": "python",
   "pygments_lexer": "ipython2",
   "version": "2.7.11"
  }
 },
 "nbformat": 4,
 "nbformat_minor": 0
}
