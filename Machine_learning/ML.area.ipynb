{
 "cells": [
  {
   "cell_type": "code",
   "execution_count": 1,
   "metadata": {
    "collapsed": false
   },
   "outputs": [],
   "source": [
    "import numpy as np\n",
    "import pandas as pd\n",
    "import datetime\n",
    "from sklearn.cross_validation import cross_val_score\n",
    "from sklearn.ensemble import RandomForestClassifier,GradientBoostingClassifier\n",
    "\n",
    "from sklearn.tree import DecisionTreeClassifier\n",
    "from sklearn.cross_validation import train_test_split\n",
    "\n",
    "from __future__ import division\n",
    "\n",
    "from sklearn import metrics\n",
    "from sklearn.metrics import confusion_matrix\n",
    "\n",
    "%matplotlib inline\n",
    "\n",
    "from sklearn.linear_model import LinearRegression\n",
    "\n",
    "from sklearn.linear_model import Ridge\n",
    "from sklearn.preprocessing import PolynomialFeatures\n",
    "from sklearn.pipeline import make_pipeline\n",
    "import matplotlib.pyplot as plt\n",
    "\n",
    "import pydot\n",
    "\n",
    "\n",
    "from scipy.stats import mode\n",
    "from sklearn.ensemble.forest import _partition_estimators, _parallel_helper\n",
    "from sklearn.tree._tree import DTYPE\n",
    "from sklearn.externals.joblib import Parallel, delayed\n",
    "from sklearn.utils import check_array\n",
    "from sklearn.utils.validation import check_is_fitted"
   ]
  },
  {
   "cell_type": "markdown",
   "metadata": {},
   "source": [
    "# Functions"
   ]
  },
  {
   "cell_type": "code",
   "execution_count": 2,
   "metadata": {
    "collapsed": true
   },
   "outputs": [],
   "source": [
    "RanDomState=1000\n",
    "def bool_attack(count):\n",
    "    if count>0:\n",
    "        return 1\n",
    "    else:\n",
    "        return 0"
   ]
  },
  {
   "cell_type": "markdown",
   "metadata": {},
   "source": [
    "# Algorithme de machine learning"
   ]
  },
  {
   "cell_type": "markdown",
   "metadata": {
    "collapsed": true
   },
   "source": [
    " "
   ]
  },
  {
   "cell_type": "markdown",
   "metadata": {
    "collapsed": true
   },
   "source": [
    " \n",
    " "
   ]
  },
  {
   "cell_type": "markdown",
   "metadata": {
    "collapsed": true
   },
   "source": [
    " "
   ]
  },
  {
   "cell_type": "markdown",
   "metadata": {
    "collapsed": true
   },
   "source": [
    "# Area compute by hand"
   ]
  },
  {
   "cell_type": "code",
   "execution_count": 3,
   "metadata": {
    "collapsed": false
   },
   "outputs": [
    {
     "data": {
      "text/html": [
       "<div>\n",
       "<table border=\"1\" class=\"dataframe\">\n",
       "  <thead>\n",
       "    <tr style=\"text-align: right;\">\n",
       "      <th></th>\n",
       "      <th>Area</th>\n",
       "      <th>Count</th>\n",
       "      <th>Fortnight</th>\n",
       "      <th>Month</th>\n",
       "      <th>Type</th>\n",
       "      <th>Years</th>\n",
       "      <th>Activity</th>\n",
       "    </tr>\n",
       "  </thead>\n",
       "  <tbody>\n",
       "    <tr>\n",
       "      <th>730</th>\n",
       "      <td>AL</td>\n",
       "      <td>1</td>\n",
       "      <td>1</td>\n",
       "      <td>2</td>\n",
       "      <td>Vehicle Carrier</td>\n",
       "      <td>2008</td>\n",
       "      <td>2</td>\n",
       "    </tr>\n",
       "    <tr>\n",
       "      <th>814</th>\n",
       "      <td>AP</td>\n",
       "      <td>1</td>\n",
       "      <td>1</td>\n",
       "      <td>2</td>\n",
       "      <td>Other</td>\n",
       "      <td>2008</td>\n",
       "      <td>2</td>\n",
       "    </tr>\n",
       "    <tr>\n",
       "      <th>906</th>\n",
       "      <td>K</td>\n",
       "      <td>1</td>\n",
       "      <td>1</td>\n",
       "      <td>2</td>\n",
       "      <td>Tanker</td>\n",
       "      <td>2008</td>\n",
       "      <td>2</td>\n",
       "    </tr>\n",
       "    <tr>\n",
       "      <th>986</th>\n",
       "      <td>K</td>\n",
       "      <td>1</td>\n",
       "      <td>1</td>\n",
       "      <td>2</td>\n",
       "      <td>Tug</td>\n",
       "      <td>2008</td>\n",
       "      <td>2</td>\n",
       "    </tr>\n",
       "    <tr>\n",
       "      <th>1506</th>\n",
       "      <td>K</td>\n",
       "      <td>1</td>\n",
       "      <td>2</td>\n",
       "      <td>3</td>\n",
       "      <td>Vehicle Carrier</td>\n",
       "      <td>2008</td>\n",
       "      <td>2</td>\n",
       "    </tr>\n",
       "  </tbody>\n",
       "</table>\n",
       "</div>"
      ],
      "text/plain": [
       "     Area  Count  Fortnight  Month             Type  Years  Activity\n",
       "730    AL      1          1      2  Vehicle Carrier   2008         2\n",
       "814    AP      1          1      2            Other   2008         2\n",
       "906     K      1          1      2           Tanker   2008         2\n",
       "986     K      1          1      2              Tug   2008         2\n",
       "1506    K      1          2      3  Vehicle Carrier   2008         2"
      ]
     },
     "execution_count": 3,
     "metadata": {},
     "output_type": "execute_result"
    }
   ],
   "source": [
    "dfAreaHand = pd.read_csv('../data/aden_golfe_matrix_area_hand.csv',sep=';')\n",
    "dfAreaHand[dfAreaHand[\"Count\"]>0].head()"
   ]
  },
  {
   "cell_type": "markdown",
   "metadata": {},
   "source": [
    "## Pre-traitement"
   ]
  },
  {
   "cell_type": "markdown",
   "metadata": {},
   "source": [
    "### Attack column"
   ]
  },
  {
   "cell_type": "markdown",
   "metadata": {},
   "source": [
    "On créé une colonne pour savoir si il y a une attaque ou non."
   ]
  },
  {
   "cell_type": "code",
   "execution_count": 4,
   "metadata": {
    "collapsed": false
   },
   "outputs": [],
   "source": [
    "dfAreaHand['Attack'] = dfAreaHand.apply(lambda row: bool_attack(row['Count']), axis=1)"
   ]
  },
  {
   "cell_type": "markdown",
   "metadata": {},
   "source": [
    "### Binary"
   ]
  },
  {
   "cell_type": "markdown",
   "metadata": {},
   "source": [
    "Le but de ce paragraphe est de transformer la colonne \"Area\" en colonnes binaire, c'est à dire de créer autant de colonnes que d'observations possibles"
   ]
  },
  {
   "cell_type": "code",
   "execution_count": 8,
   "metadata": {
    "collapsed": false
   },
   "outputs": [
    {
     "name": "stdout",
     "output_type": "stream",
     "text": [
      "['Vehicle Carrier' 'Other' 'Tanker' 'Tug' 'Vessel' 'Barge'\n",
      " 'Offshore Exploitation' 'Military' 'Ship']\n"
     ]
    },
    {
     "data": {
      "text/html": [
       "<div>\n",
       "<table border=\"1\" class=\"dataframe\">\n",
       "  <thead>\n",
       "    <tr style=\"text-align: right;\">\n",
       "      <th></th>\n",
       "      <th>Area</th>\n",
       "      <th>Count</th>\n",
       "      <th>Fortnight</th>\n",
       "      <th>Month</th>\n",
       "      <th>Type</th>\n",
       "      <th>Years</th>\n",
       "      <th>Activity</th>\n",
       "      <th>Attack</th>\n",
       "      <th>Area_A</th>\n",
       "      <th>Area_AA</th>\n",
       "      <th>...</th>\n",
       "      <th>Type_Other</th>\n",
       "      <th>Type_Tanker</th>\n",
       "      <th>Type_Tug</th>\n",
       "      <th>Type_Vessel</th>\n",
       "      <th>Type_Barge</th>\n",
       "      <th>Type_Offshore Exploitation</th>\n",
       "      <th>Type_Military</th>\n",
       "      <th>Type_Ship</th>\n",
       "      <th>Area_new</th>\n",
       "      <th>Type_new</th>\n",
       "    </tr>\n",
       "  </thead>\n",
       "  <tbody>\n",
       "    <tr>\n",
       "      <th>0</th>\n",
       "      <td>A</td>\n",
       "      <td>0</td>\n",
       "      <td>1</td>\n",
       "      <td>1</td>\n",
       "      <td>Vehicle Carrier</td>\n",
       "      <td>2008</td>\n",
       "      <td>2</td>\n",
       "      <td>0</td>\n",
       "      <td>1</td>\n",
       "      <td>0</td>\n",
       "      <td>...</td>\n",
       "      <td>0</td>\n",
       "      <td>0</td>\n",
       "      <td>0</td>\n",
       "      <td>0</td>\n",
       "      <td>0</td>\n",
       "      <td>0</td>\n",
       "      <td>0</td>\n",
       "      <td>0</td>\n",
       "      <td>1</td>\n",
       "      <td>1</td>\n",
       "    </tr>\n",
       "    <tr>\n",
       "      <th>1</th>\n",
       "      <td>AA</td>\n",
       "      <td>0</td>\n",
       "      <td>1</td>\n",
       "      <td>1</td>\n",
       "      <td>Vehicle Carrier</td>\n",
       "      <td>2008</td>\n",
       "      <td>2</td>\n",
       "      <td>0</td>\n",
       "      <td>0</td>\n",
       "      <td>1</td>\n",
       "      <td>...</td>\n",
       "      <td>0</td>\n",
       "      <td>0</td>\n",
       "      <td>0</td>\n",
       "      <td>0</td>\n",
       "      <td>0</td>\n",
       "      <td>0</td>\n",
       "      <td>0</td>\n",
       "      <td>0</td>\n",
       "      <td>27</td>\n",
       "      <td>1</td>\n",
       "    </tr>\n",
       "    <tr>\n",
       "      <th>2</th>\n",
       "      <td>AB</td>\n",
       "      <td>0</td>\n",
       "      <td>1</td>\n",
       "      <td>1</td>\n",
       "      <td>Vehicle Carrier</td>\n",
       "      <td>2008</td>\n",
       "      <td>2</td>\n",
       "      <td>0</td>\n",
       "      <td>0</td>\n",
       "      <td>0</td>\n",
       "      <td>...</td>\n",
       "      <td>0</td>\n",
       "      <td>0</td>\n",
       "      <td>0</td>\n",
       "      <td>0</td>\n",
       "      <td>0</td>\n",
       "      <td>0</td>\n",
       "      <td>0</td>\n",
       "      <td>0</td>\n",
       "      <td>28</td>\n",
       "      <td>1</td>\n",
       "    </tr>\n",
       "    <tr>\n",
       "      <th>3</th>\n",
       "      <td>AC</td>\n",
       "      <td>0</td>\n",
       "      <td>1</td>\n",
       "      <td>1</td>\n",
       "      <td>Vehicle Carrier</td>\n",
       "      <td>2008</td>\n",
       "      <td>2</td>\n",
       "      <td>0</td>\n",
       "      <td>0</td>\n",
       "      <td>0</td>\n",
       "      <td>...</td>\n",
       "      <td>0</td>\n",
       "      <td>0</td>\n",
       "      <td>0</td>\n",
       "      <td>0</td>\n",
       "      <td>0</td>\n",
       "      <td>0</td>\n",
       "      <td>0</td>\n",
       "      <td>0</td>\n",
       "      <td>29</td>\n",
       "      <td>1</td>\n",
       "    </tr>\n",
       "    <tr>\n",
       "      <th>4</th>\n",
       "      <td>AE</td>\n",
       "      <td>0</td>\n",
       "      <td>1</td>\n",
       "      <td>1</td>\n",
       "      <td>Vehicle Carrier</td>\n",
       "      <td>2008</td>\n",
       "      <td>2</td>\n",
       "      <td>0</td>\n",
       "      <td>0</td>\n",
       "      <td>0</td>\n",
       "      <td>...</td>\n",
       "      <td>0</td>\n",
       "      <td>0</td>\n",
       "      <td>0</td>\n",
       "      <td>0</td>\n",
       "      <td>0</td>\n",
       "      <td>0</td>\n",
       "      <td>0</td>\n",
       "      <td>0</td>\n",
       "      <td>31</td>\n",
       "      <td>1</td>\n",
       "    </tr>\n",
       "  </tbody>\n",
       "</table>\n",
       "<p>5 rows × 59 columns</p>\n",
       "</div>"
      ],
      "text/plain": [
       "  Area  Count  Fortnight  Month             Type  Years  Activity  Attack  \\\n",
       "0    A      0          1      1  Vehicle Carrier   2008         2       0   \n",
       "1   AA      0          1      1  Vehicle Carrier   2008         2       0   \n",
       "2   AB      0          1      1  Vehicle Carrier   2008         2       0   \n",
       "3   AC      0          1      1  Vehicle Carrier   2008         2       0   \n",
       "4   AE      0          1      1  Vehicle Carrier   2008         2       0   \n",
       "\n",
       "   Area_A  Area_AA    ...     Type_Other  Type_Tanker  Type_Tug  Type_Vessel  \\\n",
       "0       1        0    ...              0            0         0            0   \n",
       "1       0        1    ...              0            0         0            0   \n",
       "2       0        0    ...              0            0         0            0   \n",
       "3       0        0    ...              0            0         0            0   \n",
       "4       0        0    ...              0            0         0            0   \n",
       "\n",
       "   Type_Barge  Type_Offshore Exploitation  Type_Military  Type_Ship  Area_new  \\\n",
       "0           0                           0              0          0         1   \n",
       "1           0                           0              0          0        27   \n",
       "2           0                           0              0          0        28   \n",
       "3           0                           0              0          0        29   \n",
       "4           0                           0              0          0        31   \n",
       "\n",
       "   Type_new  \n",
       "0         1  \n",
       "1         1  \n",
       "2         1  \n",
       "3         1  \n",
       "4         1  \n",
       "\n",
       "[5 rows x 59 columns]"
      ]
     },
     "execution_count": 8,
     "metadata": {},
     "output_type": "execute_result"
    }
   ],
   "source": [
    "def binaryColumn(df,uniqueArea,uniqueType):\n",
    "    \n",
    "    featureBinary=[]\n",
    "\n",
    "    for i in range(0,len(uniqueArea)):\n",
    "        nameColArea='Area_'+str(uniqueArea[i])\n",
    "        df[nameColArea]=0\n",
    "        featureBinary.append(nameColArea)\n",
    "\n",
    "    for i in range(0,len(uniqueType)):\n",
    "        nameColType='Type_'+str(uniqueType[i])\n",
    "        df[nameColType]=0\n",
    "        featureBinary.append(nameColType)\n",
    "\n",
    "    for index, row in df.iterrows():\n",
    "        df.set_value(index, \"Area_\"+str(row['Area']),1)\n",
    "        df.set_value(index, \"Type_\"+str(row['Type']),1)\n",
    "    \n",
    "    return df,featureBinary\n",
    "\n",
    "\n",
    "uniqueArea=dfAreaHand[\"Area\"].unique()\n",
    "uniqueType=dfAreaHand[\"Type\"].unique()\n",
    "\n",
    "dfAreaHand,featureBinary=binaryColumn(dfAreaHand,uniqueArea,uniqueType)\n",
    "\n",
    "print dfAreaHand[\"Type\"].unique()\n",
    "\n",
    "dfAreaHand[\"Area_new\"] = dfAreaHand[\"Area\"].map({'A': 1, 'B': 2, 'C': 3, 'D': 4, 'E': 5, 'F': 6, 'G': 7, 'H': 8, 'I': 9, 'J': 10, 'K': 11, 'L': 12, 'M': 13, 'N': 14, 'O': 15, 'P': 16, 'Q': 17, 'R': 18, 'S': 19, 'T': 20, 'U': 21, 'V': 22, 'W': 23, 'X': 24, 'Y': 25, 'Z': 26, 'AA': 27, 'AB': 28, 'AC': 29, 'AD': 30, 'AE': 31, 'AF': 32, 'AG': 33, 'AH': 34, 'AI': 35, 'AJ': 36, 'AK': 37, 'AL': 38, 'AM': 39, 'AN': 40, 'AO': 41, 'AP': 42, 'AQ': 43, 'AR': 44, 'AR': 45}).astype(int)\n",
    "dfAreaHand[\"Type_new\"] = dfAreaHand[\"Type\"].map({'Vehicle Carrier': 1, 'Tanker': 2, 'Offshore Exploitation': 3, 'Other': 4, 'Tug': 5,'Vessel': 6, 'Barge': 7, 'Military': 8,'Ship':9}).astype(int)\n",
    "\n",
    "dfAreaHand.head()"
   ]
  },
  {
   "cell_type": "markdown",
   "metadata": {},
   "source": [
    "On définit les colonnes qui vont servir à contruire notre modèle."
   ]
  },
  {
   "cell_type": "code",
   "execution_count": 9,
   "metadata": {
    "collapsed": false
   },
   "outputs": [
    {
     "name": "stdout",
     "output_type": "stream",
     "text": [
      "['Activity', 'Fortnight', 'Month', 'Years', 'Area_A', 'Area_AA', 'Area_AB', 'Area_AC', 'Area_AE', 'Area_AF', 'Area_AG', 'Area_AH', 'Area_AI', 'Area_AJ', 'Area_AL', 'Area_AM', 'Area_AN', 'Area_AO', 'Area_AP', 'Area_AQ', 'Area_AR', 'Area_B', 'Area_C', 'Area_D', 'Area_E', 'Area_F', 'Area_G', 'Area_H', 'Area_I', 'Area_J', 'Area_K', 'Area_L', 'Area_M', 'Area_N', 'Area_O', 'Area_P', 'Area_R', 'Area_S', 'Area_T', 'Area_V', 'Area_W', 'Area_X', 'Area_Y', 'Area_Z', 'Type_Vehicle Carrier', 'Type_Other', 'Type_Tanker', 'Type_Tug', 'Type_Vessel', 'Type_Barge', 'Type_Offshore Exploitation', 'Type_Military', 'Type_Ship']\n"
     ]
    }
   ],
   "source": [
    "features=['Activity','Fortnight','Month','Years']\n",
    "features=np.concatenate([features,featureBinary]).tolist()\n",
    "\n",
    "print features\n",
    "target='Attack'"
   ]
  },
  {
   "cell_type": "markdown",
   "metadata": {},
   "source": [
    "### Sampling "
   ]
  },
  {
   "cell_type": "markdown",
   "metadata": {},
   "source": [
    "On se rend compte qu'il n'y a qu'un pourcent des lignes qui contiennent des attaques. On redéfinit notre dataframe pour avoir autant de attaques que de non-attaque."
   ]
  },
  {
   "cell_type": "code",
   "execution_count": 12,
   "metadata": {
    "collapsed": false
   },
   "outputs": [
    {
     "name": "stdout",
     "output_type": "stream",
     "text": [
      "pourcentage de ligne comportant des attaques : 1.26243177176\n",
      "764/59726\n"
     ]
    }
   ],
   "source": [
    "Sampling=True\n",
    "\n",
    "if Sampling:\n",
    "    df_attack_raw = dfAreaHand[dfAreaHand[target] == 1]\n",
    "    df_non_attack_raw = dfAreaHand[dfAreaHand[target] == 0]\n",
    "    percentage = len(df_attack_raw)/float(len(df_non_attack_raw))\n",
    "    print \"pourcentage de ligne comportant des attaques : \"+str(percentage*100)\n",
    "    df_non_attack=dfAreaHand.sample(frac=percentage, random_state=1000)\n",
    "    print str(len(df_non_attack))+'/'+str(len(df_non_attack_raw))\n",
    "\n",
    "    DfSampling=df_non_attack.append(df_attack_raw)\n",
    "else:\n",
    "    DfSampling=dfAreaHand"
   ]
  },
  {
   "cell_type": "markdown",
   "metadata": {},
   "source": [
    "# Machine learning"
   ]
  },
  {
   "cell_type": "markdown",
   "metadata": {},
   "source": [
    "## Cross validation Random Forest"
   ]
  },
  {
   "cell_type": "markdown",
   "metadata": {},
   "source": [
    "Dans cette partie, nous paramétrons notre modèle, en l'occurence ici Random Forest."
   ]
  },
  {
   "cell_type": "markdown",
   "metadata": {},
   "source": [
    "### N estimators"
   ]
  },
  {
   "cell_type": "markdown",
   "metadata": {},
   "source": [
    "Nous faisons varier le nombre d'arbres: entre 1 et 2000. Nous mettons tous les résulats dans un tableau."
   ]
  },
  {
   "cell_type": "code",
   "execution_count": 29,
   "metadata": {
    "collapsed": false,
    "scrolled": true
   },
   "outputs": [
    {
     "name": "stdout",
     "output_type": "stream",
     "text": [
      "----------------------------------------------------------\n",
      "1\n",
      " score avec split by years : 0.709751007171\n",
      " score avec split randomly : 0.796052631579\n",
      "----------------------------------------------------------\n",
      "201\n",
      " score avec split by years : 0.801857751215\n",
      " score avec split randomly : 0.838815789474\n",
      "----------------------------------------------------------\n",
      "401\n",
      " score avec split by years : 0.802604322757\n",
      " score avec split randomly : 0.842105263158\n",
      "----------------------------------------------------------\n",
      "601\n",
      " score avec split by years : 0.803677648057\n",
      " score avec split randomly : 0.838815789474\n",
      "----------------------------------------------------------\n",
      "801\n",
      " score avec split by years : 0.801944283701\n",
      " score avec split randomly : 0.835526315789\n",
      "----------------------------------------------------------\n",
      "1001\n",
      " score avec split by years : 0.802539521797\n",
      " score avec split randomly : 0.845394736842\n",
      "----------------------------------------------------------\n",
      "1201\n",
      " score avec split by years : 0.802848548954\n",
      " score avec split randomly : 0.842105263158\n",
      "----------------------------------------------------------\n",
      "1401\n",
      " score avec split by years : 0.804302735673\n",
      " score avec split randomly : 0.845394736842\n",
      "----------------------------------------------------------\n",
      "1601\n",
      " score avec split by years : 0.804302735673\n",
      " score avec split randomly : 0.845394736842\n",
      "----------------------------------------------------------\n",
      "1801\n",
      " score avec split by years : 0.804897973768\n",
      " score avec split randomly : 0.845394736842\n",
      "[0.70975100717088624, 0.8018577512150431, 0.80260432275678895, 0.80367764805691844, 0.80194428370140403, 0.80253952179664234, 0.80284854895370827, 0.80430273567325816, 0.80430273567325816, 0.80489797376849648]\n",
      "[0.79605263157894735, 0.83881578947368418, 0.84210526315789469, 0.83881578947368418, 0.83552631578947367, 0.84539473684210531, 0.84210526315789469, 0.84539473684210531, 0.84539473684210531, 0.84539473684210531]\n"
     ]
    }
   ],
   "source": [
    "tabScore=[]\n",
    "tabScore2=[]\n",
    "rangeTab=xrange(1, 2000, 200)\n",
    "for alpha in rangeTab:\n",
    "    score=0\n",
    "    score2=0\n",
    "    print \"----------------------------------------------------------\"\n",
    "    print alpha\n",
    "\n",
    "    dfTrain, dfTest = train_test_split(DfSampling, test_size=0.20, random_state=RanDomState)\n",
    "    model = RandomForestClassifier(random_state=1,n_estimators=alpha,n_jobs=4)\n",
    "    model=model.fit(dfTrain[features], dfTrain[target])\n",
    "    predictions=model.predict(dfTest[features])\n",
    "    #print \"Nombre d'attaques prévus/Nombre d'attaques réel: \"+str(predictions.sum())+'/'+str(len(dfTest[dfTest['Count']!=0]))\n",
    "    score2=model.score(dfTest[features], dfTest[target])\n",
    "\n",
    "    currentScoreTab=[]\n",
    "    for i in (2009,2010,2011,2012,2013,2014):\n",
    "        #print \"----------------------------------------------------------\"\n",
    "        #print i\n",
    "        dfTrain=DfSampling[DfSampling['Years']==i-1]\n",
    "        dfTest=DfSampling[(DfSampling['Years']==i)]\n",
    "        model = RandomForestClassifier(random_state=1,n_estimators=alpha,n_jobs=4)\n",
    "        model=model.fit(dfTrain[features], dfTrain[target])\n",
    "\n",
    "        predictions=model.predict(dfTest[features])\n",
    "        #print \"Nombre d'attaques prévus/Nombre d'attaques réel: \"+str(predictions.sum())+'/'+str(len(dfTest[dfTest['Count']!=0]))\n",
    "        currentScore=model.score(dfTest[features], dfTest[target])\n",
    "        currentScoreTab.append(currentScore)\n",
    "        \n",
    "        #print \"Pourcentage de précision : \"+str(currentScore)\n",
    "    score=sum(currentScoreTab) / float(len(currentScoreTab))\n",
    "    print \" score avec split by years : \"+str(score)\n",
    "    print \" score avec split randomly : \"+str(score2)\n",
    "    \n",
    "    \n",
    "    tabScore.append(score)\n",
    "    tabScore2.append(score2)\n",
    "    \n",
    "print tabScore\n",
    "print tabScore2"
   ]
  },
  {
   "cell_type": "code",
   "execution_count": 30,
   "metadata": {
    "collapsed": false
   },
   "outputs": [
    {
     "data": {
      "image/png": "[encoded data removed]",
      "text/plain": [
       "<matplotlib.figure.Figure at 0x115175c10>"
      ]
     },
     "metadata": {},
     "output_type": "display_data"
    }
   ],
   "source": [
    "plt.figure(figsize=(10,8))\n",
    "plt.plot(rangeTab,tabScore, '-', color='#EB3737', linewidth=3, label='Split by Years')\n",
    "plt.plot(rangeTab,tabScore2, '-', color='#71ce08', linewidth=3, label='Split Randomly')\n",
    "plt.axvline(x=250,linewidth=2, color='#0825ce')\n",
    "plt.grid(True)\n",
    "plt.legend(loc='upper right')\n",
    "plt.title(\"Random Forest : Cross validation n estimator\")\n",
    "plt.ylabel('Accuracy')\n",
    "plt.xlabel('Number of trees')\n",
    "plt.show()"
   ]
  },
  {
   "cell_type": "markdown",
   "metadata": {},
   "source": [
    "### max feature"
   ]
  },
  {
   "cell_type": "code",
   "execution_count": 31,
   "metadata": {
    "collapsed": false,
    "scrolled": true
   },
   "outputs": [
    {
     "name": "stdout",
     "output_type": "stream",
     "text": [
      "----------------------------------------------------------\n",
      "1\n",
      " score avec split by years : 0.751648886156\n",
      " score avec split randomly : 0.8125\n",
      "----------------------------------------------------------\n",
      "2\n",
      " score avec split by years : 0.774115268224\n",
      " score avec split randomly : 0.825657894737\n",
      "----------------------------------------------------------\n",
      "3\n",
      " score avec split by years : 0.78621853413\n",
      " score avec split randomly : 0.8125\n",
      "----------------------------------------------------------\n",
      "4\n",
      " score avec split by years : 0.794982611187\n",
      " score avec split randomly : 0.842105263158\n",
      "----------------------------------------------------------\n",
      "5\n",
      " score avec split by years : 0.790795400096\n",
      " score avec split randomly : 0.842105263158\n",
      "----------------------------------------------------------\n",
      "6\n",
      " score avec split by years : 0.787032687589\n",
      " score avec split randomly : 0.842105263158\n",
      "----------------------------------------------------------\n",
      "7\n",
      " score avec split by years : 0.785062384682\n",
      " score avec split randomly : 0.842105263158\n",
      "----------------------------------------------------------\n",
      "8\n",
      " score avec split by years : 0.786399327521\n",
      " score avec split randomly : 0.835526315789\n",
      "----------------------------------------------------------\n",
      "9\n",
      " score avec split by years : 0.781404040619\n",
      " score avec split randomly : 0.828947368421\n",
      "----------------------------------------------------------\n",
      "10\n",
      " score avec split by years : 0.793406925387\n",
      " score avec split randomly : 0.822368421053\n",
      "----------------------------------------------------------\n",
      "11\n",
      " score avec split by years : 0.793045753953\n",
      " score avec split randomly : 0.842105263158\n",
      "----------------------------------------------------------\n",
      "12\n",
      " score avec split by years : 0.7845391328\n",
      " score avec split randomly : 0.822368421053\n",
      "----------------------------------------------------------\n",
      "13\n",
      " score avec split by years : 0.789978095803\n",
      " score avec split randomly : 0.828947368421\n",
      "----------------------------------------------------------\n",
      "14\n",
      " score avec split by years : 0.799502221136\n",
      " score avec split randomly : 0.832236842105\n",
      "[0.75164888615581427, 0.77411526822403809, 0.78621853413004328, 0.79498261118689395, 0.79079540009612648, 0.78703268758894396, 0.78506238468200529, 0.78639932752098218, 0.78140404061868995, 0.79340692538707103, 0.79304575395259036, 0.78453913280030696, 0.78997809580253842, 0.79950222113614366]\n",
      "[0.8125, 0.82565789473684215, 0.8125, 0.84210526315789469, 0.84210526315789469, 0.84210526315789469, 0.84210526315789469, 0.83552631578947367, 0.82894736842105265, 0.82236842105263153, 0.84210526315789469, 0.82236842105263153, 0.82894736842105265, 0.83223684210526316]\n"
     ]
    }
   ],
   "source": [
    "tabScore=[]\n",
    "tabScore2=[]\n",
    "rangeTab=xrange(1, 15, 1)\n",
    "\n",
    "for alpha in rangeTab:\n",
    "    score=0\n",
    "    score2=0\n",
    "    print \"----------------------------------------------------------\"\n",
    "    print alpha\n",
    "    \n",
    "    dfTrain, dfTest = train_test_split(DfSampling, test_size=0.20, random_state=RanDomState)\n",
    "    model = RandomForestClassifier(random_state=1,max_features=alpha,n_jobs=4)\n",
    "    model=model.fit(dfTrain[features], dfTrain[target])\n",
    "    predictions=model.predict(dfTest[features])\n",
    "    #print \"Nombre d'attaques prévus/Nombre d'attaques réel: \"+str(predictions.sum())+'/'+str(len(dfTest[dfTest['Count']!=0]))\n",
    "    score2=model.score(dfTest[features], dfTest[target])\n",
    "\n",
    "    currentScoreTab=[]\n",
    "    for i in (2009,2010,2011,2012,2013,2014):\n",
    "        #print \"----------------------------------------------------------\"\n",
    "        #print i\n",
    "        dfTrain=DfSampling[DfSampling['Years']==i-1]\n",
    "        dfTest=DfSampling[(DfSampling['Years']==i)]\n",
    "        model = RandomForestClassifier(random_state=1,max_features=alpha,n_jobs=3)\n",
    "        model=model.fit(dfTrain[features], dfTrain[target])\n",
    "\n",
    "        predictions=model.predict(dfTest[features])\n",
    "        #print \"Nombre d'attaques prévus/Nombre d'attaques réel: \"+str(predictions.sum())+'/'+str(len(dfTest[dfTest['Count']!=0]))\n",
    "        currentScore=model.score(dfTest[features], dfTest[target])\n",
    "        currentScoreTab.append(currentScore)\n",
    "        \n",
    "        #print \"Pourcentage de précision : \"+str(currentScore)\n",
    "    score=sum(currentScoreTab) / float(len(currentScoreTab))\n",
    "    \n",
    "    print \" score avec split by years : \"+str(score)\n",
    "    print \" score avec split randomly : \"+str(score2)\n",
    "    \n",
    "    tabScore.append(score)\n",
    "    tabScore2.append(score2)\n",
    "    \n",
    "print tabScore\n",
    "print tabScore2"
   ]
  },
  {
   "cell_type": "code",
   "execution_count": 33,
   "metadata": {
    "collapsed": false
   },
   "outputs": [
    {
     "data": {
      "image/png": "[encoded data removed]",
      "text/plain": [
       "<matplotlib.figure.Figure at 0x11532f350>"
      ]
     },
     "metadata": {},
     "output_type": "display_data"
    }
   ],
   "source": [
    "plt.figure(figsize=(10,8))\n",
    "plt.plot(rangeTab,tabScore, '-', color='#EB3737', linewidth=3, label='Split by Years')\n",
    "plt.plot(rangeTab,tabScore2, '-', color='#71ce08', linewidth=3, label='Split Randomly')\n",
    "plt.axvline(x=4,linewidth=3, color='#0825ce')\n",
    "plt.grid(True)\n",
    "plt.legend(loc='upper right')\n",
    "plt.title(\"Cross validation RD Number of max features\")\n",
    "plt.xlabel('Number of max features')\n",
    "plt.ylabel('Total score')\n",
    "plt.show()"
   ]
  },
  {
   "cell_type": "markdown",
   "metadata": {},
   "source": [
    "## Best Random forest"
   ]
  },
  {
   "cell_type": "code",
   "execution_count": 34,
   "metadata": {
    "collapsed": false
   },
   "outputs": [
    {
     "name": "stdout",
     "output_type": "stream",
     "text": [
      " \n",
      "Entrainement : Nombre d'attaques /nombre de ligne : 742/1395\n",
      "Test : Nombre d'attaques /nombre de ligne : 16/123\n"
     ]
    }
   ],
   "source": [
    "years_prediction=2014\n",
    "dfTrain=DfSampling[DfSampling['Years']<years_prediction]\n",
    "dfTest=DfSampling[(DfSampling['Years']==years_prediction)]\n",
    "\n",
    "print \" \"\n",
    "print \"Entrainement : Nombre d'attaques /nombre de ligne : \"+str(len(dfTrain[dfTrain['Count']!=0]))+'/'+str(len(dfTrain))\n",
    "print \"Test : Nombre d'attaques /nombre de ligne : \"+str(len(dfTest[dfTest['Count']!=0]))+'/'+str(len(dfTest))"
   ]
  },
  {
   "cell_type": "code",
   "execution_count": 35,
   "metadata": {
    "collapsed": false
   },
   "outputs": [
    {
     "name": "stdout",
     "output_type": "stream",
     "text": [
      "Nombre d'attaques prévus/Nombre d'attaques réel: 11/16\n",
      "Pourcentage de précision : 0.910569105691\n"
     ]
    }
   ],
   "source": [
    "model = RandomForestClassifier(random_state=1,n_estimators=250,max_features=1)\n",
    "model=model.fit(dfTrain[features], dfTrain[target])\n",
    "\n",
    "predictions=model.predict(dfTest[features])\n",
    "print \"Nombre d'attaques prévus/Nombre d'attaques réel: \"+str(predictions.sum())+'/'+str(len(dfTest[dfTest['Count']!=0]))\n",
    "\n",
    "print \"Pourcentage de précision : \"+str(model.score(dfTest[features], dfTest[target]))\n",
    "cm = confusion_matrix(dfTest[target], predictions)"
   ]
  },
  {
   "cell_type": "code",
   "execution_count": 36,
   "metadata": {
    "collapsed": false,
    "scrolled": false
   },
   "outputs": [
    {
     "data": {
      "text/html": [
       "<div>\n",
       "<table border=\"1\" class=\"dataframe\">\n",
       "  <thead>\n",
       "    <tr style=\"text-align: right;\">\n",
       "      <th>preds</th>\n",
       "      <th>0</th>\n",
       "      <th>1</th>\n",
       "    </tr>\n",
       "    <tr>\n",
       "      <th>Attack</th>\n",
       "      <th></th>\n",
       "      <th></th>\n",
       "    </tr>\n",
       "  </thead>\n",
       "  <tbody>\n",
       "    <tr>\n",
       "      <th>0</th>\n",
       "      <td>0.971963</td>\n",
       "      <td>0.028037</td>\n",
       "    </tr>\n",
       "    <tr>\n",
       "      <th>1</th>\n",
       "      <td>0.500000</td>\n",
       "      <td>0.500000</td>\n",
       "    </tr>\n",
       "  </tbody>\n",
       "</table>\n",
       "</div>"
      ],
      "text/plain": [
       "preds          0         1\n",
       "Attack                    \n",
       "0       0.971963  0.028037\n",
       "1       0.500000  0.500000"
      ]
     },
     "execution_count": 36,
     "metadata": {},
     "output_type": "execute_result"
    }
   ],
   "source": [
    "pd.crosstab(dfTest[target],predictions, colnames=['preds']).apply(lambda r: r/r.sum(), axis=1)"
   ]
  },
  {
   "cell_type": "code",
   "execution_count": 37,
   "metadata": {
    "collapsed": false,
    "scrolled": false
   },
   "outputs": [
    {
     "data": {
      "text/html": [
       "<div>\n",
       "<table border=\"1\" class=\"dataframe\">\n",
       "  <thead>\n",
       "    <tr style=\"text-align: right;\">\n",
       "      <th>preds</th>\n",
       "      <th>0</th>\n",
       "      <th>1</th>\n",
       "    </tr>\n",
       "    <tr>\n",
       "      <th>Attack</th>\n",
       "      <th></th>\n",
       "      <th></th>\n",
       "    </tr>\n",
       "  </thead>\n",
       "  <tbody>\n",
       "    <tr>\n",
       "      <th>0</th>\n",
       "      <td>104</td>\n",
       "      <td>3</td>\n",
       "    </tr>\n",
       "    <tr>\n",
       "      <th>1</th>\n",
       "      <td>8</td>\n",
       "      <td>8</td>\n",
       "    </tr>\n",
       "  </tbody>\n",
       "</table>\n",
       "</div>"
      ],
      "text/plain": [
       "preds     0  1\n",
       "Attack        \n",
       "0       104  3\n",
       "1         8  8"
      ]
     },
     "execution_count": 37,
     "metadata": {},
     "output_type": "execute_result"
    }
   ],
   "source": [
    "pd.crosstab(dfTest[target],predictions, colnames=['preds'])"
   ]
  },
  {
   "cell_type": "code",
   "execution_count": 38,
   "metadata": {
    "collapsed": false,
    "scrolled": true
   },
   "outputs": [
    {
     "data": {
      "text/plain": [
       "<matplotlib.colorbar.Colorbar at 0x114e97090>"
      ]
     },
     "execution_count": 38,
     "metadata": {},
     "output_type": "execute_result"
    },
    {
     "data": {
      "image/png": "[encoded data removed]",
      "text/plain": [
       "<matplotlib.figure.Figure at 0x11734e350>"
      ]
     },
     "metadata": {},
     "output_type": "display_data"
    }
   ],
   "source": [
    "cm_normalized = cm.astype('float') / cm.sum(axis=1)[:, np.newaxis]\n",
    "plt.imshow(cm_normalized, interpolation='nearest', cmap=plt.cm.Blues)\n",
    "plt.colorbar()"
   ]
  },
  {
   "cell_type": "markdown",
   "metadata": {},
   "source": [
    " "
   ]
  },
  {
   "cell_type": "markdown",
   "metadata": {},
   "source": [
    " "
   ]
  },
  {
   "cell_type": "markdown",
   "metadata": {},
   "source": [
    "## Cross validation Gradient boosting"
   ]
  },
  {
   "cell_type": "markdown",
   "metadata": {},
   "source": [
    "### N estimators"
   ]
  },
  {
   "cell_type": "code",
   "execution_count": 41,
   "metadata": {
    "collapsed": false,
    "scrolled": true
   },
   "outputs": [
    {
     "name": "stdout",
     "output_type": "stream",
     "text": [
      "----------------------------------------------------------\n",
      "1\n",
      " score avec split by years : 0.681567040472\n",
      " score avec split randomly : 0.789473684211\n",
      "----------------------------------------------------------\n",
      "151\n",
      " score avec split by years : 0.777779340465\n",
      " score avec split randomly : 0.845394736842\n",
      "----------------------------------------------------------\n",
      "301\n",
      " score avec split by years : 0.774126464132\n",
      " score avec split randomly : 0.855263157895\n",
      "----------------------------------------------------------\n",
      "451\n",
      " score avec split by years : 0.766593309423\n",
      " score avec split randomly : 0.842105263158\n",
      "----------------------------------------------------------\n",
      "601\n",
      " score avec split by years : 0.767253348478\n",
      " score avec split randomly : 0.848684210526\n",
      "----------------------------------------------------------\n",
      "751\n",
      " score avec split by years : 0.765358285487\n",
      " score avec split randomly : 0.848684210526\n",
      "----------------------------------------------------------\n",
      "901\n",
      " score avec split by years : 0.769310122405\n",
      " score avec split randomly : 0.855263157895\n",
      "----------------------------------------------------------\n",
      "1051\n",
      " score avec split by years : 0.767591909346\n",
      " score avec split randomly : 0.855263157895\n",
      "----------------------------------------------------------\n",
      "1201\n",
      " score avec split by years : 0.763916848414\n",
      " score avec split randomly : 0.855263157895\n",
      "----------------------------------------------------------\n",
      "1351\n",
      " score avec split by years : 0.764893591848\n",
      " score avec split randomly : 0.855263157895\n",
      "[0.68156704047198391, 0.77777934046483832, 0.77412646413154962, 0.76659330942250647, 0.76725334847789117, 0.76535828548692164, 0.76931012240468244, 0.7675919093462632, 0.76391684841367191, 0.76489359184828853]\n",
      "[0.78947368421052633, 0.84539473684210531, 0.85526315789473684, 0.84210526315789469, 0.84868421052631582, 0.84868421052631582, 0.85526315789473684, 0.85526315789473684, 0.85526315789473684, 0.85526315789473684]\n"
     ]
    }
   ],
   "source": [
    "tabScore=[]\n",
    "tabScore2=[]\n",
    "rangeTab=xrange(1, 1500, 150)\n",
    "for alpha in rangeTab:\n",
    "    score=0\n",
    "    score2=0\n",
    "    print \"----------------------------------------------------------\"\n",
    "    print alpha\n",
    "\n",
    "    dfTrain, dfTest = train_test_split(DfSampling, test_size=0.20, random_state=RanDomState)\n",
    "    model = GradientBoostingClassifier(random_state=1,n_estimators=alpha)\n",
    "    model=model.fit(dfTrain[features], dfTrain[target])\n",
    "    predictions=model.predict(dfTest[features])\n",
    "    #print \"Nombre d'attaques prévus/Nombre d'attaques réel: \"+str(predictions.sum())+'/'+str(len(dfTest[dfTest['Count']!=0]))\n",
    "    score2=model.score(dfTest[features], dfTest[target])\n",
    "\n",
    "    currentScoreTab=[]\n",
    "    for i in (2009,2010,2011,2012,2013,2014):\n",
    "        #print \"----------------------------------------------------------\"\n",
    "        #print i\n",
    "        dfTrain=DfSampling[DfSampling['Years']==i-1]\n",
    "        dfTest=DfSampling[(DfSampling['Years']==i)]\n",
    "        model = GradientBoostingClassifier(random_state=1,n_estimators=alpha)\n",
    "        model=model.fit(dfTrain[features], dfTrain[target])\n",
    "\n",
    "        predictions=model.predict(dfTest[features])\n",
    "        #print \"Nombre d'attaques prévus/Nombre d'attaques réel: \"+str(predictions.sum())+'/'+str(len(dfTest[dfTest['Count']!=0]))\n",
    "        currentScore=model.score(dfTest[features], dfTest[target])\n",
    "        currentScoreTab.append(currentScore)\n",
    "        \n",
    "        #print \"Pourcentage de précision : \"+str(currentScore)\n",
    "    score=sum(currentScoreTab) / float(len(currentScoreTab))\n",
    "    \n",
    "    print \" score avec split by years : \"+str(score)\n",
    "    print \" score avec split randomly : \"+str(score2)\n",
    "    \n",
    "    \n",
    "    tabScore.append(score)\n",
    "    tabScore2.append(score2)\n",
    "    \n",
    "print tabScore\n",
    "print tabScore2"
   ]
  },
  {
   "cell_type": "code",
   "execution_count": 43,
   "metadata": {
    "collapsed": false
   },
   "outputs": [
    {
     "data": {
      "image/png": "[encoded data removed]",
      "text/plain": [
       "<matplotlib.figure.Figure at 0x11542c710>"
      ]
     },
     "metadata": {},
     "output_type": "display_data"
    }
   ],
   "source": [
    "plt.figure(figsize=(10,8))\n",
    "plt.plot(rangeTab,tabScore, '-', color='#EB3737', linewidth=3, label='Split by Years')\n",
    "plt.plot(rangeTab,tabScore2, '-', color='#71ce08', linewidth=3, label='Split Randomly')\n",
    "plt.axvline(x=180,linewidth=2, color='#0825ce')\n",
    "plt.grid(True)\n",
    "plt.legend(loc='upper right')\n",
    "plt.title(\"Gradient boosting : Cross validation n estimator\")\n",
    "plt.ylabel('Accuracy')\n",
    "plt.xlabel('Number of trees')\n",
    "plt.show()"
   ]
  },
  {
   "cell_type": "markdown",
   "metadata": {},
   "source": [
    "### Max features "
   ]
  },
  {
   "cell_type": "code",
   "execution_count": 45,
   "metadata": {
    "collapsed": false,
    "scrolled": true
   },
   "outputs": [
    {
     "name": "stdout",
     "output_type": "stream",
     "text": [
      "----------------------------------------------------------\n",
      "1\n",
      " score avec split by years : 0.773340982553\n",
      " score avec split randomly : 0.842105263158\n",
      "----------------------------------------------------------\n",
      "2\n",
      " score avec split by years : 0.791415299393\n",
      " score avec split randomly : 0.851973684211\n",
      "----------------------------------------------------------\n",
      "3\n",
      " score avec split by years : 0.794509557035\n",
      " score avec split randomly : 0.835526315789\n",
      "----------------------------------------------------------\n",
      "4\n",
      " score avec split by years : 0.803349381949\n",
      " score avec split randomly : 0.848684210526\n",
      "----------------------------------------------------------\n",
      "5\n",
      " score avec split by years : 0.805122922119\n",
      " score avec split randomly : 0.835526315789\n",
      "----------------------------------------------------------\n",
      "6\n",
      " score avec split by years : 0.804982395479\n",
      " score avec split randomly : 0.838815789474\n",
      "----------------------------------------------------------\n",
      "7\n",
      " score avec split by years : 0.801131978925\n",
      " score avec split randomly : 0.845394736842\n",
      "----------------------------------------------------------\n",
      "8\n",
      " score avec split by years : 0.788803737201\n",
      " score avec split randomly : 0.848684210526\n",
      "----------------------------------------------------------\n",
      "9\n",
      " score avec split by years : 0.800545090245\n",
      " score avec split randomly : 0.861842105263\n",
      "----------------------------------------------------------\n",
      "10\n",
      " score avec split by years : 0.799781723183\n",
      " score avec split randomly : 0.845394736842\n",
      "----------------------------------------------------------\n",
      "11\n",
      " score avec split by years : 0.790633068996\n",
      " score avec split randomly : 0.848684210526\n",
      "[0.77334098255260686, 0.79141529939343391, 0.79450955703481263, 0.8033493819494254, 0.80512292211930436, 0.80498239547927763, 0.80113197892499144, 0.78880373720138985, 0.80054509024526421, 0.79978172318295782, 0.79063306899626762]\n",
      "[0.84210526315789469, 0.85197368421052633, 0.83552631578947367, 0.84868421052631582, 0.83552631578947367, 0.83881578947368418, 0.84539473684210531, 0.84868421052631582, 0.86184210526315785, 0.84539473684210531, 0.84868421052631582]\n"
     ]
    }
   ],
   "source": [
    "tabScore=[]\n",
    "tabScore2=[]\n",
    "rangeTab=xrange(1, 12, 1)\n",
    "\n",
    "for alpha in rangeTab:\n",
    "    score=0\n",
    "    score2=0\n",
    "    print \"----------------------------------------------------------\"\n",
    "    print alpha\n",
    "    \n",
    "    dfTrain, dfTest = train_test_split(DfSampling, test_size=0.20, random_state=RanDomState)\n",
    "    model = GradientBoostingClassifier(random_state=1,max_features=alpha)\n",
    "    model=model.fit(dfTrain[features], dfTrain[target])\n",
    "    predictions=model.predict(dfTest[features])\n",
    "    #print \"Nombre d'attaques prévus/Nombre d'attaques réel: \"+str(predictions.sum())+'/'+str(len(dfTest[dfTest['Count']!=0]))\n",
    "    score2=model.score(dfTest[features], dfTest[target])\n",
    "\n",
    "    currentScoreTab=[]\n",
    "    for i in (2009,2010,2011,2012,2013,2014):\n",
    "        #print \"----------------------------------------------------------\"\n",
    "        #print i\n",
    "        dfTrain=DfSampling[DfSampling['Years']<i]\n",
    "        dfTest=DfSampling[(DfSampling['Years']==i)]\n",
    "        model = GradientBoostingClassifier(random_state=1,max_features=alpha)\n",
    "        model=model.fit(dfTrain[features], dfTrain[target])\n",
    "\n",
    "        predictions=model.predict(dfTest[features])\n",
    "        #print \"Nombre d'attaques prévus/Nombre d'attaques réel: \"+str(predictions.sum())+'/'+str(len(dfTest[dfTest['Count']!=0]))\n",
    "        currentScore=model.score(dfTest[features], dfTest[target])\n",
    "        currentScoreTab.append(currentScore)\n",
    "        \n",
    "        #print \"Pourcentage de précision : \"+str(currentScore)\n",
    "    score=sum(currentScoreTab) / float(len(currentScoreTab))\n",
    "    \n",
    "    print \" score avec split by years : \"+str(score)\n",
    "    print \" score avec split randomly : \"+str(score2)\n",
    "    \n",
    "    tabScore.append(score)\n",
    "    tabScore2.append(score2)\n",
    "    \n",
    "print tabScore\n",
    "print tabScore2"
   ]
  },
  {
   "cell_type": "code",
   "execution_count": 52,
   "metadata": {
    "collapsed": false
   },
   "outputs": [
    {
     "data": {
      "image/png": "[encoded data removed]",
      "text/plain": [
       "<matplotlib.figure.Figure at 0x113fda410>"
      ]
     },
     "metadata": {},
     "output_type": "display_data"
    }
   ],
   "source": [
    "plt.figure(figsize=(10,8))\n",
    "plt.plot(rangeTab,tabScore, '-', color='#EB3737', linewidth=3, label='Split by Years')\n",
    "plt.plot(rangeTab,tabScore2, '-', color='#71ce08', linewidth=3, label='Split Randomly')\n",
    "plt.axvline(x=5,linewidth=2, color='#0825ce')\n",
    "plt.grid(True)\n",
    "plt.legend(loc='upper right')\n",
    "plt.title(\"Gradient boosting : Cross validation max feature\")\n",
    "plt.ylabel('Accuracy')\n",
    "plt.xlabel('Number of max feature')\n",
    "plt.show()\n"
   ]
  },
  {
   "cell_type": "markdown",
   "metadata": {},
   "source": [
    "### Best Gradient Boosting"
   ]
  },
  {
   "cell_type": "code",
   "execution_count": 58,
   "metadata": {
    "collapsed": false
   },
   "outputs": [
    {
     "name": "stdout",
     "output_type": "stream",
     "text": [
      " \n",
      "Entrainement : Nombre d'attaques /nombre de ligne : 16/132\n",
      "Test : Nombre d'attaques /nombre de ligne : 16/123\n"
     ]
    }
   ],
   "source": [
    "years_prediction=2014\n",
    "dfTrain=DfSampling[DfSampling['Years']==years_prediction-1]\n",
    "dfTest=DfSampling[(DfSampling['Years']==years_prediction)]\n",
    "\n",
    "print \" \"\n",
    "print \"Entrainement : Nombre d'attaques /nombre de ligne : \"+str(len(dfTrain[dfTrain['Count']!=0]))+'/'+str(len(dfTrain))\n",
    "print \"Test : Nombre d'attaques /nombre de ligne : \"+str(len(dfTest[dfTest['Count']!=0]))+'/'+str(len(dfTest))"
   ]
  },
  {
   "cell_type": "code",
   "execution_count": 59,
   "metadata": {
    "collapsed": false
   },
   "outputs": [
    {
     "name": "stdout",
     "output_type": "stream",
     "text": [
      "Nombre d'attaques prévus/Nombre d'attaques réel: 13/16\n",
      "Pourcentage de précision : 0.878048780488\n"
     ]
    }
   ],
   "source": [
    "model = GradientBoostingClassifier(random_state=1,n_estimators=200,max_features=5)\n",
    "model=model.fit(dfTrain[features], dfTrain[target])\n",
    "\n",
    "predictions=model.predict(dfTest[features])\n",
    "print \"Nombre d'attaques prévus/Nombre d'attaques réel: \"+str(predictions.sum())+'/'+str(len(dfTest[dfTest['Count']!=0]))\n",
    "\n",
    "print \"Pourcentage de précision : \"+str(model.score(dfTest[features], dfTest[target]))\n",
    "cm = confusion_matrix(dfTest[target], predictions)"
   ]
  },
  {
   "cell_type": "code",
   "execution_count": 60,
   "metadata": {
    "collapsed": false,
    "scrolled": false
   },
   "outputs": [
    {
     "data": {
      "text/html": [
       "<div>\n",
       "<table border=\"1\" class=\"dataframe\">\n",
       "  <thead>\n",
       "    <tr style=\"text-align: right;\">\n",
       "      <th>preds</th>\n",
       "      <th>0</th>\n",
       "      <th>1</th>\n",
       "    </tr>\n",
       "    <tr>\n",
       "      <th>Attack</th>\n",
       "      <th></th>\n",
       "      <th></th>\n",
       "    </tr>\n",
       "  </thead>\n",
       "  <tbody>\n",
       "    <tr>\n",
       "      <th>0</th>\n",
       "      <td>0.943925</td>\n",
       "      <td>0.056075</td>\n",
       "    </tr>\n",
       "    <tr>\n",
       "      <th>1</th>\n",
       "      <td>0.562500</td>\n",
       "      <td>0.437500</td>\n",
       "    </tr>\n",
       "  </tbody>\n",
       "</table>\n",
       "</div>"
      ],
      "text/plain": [
       "preds          0         1\n",
       "Attack                    \n",
       "0       0.943925  0.056075\n",
       "1       0.562500  0.437500"
      ]
     },
     "execution_count": 60,
     "metadata": {},
     "output_type": "execute_result"
    }
   ],
   "source": [
    "pd.crosstab(dfTest[target],predictions, colnames=['preds']).apply(lambda r: r/r.sum(), axis=1)"
   ]
  },
  {
   "cell_type": "code",
   "execution_count": 61,
   "metadata": {
    "collapsed": false,
    "scrolled": false
   },
   "outputs": [
    {
     "data": {
      "text/html": [
       "<div>\n",
       "<table border=\"1\" class=\"dataframe\">\n",
       "  <thead>\n",
       "    <tr style=\"text-align: right;\">\n",
       "      <th>preds</th>\n",
       "      <th>0</th>\n",
       "      <th>1</th>\n",
       "    </tr>\n",
       "    <tr>\n",
       "      <th>Attack</th>\n",
       "      <th></th>\n",
       "      <th></th>\n",
       "    </tr>\n",
       "  </thead>\n",
       "  <tbody>\n",
       "    <tr>\n",
       "      <th>0</th>\n",
       "      <td>101</td>\n",
       "      <td>6</td>\n",
       "    </tr>\n",
       "    <tr>\n",
       "      <th>1</th>\n",
       "      <td>9</td>\n",
       "      <td>7</td>\n",
       "    </tr>\n",
       "  </tbody>\n",
       "</table>\n",
       "</div>"
      ],
      "text/plain": [
       "preds     0  1\n",
       "Attack        \n",
       "0       101  6\n",
       "1         9  7"
      ]
     },
     "execution_count": 61,
     "metadata": {},
     "output_type": "execute_result"
    }
   ],
   "source": [
    "pd.crosstab(dfTest[target],predictions, colnames=['preds'])"
   ]
  },
  {
   "cell_type": "code",
   "execution_count": 62,
   "metadata": {
    "collapsed": false,
    "scrolled": true
   },
   "outputs": [
    {
     "data": {
      "text/plain": [
       "<matplotlib.colorbar.Colorbar at 0x117ee9310>"
      ]
     },
     "execution_count": 62,
     "metadata": {},
     "output_type": "execute_result"
    },
    {
     "data": {
      "image/png": "[encoded data removed]",
      "text/plain": [
       "<matplotlib.figure.Figure at 0x113eca290>"
      ]
     },
     "metadata": {},
     "output_type": "display_data"
    }
   ],
   "source": [
    "cm_normalized = cm.astype('float') / cm.sum(axis=1)[:, np.newaxis]\n",
    "plt.imshow(cm_normalized, interpolation='nearest', cmap=plt.cm.Blues)\n",
    "plt.colorbar()"
   ]
  },
  {
   "cell_type": "markdown",
   "metadata": {},
   "source": [
    "# Prediction 2015"
   ]
  },
  {
   "cell_type": "code",
   "execution_count": 63,
   "metadata": {
    "collapsed": true
   },
   "outputs": [],
   "source": [
    "def getPrediction(dfTrain,dfTest,features,target,nb_esti=250,nb_features=1):\n",
    "    model = RandomForestClassifier(random_state=1,n_estimators=nb_esti,max_features=nb_features)\n",
    "    model=model.fit(dfTrain[features], dfTrain[target])\n",
    "    predictions=model.predict(dfTest[features])\n",
    "    probabilities=model.predict_proba(dfTest[features])[:, 1]\n",
    "    return predictions,probabilities"
   ]
  },
  {
   "cell_type": "code",
   "execution_count": 64,
   "metadata": {
    "collapsed": false,
    "scrolled": true
   },
   "outputs": [],
   "source": [
    "size = len(dfAreaHand[\"Area\"].unique())\n",
    "ColYears= np.repeat(2015, size)\n",
    "ColMonth = np.repeat(4, size)\n",
    "ColFortnight = np.repeat(1, size)\n",
    "ColType = np.repeat(\"Tanker\", size)\n",
    "ColActivity = np.repeat(1, size)\n",
    "ColArea=dfAreaHand[\"Area\"].unique()\n",
    "       \n",
    "dic = {'Years': ColYears,'Month': ColMonth,'Fortnight': ColFortnight, 'Area': ColArea,'Type':ColType,'Activity': ColActivity}\n",
    "dfTest= pd.DataFrame(dic)\n",
    "dfTest,featureBinary=binaryColumn(dfTest,uniqueArea,uniqueType)\n"
   ]
  },
  {
   "cell_type": "code",
   "execution_count": 65,
   "metadata": {
    "collapsed": false
   },
   "outputs": [
    {
     "name": "stdout",
     "output_type": "stream",
     "text": [
      "[0 0 0 0 0 0 0 0 0 0 0 0 0 0 0 0 0 0 0 1 1 0 0 0 0 0 0 1 0 0 0 0 0 0 0 0 0\n",
      " 0 0 0]\n",
      "[ 0.02   0.008  0.     0.004  0.008  0.004  0.176  0.004  0.008  0.004\n",
      "  0.008  0.004  0.008  0.     0.     0.012  0.     0.004  0.008  0.644\n",
      "  0.632  0.004  0.008  0.008  0.004  0.     0.008  0.668  0.008  0.008\n",
      "  0.004  0.     0.     0.004  0.004  0.     0.     0.004  0.016  0.004]\n"
     ]
    }
   ],
   "source": [
    "prediction,probabilities=getPrediction(dfAreaHand,dfTest,features,target)\n",
    "print prediction\n",
    "print probabilities"
   ]
  },
  {
   "cell_type": "code",
   "execution_count": null,
   "metadata": {
    "collapsed": true
   },
   "outputs": [],
   "source": []
  }
 ],
 "metadata": {
  "kernelspec": {
   "display_name": "Python 2",
   "language": "python",
   "name": "python2"
  },
  "language_info": {
   "codemirror_mode": {
    "name": "ipython",
    "version": 2
   },
   "file_extension": ".py",
   "mimetype": "text/x-python",
   "name": "python",
   "nbconvert_exporter": "python",
   "pygments_lexer": "ipython2",
   "version": "2.7.11"
  }
 },
 "nbformat": 4,
 "nbformat_minor": 0
}
