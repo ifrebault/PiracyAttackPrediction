{
 "cells": [
  {
   "cell_type": "code",
   "execution_count": 47,
   "metadata": {
    "collapsed": true
   },
   "outputs": [],
   "source": [
    "import numpy as np\n",
    "import pandas as pd\n",
    "from sklearn.preprocessing import label_binarize\n",
    "import datetime"
   ]
  },
  {
   "cell_type": "code",
   "execution_count": 2,
   "metadata": {
    "collapsed": false
   },
   "outputs": [],
   "source": [
    "df = pd.read_csv('../data/aden_golfe.csv',sep=';')"
   ]
  },
  {
   "cell_type": "code",
   "execution_count": 18,
   "metadata": {
    "collapsed": false
   },
   "outputs": [
    {
     "name": "stdout",
     "output_type": "stream",
     "text": [
      "   Annee (0)  jour (0)  mois (0)  dist cote (nq) zone lat (0)  long(0)  \\\n",
      "0       2010        28        10             NaN  BCD  12:08N  054:25E   \n",
      "1       2010        30        10             NaN  BCD  15:06N  055:58E   \n",
      "2       2010         1         1             NaN  BCD  12:31N  047:18E   \n",
      "3       2010         3         2             NaN  BCD  13:04N  047:04E   \n",
      "4       2010         5         2             NaN  BCD  13:00N  048:45E   \n",
      "\n",
      "           type(0)           pavillon statut de l'attaque(0)  ...    \\\n",
      "0             Dhow         Not Stated               Steaming  ...     \n",
      "1     Bulk Carrier              Malta               Steaming  ...     \n",
      "2  Chemical Tanker          Singapore               Steaming  ...     \n",
      "3    General Cargo        North Korea               Steaming  ...     \n",
      "4     Bulk Carrier  Antigua & Barbuda               Steaming  ...     \n",
      "\n",
      "  quinzaine_week                                      newDescriptif  Guns  \\\n",
      "0             20                           pirates hijacked a dhow.     0   \n",
      "1             20  armed pirates attacked and boarded the ship un...     0   \n",
      "2              1  pirates hijacked a tanker underway and took he...     0   \n",
      "3              3  armed pirates attacked and hijacked a ship and...     0   \n",
      "4              3  six pirates in a high-speed boat armed with ma...     1   \n",
      "\n",
      "   mousson  distance au port  distance_shorline  lat_area  lon_area  \\\n",
      "0        0        534.679104          35.872306         4        31   \n",
      "1        0        292.330113         233.517911        10        34   \n",
      "2        0        259.217741         118.411436         5        15   \n",
      "3        0        233.133566          52.669531         6        15   \n",
      "4        0        414.693842         114.636335         5        18   \n",
      "\n",
      "   large_area   area  \n",
      "0           G   4_31  \n",
      "1           G  10_34  \n",
      "2           G   5_15  \n",
      "3           G   6_15  \n",
      "4           G   5_18  \n",
      "\n",
      "[5 rows x 33 columns]\n"
     ]
    }
   ],
   "source": [
    "max_quinzaine=24\n",
    "max_month=12\n",
    "max_area_lat=12\n",
    "max_area_lon=31\n",
    "number_grid=(max_area_lat+1)*(max_area_lon+1)\n",
    "print df.head()"
   ]
  },
  {
   "cell_type": "code",
   "execution_count": 4,
   "metadata": {
    "collapsed": false
   },
   "outputs": [],
   "source": [
    "df['lat_area'] = df['lat_area'].astype(int)\n",
    "df['lon_area'] = df['lon_area'].astype(int)"
   ]
  },
  {
   "cell_type": "markdown",
   "metadata": {},
   "source": [
    "# Version 1 : Création d'une matrice en regroupant par quinzaine et zone"
   ]
  },
  {
   "cell_type": "code",
   "execution_count": 5,
   "metadata": {
    "collapsed": true
   },
   "outputs": [],
   "source": [
    "df['area'] = df.apply(lambda row: str(row['lat_area'])+'_'+str(row['lon_area']), axis=1)"
   ]
  },
  {
   "cell_type": "markdown",
   "metadata": {},
   "source": [
    "## Creation d'un data frame vide"
   ]
  },
  {
   "cell_type": "code",
   "execution_count": 52,
   "metadata": {
    "collapsed": false,
    "scrolled": true
   },
   "outputs": [],
   "source": [
    "dfAgregateTotal=pd.DataFrame({'count' : df.groupby( [ \"Annee (0)\",\"quinzaine_week\",\"area\"] ).size()}).reset_index()"
   ]
  },
  {
   "cell_type": "code",
   "execution_count": 53,
   "metadata": {
    "collapsed": false
   },
   "outputs": [
    {
     "name": "stdout",
     "output_type": "stream",
     "text": [
      "   Annee (0)  quinzaine_week  area  count lat_area lon_area\n",
      "0       2008               3  4_20      2        4       20\n",
      "1       2008               6  3_21      1        3       21\n",
      "2       2008               6  4_18      1        4       18\n",
      "3       2008               6  6_19      1        6       19\n",
      "4       2008               7  5_16      1        5       16\n"
     ]
    }
   ],
   "source": [
    "specifecArea=pd.DataFrame(dfAgregateTotal['area'].str.split('_',1).tolist(),columns = ['lat_area','lon_area'])\n",
    "dfAgregateTotal=pd.concat([dfAgregateTotal, specifecArea], axis=1)\n",
    "print dfAgregateTotal.head()"
   ]
  },
  {
   "cell_type": "code",
   "execution_count": 54,
   "metadata": {
    "collapsed": false
   },
   "outputs": [
    {
     "name": "stdout",
     "output_type": "stream",
     "text": [
      "[  0.   1.   2. ...,  29.  30.  31.]\n",
      "69888\n",
      "69888\n",
      "69888\n",
      "69888\n"
     ]
    }
   ],
   "source": [
    "uniqueYears=dfAgregateTotal['Annee (0)'].unique()\n",
    "Colyears=np.repeat(uniqueYears, 24*(max_area_lon+1)*(max_area_lat+1))\n",
    "\n",
    "TwoweekRepeat=np.repeat(np.linspace(1, max_quinzaine, num=max_quinzaine), (max_area_lon+1)*(max_area_lat+1))\n",
    "ColTwoweek=np.tile(TwoweekRepeat, len(uniqueYears))\n",
    "\n",
    "latRepeat=np.linspace(0, max_area_lat,num=max_area_lat+1)\n",
    "ColLatArea=np.repeat(latRepeat, max_area_lon+1)\n",
    "ColLatArea=np.tile(ColLatArea, max_quinzaine)\n",
    "ColLatArea=np.tile(ColLatArea, len(uniqueYears))\n",
    "\n",
    "#print ColLatArea\n",
    "\n",
    "lonRepeat=np.tile(np.linspace(0, max_area_lon, num=max_area_lon+1),max_area_lat+1)\n",
    "ColLonArea=np.tile(lonRepeat, max_quinzaine)\n",
    "ColLonArea=np.tile(ColLonArea, len(uniqueYears))\n",
    "\n",
    "print ColLonArea\n",
    "\n",
    "count=np.repeat(0, len(Colyears))\n",
    "\n",
    "print len(Colyears)\n",
    "print len(ColTwoweek)\n",
    "print len(ColLatArea)\n",
    "print len(ColLonArea)\n"
   ]
  },
  {
   "cell_type": "markdown",
   "metadata": {},
   "source": [
    "## Fill the matrice"
   ]
  },
  {
   "cell_type": "code",
   "execution_count": 55,
   "metadata": {
    "collapsed": false,
    "scrolled": true
   },
   "outputs": [
    {
     "name": "stdout",
     "output_type": "stream",
     "text": [
      "   2_week  Years  count lat_area lon_area\n",
      "0       1   2008      0        0        0\n",
      "1       1   2008      0        0        1\n",
      "2       1   2008      0        0        2\n",
      "3       1   2008      0        0        3\n",
      "4       1   2008      0        0        4\n"
     ]
    }
   ],
   "source": [
    "#columns = ['Years','2_week', 'lat_area','lon_area','count']\n",
    "#matriceML=pd.DataFrame(columns=columns)\n",
    "#matriceML = matriceML.fillna(0)\n",
    "\n",
    "dic = {'Years': Colyears, \n",
    "     '2_week': ColTwoweek, \n",
    "     'lat_area': ColLatArea,\n",
    "     'lon_area': ColLonArea,\n",
    "     'count': count\n",
    "      }\n",
    "\n",
    "dfFinal= pd.DataFrame(dic)\n",
    "\n",
    "dfFinal['lat_area']=dfFinal['lat_area'].astype(int).astype('str')\n",
    "dfFinal['lon_area']=dfFinal['lon_area'].astype(int).astype('str')\n",
    "\n",
    "print dfFinal.head()"
   ]
  },
  {
   "cell_type": "code",
   "execution_count": 56,
   "metadata": {
    "collapsed": false,
    "scrolled": true
   },
   "outputs": [
    {
     "name": "stdout",
     "output_type": "stream",
     "text": [
      "0\n",
      "100\n",
      "200\n",
      "300\n"
     ]
    }
   ],
   "source": [
    "for index, row in dfAgregateTotal.iterrows():\n",
    "    if index%100==0:\n",
    "        print index\n",
    "    #print row['Annee (0)'], row['quinzaine_week'], row['count'] ,  row['lat_area'] , row['lon_area'] \n",
    "    idx=dfFinal[(dfFinal['Years']==row['Annee (0)']) & (dfFinal['lat_area']==row['lat_area']) & (dfFinal['lon_area']==row['lon_area'] )& (dfFinal['2_week']==row['quinzaine_week'])]\n",
    "    #print 'index : '+str(idx.index.values)\n",
    "    #print 'count : '+str(row['count'])\n",
    "    dfFinal.set_value(idx.index.values, 'count',row['count'])"
   ]
  },
  {
   "cell_type": "code",
   "execution_count": 38,
   "metadata": {
    "collapsed": false
   },
   "outputs": [
    {
     "data": {
      "text/plain": [
       "421"
      ]
     },
     "execution_count": 38,
     "metadata": {},
     "output_type": "execute_result"
    }
   ],
   "source": [
    "dfFinal['count'].sum()"
   ]
  },
  {
   "cell_type": "markdown",
   "metadata": {},
   "source": [
    "## Write matrice in a file"
   ]
  },
  {
   "cell_type": "code",
   "execution_count": 57,
   "metadata": {
    "collapsed": false
   },
   "outputs": [],
   "source": [
    "dfFinal.to_csv(\"../data/aden_golfe_matrix_area.csv\",sep=';', encoding='utf-8', index=False)"
   ]
  },
  {
   "cell_type": "markdown",
   "metadata": {
    "collapsed": true
   },
   "source": [
    "#  "
   ]
  },
  {
   "cell_type": "markdown",
   "metadata": {},
   "source": [
    "# Version 2 : Création d'une matrice en regroupant par mois"
   ]
  },
  {
   "cell_type": "code",
   "execution_count": 84,
   "metadata": {
    "collapsed": false
   },
   "outputs": [
    {
     "data": {
      "text/html": [
       "<div>\n",
       "<table border=\"1\" class=\"dataframe\">\n",
       "  <thead>\n",
       "    <tr style=\"text-align: right;\">\n",
       "      <th></th>\n",
       "      <th>Annee (0)</th>\n",
       "      <th>mois (0)</th>\n",
       "      <th>count</th>\n",
       "    </tr>\n",
       "  </thead>\n",
       "  <tbody>\n",
       "    <tr>\n",
       "      <th>0</th>\n",
       "      <td>2008</td>\n",
       "      <td>2</td>\n",
       "      <td>2</td>\n",
       "    </tr>\n",
       "    <tr>\n",
       "      <th>1</th>\n",
       "      <td>2008</td>\n",
       "      <td>3</td>\n",
       "      <td>3</td>\n",
       "    </tr>\n",
       "    <tr>\n",
       "      <th>2</th>\n",
       "      <td>2008</td>\n",
       "      <td>4</td>\n",
       "      <td>6</td>\n",
       "    </tr>\n",
       "    <tr>\n",
       "      <th>3</th>\n",
       "      <td>2008</td>\n",
       "      <td>5</td>\n",
       "      <td>6</td>\n",
       "    </tr>\n",
       "    <tr>\n",
       "      <th>4</th>\n",
       "      <td>2008</td>\n",
       "      <td>6</td>\n",
       "      <td>2</td>\n",
       "    </tr>\n",
       "  </tbody>\n",
       "</table>\n",
       "</div>"
      ],
      "text/plain": [
       "   Annee (0)  mois (0)  count\n",
       "0       2008         2      2\n",
       "1       2008         3      3\n",
       "2       2008         4      6\n",
       "3       2008         5      6\n",
       "4       2008         6      2"
      ]
     },
     "execution_count": 84,
     "metadata": {},
     "output_type": "execute_result"
    }
   ],
   "source": [
    "dfAgregateTotal2=pd.DataFrame({'count' : df.groupby( [ \"Annee (0)\",\"mois (0)\"] ).size()}).reset_index()\n",
    "dfAgregateTotal2.head()"
   ]
  },
  {
   "cell_type": "code",
   "execution_count": 85,
   "metadata": {
    "collapsed": false
   },
   "outputs": [
    {
     "name": "stdout",
     "output_type": "stream",
     "text": [
      "[2008 2009 2010 2011 2012 2013 2014]\n"
     ]
    }
   ],
   "source": [
    "unique_years=dfAgregateTotal2['Annee (0)'].unique()\n",
    "print unique_years"
   ]
  },
  {
   "cell_type": "code",
   "execution_count": 86,
   "metadata": {
    "collapsed": false
   },
   "outputs": [
    {
     "name": "stdout",
     "output_type": "stream",
     "text": [
      "84\n",
      "84\n"
     ]
    }
   ],
   "source": [
    "col_years=np.repeat(unique_years, max_month)\n",
    "print len(col_years)\n",
    "\n",
    "two_week_repeat=np.linspace(1, max_month, num=max_month)\n",
    "#print np.repeat(two_week_repeat,4)\n",
    "col_two_week=np.tile(two_week_repeat, len(unique_years))\n",
    "print len(col_two_week)\n",
    "\n",
    "col_count=np.repeat(0, len(col_two_week))\n",
    "\n",
    "\n",
    "dic2 = {'Years': col_years, \n",
    "     'Month': col_two_week, \n",
    "     'Count': col_count#,\n",
    "     #'type_attack': col_type\n",
    "       }\n",
    "\n",
    "dfFinal_2 = pd.DataFrame(dic2)\n"
   ]
  },
  {
   "cell_type": "markdown",
   "metadata": {},
   "source": [
    "## Matrix empty"
   ]
  },
  {
   "cell_type": "markdown",
   "metadata": {},
   "source": [
    "### On créé tout d'abord une matrice vide"
   ]
  },
  {
   "cell_type": "code",
   "execution_count": 87,
   "metadata": {
    "collapsed": false
   },
   "outputs": [
    {
     "data": {
      "text/html": [
       "<div>\n",
       "<table border=\"1\" class=\"dataframe\">\n",
       "  <thead>\n",
       "    <tr style=\"text-align: right;\">\n",
       "      <th></th>\n",
       "      <th>Count</th>\n",
       "      <th>Month</th>\n",
       "      <th>Years</th>\n",
       "    </tr>\n",
       "  </thead>\n",
       "  <tbody>\n",
       "    <tr>\n",
       "      <th>0</th>\n",
       "      <td>0</td>\n",
       "      <td>1</td>\n",
       "      <td>2008</td>\n",
       "    </tr>\n",
       "    <tr>\n",
       "      <th>1</th>\n",
       "      <td>0</td>\n",
       "      <td>2</td>\n",
       "      <td>2008</td>\n",
       "    </tr>\n",
       "    <tr>\n",
       "      <th>2</th>\n",
       "      <td>0</td>\n",
       "      <td>3</td>\n",
       "      <td>2008</td>\n",
       "    </tr>\n",
       "    <tr>\n",
       "      <th>3</th>\n",
       "      <td>0</td>\n",
       "      <td>4</td>\n",
       "      <td>2008</td>\n",
       "    </tr>\n",
       "    <tr>\n",
       "      <th>4</th>\n",
       "      <td>0</td>\n",
       "      <td>5</td>\n",
       "      <td>2008</td>\n",
       "    </tr>\n",
       "  </tbody>\n",
       "</table>\n",
       "</div>"
      ],
      "text/plain": [
       "   Count  Month  Years\n",
       "0      0      1   2008\n",
       "1      0      2   2008\n",
       "2      0      3   2008\n",
       "3      0      4   2008\n",
       "4      0      5   2008"
      ]
     },
     "execution_count": 87,
     "metadata": {},
     "output_type": "execute_result"
    }
   ],
   "source": [
    "dfFinal_2.head()"
   ]
  },
  {
   "cell_type": "markdown",
   "metadata": {},
   "source": [
    "# Fill matrice"
   ]
  },
  {
   "cell_type": "code",
   "execution_count": 88,
   "metadata": {
    "collapsed": false
   },
   "outputs": [
    {
     "data": {
      "text/html": [
       "<div>\n",
       "<table border=\"1\" class=\"dataframe\">\n",
       "  <thead>\n",
       "    <tr style=\"text-align: right;\">\n",
       "      <th></th>\n",
       "      <th>Count</th>\n",
       "      <th>Month</th>\n",
       "      <th>Years</th>\n",
       "    </tr>\n",
       "  </thead>\n",
       "  <tbody>\n",
       "    <tr>\n",
       "      <th>0</th>\n",
       "      <td>0</td>\n",
       "      <td>1</td>\n",
       "      <td>2008</td>\n",
       "    </tr>\n",
       "    <tr>\n",
       "      <th>1</th>\n",
       "      <td>2</td>\n",
       "      <td>2</td>\n",
       "      <td>2008</td>\n",
       "    </tr>\n",
       "    <tr>\n",
       "      <th>2</th>\n",
       "      <td>3</td>\n",
       "      <td>3</td>\n",
       "      <td>2008</td>\n",
       "    </tr>\n",
       "    <tr>\n",
       "      <th>3</th>\n",
       "      <td>6</td>\n",
       "      <td>4</td>\n",
       "      <td>2008</td>\n",
       "    </tr>\n",
       "    <tr>\n",
       "      <th>4</th>\n",
       "      <td>6</td>\n",
       "      <td>5</td>\n",
       "      <td>2008</td>\n",
       "    </tr>\n",
       "  </tbody>\n",
       "</table>\n",
       "</div>"
      ],
      "text/plain": [
       "   Count  Month  Years\n",
       "0      0      1   2008\n",
       "1      2      2   2008\n",
       "2      3      3   2008\n",
       "3      6      4   2008\n",
       "4      6      5   2008"
      ]
     },
     "execution_count": 88,
     "metadata": {},
     "output_type": "execute_result"
    }
   ],
   "source": [
    "#\n",
    "for index, row in dfAgregateTotal2.iterrows():\n",
    "\n",
    "    #print 'Years '+str(row['Annee (0)']),'month : '+str( row['mois (0)']),'count : '+str(row['count'])#,'type_attack : '+str(row['type d\\'attaque(0)'])\n",
    "\n",
    "    idx=dfFinal_2[(dfFinal_2['Years']==row['Annee (0)']) & (dfFinal_2['Month']==row['mois (0)'])]\n",
    "    #print 'index : '+str(idx.index.values)\n",
    "    #print 'count : '+str(row['count'])\n",
    "    dfFinal_2.set_value(idx.index.values, 'Count',row['count'])\n",
    "\n",
    "dfFinal_2.head()"
   ]
  },
  {
   "cell_type": "code",
   "execution_count": 89,
   "metadata": {
    "collapsed": false
   },
   "outputs": [
    {
     "name": "stdout",
     "output_type": "stream",
     "text": [
      "10\n"
     ]
    }
   ],
   "source": [
    "def monthCorrect(month):\n",
    "    month=str(int(month))\n",
    "    if len(month)==1:\n",
    "        return '0'+month\n",
    "    else:\n",
    "        return month\n",
    "print monthCorrect(10)"
   ]
  },
  {
   "cell_type": "code",
   "execution_count": 90,
   "metadata": {
    "collapsed": false
   },
   "outputs": [
    {
     "data": {
      "text/plain": [
       "int"
      ]
     },
     "execution_count": 90,
     "metadata": {},
     "output_type": "execute_result"
    }
   ],
   "source": [
    "type(int(dfFinal_2['Month'][0]))"
   ]
  },
  {
   "cell_type": "code",
   "execution_count": 91,
   "metadata": {
    "collapsed": false
   },
   "outputs": [
    {
     "data": {
      "text/plain": [
       "'01'"
      ]
     },
     "execution_count": 91,
     "metadata": {},
     "output_type": "execute_result"
    }
   ],
   "source": [
    "monthCorrect(dfFinal_2['Month'][0])"
   ]
  },
  {
   "cell_type": "code",
   "execution_count": 92,
   "metadata": {
    "collapsed": false,
    "scrolled": true
   },
   "outputs": [
    {
     "name": "stdout",
     "output_type": "stream",
     "text": [
      "   Count  Month  Years       date\n",
      "0      0      1   2008 2008-01-01\n",
      "1      2      2   2008 2008-02-01\n",
      "2      3      3   2008 2008-03-01\n",
      "3      6      4   2008 2008-04-01\n",
      "4      6      5   2008 2008-05-01\n"
     ]
    }
   ],
   "source": [
    "dfFinal_2['date']=dfFinal_2.apply(lambda row: str(int(row['Years']))+'-'+monthCorrect(row['Month'])+'-01', axis=1)\n",
    "dfFinal_2['date']=dfFinal_2.apply(lambda row: datetime.datetime.strptime(row['date'], \"%Y-%m-%d\"), axis=1)\n",
    "\n",
    "#dfFinal_2['full_years'] =dfFinal_2.apply(lambda row: row['Years']+float(row['2_week']/24), axis=1)\n",
    "print dfFinal_2.head()"
   ]
  },
  {
   "cell_type": "code",
   "execution_count": 93,
   "metadata": {
    "collapsed": false
   },
   "outputs": [],
   "source": [
    "dfFinal_2.to_csv(\"../data/aden_golfe_matrix_global.csv\",sep=';', encoding='utf-8', index=False)"
   ]
  },
  {
   "cell_type": "code",
   "execution_count": null,
   "metadata": {
    "collapsed": true
   },
   "outputs": [],
   "source": []
  },
  {
   "cell_type": "code",
   "execution_count": null,
   "metadata": {
    "collapsed": true
   },
   "outputs": [],
   "source": []
  }
 ],
 "metadata": {
  "kernelspec": {
   "display_name": "Python 2",
   "language": "python",
   "name": "python2"
  },
  "language_info": {
   "codemirror_mode": {
    "name": "ipython",
    "version": 2
   },
   "file_extension": ".py",
   "mimetype": "text/x-python",
   "name": "python",
   "nbconvert_exporter": "python",
   "pygments_lexer": "ipython2",
   "version": "2.7.11"
  }
 },
 "nbformat": 4,
 "nbformat_minor": 0
}
