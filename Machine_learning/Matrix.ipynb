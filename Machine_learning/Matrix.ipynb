{
 "cells": [
  {
   "cell_type": "code",
   "execution_count": 18,
   "metadata": {
    "collapsed": true
   },
   "outputs": [],
   "source": [
    "import numpy as np\n",
    "import pandas as pd\n",
    "from sklearn.preprocessing import label_binarize"
   ]
  },
  {
   "cell_type": "code",
   "execution_count": 19,
   "metadata": {
    "collapsed": false
   },
   "outputs": [],
   "source": [
    "df = pd.read_csv('../data/aden_golfe.csv',sep=';')"
   ]
  },
  {
   "cell_type": "code",
   "execution_count": 20,
   "metadata": {
    "collapsed": false
   },
   "outputs": [
    {
     "name": "stdout",
     "output_type": "stream",
     "text": [
      "   Annee (0)  jour (0)  mois (0)  dist �_ la c��te (nq) zone lat (0)  long(0)  \\\n",
      "0       2010         1         1                    NaN  BCD  10:47N  061:37E   \n",
      "1       2010         3         3                    NaN  BCD  05:14S  042:37E   \n",
      "2       2010         5         3                    NaN  BCD  09:35S  044:18E   \n",
      "\n",
      "           type(0)          pavillon statut de l'attaque(0)      ...       \\\n",
      "0  Vehicle Carrier    United Kingdom               Steaming      ...        \n",
      "1   Fishing Vessel             Kenya               Steaming      ...        \n",
      "2  Chemical Tanker  Marshall Islands               Steaming      ...        \n",
      "\n",
      "  quinzaine_week                                      newDescriptif  Guns  \\\n",
      "0              1  pirates hijacked a ship underway and took her ...     0   \n",
      "1              5  eleven pirates in three skiffs armed with guns...     1   \n",
      "2              5  armed pirates attacked and hijacked a tanker u...     0   \n",
      "\n",
      "   mousson  distance au port         new_type  large_area  lat_area  lon_area  \\\n",
      "0        0       1067.512949  Vehicle Carrier           A       NaN       NaN   \n",
      "1        0        353.541684           Vessel           I       NaN       NaN   \n",
      "2        0        455.926794           Tanker           I       NaN       NaN   \n",
      "\n",
      "   area_by_hand  \n",
      "0            AA  \n",
      "1            AP  \n",
      "2            AP  \n",
      "\n",
      "[3 rows x 33 columns]\n"
     ]
    }
   ],
   "source": [
    "max_quinzaine=24\n",
    "print df.head(3)"
   ]
  },
  {
   "cell_type": "code",
   "execution_count": 21,
   "metadata": {
    "collapsed": true
   },
   "outputs": [],
   "source": [
    "def monthCorrect(month):\n",
    "    month=str(int(month))\n",
    "    if len(month)==1:\n",
    "        return '0'+month\n",
    "    else:\n",
    "        return month\n",
    "\n",
    "def fortnight(day):\n",
    "    if int(day) <15:\n",
    "        return 1\n",
    "    else:\n",
    "        return 2\n",
    "\n",
    "def activity(years):\n",
    "    if int(years) <2013:\n",
    "        return 2\n",
    "    else:\n",
    "        return 1\n",
    "    "
   ]
  },
  {
   "cell_type": "code",
   "execution_count": 22,
   "metadata": {
    "collapsed": false
   },
   "outputs": [],
   "source": [
    "df[\"mois (0)\"]=df.apply(lambda row: monthCorrect(row['mois (0)']), axis=1)\n",
    "df[\"jour (0)\"]=df.apply(lambda row: monthCorrect(row['jour (0)']), axis=1)\n",
    "df[\"date\"]=df.apply(lambda row: str(row[\"Annee (0)\"]) +\"-\"+ str(row[\"mois (0)\"]), axis=1)\n",
    "df[\"fortnight\"]=df.apply(lambda row: fortnight(row[\"jour (0)\"]), axis=1)\n",
    "df[\"activity\"]=df.apply(lambda row: fortnight(row[\"Annee (0)\"]), axis=1)"
   ]
  },
  {
   "cell_type": "markdown",
   "metadata": {
    "collapsed": true
   },
   "source": [
    "#  "
   ]
  },
  {
   "cell_type": "markdown",
   "metadata": {},
   "source": [
    "# Version 1 : group by years, month, area"
   ]
  },
  {
   "cell_type": "code",
   "execution_count": 23,
   "metadata": {
    "collapsed": false
   },
   "outputs": [
    {
     "data": {
      "text/html": [
       "<div>\n",
       "<table border=\"1\" class=\"dataframe\">\n",
       "  <thead>\n",
       "    <tr style=\"text-align: right;\">\n",
       "      <th></th>\n",
       "      <th>Annee (0)</th>\n",
       "      <th>jour (0)</th>\n",
       "      <th>mois (0)</th>\n",
       "      <th>dist �_ la c��te (nq)</th>\n",
       "      <th>zone</th>\n",
       "      <th>lat (0)</th>\n",
       "      <th>long(0)</th>\n",
       "      <th>type(0)</th>\n",
       "      <th>pavillon</th>\n",
       "      <th>statut de l'attaque(0)</th>\n",
       "      <th>...</th>\n",
       "      <th>mousson</th>\n",
       "      <th>distance au port</th>\n",
       "      <th>new_type</th>\n",
       "      <th>large_area</th>\n",
       "      <th>lat_area</th>\n",
       "      <th>lon_area</th>\n",
       "      <th>area_by_hand</th>\n",
       "      <th>date</th>\n",
       "      <th>fortnight</th>\n",
       "      <th>activity</th>\n",
       "    </tr>\n",
       "  </thead>\n",
       "  <tbody>\n",
       "    <tr>\n",
       "      <th>0</th>\n",
       "      <td>2010</td>\n",
       "      <td>01</td>\n",
       "      <td>01</td>\n",
       "      <td>NaN</td>\n",
       "      <td>BCD</td>\n",
       "      <td>10:47N</td>\n",
       "      <td>061:37E</td>\n",
       "      <td>Vehicle Carrier</td>\n",
       "      <td>United Kingdom</td>\n",
       "      <td>Steaming</td>\n",
       "      <td>...</td>\n",
       "      <td>0</td>\n",
       "      <td>1067.512949</td>\n",
       "      <td>Vehicle Carrier</td>\n",
       "      <td>A</td>\n",
       "      <td>NaN</td>\n",
       "      <td>NaN</td>\n",
       "      <td>AA</td>\n",
       "      <td>2010-01</td>\n",
       "      <td>1</td>\n",
       "      <td>2</td>\n",
       "    </tr>\n",
       "    <tr>\n",
       "      <th>1</th>\n",
       "      <td>2010</td>\n",
       "      <td>03</td>\n",
       "      <td>03</td>\n",
       "      <td>NaN</td>\n",
       "      <td>BCD</td>\n",
       "      <td>05:14S</td>\n",
       "      <td>042:37E</td>\n",
       "      <td>Fishing Vessel</td>\n",
       "      <td>Kenya</td>\n",
       "      <td>Steaming</td>\n",
       "      <td>...</td>\n",
       "      <td>0</td>\n",
       "      <td>353.541684</td>\n",
       "      <td>Vessel</td>\n",
       "      <td>I</td>\n",
       "      <td>NaN</td>\n",
       "      <td>NaN</td>\n",
       "      <td>AP</td>\n",
       "      <td>2010-03</td>\n",
       "      <td>1</td>\n",
       "      <td>2</td>\n",
       "    </tr>\n",
       "    <tr>\n",
       "      <th>2</th>\n",
       "      <td>2010</td>\n",
       "      <td>05</td>\n",
       "      <td>03</td>\n",
       "      <td>NaN</td>\n",
       "      <td>BCD</td>\n",
       "      <td>09:35S</td>\n",
       "      <td>044:18E</td>\n",
       "      <td>Chemical Tanker</td>\n",
       "      <td>Marshall Islands</td>\n",
       "      <td>Steaming</td>\n",
       "      <td>...</td>\n",
       "      <td>0</td>\n",
       "      <td>455.926794</td>\n",
       "      <td>Tanker</td>\n",
       "      <td>I</td>\n",
       "      <td>NaN</td>\n",
       "      <td>NaN</td>\n",
       "      <td>AP</td>\n",
       "      <td>2010-03</td>\n",
       "      <td>1</td>\n",
       "      <td>2</td>\n",
       "    </tr>\n",
       "    <tr>\n",
       "      <th>3</th>\n",
       "      <td>2010</td>\n",
       "      <td>23</td>\n",
       "      <td>03</td>\n",
       "      <td>NaN</td>\n",
       "      <td>BCD</td>\n",
       "      <td>11:41.53N</td>\n",
       "      <td>066:05.38E</td>\n",
       "      <td>Bulk Carrier</td>\n",
       "      <td>Malta</td>\n",
       "      <td>Steaming</td>\n",
       "      <td>...</td>\n",
       "      <td>0</td>\n",
       "      <td>929.851019</td>\n",
       "      <td>Vehicle Carrier</td>\n",
       "      <td>A</td>\n",
       "      <td>NaN</td>\n",
       "      <td>NaN</td>\n",
       "      <td>AC</td>\n",
       "      <td>2010-03</td>\n",
       "      <td>2</td>\n",
       "      <td>2</td>\n",
       "    </tr>\n",
       "    <tr>\n",
       "      <th>4</th>\n",
       "      <td>2010</td>\n",
       "      <td>23</td>\n",
       "      <td>03</td>\n",
       "      <td>NaN</td>\n",
       "      <td>BCD</td>\n",
       "      <td>17:28N</td>\n",
       "      <td>056:42E</td>\n",
       "      <td>Refrigerated Cargo</td>\n",
       "      <td>Bermuda</td>\n",
       "      <td>Steaming</td>\n",
       "      <td>...</td>\n",
       "      <td>0</td>\n",
       "      <td>291.087286</td>\n",
       "      <td>Vehicle Carrier</td>\n",
       "      <td>A</td>\n",
       "      <td>NaN</td>\n",
       "      <td>NaN</td>\n",
       "      <td>V</td>\n",
       "      <td>2010-03</td>\n",
       "      <td>2</td>\n",
       "      <td>2</td>\n",
       "    </tr>\n",
       "  </tbody>\n",
       "</table>\n",
       "<p>5 rows × 36 columns</p>\n",
       "</div>"
      ],
      "text/plain": [
       "   Annee (0) jour (0) mois (0)  dist �_ la c��te (nq) zone    lat (0)  \\\n",
       "0       2010       01       01                    NaN  BCD     10:47N   \n",
       "1       2010       03       03                    NaN  BCD     05:14S   \n",
       "2       2010       05       03                    NaN  BCD     09:35S   \n",
       "3       2010       23       03                    NaN  BCD  11:41.53N   \n",
       "4       2010       23       03                    NaN  BCD     17:28N   \n",
       "\n",
       "      long(0)             type(0)          pavillon statut de l'attaque(0)  \\\n",
       "0     061:37E     Vehicle Carrier    United Kingdom               Steaming   \n",
       "1     042:37E      Fishing Vessel             Kenya               Steaming   \n",
       "2     044:18E     Chemical Tanker  Marshall Islands               Steaming   \n",
       "3  066:05.38E        Bulk Carrier             Malta               Steaming   \n",
       "4     056:42E  Refrigerated Cargo           Bermuda               Steaming   \n",
       "\n",
       "     ...    mousson  distance au port         new_type  large_area  lat_area  \\\n",
       "0    ...          0       1067.512949  Vehicle Carrier           A       NaN   \n",
       "1    ...          0        353.541684           Vessel           I       NaN   \n",
       "2    ...          0        455.926794           Tanker           I       NaN   \n",
       "3    ...          0        929.851019  Vehicle Carrier           A       NaN   \n",
       "4    ...          0        291.087286  Vehicle Carrier           A       NaN   \n",
       "\n",
       "   lon_area  area_by_hand     date  fortnight  activity  \n",
       "0       NaN            AA  2010-01          1         2  \n",
       "1       NaN            AP  2010-03          1         2  \n",
       "2       NaN            AP  2010-03          1         2  \n",
       "3       NaN            AC  2010-03          2         2  \n",
       "4       NaN             V  2010-03          2         2  \n",
       "\n",
       "[5 rows x 36 columns]"
      ]
     },
     "execution_count": 23,
     "metadata": {},
     "output_type": "execute_result"
    }
   ],
   "source": [
    "df.head()"
   ]
  },
  {
   "cell_type": "code",
   "execution_count": 24,
   "metadata": {
    "collapsed": false
   },
   "outputs": [
    {
     "name": "stdout",
     "output_type": "stream",
     "text": [
      "['AA' 'AP' 'AC' 'V' 'Z' 'AF' 'AL' 'AM' 'AG' 'AJ' 'W' 'M' 'AB' 'L' 'X' 'Y'\n",
      " 'S' 'AN' 'H' 'I' 'G' 'J' 'C' 'AI' 'AQ' 'T' 'AO' 'D' 'F' 'K' 'E' 'A' 'B'\n",
      " 'AH' 'AE' 'R' 'N' 'O' 'P' 'AR']\n"
     ]
    }
   ],
   "source": [
    "print df[\"area_by_hand\"].unique()"
   ]
  },
  {
   "cell_type": "code",
   "execution_count": 25,
   "metadata": {
    "collapsed": true
   },
   "outputs": [],
   "source": [
    "dfAgregateByArea=pd.DataFrame({'count' : df.groupby( [ \"Annee (0)\",\"mois (0)\",\"area_by_hand\",\"fortnight\",\"new_type\"] ).size()}).reset_index()"
   ]
  },
  {
   "cell_type": "code",
   "execution_count": 26,
   "metadata": {
    "collapsed": false
   },
   "outputs": [
    {
     "name": "stdout",
     "output_type": "stream",
     "text": [
      "   Annee (0) mois (0) area_by_hand  fortnight         new_type  count\n",
      "0       2008       02           AL          1  Vehicle Carrier      1\n",
      "1       2008       02           AP          1            Other      1\n",
      "2       2008       02            K          1           Tanker      1\n",
      "3       2008       02            K          1              Tug      1\n",
      "4       2008       03           AI          1            Other      1\n",
      "5       2008       03           AP          1            Other      1\n",
      "6       2008       03           AP          2            Other      1\n",
      "7       2008       03            J          2           Tanker      1\n",
      "8       2008       03            K          2  Vehicle Carrier      1\n",
      "9       2008       03            M          2           Vessel      1\n",
      "883\n"
     ]
    }
   ],
   "source": [
    "print dfAgregateByArea.head(10)\n",
    "print dfAgregateByArea[\"count\"].sum()"
   ]
  },
  {
   "cell_type": "markdown",
   "metadata": {},
   "source": [
    "### Creation empty dataframe"
   ]
  },
  {
   "cell_type": "code",
   "execution_count": 27,
   "metadata": {
    "collapsed": false,
    "scrolled": true
   },
   "outputs": [
    {
     "name": "stdout",
     "output_type": "stream",
     "text": [
      "[2008 2008 2008 2008 2008 2008 2008 2008 2008 2008 2008 2008 2008 2008 2008\n",
      " 2008 2008 2008 2008 2008 2008 2008 2008 2008 2008 2008 2008 2008 2008 2008\n",
      " 2008 2008 2008 2008 2008 2008 2008 2008 2008 2008 2008 2008 2008 2008 2008\n",
      " 2008 2008 2008 2008 2008 2008 2008 2008 2008 2008 2008 2008 2008 2008 2008\n",
      " 2008 2008 2008 2008 2008 2008 2008 2008 2008 2008 2008 2008 2008 2008 2008\n",
      " 2008 2008 2008 2008 2008 2008 2008 2008 2008 2008 2008 2008 2008 2008 2008\n",
      " 2008 2008 2008 2008 2008 2008 2008 2008 2008 2008]\n",
      "[ 1.  1.  1.  1.  1.  1.  1.  1.  1.  1.  1.  1.  1.  1.  1.  1.  1.  1.\n",
      "  1.  1.  1.  1.  1.  1.  1.  1.  1.  1.  1.  1.  1.  1.  1.  1.  1.  1.\n",
      "  1.  1.  1.  1.  1.  1.  1.  1.  1.  1.  1.  1.  1.  1.  1.  1.  1.  1.\n",
      "  1.  1.  1.  1.  1.  1.  1.  1.  1.  1.  1.  1.  1.  1.  1.  1.  1.  1.\n",
      "  1.  1.  1.  1.  1.  1.  1.  1.  1.  1.  1.  1.  1.  1.  1.  1.  1.  1.\n",
      "  1.  1.  1.  1.  1.  1.  1.  1.  1.  1.  1.  1.  1.  1.  1.  1.  1.  1.\n",
      "  1.  1.  1.  1.  1.  1.  1.  1.  1.  1.  1.  1.  1.  1.  1.  1.  1.  1.\n",
      "  1.  1.  1.  1.  1.  1.  1.  1.  1.  1.  1.  1.  1.  1.  1.  1.  1.  1.\n",
      "  1.  1.  1.  1.  1.  1.  1.  1.  1.  1.  1.  1.  1.  1.  1.  1.  1.  1.\n",
      "  1.  1.  1.  1.  1.  1.  1.  1.  1.  1.  1.  1.  1.  1.  1.  1.  1.  1.\n",
      "  1.  1.  1.  1.  1.  1.  1.  1.  1.  1.  1.  1.  1.  1.  1.  1.  1.  1.\n",
      "  1.  1.]\n",
      "['A' 'AA' 'AB' 'AC' 'AE' 'AF' 'AG' 'AH' 'AI' 'AJ' 'AL' 'AM' 'AN' 'AO' 'AP'\n",
      " 'AQ' 'AR' 'B' 'C' 'D' 'E' 'F' 'G' 'H' 'I' 'J' 'K' 'L' 'M' 'N' 'O' 'P' 'R'\n",
      " 'S' 'T' 'V' 'W' 'X' 'Y' 'Z' 'A' 'AA' 'AB' 'AC' 'AE' 'AF' 'AG' 'AH' 'AI'\n",
      " 'AJ' 'AL' 'AM' 'AN' 'AO' 'AP' 'AQ' 'AR' 'B' 'C' 'D' 'E' 'F' 'G' 'H' 'I'\n",
      " 'J' 'K' 'L' 'M' 'N' 'O' 'P' 'R' 'S' 'T' 'V' 'W' 'X' 'Y' 'Z' 'A' 'AA' 'AB'\n",
      " 'AC' 'AE' 'AF' 'AG' 'AH' 'AI' 'AJ' 'AL' 'AM' 'AN' 'AO' 'AP' 'AQ' 'AR' 'B'\n",
      " 'C' 'D' 'E' 'F' 'G' 'H' 'I' 'J' 'K' 'L' 'M' 'N' 'O' 'P' 'R' 'S' 'T' 'V'\n",
      " 'W' 'X' 'Y' 'Z' 'A' 'AA' 'AB' 'AC' 'AE' 'AF' 'AG' 'AH' 'AI' 'AJ' 'AL' 'AM'\n",
      " 'AN' 'AO' 'AP' 'AQ' 'AR' 'B' 'C' 'D' 'E' 'F' 'G' 'H' 'I' 'J' 'K' 'L' 'M'\n",
      " 'N' 'O' 'P' 'R' 'S' 'T' 'V' 'W' 'X' 'Y' 'Z' 'A' 'AA' 'AB' 'AC' 'AE' 'AF'\n",
      " 'AG' 'AH' 'AI' 'AJ' 'AL' 'AM' 'AN' 'AO' 'AP' 'AQ' 'AR' 'B' 'C' 'D' 'E' 'F'\n",
      " 'G' 'H' 'I' 'J' 'K' 'L' 'M' 'N' 'O' 'P' 'R' 'S' 'T' 'V' 'W' 'X' 'Y' 'Z']\n",
      "['Vehicle Carrier' 'Vehicle Carrier' 'Vehicle Carrier' 'Vehicle Carrier'\n",
      " 'Vehicle Carrier' 'Vehicle Carrier' 'Vehicle Carrier' 'Vehicle Carrier'\n",
      " 'Vehicle Carrier' 'Vehicle Carrier' 'Vehicle Carrier' 'Vehicle Carrier'\n",
      " 'Vehicle Carrier' 'Vehicle Carrier' 'Vehicle Carrier' 'Vehicle Carrier'\n",
      " 'Vehicle Carrier' 'Vehicle Carrier' 'Vehicle Carrier' 'Vehicle Carrier'\n",
      " 'Vehicle Carrier' 'Vehicle Carrier' 'Vehicle Carrier' 'Vehicle Carrier'\n",
      " 'Vehicle Carrier' 'Vehicle Carrier' 'Vehicle Carrier' 'Vehicle Carrier'\n",
      " 'Vehicle Carrier' 'Vehicle Carrier' 'Vehicle Carrier' 'Vehicle Carrier'\n",
      " 'Vehicle Carrier' 'Vehicle Carrier' 'Vehicle Carrier' 'Vehicle Carrier'\n",
      " 'Vehicle Carrier' 'Vehicle Carrier' 'Vehicle Carrier' 'Vehicle Carrier'\n",
      " 'Vehicle Carrier' 'Vehicle Carrier' 'Vehicle Carrier' 'Vehicle Carrier'\n",
      " 'Vehicle Carrier' 'Vehicle Carrier' 'Vehicle Carrier' 'Vehicle Carrier'\n",
      " 'Vehicle Carrier' 'Vehicle Carrier' 'Vehicle Carrier' 'Vehicle Carrier'\n",
      " 'Vehicle Carrier' 'Vehicle Carrier' 'Vehicle Carrier' 'Vehicle Carrier'\n",
      " 'Vehicle Carrier' 'Vehicle Carrier' 'Vehicle Carrier' 'Vehicle Carrier'\n",
      " 'Vehicle Carrier' 'Vehicle Carrier' 'Vehicle Carrier' 'Vehicle Carrier'\n",
      " 'Vehicle Carrier' 'Vehicle Carrier' 'Vehicle Carrier' 'Vehicle Carrier'\n",
      " 'Vehicle Carrier' 'Vehicle Carrier' 'Vehicle Carrier' 'Vehicle Carrier'\n",
      " 'Vehicle Carrier' 'Vehicle Carrier' 'Vehicle Carrier' 'Vehicle Carrier'\n",
      " 'Vehicle Carrier' 'Vehicle Carrier' 'Vehicle Carrier' 'Vehicle Carrier'\n",
      " 'Other' 'Other' 'Other' 'Other' 'Other' 'Other' 'Other' 'Other' 'Other'\n",
      " 'Other' 'Other' 'Other' 'Other' 'Other' 'Other' 'Other' 'Other' 'Other'\n",
      " 'Other' 'Other' 'Other' 'Other' 'Other' 'Other' 'Other' 'Other' 'Other'\n",
      " 'Other' 'Other' 'Other' 'Other' 'Other' 'Other' 'Other' 'Other' 'Other'\n",
      " 'Other' 'Other' 'Other' 'Other' 'Other' 'Other' 'Other' 'Other' 'Other'\n",
      " 'Other' 'Other' 'Other' 'Other' 'Other' 'Other' 'Other' 'Other' 'Other'\n",
      " 'Other' 'Other' 'Other' 'Other' 'Other' 'Other' 'Other' 'Other' 'Other'\n",
      " 'Other' 'Other' 'Other' 'Other' 'Other' 'Other' 'Other' 'Other' 'Other'\n",
      " 'Other' 'Other' 'Other' 'Other' 'Other' 'Other' 'Other' 'Other' 'Tanker'\n",
      " 'Tanker' 'Tanker' 'Tanker' 'Tanker' 'Tanker' 'Tanker' 'Tanker' 'Tanker'\n",
      " 'Tanker' 'Tanker' 'Tanker' 'Tanker' 'Tanker' 'Tanker' 'Tanker' 'Tanker'\n",
      " 'Tanker' 'Tanker' 'Tanker' 'Tanker' 'Tanker' 'Tanker' 'Tanker' 'Tanker'\n",
      " 'Tanker' 'Tanker' 'Tanker' 'Tanker' 'Tanker' 'Tanker' 'Tanker' 'Tanker'\n",
      " 'Tanker' 'Tanker' 'Tanker' 'Tanker' 'Tanker' 'Tanker' 'Tanker']\n",
      "60480\n",
      "60480\n",
      "60480\n",
      "60480\n",
      "60480\n"
     ]
    }
   ],
   "source": [
    "uniqueArea=sorted(dfAgregateByArea[\"area_by_hand\"].unique())\n",
    "uniqueYears=dfAgregateByArea['Annee (0)'].unique()\n",
    "uniqueTypeBoat=dfAgregateByArea['new_type'].unique()\n",
    "uniqueMonth=np.linspace(1, 12, num=12)\n",
    "uniqueBinary=np.linspace(1, 2, num=2)\n",
    "\n",
    "\n",
    "\n",
    "ColYears=np.repeat(uniqueYears,len(uniqueMonth)*len(uniqueTypeBoat)*len(uniqueArea)*len(uniqueBinary))\n",
    "ColMonth=np.tile(np.repeat(uniqueMonth,len(uniqueArea)*len(uniqueBinary)*len(uniqueTypeBoat)), len(uniqueYears))\n",
    "ColArea=np.tile(uniqueArea,len(uniqueMonth)*len(uniqueTypeBoat)*len(uniqueBinary)*len(uniqueYears))\n",
    "\n",
    "ColType=np.tile(np.repeat(uniqueTypeBoat,len(uniqueArea)*len(uniqueBinary)),len(uniqueMonth)*len(uniqueYears))\n",
    "\n",
    "ColFortnight=np.tile(np.repeat(uniqueBinary, len(uniqueArea)),len(uniqueMonth)*len(uniqueTypeBoat)*len(uniqueYears))\n",
    "ColCount=np.repeat(0, len(ColFortnight))\n",
    "\n",
    "\n",
    "print ColYears[0:100]\n",
    "print ColMonth[0:200]\n",
    "print ColArea[0:200]\n",
    "print ColType[0:200]\n",
    "\n",
    "print len(ColYears)\n",
    "print len(ColMonth)\n",
    "print len(ColArea)\n",
    "print len(ColType)\n",
    "\n",
    "print len(ColFortnight)\n"
   ]
  },
  {
   "cell_type": "code",
   "execution_count": 28,
   "metadata": {
    "collapsed": false
   },
   "outputs": [
    {
     "name": "stdout",
     "output_type": "stream",
     "text": [
      "   Area  Count  Fortnight  Month             Type  Years\n",
      "0     A      0          1      1  Vehicle Carrier   2008\n",
      "1    AA      0          1      1  Vehicle Carrier   2008\n",
      "2    AB      0          1      1  Vehicle Carrier   2008\n",
      "3    AC      0          1      1  Vehicle Carrier   2008\n",
      "4    AE      0          1      1  Vehicle Carrier   2008\n",
      "5    AF      0          1      1  Vehicle Carrier   2008\n",
      "6    AG      0          1      1  Vehicle Carrier   2008\n",
      "7    AH      0          1      1  Vehicle Carrier   2008\n",
      "8    AI      0          1      1  Vehicle Carrier   2008\n",
      "9    AJ      0          1      1  Vehicle Carrier   2008\n",
      "10   AL      0          1      1  Vehicle Carrier   2008\n",
      "11   AM      0          1      1  Vehicle Carrier   2008\n",
      "12   AN      0          1      1  Vehicle Carrier   2008\n",
      "13   AO      0          1      1  Vehicle Carrier   2008\n",
      "14   AP      0          1      1  Vehicle Carrier   2008\n",
      "15   AQ      0          1      1  Vehicle Carrier   2008\n",
      "16   AR      0          1      1  Vehicle Carrier   2008\n",
      "17    B      0          1      1  Vehicle Carrier   2008\n",
      "18    C      0          1      1  Vehicle Carrier   2008\n",
      "19    D      0          1      1  Vehicle Carrier   2008\n",
      "20    E      0          1      1  Vehicle Carrier   2008\n",
      "21    F      0          1      1  Vehicle Carrier   2008\n",
      "22    G      0          1      1  Vehicle Carrier   2008\n",
      "23    H      0          1      1  Vehicle Carrier   2008\n",
      "24    I      0          1      1  Vehicle Carrier   2008\n",
      "25    J      0          1      1  Vehicle Carrier   2008\n",
      "26    K      0          1      1  Vehicle Carrier   2008\n",
      "27    L      0          1      1  Vehicle Carrier   2008\n",
      "28    M      0          1      1  Vehicle Carrier   2008\n",
      "29    N      0          1      1  Vehicle Carrier   2008\n",
      "30    O      0          1      1  Vehicle Carrier   2008\n",
      "31    P      0          1      1  Vehicle Carrier   2008\n",
      "32    R      0          1      1  Vehicle Carrier   2008\n",
      "33    S      0          1      1  Vehicle Carrier   2008\n",
      "34    T      0          1      1  Vehicle Carrier   2008\n",
      "35    V      0          1      1  Vehicle Carrier   2008\n",
      "36    W      0          1      1  Vehicle Carrier   2008\n",
      "37    X      0          1      1  Vehicle Carrier   2008\n",
      "38    Y      0          1      1  Vehicle Carrier   2008\n",
      "39    Z      0          1      1  Vehicle Carrier   2008\n",
      "40    A      0          2      1  Vehicle Carrier   2008\n",
      "41   AA      0          2      1  Vehicle Carrier   2008\n",
      "42   AB      0          2      1  Vehicle Carrier   2008\n",
      "43   AC      0          2      1  Vehicle Carrier   2008\n",
      "44   AE      0          2      1  Vehicle Carrier   2008\n",
      "45   AF      0          2      1  Vehicle Carrier   2008\n",
      "46   AG      0          2      1  Vehicle Carrier   2008\n",
      "47   AH      0          2      1  Vehicle Carrier   2008\n",
      "48   AI      0          2      1  Vehicle Carrier   2008\n",
      "49   AJ      0          2      1  Vehicle Carrier   2008\n"
     ]
    }
   ],
   "source": [
    "dic = {'Years': ColYears,'Month': ColMonth,'Fortnight': ColFortnight, 'Area': ColArea,'Type':ColType,'Count': ColCount}\n",
    "dfFinalArea= pd.DataFrame(dic)\n",
    "print dfFinalArea.head(50)"
   ]
  },
  {
   "cell_type": "markdown",
   "metadata": {},
   "source": [
    "### Fill dataframe"
   ]
  },
  {
   "cell_type": "code",
   "execution_count": 29,
   "metadata": {
    "collapsed": false,
    "scrolled": true
   },
   "outputs": [],
   "source": [
    "for index, row in dfAgregateByArea.iterrows():\n",
    "    #print \"---------------------------------------------------------\" \n",
    "    \n",
    "    idx=dfFinalArea[(dfFinalArea['Years']==row['Annee (0)']) & (dfFinalArea['Area']==row['area_by_hand']) \n",
    "                    & (dfFinalArea['Type']==row['new_type'])& (dfFinalArea['Fortnight']==row['fortnight'])\n",
    "                    & (dfFinalArea['Month']==int(row[\"mois (0)\"]))]\n",
    "    #print len(idx)\n",
    "    dfFinalArea.set_value(idx.index.values, \"Count\",row['count'])\n",
    "\n",
    "#print dfFinalArea.head(40)\n",
    "#print dfFinalArea[\"Count\"].sum()"
   ]
  },
  {
   "cell_type": "code",
   "execution_count": 30,
   "metadata": {
    "collapsed": false
   },
   "outputs": [
    {
     "name": "stdout",
     "output_type": "stream",
     "text": [
      "  Area  Count  Fortnight  Month             Type  Years  Activity\n",
      "0    A      0          1      1  Vehicle Carrier   2008         2\n",
      "1   AA      0          1      1  Vehicle Carrier   2008         2\n",
      "2   AB      0          1      1  Vehicle Carrier   2008         2\n",
      "3   AC      0          1      1  Vehicle Carrier   2008         2\n",
      "4   AE      0          1      1  Vehicle Carrier   2008         2\n",
      "60480\n"
     ]
    }
   ],
   "source": [
    "def getActivity(Years):\n",
    "    activity=1\n",
    "    if Years<2013:\n",
    "        activity=2     \n",
    "    return activity\n",
    "\n",
    "dfFinalArea[\"Activity\"]=dfFinalArea.apply(lambda row: getActivity(row['Years']), axis=1)\n",
    "print dfFinalArea.head()\n",
    "print len(dfFinalArea)"
   ]
  },
  {
   "cell_type": "markdown",
   "metadata": {},
   "source": [
    "  \n",
    "  \n",
    "  \n",
    "  "
   ]
  },
  {
   "cell_type": "code",
   "execution_count": 31,
   "metadata": {
    "collapsed": true
   },
   "outputs": [],
   "source": [
    "dfFinalArea.to_csv(\"../data/aden_golfe_matrix_area_hand.csv\",sep=';', encoding='utf-8', index=False)"
   ]
  },
  {
   "cell_type": "markdown",
   "metadata": {},
   "source": [
    "  \n",
    "  \n",
    "  \n",
    "  "
   ]
  },
  {
   "cell_type": "markdown",
   "metadata": {},
   "source": [
    "  \n",
    "  \n",
    "  \n",
    "  "
   ]
  },
  {
   "cell_type": "markdown",
   "metadata": {},
   "source": [
    "  \n",
    "  \n",
    "  \n",
    "  "
   ]
  },
  {
   "cell_type": "markdown",
   "metadata": {},
   "source": [
    "  \n",
    "  \n",
    "  \n",
    "  "
   ]
  },
  {
   "cell_type": "markdown",
   "metadata": {},
   "source": [
    "# Version 2 : group by Date, type attack"
   ]
  },
  {
   "cell_type": "code",
   "execution_count": 6,
   "metadata": {
    "collapsed": false
   },
   "outputs": [
    {
     "name": "stdout",
     "output_type": "stream",
     "text": [
      "         date         new_type  count\n",
      "0  2008-02-01           Tanker      1\n",
      "1  2008-02-01              Tug      1\n",
      "2  2008-03-01           Tanker      1\n",
      "3  2008-03-01  Vehicle Carrier      1\n",
      "4  2008-03-01           Vessel      1\n",
      "5  2008-04-01           Tanker      2\n",
      "6  2008-04-01  Vehicle Carrier      2\n",
      "7  2008-04-01           Vessel      2\n",
      "8  2008-05-01            Other      1\n",
      "9  2008-05-01           Tanker      1\n"
     ]
    }
   ],
   "source": [
    "dfAgregateTotalType=pd.DataFrame({'count' : df.groupby( [ \"date\",\"new_type\"] ).size()}).reset_index()\n",
    "dfAgregateTotalType[\"date\"]=dfAgregateTotalType[\"date\"]+\"-01\"\n",
    "print dfAgregateTotalType.head(10)"
   ]
  },
  {
   "cell_type": "code",
   "execution_count": 7,
   "metadata": {
    "collapsed": false
   },
   "outputs": [
    {
     "name": "stdout",
     "output_type": "stream",
     "text": [
      "   Barge  Offshore Exploitation  Other  Tanker  Tug  Vehicle Carrier  Vessel  \\\n",
      "0      0                      0      0       0    0                0       0   \n",
      "1      0                      0      0       0    0                0       0   \n",
      "2      0                      0      0       0    0                0       0   \n",
      "3      0                      0      0       0    0                0       0   \n",
      "4      0                      0      0       0    0                0       0   \n",
      "\n",
      "         date  \n",
      "0  2008-01-01  \n",
      "1  2008-02-01  \n",
      "2  2008-03-01  \n",
      "3  2008-04-01  \n",
      "4  2008-05-01  \n"
     ]
    }
   ],
   "source": [
    "max_month=12\n",
    "unique_years=sorted(df[\"Annee (0)\"].unique())\n",
    "unique_type=sorted(dfAgregateTotalType[\"new_type\"].unique())\n",
    "month_repeat=np.linspace(1, max_month, num=max_month)\n",
    "\n",
    "colYears=np.repeat(unique_years, max_month)\n",
    "colMonth=np.tile(month_repeat, len(unique_years))\n",
    "                               \n",
    "dic2 = {'Years': colYears, 'Month': colMonth}\n",
    "dfGlobale = pd.DataFrame(dic2)\n",
    "\n",
    "for i in range(0,len(unique_type)):\n",
    "    nameColLat=str(unique_type[i])\n",
    "    dfGlobale[nameColLat]=0\n",
    "\n",
    "\n",
    "dfGlobale.head()\n",
    "dfGlobale[\"Month\"]=dfGlobale.apply(lambda row: monthCorrect(row['Month']), axis=1)\n",
    "dfGlobale[\"date\"]=dfGlobale.apply(lambda row: str(row[\"Years\"]) +\"-\"+ str(row[\"Month\"])+\"-01\", axis=1)\n",
    "dfGlobale = dfGlobale.drop('Month', 1)                            \n",
    "dfGlobale = dfGlobale.drop('Years', 1)\n",
    "print dfGlobale.head()"
   ]
  },
  {
   "cell_type": "markdown",
   "metadata": {},
   "source": [
    "# Fill matrice"
   ]
  },
  {
   "cell_type": "code",
   "execution_count": 8,
   "metadata": {
    "collapsed": false
   },
   "outputs": [
    {
     "name": "stdout",
     "output_type": "stream",
     "text": [
      "    Barge  Offshore Exploitation  Other  Tanker  Tug  Vehicle Carrier  Vessel  \\\n",
      "0       0                      0      0       0    0                0       0   \n",
      "1       0                      0      0       1    1                0       0   \n",
      "2       0                      0      0       1    0                1       1   \n",
      "3       0                      0      0       2    0                2       2   \n",
      "4       0                      0      1       1    0                4       0   \n",
      "5       0                      0      1       0    0                1       0   \n",
      "6       0                      0      1       1    0                2       0   \n",
      "7       0                      0      0       3    0                6       0   \n",
      "8       1                      0      2       7    0                9       0   \n",
      "9       0                      0      2       7    0                7       0   \n",
      "10      0                      0      1       8    0                6       1   \n",
      "11      0                      0      1       2    1                6       0   \n",
      "12      0                      0      2       7    0               10       0   \n",
      "13      0                      0      0       3    0                6       0   \n",
      "14      1                      0      1       5    0                6       0   \n",
      "15      0                      0      1       2    1               13       0   \n",
      "16      0                      0      0      11    0               11       0   \n",
      "17      0                      0      0       9    0                4       0   \n",
      "18      0                      0      0       1    0                1       0   \n",
      "19      0                      0      0       0    0                4       0   \n",
      "20      0                      0      1       2    0                6       0   \n",
      "21      0                      0      0       1    0                4       0   \n",
      "22      0                      0      0       0    0                7       0   \n",
      "23      0                      0      0       2    0                1       0   \n",
      "24      0                      0      0       2    0                1       0   \n",
      "25      0                      0      0       1    0                2       0   \n",
      "26      0                      0      0       6    0                2       0   \n",
      "27      0                      0      1       3    0                3       0   \n",
      "28      0                      0      2       3    0                2       0   \n",
      "29      0                      0      2       7    0                5       0   \n",
      "..    ...                    ...    ...     ...  ...              ...     ...   \n",
      "54      0                      0      0       0    0                1       0   \n",
      "55      0                      0      0       0    0                0       0   \n",
      "56      0                      0      0       0    0                0       0   \n",
      "57      0                      0      0       0    0                0       0   \n",
      "58      0                      0      0       0    0                0       0   \n",
      "59      0                      0      0       0    0                1       0   \n",
      "60      0                      0      0       0    0                0       0   \n",
      "61      0                      0      0       0    0                0       0   \n",
      "62      0                      0      0       2    0                0       1   \n",
      "63      0                      0      0       0    0                0       0   \n",
      "64      0                      0      0       0    0                1       0   \n",
      "65      0                      0      1       0    0                0       0   \n",
      "66      0                      0      0       1    0                1       0   \n",
      "67      0                      0      0       0    0                0       0   \n",
      "68      0                      0      0       0    0                0       0   \n",
      "69      0                      0      0       0    0                0       0   \n",
      "70      0                      0      0       0    0                0       0   \n",
      "71      0                      0      0       1    0                1       0   \n",
      "72      0                      0      0       1    0                0       0   \n",
      "73      0                      0      0       0    0                1       0   \n",
      "74      0                      0      0       1    0                1       0   \n",
      "75      0                      0      0       3    0                1       0   \n",
      "76      0                      0      0       0    0                0       0   \n",
      "77      0                      0      0       0    0                0       0   \n",
      "78      0                      0      0       0    0                0       0   \n",
      "79      0                      0      0       0    0                1       0   \n",
      "80      0                      0      0       0    0                0       0   \n",
      "81      0                      0      0       0    0                0       0   \n",
      "82      0                      0      0       0    0                0       0   \n",
      "83      0                      0      0       0    0                1       0   \n",
      "\n",
      "          date  \n",
      "0   2008-01-01  \n",
      "1   2008-02-01  \n",
      "2   2008-03-01  \n",
      "3   2008-04-01  \n",
      "4   2008-05-01  \n",
      "5   2008-06-01  \n",
      "6   2008-07-01  \n",
      "7   2008-08-01  \n",
      "8   2008-09-01  \n",
      "9   2008-10-01  \n",
      "10  2008-11-01  \n",
      "11  2008-12-01  \n",
      "12  2009-01-01  \n",
      "13  2009-02-01  \n",
      "14  2009-03-01  \n",
      "15  2009-04-01  \n",
      "16  2009-05-01  \n",
      "17  2009-06-01  \n",
      "18  2009-07-01  \n",
      "19  2009-08-01  \n",
      "20  2009-09-01  \n",
      "21  2009-10-01  \n",
      "22  2009-11-01  \n",
      "23  2009-12-01  \n",
      "24  2010-01-01  \n",
      "25  2010-02-01  \n",
      "26  2010-03-01  \n",
      "27  2010-04-01  \n",
      "28  2010-05-01  \n",
      "29  2010-06-01  \n",
      "..         ...  \n",
      "54  2012-07-01  \n",
      "55  2012-08-01  \n",
      "56  2012-09-01  \n",
      "57  2012-10-01  \n",
      "58  2012-11-01  \n",
      "59  2012-12-01  \n",
      "60  2013-01-01  \n",
      "61  2013-02-01  \n",
      "62  2013-03-01  \n",
      "63  2013-04-01  \n",
      "64  2013-05-01  \n",
      "65  2013-06-01  \n",
      "66  2013-07-01  \n",
      "67  2013-08-01  \n",
      "68  2013-09-01  \n",
      "69  2013-10-01  \n",
      "70  2013-11-01  \n",
      "71  2013-12-01  \n",
      "72  2014-01-01  \n",
      "73  2014-02-01  \n",
      "74  2014-03-01  \n",
      "75  2014-04-01  \n",
      "76  2014-05-01  \n",
      "77  2014-06-01  \n",
      "78  2014-07-01  \n",
      "79  2014-08-01  \n",
      "80  2014-09-01  \n",
      "81  2014-10-01  \n",
      "82  2014-11-01  \n",
      "83  2014-12-01  \n",
      "\n",
      "[84 rows x 8 columns]\n"
     ]
    }
   ],
   "source": [
    "for index, row in dfAgregateTotalType.iterrows():\n",
    "    #print 'Years '+str(row['Annee (0)']),'2_week : '+str( row['quinzaine_week']),'count : '+str(row['count'])#,'type_attack : '+str(row['type d\\'attaque(0)'])\n",
    "\n",
    "    idx=dfGlobale[(dfGlobale['date']==row['date'])]\n",
    "    dfGlobale.set_value(idx.index.values, str(row[\"new_type\"]),row['count'])\n",
    "\n",
    "print dfGlobale.head(100)"
   ]
  },
  {
   "cell_type": "code",
   "execution_count": 9,
   "metadata": {
    "collapsed": false
   },
   "outputs": [],
   "source": [
    "dfGlobale.to_csv(\"../data/aden_golfe_matrix_global.csv\",sep=';', encoding='utf-8', index=False)"
   ]
  },
  {
   "cell_type": "code",
   "execution_count": null,
   "metadata": {
    "collapsed": true
   },
   "outputs": [],
   "source": []
  }
 ],
 "metadata": {
  "kernelspec": {
   "display_name": "Python 2",
   "language": "python",
   "name": "python2"
  },
  "language_info": {
   "codemirror_mode": {
    "name": "ipython",
    "version": 2
   },
   "file_extension": ".py",
   "mimetype": "text/x-python",
   "name": "python",
   "nbconvert_exporter": "python",
   "pygments_lexer": "ipython2",
   "version": "2.7.11"
  }
 },
 "nbformat": 4,
 "nbformat_minor": 0
}
