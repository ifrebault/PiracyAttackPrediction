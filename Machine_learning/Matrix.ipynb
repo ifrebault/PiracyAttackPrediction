{
 "cells": [
  {
   "cell_type": "code",
   "execution_count": 44,
   "metadata": {
    "collapsed": true
   },
   "outputs": [],
   "source": [
    "import numpy as np\n",
    "import pandas as pd\n",
    "from sklearn.preprocessing import label_binarize"
   ]
  },
  {
   "cell_type": "code",
   "execution_count": 45,
   "metadata": {
    "collapsed": false
   },
   "outputs": [],
   "source": [
    "df = pd.read_csv('../data/aden_golfe.csv',sep=';')"
   ]
  },
  {
   "cell_type": "code",
   "execution_count": 46,
   "metadata": {
    "collapsed": false
   },
   "outputs": [
    {
     "name": "stdout",
     "output_type": "stream",
     "text": [
      "   Annee (0)  jour (0)  mois (0)  dist �_ la c��te (nq) zone lat (0)  long(0)  \\\n",
      "0       2010        28        10                    NaN  BCD  12:08N  054:25E   \n",
      "1       2010        30        10                    NaN  BCD  15:06N  055:58E   \n",
      "2       2010         1         1                    NaN  BCD  12:31N  047:18E   \n",
      "3       2010         3         2                    NaN  BCD  13:04N  047:04E   \n",
      "4       2010         5         2                    NaN  BCD  13:00N  048:45E   \n",
      "\n",
      "           type(0)           pavillon statut de l'attaque(0)      ...       \\\n",
      "0             Dhow         Not Stated               Steaming      ...        \n",
      "1     Bulk Carrier              Malta               Steaming      ...        \n",
      "2  Chemical Tanker          Singapore               Steaming      ...        \n",
      "3    General Cargo        North Korea               Steaming      ...        \n",
      "4     Bulk Carrier  Antigua & Barbuda               Steaming      ...        \n",
      "\n",
      "    latitude  longitude  quinzaine_week  \\\n",
      "0  12.133333  54.416667              20   \n",
      "1  15.100000  55.966667              20   \n",
      "2  12.516667  47.300000               1   \n",
      "3  13.066667  47.066667               3   \n",
      "4  13.000000  48.750000               3   \n",
      "\n",
      "                                       newDescriptif  Guns  mousson  \\\n",
      "0                           pirates hijacked a dhow.     0        0   \n",
      "1  armed pirates attacked and boarded the ship un...     0        0   \n",
      "2  pirates hijacked a tanker underway and took he...     0        0   \n",
      "3  armed pirates attacked and hijacked a ship and...     0        0   \n",
      "4  six pirates in a high-speed boat armed with ma...     1        0   \n",
      "\n",
      "   distance au port         new_type  large_area  area_by_hand  \n",
      "0        534.679104            Other           G             M  \n",
      "1        292.330113  Vehicle Carrier           G             L  \n",
      "2        259.217741           Tanker           G             H  \n",
      "3        233.133566  Vehicle Carrier           G             H  \n",
      "4        414.693842  Vehicle Carrier           G             I  \n",
      "\n",
      "[5 rows x 31 columns]\n"
     ]
    }
   ],
   "source": [
    "max_quinzaine=24\n",
    "max_area_lat=12\n",
    "max_area_lon=31\n",
    "number_grid=(max_area_lat+1)*(max_area_lon+1)\n",
    "print df.head()"
   ]
  },
  {
   "cell_type": "code",
   "execution_count": 47,
   "metadata": {
    "collapsed": true
   },
   "outputs": [],
   "source": [
    "def monthCorrect(month):\n",
    "    month=str(int(month))\n",
    "    if len(month)==1:\n",
    "        return '0'+month\n",
    "    else:\n",
    "        return month\n",
    "\n",
    "def fortnight(day):\n",
    "    if int(day) <15:\n",
    "        return 1\n",
    "    else:\n",
    "        return 2\n",
    "\n",
    "def activity(years):\n",
    "    if int(years) <2013:\n",
    "        return 2\n",
    "    else:\n",
    "        return 1\n",
    "    "
   ]
  },
  {
   "cell_type": "code",
   "execution_count": 48,
   "metadata": {
    "collapsed": false
   },
   "outputs": [],
   "source": [
    "df[\"mois (0)\"]=df.apply(lambda row: monthCorrect(row['mois (0)']), axis=1)\n",
    "df[\"jour (0)\"]=df.apply(lambda row: monthCorrect(row['jour (0)']), axis=1)\n",
    "df[\"date\"]=df.apply(lambda row: str(row[\"Annee (0)\"]) +\"-\"+ str(row[\"mois (0)\"]), axis=1)\n",
    "df[\"fortnight\"]=df.apply(lambda row: fortnight(row[\"jour (0)\"]), axis=1)\n",
    "df[\"activity\"]=df.apply(lambda row: fortnight(row[\"Annee (0)\"]), axis=1)"
   ]
  },
  {
   "cell_type": "markdown",
   "metadata": {},
   "source": [
    "# Version 1.1 : group by years, month, area"
   ]
  },
  {
   "cell_type": "code",
   "execution_count": 35,
   "metadata": {
    "collapsed": true
   },
   "outputs": [],
   "source": [
    "df['lat_area'] = df['lat_area'].astype(int)\n",
    "df['lon_area'] = df['lon_area'].astype(int)\n",
    "df['area'] = df.apply(lambda row: str(row['lat_area'])+'_'+str(row['lon_area']), axis=1)"
   ]
  },
  {
   "cell_type": "markdown",
   "metadata": {},
   "source": [
    "## Creation d'un data frame vide"
   ]
  },
  {
   "cell_type": "code",
   "execution_count": 36,
   "metadata": {
    "collapsed": false,
    "scrolled": true
   },
   "outputs": [],
   "source": [
    "dfAgregateTotal=pd.DataFrame({'count' : df.groupby( [ \"Annee (0)\",\"mois (0)\",\"area\"] ).size()}).reset_index()"
   ]
  },
  {
   "cell_type": "code",
   "execution_count": 37,
   "metadata": {
    "collapsed": false
   },
   "outputs": [
    {
     "name": "stdout",
     "output_type": "stream",
     "text": [
      "    Annee (0) mois (0)  area  count lat_area lon_area\n",
      "0        2008       02  2_12      2        2       12\n",
      "1        2008       03  1_13      1        1       13\n",
      "2        2008       03  2_11      1        2       11\n",
      "3        2008       03  3_11      1        3       11\n",
      "4        2008       04  2_10      1        2       10\n",
      "5        2008       04  2_11      1        2       11\n",
      "6        2008       04   2_9      1        2        9\n",
      "7        2008       04  3_10      2        3       10\n",
      "8        2008       04   3_9      1        3        9\n",
      "9        2008       05  2_11      2        2       11\n",
      "10       2008       05   2_8      1        2        8\n",
      "11       2008       05   2_9      2        2        9\n",
      "12       2008       05  3_11      1        3       11\n",
      "13       2008       06  2_10      1        2       10\n",
      "14       2008       06   2_8      1        2        8\n",
      "15       2008       07  2_10      1        2       10\n",
      "16       2008       07  2_11      1        2       11\n",
      "17       2008       07   2_3      1        2        3\n",
      "18       2008       07   3_9      1        3        9\n",
      "19       2008       08  2_10      1        2       10\n",
      "280\n"
     ]
    }
   ],
   "source": [
    "specifecArea=pd.DataFrame(dfAgregateTotal['area'].str.split('_',1).tolist(),columns = ['lat_area','lon_area'])\n",
    "dfAgregateTotal=pd.concat([dfAgregateTotal, specifecArea], axis=1)\n",
    "print dfAgregateTotal.head(20)\n",
    "print len(dfAgregateTotal)\n",
    "\n",
    "dfAgregateTotal['mois (0)']=dfAgregateTotal['mois (0)'].astype(int).astype(str)\n",
    "dfAgregateTotal['lat_area']=dfAgregateTotal['lat_area'].astype(int)\n",
    "dfAgregateTotal['lon_area']=dfAgregateTotal['lon_area'].astype(int)"
   ]
  },
  {
   "cell_type": "code",
   "execution_count": 38,
   "metadata": {
    "collapsed": false,
    "scrolled": false
   },
   "outputs": [
    {
     "name": "stdout",
     "output_type": "stream",
     "text": [
      "--------------------------------------------\n",
      "--------------------------------------------\n"
     ]
    }
   ],
   "source": [
    "uniqueLat=dfAgregateTotal[[\"lat_area\",\"lon_area\"]].values\n",
    "unique=pd.Series(zip(uniqueLat[:,0], uniqueLat[:,1])).unique()\n",
    "\n",
    "\n",
    "print \"--------------------------------------------\"\n",
    "list1, list2 = zip(*unique)\n",
    "array1=np.asarray(list1)\n",
    "array2=np.asarray(list2)\n",
    "\n",
    "ind = np.lexsort((array1,array2)) \n",
    "uniqueSort=[(array1[i],array2[i]) for i in ind]\n",
    "\n",
    "\n",
    "\n",
    "print \"--------------------------------------------\"\n",
    "\n",
    "list1, list2 = zip(*uniqueSort)\n",
    "array1_=np.asarray(list1)\n",
    "array2_=np.asarray(list2)\n",
    "a = np.column_stack((array1_,array2_))\n",
    "#print a\n"
   ]
  },
  {
   "cell_type": "code",
   "execution_count": 39,
   "metadata": {
    "collapsed": false
   },
   "outputs": [
    {
     "name": "stdout",
     "output_type": "stream",
     "text": [
      "-------------------------------------------------------------------\n",
      "3864\n",
      "3864\n",
      "3864\n",
      "3864\n"
     ]
    }
   ],
   "source": [
    "uniqueYears=dfAgregateTotal['Annee (0)'].unique()\n",
    "print \"-------------------------------------------------------------------\"\n",
    "ListAreaLat=np.tile(a[:,0],12*len(uniqueYears))\n",
    "ListAreaLon=np.tile(a[:,1],12*len(uniqueYears))\n",
    "\n",
    "uniqueMonth=np.linspace(1, 12, num=12)\n",
    "ColMonth=np.repeat(uniqueMonth,len(a[:,1]))\n",
    "#print ColMonth[1:100]\n",
    "ColMonth=np.tile(ColMonth,len(uniqueYears))\n",
    "\n",
    "\n",
    "Colyears=np.repeat(uniqueYears, 12*len(a[:,1]))\n",
    "count=np.repeat(0, len(Colyears))\n",
    "\n",
    "\n",
    "print len(ColMonth)\n",
    "print len(Colyears)\n",
    "print len(ListAreaLat)\n",
    "print len(ListAreaLon)"
   ]
  },
  {
   "cell_type": "markdown",
   "metadata": {},
   "source": [
    "## Fill the matrice"
   ]
  },
  {
   "cell_type": "code",
   "execution_count": 40,
   "metadata": {
    "collapsed": false,
    "scrolled": true
   },
   "outputs": [
    {
     "name": "stdout",
     "output_type": "stream",
     "text": [
      "   Month  Years  count  lat_area  lon_area\n",
      "0      1   2008      0         4         1\n",
      "1      1   2008      0         5         1\n",
      "2      1   2008      0         2         2\n",
      "3      1   2008      0         3         2\n",
      "4      1   2008      0         4         2\n",
      "5      1   2008      0         1         3\n",
      "6      1   2008      0         2         3\n",
      "7      1   2008      0         3         3\n",
      "8      1   2008      0         1         4\n",
      "9      1   2008      0         2         4\n",
      "Month       int64\n",
      "Years       int64\n",
      "count       int64\n",
      "lat_area    int64\n",
      "lon_area    int64\n",
      "dtype: object\n",
      "Empty DataFrame\n",
      "Columns: [Month, Years, count, lat_area, lon_area]\n",
      "Index: []\n"
     ]
    }
   ],
   "source": [
    "#columns = ['Years','2_week', 'lat_area','lon_area','count']\n",
    "#matriceML=pd.DataFrame(columns=columns)\n",
    "#matriceML = matriceML.fillna(0)\n",
    "\n",
    "dic = {'Years': Colyears, \n",
    "     'Month': ColMonth, \n",
    "     'lat_area': ListAreaLat,\n",
    "     'lon_area': ListAreaLon,\n",
    "     'count': count\n",
    "      }\n",
    "\n",
    "dfFinal= pd.DataFrame(dic)\n",
    "\n",
    "dfFinal[\"Month\"]=dfFinal.apply(lambda row: monthCorrect(row['Month']), axis=1)\n",
    "dfFinal['Month']=dfFinal['Month'].astype(int)\n",
    "dfFinal['lat_area']=dfFinal['lat_area'].astype(int)\n",
    "dfFinal['lon_area']=dfFinal['lon_area'].astype(int)\n",
    "\n",
    "print dfFinal.head(10)\n",
    "print dfFinal.dtypes\n",
    "print dfFinal[(dfFinal['Years']==2008) &\n",
    "                (dfFinal['lat_area']==4) &\n",
    "                (dfFinal['lon_area']==20 )&\n",
    "                (dfFinal['Month']==1)]"
   ]
  },
  {
   "cell_type": "code",
   "execution_count": 41,
   "metadata": {
    "collapsed": false,
    "scrolled": true
   },
   "outputs": [],
   "source": [
    "for index, row in dfAgregateTotal.iterrows():\n",
    "    #print \"---------------------------------------------------------\"\n",
    "    #print \"len : \"+str(len(dfFinal['Years']==row['Annee (0)']))\n",
    "    \n",
    "    #print row['Annee (0)'], int(row['mois (0)']), row['count'] ,  row['lat_area'] , row['lon_area'] \n",
    "    \n",
    "    \n",
    "    idx=dfFinal[(dfFinal['Years']==row['Annee (0)']) &\n",
    "                (dfFinal['lat_area']==row['lat_area']) &\n",
    "                (dfFinal['lon_area']==row['lon_area'] )&\n",
    "                (dfFinal['Month']==int(row[\"mois (0)\"]))]\n",
    "    \n",
    "    #print len(idx)\n",
    "    #print 'index : '+str(idx.index.values)\n",
    "    #print 'count : '+str(row['count'])\n",
    "    #dfFinal.set_value(idx.index.values, 'count',row['count'])\n",
    "    dfFinal.set_value(idx.index.values, \"count\",row['count'])"
   ]
  },
  {
   "cell_type": "code",
   "execution_count": 42,
   "metadata": {
    "collapsed": false
   },
   "outputs": [
    {
     "name": "stdout",
     "output_type": "stream",
     "text": [
      "421\n",
      "3864\n",
      "     Month  Years  count  lat_area  lon_area\n",
      "73       2   2008      2         2        12\n",
      "116      3   2008      1         2        11\n",
      "117      3   2008      1         3        11\n",
      "122      3   2008      1         1        13\n",
      "157      4   2008      1         2         9\n"
     ]
    }
   ],
   "source": [
    "print dfFinal['count'].sum()\n",
    "print len(dfFinal)\n",
    "print dfFinal[dfFinal['count']!=0].head()"
   ]
  },
  {
   "cell_type": "markdown",
   "metadata": {},
   "source": [
    "## Write matrice in a file"
   ]
  },
  {
   "cell_type": "code",
   "execution_count": 43,
   "metadata": {
    "collapsed": false
   },
   "outputs": [],
   "source": [
    "dfFinal.to_csv(\"../data/aden_golfe_matrix_area.csv\",sep=';', encoding='utf-8', index=False)"
   ]
  },
  {
   "cell_type": "markdown",
   "metadata": {
    "collapsed": true
   },
   "source": [
    "#  "
   ]
  },
  {
   "cell_type": "markdown",
   "metadata": {},
   "source": [
    "# Version 1.1 : group by years, month, area"
   ]
  },
  {
   "cell_type": "code",
   "execution_count": 99,
   "metadata": {
    "collapsed": false
   },
   "outputs": [
    {
     "data": {
      "text/html": [
       "<div>\n",
       "<table border=\"1\" class=\"dataframe\">\n",
       "  <thead>\n",
       "    <tr style=\"text-align: right;\">\n",
       "      <th></th>\n",
       "      <th>Annee (0)</th>\n",
       "      <th>jour (0)</th>\n",
       "      <th>mois (0)</th>\n",
       "      <th>dist �_ la c��te (nq)</th>\n",
       "      <th>zone</th>\n",
       "      <th>lat (0)</th>\n",
       "      <th>long(0)</th>\n",
       "      <th>type(0)</th>\n",
       "      <th>pavillon</th>\n",
       "      <th>statut de l'attaque(0)</th>\n",
       "      <th>...</th>\n",
       "      <th>newDescriptif</th>\n",
       "      <th>Guns</th>\n",
       "      <th>mousson</th>\n",
       "      <th>distance au port</th>\n",
       "      <th>new_type</th>\n",
       "      <th>large_area</th>\n",
       "      <th>area_by_hand</th>\n",
       "      <th>date</th>\n",
       "      <th>fortnight</th>\n",
       "      <th>activity</th>\n",
       "    </tr>\n",
       "  </thead>\n",
       "  <tbody>\n",
       "    <tr>\n",
       "      <th>0</th>\n",
       "      <td>2010</td>\n",
       "      <td>28</td>\n",
       "      <td>10</td>\n",
       "      <td>NaN</td>\n",
       "      <td>BCD</td>\n",
       "      <td>12:08N</td>\n",
       "      <td>054:25E</td>\n",
       "      <td>Dhow</td>\n",
       "      <td>Not Stated</td>\n",
       "      <td>Steaming</td>\n",
       "      <td>...</td>\n",
       "      <td>pirates hijacked a dhow.</td>\n",
       "      <td>0</td>\n",
       "      <td>0</td>\n",
       "      <td>534.679104</td>\n",
       "      <td>Other</td>\n",
       "      <td>G</td>\n",
       "      <td>M</td>\n",
       "      <td>2010-10</td>\n",
       "      <td>2</td>\n",
       "      <td>2</td>\n",
       "    </tr>\n",
       "    <tr>\n",
       "      <th>1</th>\n",
       "      <td>2010</td>\n",
       "      <td>30</td>\n",
       "      <td>10</td>\n",
       "      <td>NaN</td>\n",
       "      <td>BCD</td>\n",
       "      <td>15:06N</td>\n",
       "      <td>055:58E</td>\n",
       "      <td>Bulk Carrier</td>\n",
       "      <td>Malta</td>\n",
       "      <td>Steaming</td>\n",
       "      <td>...</td>\n",
       "      <td>armed pirates attacked and boarded the ship un...</td>\n",
       "      <td>0</td>\n",
       "      <td>0</td>\n",
       "      <td>292.330113</td>\n",
       "      <td>Vehicle Carrier</td>\n",
       "      <td>G</td>\n",
       "      <td>L</td>\n",
       "      <td>2010-10</td>\n",
       "      <td>2</td>\n",
       "      <td>2</td>\n",
       "    </tr>\n",
       "    <tr>\n",
       "      <th>2</th>\n",
       "      <td>2010</td>\n",
       "      <td>01</td>\n",
       "      <td>01</td>\n",
       "      <td>NaN</td>\n",
       "      <td>BCD</td>\n",
       "      <td>12:31N</td>\n",
       "      <td>047:18E</td>\n",
       "      <td>Chemical Tanker</td>\n",
       "      <td>Singapore</td>\n",
       "      <td>Steaming</td>\n",
       "      <td>...</td>\n",
       "      <td>pirates hijacked a tanker underway and took he...</td>\n",
       "      <td>0</td>\n",
       "      <td>0</td>\n",
       "      <td>259.217741</td>\n",
       "      <td>Tanker</td>\n",
       "      <td>G</td>\n",
       "      <td>H</td>\n",
       "      <td>2010-01</td>\n",
       "      <td>1</td>\n",
       "      <td>2</td>\n",
       "    </tr>\n",
       "    <tr>\n",
       "      <th>3</th>\n",
       "      <td>2010</td>\n",
       "      <td>03</td>\n",
       "      <td>02</td>\n",
       "      <td>NaN</td>\n",
       "      <td>BCD</td>\n",
       "      <td>13:04N</td>\n",
       "      <td>047:04E</td>\n",
       "      <td>General Cargo</td>\n",
       "      <td>North Korea</td>\n",
       "      <td>Steaming</td>\n",
       "      <td>...</td>\n",
       "      <td>armed pirates attacked and hijacked a ship and...</td>\n",
       "      <td>0</td>\n",
       "      <td>0</td>\n",
       "      <td>233.133566</td>\n",
       "      <td>Vehicle Carrier</td>\n",
       "      <td>G</td>\n",
       "      <td>H</td>\n",
       "      <td>2010-02</td>\n",
       "      <td>1</td>\n",
       "      <td>2</td>\n",
       "    </tr>\n",
       "    <tr>\n",
       "      <th>4</th>\n",
       "      <td>2010</td>\n",
       "      <td>05</td>\n",
       "      <td>02</td>\n",
       "      <td>NaN</td>\n",
       "      <td>BCD</td>\n",
       "      <td>13:00N</td>\n",
       "      <td>048:45E</td>\n",
       "      <td>Bulk Carrier</td>\n",
       "      <td>Antigua &amp; Barbuda</td>\n",
       "      <td>Steaming</td>\n",
       "      <td>...</td>\n",
       "      <td>six pirates in a high-speed boat armed with ma...</td>\n",
       "      <td>1</td>\n",
       "      <td>0</td>\n",
       "      <td>414.693842</td>\n",
       "      <td>Vehicle Carrier</td>\n",
       "      <td>G</td>\n",
       "      <td>I</td>\n",
       "      <td>2010-02</td>\n",
       "      <td>1</td>\n",
       "      <td>2</td>\n",
       "    </tr>\n",
       "  </tbody>\n",
       "</table>\n",
       "<p>5 rows × 34 columns</p>\n",
       "</div>"
      ],
      "text/plain": [
       "   Annee (0) jour (0) mois (0)  dist �_ la c��te (nq) zone lat (0)  long(0)  \\\n",
       "0       2010       28       10                    NaN  BCD  12:08N  054:25E   \n",
       "1       2010       30       10                    NaN  BCD  15:06N  055:58E   \n",
       "2       2010       01       01                    NaN  BCD  12:31N  047:18E   \n",
       "3       2010       03       02                    NaN  BCD  13:04N  047:04E   \n",
       "4       2010       05       02                    NaN  BCD  13:00N  048:45E   \n",
       "\n",
       "           type(0)           pavillon statut de l'attaque(0)    ...     \\\n",
       "0             Dhow         Not Stated               Steaming    ...      \n",
       "1     Bulk Carrier              Malta               Steaming    ...      \n",
       "2  Chemical Tanker          Singapore               Steaming    ...      \n",
       "3    General Cargo        North Korea               Steaming    ...      \n",
       "4     Bulk Carrier  Antigua & Barbuda               Steaming    ...      \n",
       "\n",
       "                                       newDescriptif  Guns  mousson  \\\n",
       "0                           pirates hijacked a dhow.     0        0   \n",
       "1  armed pirates attacked and boarded the ship un...     0        0   \n",
       "2  pirates hijacked a tanker underway and took he...     0        0   \n",
       "3  armed pirates attacked and hijacked a ship and...     0        0   \n",
       "4  six pirates in a high-speed boat armed with ma...     1        0   \n",
       "\n",
       "   distance au port         new_type  large_area  area_by_hand     date  \\\n",
       "0        534.679104            Other           G             M  2010-10   \n",
       "1        292.330113  Vehicle Carrier           G             L  2010-10   \n",
       "2        259.217741           Tanker           G             H  2010-01   \n",
       "3        233.133566  Vehicle Carrier           G             H  2010-02   \n",
       "4        414.693842  Vehicle Carrier           G             I  2010-02   \n",
       "\n",
       "   fortnight  activity  \n",
       "0          2         2  \n",
       "1          2         2  \n",
       "2          1         2  \n",
       "3          1         2  \n",
       "4          1         2  \n",
       "\n",
       "[5 rows x 34 columns]"
      ]
     },
     "execution_count": 99,
     "metadata": {},
     "output_type": "execute_result"
    }
   ],
   "source": [
    "df.head()"
   ]
  },
  {
   "cell_type": "code",
   "execution_count": 100,
   "metadata": {
    "collapsed": false
   },
   "outputs": [
    {
     "name": "stdout",
     "output_type": "stream",
     "text": [
      "['M' 'L' 'H' 'I' 'G' 'J' 'C' 'D' 'F' 'K' 'E' 'A' 'B']\n"
     ]
    }
   ],
   "source": [
    "print df[\"area_by_hand\"].unique()"
   ]
  },
  {
   "cell_type": "code",
   "execution_count": 101,
   "metadata": {
    "collapsed": true
   },
   "outputs": [],
   "source": [
    "dfAgregateByArea=pd.DataFrame({'count' : df.groupby( [ \"Annee (0)\",\"mois (0)\",\"area_by_hand\",\"fortnight\",\"new_type\"] ).size()}).reset_index()"
   ]
  },
  {
   "cell_type": "code",
   "execution_count": 102,
   "metadata": {
    "collapsed": false
   },
   "outputs": [
    {
     "name": "stdout",
     "output_type": "stream",
     "text": [
      "   Annee (0) mois (0) area_by_hand  fortnight         new_type  count\n",
      "0       2008       02            K          1           Tanker      1\n",
      "1       2008       02            K          1              Tug      1\n",
      "2       2008       03            J          2           Tanker      1\n",
      "3       2008       03            K          2  Vehicle Carrier      1\n",
      "4       2008       03            M          2           Vessel      1\n",
      "5       2008       04            I          1           Tanker      1\n",
      "6       2008       04            I          1           Vessel      1\n",
      "7       2008       04            I          2           Tanker      1\n",
      "8       2008       04            J          1           Vessel      1\n",
      "9       2008       04            J          2  Vehicle Carrier      2\n",
      "421\n"
     ]
    }
   ],
   "source": [
    "print dfAgregateByArea.head(10)\n",
    "print dfAgregateByArea[\"count\"].sum()"
   ]
  },
  {
   "cell_type": "markdown",
   "metadata": {},
   "source": [
    "### Creation empty dataframe"
   ]
  },
  {
   "cell_type": "code",
   "execution_count": 108,
   "metadata": {
    "collapsed": false,
    "scrolled": true
   },
   "outputs": [
    {
     "name": "stdout",
     "output_type": "stream",
     "text": [
      "[2008 2008 2008 2008 2008 2008 2008 2008 2008 2008 2008 2008 2008 2008 2008\n",
      " 2008 2008 2008 2008 2008 2008 2008 2008 2008 2008 2008 2008 2008 2008 2008\n",
      " 2008 2008 2008 2008 2008 2008 2008 2008 2008 2008 2008 2008 2008 2008 2008\n",
      " 2008 2008 2008 2008 2008 2008 2008 2008 2008 2008 2008 2008 2008 2008 2008\n",
      " 2008 2008 2008 2008 2008 2008 2008 2008 2008 2008 2008 2008 2008 2008 2008\n",
      " 2008 2008 2008 2008 2008 2008 2008 2008 2008 2008 2008 2008 2008 2008 2008\n",
      " 2008 2008 2008 2008 2008 2008 2008 2008 2008 2008]\n",
      "[ 1.  1.  1.  1.  1.  1.  1.  1.  1.  1.  1.  1.  1.  1.  1.  1.  1.  1.\n",
      "  1.  1.  1.  1.  1.  1.  1.  1.  1.  1.  1.  1.  1.  1.  1.  1.  1.  1.\n",
      "  1.  1.  1.  1.  1.  1.  1.  1.  1.  1.  1.  1.  1.  1.  1.  1.  1.  1.\n",
      "  1.  1.  1.  1.  1.  1.  1.  1.  1.  1.  1.  1.  1.  1.  1.  1.  1.  1.\n",
      "  1.  1.  1.  1.  1.  1.  1.  1.  1.  1.  1.  1.  1.  1.  1.  1.  1.  1.\n",
      "  1.  1.  1.  1.  1.  1.  1.  1.  1.  1.  1.  1.  1.  1.  1.  1.  1.  1.\n",
      "  1.  1.  1.  1.  1.  1.  1.  1.  1.  1.  1.  1.  1.  1.  1.  1.  1.  1.\n",
      "  1.  1.  1.  1.  1.  1.  1.  1.  1.  1.  1.  1.  1.  1.  1.  1.  1.  1.\n",
      "  1.  1.  1.  1.  1.  1.  1.  1.  1.  1.  1.  1.  1.  1.  1.  1.  1.  1.\n",
      "  1.  1.  1.  1.  1.  1.  1.  1.  1.  1.  1.  1.  1.  1.  1.  1.  1.  1.\n",
      "  1.  1.  2.  2.  2.  2.  2.  2.  2.  2.  2.  2.  2.  2.  2.  2.  2.  2.\n",
      "  2.  2.]\n",
      "['A' 'B' 'C' 'D' 'E' 'F' 'G' 'H' 'I' 'J' 'K' 'L' 'M' 'A' 'B' 'C' 'D' 'E'\n",
      " 'F' 'G' 'H' 'I' 'J' 'K' 'L' 'M' 'A' 'B' 'C' 'D' 'E' 'F' 'G' 'H' 'I' 'J'\n",
      " 'K' 'L' 'M' 'A' 'B' 'C' 'D' 'E' 'F' 'G' 'H' 'I' 'J' 'K' 'L' 'M' 'A' 'B'\n",
      " 'C' 'D' 'E' 'F' 'G' 'H' 'I' 'J' 'K' 'L' 'M' 'A' 'B' 'C' 'D' 'E' 'F' 'G'\n",
      " 'H' 'I' 'J' 'K' 'L' 'M' 'A' 'B' 'C' 'D' 'E' 'F' 'G' 'H' 'I' 'J' 'K' 'L'\n",
      " 'M' 'A' 'B' 'C' 'D' 'E' 'F' 'G' 'H' 'I' 'J' 'K' 'L' 'M' 'A' 'B' 'C' 'D'\n",
      " 'E' 'F' 'G' 'H' 'I' 'J' 'K' 'L' 'M' 'A' 'B' 'C' 'D' 'E' 'F' 'G' 'H' 'I'\n",
      " 'J' 'K' 'L' 'M' 'A' 'B' 'C' 'D' 'E' 'F' 'G' 'H' 'I' 'J' 'K' 'L' 'M' 'A'\n",
      " 'B' 'C' 'D' 'E' 'F' 'G' 'H' 'I' 'J' 'K' 'L' 'M' 'A' 'B' 'C' 'D' 'E' 'F'\n",
      " 'G' 'H' 'I' 'J' 'K' 'L' 'M' 'A' 'B' 'C' 'D' 'E' 'F' 'G' 'H' 'I' 'J' 'K'\n",
      " 'L' 'M' 'A' 'B' 'C' 'D' 'E' 'F' 'G' 'H' 'I' 'J' 'K' 'L' 'M' 'A' 'B' 'C'\n",
      " 'D' 'E']\n",
      "['Tanker' 'Tanker' 'Tanker' 'Tanker' 'Tanker' 'Tanker' 'Tanker' 'Tanker'\n",
      " 'Tanker' 'Tanker' 'Tanker' 'Tanker' 'Tanker' 'Tanker' 'Tanker' 'Tanker'\n",
      " 'Tanker' 'Tanker' 'Tanker' 'Tanker' 'Tanker' 'Tanker' 'Tanker' 'Tanker'\n",
      " 'Tanker' 'Tanker' 'Tug' 'Tug' 'Tug' 'Tug' 'Tug' 'Tug' 'Tug' 'Tug' 'Tug'\n",
      " 'Tug' 'Tug' 'Tug' 'Tug' 'Tug' 'Tug' 'Tug' 'Tug' 'Tug' 'Tug' 'Tug' 'Tug'\n",
      " 'Tug' 'Tug' 'Tug' 'Tug' 'Tug' 'Vehicle Carrier' 'Vehicle Carrier'\n",
      " 'Vehicle Carrier' 'Vehicle Carrier' 'Vehicle Carrier' 'Vehicle Carrier'\n",
      " 'Vehicle Carrier' 'Vehicle Carrier' 'Vehicle Carrier' 'Vehicle Carrier'\n",
      " 'Vehicle Carrier' 'Vehicle Carrier' 'Vehicle Carrier' 'Vehicle Carrier'\n",
      " 'Vehicle Carrier' 'Vehicle Carrier' 'Vehicle Carrier' 'Vehicle Carrier'\n",
      " 'Vehicle Carrier' 'Vehicle Carrier' 'Vehicle Carrier' 'Vehicle Carrier'\n",
      " 'Vehicle Carrier' 'Vehicle Carrier' 'Vehicle Carrier' 'Vehicle Carrier'\n",
      " 'Vessel' 'Vessel' 'Vessel' 'Vessel' 'Vessel' 'Vessel' 'Vessel' 'Vessel'\n",
      " 'Vessel' 'Vessel' 'Vessel' 'Vessel' 'Vessel' 'Vessel' 'Vessel' 'Vessel'\n",
      " 'Vessel' 'Vessel' 'Vessel' 'Vessel' 'Vessel' 'Vessel' 'Vessel' 'Vessel'\n",
      " 'Vessel' 'Vessel' 'Other' 'Other' 'Other' 'Other' 'Other' 'Other' 'Other'\n",
      " 'Other' 'Other' 'Other' 'Other' 'Other' 'Other' 'Other' 'Other' 'Other'\n",
      " 'Other' 'Other' 'Other' 'Other' 'Other' 'Other' 'Other' 'Other' 'Other'\n",
      " 'Other' 'Barge' 'Barge' 'Barge' 'Barge' 'Barge' 'Barge' 'Barge' 'Barge'\n",
      " 'Barge' 'Barge' 'Barge' 'Barge' 'Barge' 'Barge' 'Barge' 'Barge' 'Barge'\n",
      " 'Barge' 'Barge' 'Barge' 'Barge' 'Barge' 'Barge' 'Barge' 'Barge' 'Barge'\n",
      " 'Offshore Exploitation' 'Offshore Exploitation' 'Offshore Exploitation'\n",
      " 'Offshore Exploitation' 'Offshore Exploitation' 'Offshore Exploitation'\n",
      " 'Offshore Exploitation' 'Offshore Exploitation' 'Offshore Exploitation'\n",
      " 'Offshore Exploitation' 'Offshore Exploitation' 'Offshore Exploitation'\n",
      " 'Offshore Exploitation' 'Offshore Exploitation' 'Offshore Exploitation'\n",
      " 'Offshore Exploitation' 'Offshore Exploitation' 'Offshore Exploitation'\n",
      " 'Offshore Exploitation' 'Offshore Exploitation' 'Offshore Exploitation'\n",
      " 'Offshore Exploitation' 'Offshore Exploitation' 'Offshore Exploitation'\n",
      " 'Offshore Exploitation' 'Offshore Exploitation' 'Tanker' 'Tanker' 'Tanker'\n",
      " 'Tanker' 'Tanker' 'Tanker' 'Tanker' 'Tanker' 'Tanker' 'Tanker' 'Tanker'\n",
      " 'Tanker' 'Tanker' 'Tanker' 'Tanker' 'Tanker' 'Tanker' 'Tanker']\n",
      "15288\n",
      "15288\n",
      "15288\n",
      "15288\n",
      "15288\n"
     ]
    }
   ],
   "source": [
    "uniqueArea=sorted(dfAgregateByArea[\"area_by_hand\"].unique())\n",
    "uniqueYears=dfAgregateByArea['Annee (0)'].unique()\n",
    "uniqueTypeBoat=dfAgregateByArea['new_type'].unique()\n",
    "uniqueMonth=np.linspace(1, 12, num=12)\n",
    "uniqueBinary=np.linspace(1, 2, num=2)\n",
    "\n",
    "\n",
    "\n",
    "ColYears=np.repeat(uniqueYears,len(uniqueMonth)*len(uniqueTypeBoat)*len(uniqueArea)*len(uniqueBinary))\n",
    "ColMonth=np.tile(np.repeat(uniqueMonth,len(uniqueArea)*len(uniqueBinary)*len(uniqueTypeBoat)), len(uniqueYears))\n",
    "ColArea=np.tile(uniqueArea,len(uniqueMonth)*len(uniqueTypeBoat)*len(uniqueBinary)*len(uniqueYears))\n",
    "\n",
    "ColType=np.tile(np.repeat(uniqueTypeBoat,len(uniqueArea)*len(uniqueBinary)),len(uniqueMonth)*len(uniqueYears))\n",
    "\n",
    "ColFortnight=np.tile(np.repeat(uniqueBinary, len(uniqueArea)),len(uniqueMonth)*len(uniqueTypeBoat)*len(uniqueYears))\n",
    "ColCount=np.repeat(0, len(ColFortnight))\n",
    "\n",
    "\n",
    "print ColYears[0:100]\n",
    "print ColMonth[0:200]\n",
    "print ColArea[0:200]\n",
    "print ColType[0:200]\n",
    "\n",
    "print len(ColYears)\n",
    "print len(ColMonth)\n",
    "print len(ColArea)\n",
    "print len(ColType)\n",
    "\n",
    "print len(ColFortnight)\n"
   ]
  },
  {
   "cell_type": "code",
   "execution_count": 109,
   "metadata": {
    "collapsed": false
   },
   "outputs": [
    {
     "name": "stdout",
     "output_type": "stream",
     "text": [
      "   Area  Count  Fortnight  Month    Type  Years\n",
      "0     A      0          1      1  Tanker   2008\n",
      "1     B      0          1      1  Tanker   2008\n",
      "2     C      0          1      1  Tanker   2008\n",
      "3     D      0          1      1  Tanker   2008\n",
      "4     E      0          1      1  Tanker   2008\n",
      "5     F      0          1      1  Tanker   2008\n",
      "6     G      0          1      1  Tanker   2008\n",
      "7     H      0          1      1  Tanker   2008\n",
      "8     I      0          1      1  Tanker   2008\n",
      "9     J      0          1      1  Tanker   2008\n",
      "10    K      0          1      1  Tanker   2008\n",
      "11    L      0          1      1  Tanker   2008\n",
      "12    M      0          1      1  Tanker   2008\n",
      "13    A      0          2      1  Tanker   2008\n",
      "14    B      0          2      1  Tanker   2008\n",
      "15    C      0          2      1  Tanker   2008\n",
      "16    D      0          2      1  Tanker   2008\n",
      "17    E      0          2      1  Tanker   2008\n",
      "18    F      0          2      1  Tanker   2008\n",
      "19    G      0          2      1  Tanker   2008\n",
      "20    H      0          2      1  Tanker   2008\n",
      "21    I      0          2      1  Tanker   2008\n",
      "22    J      0          2      1  Tanker   2008\n",
      "23    K      0          2      1  Tanker   2008\n",
      "24    L      0          2      1  Tanker   2008\n",
      "25    M      0          2      1  Tanker   2008\n",
      "26    A      0          1      1     Tug   2008\n",
      "27    B      0          1      1     Tug   2008\n",
      "28    C      0          1      1     Tug   2008\n",
      "29    D      0          1      1     Tug   2008\n",
      "30    E      0          1      1     Tug   2008\n",
      "31    F      0          1      1     Tug   2008\n",
      "32    G      0          1      1     Tug   2008\n",
      "33    H      0          1      1     Tug   2008\n",
      "34    I      0          1      1     Tug   2008\n",
      "35    J      0          1      1     Tug   2008\n",
      "36    K      0          1      1     Tug   2008\n",
      "37    L      0          1      1     Tug   2008\n",
      "38    M      0          1      1     Tug   2008\n",
      "39    A      0          2      1     Tug   2008\n",
      "40    B      0          2      1     Tug   2008\n",
      "41    C      0          2      1     Tug   2008\n",
      "42    D      0          2      1     Tug   2008\n",
      "43    E      0          2      1     Tug   2008\n",
      "44    F      0          2      1     Tug   2008\n",
      "45    G      0          2      1     Tug   2008\n",
      "46    H      0          2      1     Tug   2008\n",
      "47    I      0          2      1     Tug   2008\n",
      "48    J      0          2      1     Tug   2008\n",
      "49    K      0          2      1     Tug   2008\n"
     ]
    }
   ],
   "source": [
    "dic = {'Years': ColYears,'Month': ColMonth,'Fortnight': ColFortnight, 'Area': ColArea,'Type':ColType,'Count': ColCount}\n",
    "dfFinalArea= pd.DataFrame(dic)\n",
    "print dfFinalArea.head(50)"
   ]
  },
  {
   "cell_type": "markdown",
   "metadata": {},
   "source": [
    "### Fill dataframe"
   ]
  },
  {
   "cell_type": "code",
   "execution_count": 116,
   "metadata": {
    "collapsed": false,
    "scrolled": true
   },
   "outputs": [],
   "source": [
    "for index, row in dfAgregateByArea.iterrows():\n",
    "    #print \"---------------------------------------------------------\"\n",
    "    #print row['Annee (0)'], int(row['mois (0)']), row['count'] ,  row['area_by_hand']   \n",
    "    \n",
    "    idx=dfFinalArea[(dfFinalArea['Years']==row['Annee (0)']) & (dfFinalArea['Area']==row['area_by_hand']) \n",
    "                    & (dfFinalArea['Type']==row['new_type'])& (dfFinalArea['Fortnight']==row['fortnight'])\n",
    "                    & (dfFinalArea['Month']==int(row[\"mois (0)\"]))]\n",
    "    #print len(idx)\n",
    "    dfFinalArea.set_value(idx.index.values, \"Count\",row['count'])\n",
    "\n",
    "#print dfFinalArea.head(40)\n",
    "#print dfFinalArea[\"Count\"].sum()"
   ]
  },
  {
   "cell_type": "code",
   "execution_count": 117,
   "metadata": {
    "collapsed": false
   },
   "outputs": [
    {
     "name": "stdout",
     "output_type": "stream",
     "text": [
      "  Area  Count  Fortnight  Month    Type  Years  Activity\n",
      "0    A      0          1      1  Tanker   2008         2\n",
      "1    B      0          1      1  Tanker   2008         2\n",
      "2    C      0          1      1  Tanker   2008         2\n",
      "3    D      0          1      1  Tanker   2008         2\n",
      "4    E      0          1      1  Tanker   2008         2\n"
     ]
    }
   ],
   "source": [
    "def getActivity(Years):\n",
    "    activity=1\n",
    "    if Years<2013:\n",
    "        activity=2\n",
    "        \n",
    "    return activity\n",
    "\n",
    "\n",
    "\n",
    "dfFinalArea[\"Activity\"]=dfFinalArea.apply(lambda row: getActivity(row['Years']), axis=1)\n",
    "print dfFinalArea.head()"
   ]
  },
  {
   "cell_type": "markdown",
   "metadata": {},
   "source": [
    "  \n",
    "  \n",
    "  \n",
    "  "
   ]
  },
  {
   "cell_type": "code",
   "execution_count": 114,
   "metadata": {
    "collapsed": true
   },
   "outputs": [],
   "source": [
    "dfFinalArea.to_csv(\"../data/aden_golfe_matrix_area_hand.csv\",sep=';', encoding='utf-8', index=False)"
   ]
  },
  {
   "cell_type": "markdown",
   "metadata": {},
   "source": [
    "  \n",
    "  \n",
    "  \n",
    "  "
   ]
  },
  {
   "cell_type": "markdown",
   "metadata": {},
   "source": [
    "  \n",
    "  \n",
    "  \n",
    "  "
   ]
  },
  {
   "cell_type": "markdown",
   "metadata": {},
   "source": [
    "  \n",
    "  \n",
    "  \n",
    "  "
   ]
  },
  {
   "cell_type": "markdown",
   "metadata": {},
   "source": [
    "  \n",
    "  \n",
    "  \n",
    "  "
   ]
  },
  {
   "cell_type": "markdown",
   "metadata": {},
   "source": [
    "# Version 2 : group by Date, type attack"
   ]
  },
  {
   "cell_type": "code",
   "execution_count": 77,
   "metadata": {
    "collapsed": false
   },
   "outputs": [
    {
     "name": "stdout",
     "output_type": "stream",
     "text": [
      "         date new_type  count\n",
      "0  2008-02-01   Tanker      1\n",
      "1  2008-02-01      Tug      1\n",
      "2  2008-03-01    Cargo      1\n",
      "3  2008-03-01   Tanker      1\n",
      "4  2008-03-01   Vessel      1\n",
      "5  2008-04-01    Cargo      1\n",
      "6  2008-04-01  Carrier      1\n",
      "7  2008-04-01   Tanker      2\n",
      "8  2008-04-01   Vessel      2\n",
      "9  2008-05-01    Cargo      2\n"
     ]
    }
   ],
   "source": [
    "dfAgregateTotalType=pd.DataFrame({'count' : df.groupby( [ \"date\",\"new_type\"] ).size()}).reset_index()\n",
    "dfAgregateTotalType[\"date\"]=dfAgregateTotalType[\"date\"]+\"-01\"\n",
    "print dfAgregateTotalType.head(10)"
   ]
  },
  {
   "cell_type": "code",
   "execution_count": 80,
   "metadata": {
    "collapsed": false
   },
   "outputs": [
    {
     "name": "stdout",
     "output_type": "stream",
     "text": [
      "   Barge  Cargo  Carrier  Other  Ro-Ro  Tanker  Tug  Vessel        date\n",
      "0      0      0        0      0      0       0    0       0  2008-01-01\n",
      "1      0      0        0      0      0       0    0       0  2008-02-01\n",
      "2      0      0        0      0      0       0    0       0  2008-03-01\n",
      "3      0      0        0      0      0       0    0       0  2008-04-01\n",
      "4      0      0        0      0      0       0    0       0  2008-05-01\n"
     ]
    }
   ],
   "source": [
    "max_month=12\n",
    "unique_years=sorted(df[\"Annee (0)\"].unique())\n",
    "unique_type=sorted(dfAgregateTotalType[\"new_type\"].unique())\n",
    "month_repeat=np.linspace(1, max_month, num=max_month)\n",
    "\n",
    "colYears=np.repeat(unique_years, max_month)\n",
    "colMonth=np.tile(month_repeat, len(unique_years))\n",
    "                               \n",
    "dic2 = {'Years': colYears, 'Month': colMonth}\n",
    "dfGlobale = pd.DataFrame(dic2)\n",
    "\n",
    "for i in range(0,len(unique_type)):\n",
    "    nameColLat=str(unique_type[i])\n",
    "    dfGlobale[nameColLat]=0\n",
    "\n",
    "\n",
    "dfGlobale.head()\n",
    "dfGlobale[\"Month\"]=dfGlobale.apply(lambda row: monthCorrect(row['Month']), axis=1)\n",
    "dfGlobale[\"date\"]=dfGlobale.apply(lambda row: str(row[\"Years\"]) +\"-\"+ str(row[\"Month\"])+\"-01\", axis=1)\n",
    "dfGlobale = dfGlobale.drop('Month', 1)                            \n",
    "dfGlobale = dfGlobale.drop('Years', 1)\n",
    "print dfGlobale.head()"
   ]
  },
  {
   "cell_type": "markdown",
   "metadata": {},
   "source": [
    "# Fill matrice"
   ]
  },
  {
   "cell_type": "code",
   "execution_count": 81,
   "metadata": {
    "collapsed": false
   },
   "outputs": [
    {
     "name": "stdout",
     "output_type": "stream",
     "text": [
      "    Barge  Cargo  Carrier  Other  Ro-Ro  Tanker  Tug  Vessel        date\n",
      "0       0      0        0      0      0       0    0       0  2008-01-01\n",
      "1       0      0        0      0      0       1    1       0  2008-02-01\n",
      "2       0      1        0      0      0       1    0       1  2008-03-01\n",
      "3       0      1        1      0      0       2    0       2  2008-04-01\n",
      "4       0      2        2      1      0       1    0       0  2008-05-01\n",
      "5       0      1        0      1      0       0    0       0  2008-06-01\n",
      "6       0      0        2      1      0       1    0       0  2008-07-01\n",
      "7       0      3        3      0      0       3    0       0  2008-08-01\n",
      "8       0      3        6      3      0       7    0       0  2008-09-01\n",
      "9       0      2        5      2      0       7    0       0  2008-10-01\n",
      "10      0      1        5      1      0       8    0       1  2008-11-01\n",
      "11      1      3        3      0      0       2    1       0  2008-12-01\n",
      "12      0      4        5      2      1       7    0       0  2009-01-01\n",
      "13      0      1        5      0      0       3    0       0  2009-02-01\n",
      "14      0      0        6      2      0       5    0       0  2009-03-01\n",
      "15      0      6        7      1      0       2    1       0  2009-04-01\n",
      "16      0      2        8      0      1      11    0       0  2009-05-01\n",
      "17      0      1        3      0      0       9    0       0  2009-06-01\n",
      "18      0      0        1      0      0       1    0       0  2009-07-01\n",
      "19      0      2        2      0      0       0    0       0  2009-08-01\n",
      "20      0      1        5      1      0       2    0       0  2009-09-01\n",
      "21      0      2        2      0      0       1    0       0  2009-10-01\n",
      "22      0      3        4      0      0       0    0       0  2009-11-01\n",
      "23      0      1        0      0      0       2    0       0  2009-12-01\n",
      "24      0      0        1      0      0       2    0       0  2010-01-01\n",
      "25      0      1        1      0      0       1    0       0  2010-02-01\n",
      "26      0      0        1      0      1       6    0       0  2010-03-01\n",
      "27      0      1        2      1      0       3    0       0  2010-04-01\n",
      "28      0      1        1      2      0       3    0       0  2010-05-01\n",
      "29      0      3        2      2      0       7    0       0  2010-06-01\n",
      "..    ...    ...      ...    ...    ...     ...  ...     ...         ...\n",
      "54      0      0        1      0      0       0    0       0  2012-07-01\n",
      "55      0      0        0      0      0       0    0       0  2012-08-01\n",
      "56      0      0        0      0      0       0    0       0  2012-09-01\n",
      "57      0      0        0      0      0       0    0       0  2012-10-01\n",
      "58      0      0        0      0      0       0    0       0  2012-11-01\n",
      "59      0      1        0      0      0       0    0       0  2012-12-01\n",
      "60      0      0        0      0      0       0    0       0  2013-01-01\n",
      "61      0      0        0      0      0       0    0       0  2013-02-01\n",
      "62      0      0        0      0      0       2    0       1  2013-03-01\n",
      "63      0      0        0      0      0       0    0       0  2013-04-01\n",
      "64      0      1        0      0      0       0    0       0  2013-05-01\n",
      "65      0      0        0      1      0       0    0       0  2013-06-01\n",
      "66      0      0        1      0      0       1    0       0  2013-07-01\n",
      "67      0      0        0      0      0       0    0       0  2013-08-01\n",
      "68      0      0        0      0      0       0    0       0  2013-09-01\n",
      "69      0      0        0      0      0       0    0       0  2013-10-01\n",
      "70      0      0        0      0      0       0    0       0  2013-11-01\n",
      "71      0      0        1      0      0       1    0       0  2013-12-01\n",
      "72      0      0        0      0      0       1    0       0  2014-01-01\n",
      "73      0      1        0      0      0       0    0       0  2014-02-01\n",
      "74      0      0        0      0      1       1    0       0  2014-03-01\n",
      "75      0      0        1      0      0       3    0       0  2014-04-01\n",
      "76      0      0        0      0      0       0    0       0  2014-05-01\n",
      "77      0      0        0      0      0       0    0       0  2014-06-01\n",
      "78      0      0        0      0      0       0    0       0  2014-07-01\n",
      "79      0      0        1      0      0       0    0       0  2014-08-01\n",
      "80      0      0        0      0      0       0    0       0  2014-09-01\n",
      "81      0      0        0      0      0       0    0       0  2014-10-01\n",
      "82      0      0        0      0      0       0    0       0  2014-11-01\n",
      "83      0      0        0      0      0       1    0       0  2014-12-01\n",
      "\n",
      "[84 rows x 9 columns]\n"
     ]
    }
   ],
   "source": [
    "for index, row in dfAgregateTotalType.iterrows():\n",
    "    #print 'Years '+str(row['Annee (0)']),'2_week : '+str( row['quinzaine_week']),'count : '+str(row['count'])#,'type_attack : '+str(row['type d\\'attaque(0)'])\n",
    "\n",
    "    idx=dfGlobale[(dfGlobale['date']==row['date'])]\n",
    "    dfGlobale.set_value(idx.index.values, str(row[\"new_type\"]),row['count'])\n",
    "\n",
    "print dfGlobale.head(100)"
   ]
  },
  {
   "cell_type": "code",
   "execution_count": 82,
   "metadata": {
    "collapsed": false
   },
   "outputs": [],
   "source": [
    "dfGlobale.to_csv(\"../data/aden_golfe_matrix_global.csv\",sep=';', encoding='utf-8', index=False)"
   ]
  },
  {
   "cell_type": "code",
   "execution_count": null,
   "metadata": {
    "collapsed": true
   },
   "outputs": [],
   "source": []
  }
 ],
 "metadata": {
  "kernelspec": {
   "display_name": "Python 2",
   "language": "python",
   "name": "python2"
  },
  "language_info": {
   "codemirror_mode": {
    "name": "ipython",
    "version": 2
   },
   "file_extension": ".py",
   "mimetype": "text/x-python",
   "name": "python",
   "nbconvert_exporter": "python",
   "pygments_lexer": "ipython2",
   "version": "2.7.11"
  }
 },
 "nbformat": 4,
 "nbformat_minor": 0
}
