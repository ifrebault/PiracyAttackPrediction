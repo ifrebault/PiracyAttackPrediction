{
 "cells": [
  {
   "cell_type": "markdown",
   "metadata": {},
   "source": [
    "# Matrix #1"
   ]
  },
  {
   "cell_type": "code",
   "execution_count": 1,
   "metadata": {
    "collapsed": true
   },
   "outputs": [],
   "source": [
    "import numpy as np\n",
    "import pandas as pd\n",
    "from sklearn.preprocessing import label_binarize"
   ]
  },
  {
   "cell_type": "code",
   "execution_count": 2,
   "metadata": {
    "collapsed": false
   },
   "outputs": [],
   "source": [
    "df = pd.read_csv('../data/aden_golfe.csv',sep=';')"
   ]
  },
  {
   "cell_type": "code",
   "execution_count": 3,
   "metadata": {
    "collapsed": true
   },
   "outputs": [],
   "source": [
    "def monthCorrect(month):\n",
    "    month=str(int(month))\n",
    "    if len(month)==1:\n",
    "        return '0'+month\n",
    "    else:\n",
    "        return month\n",
    "\n",
    "def fortnight(day):\n",
    "    if int(day) <15:\n",
    "        return 1\n",
    "    else:\n",
    "        return 2\n",
    "\n",
    "def activity(years):\n",
    "    if int(years) <2013:\n",
    "        return 2\n",
    "    else:\n",
    "        return 1"
   ]
  },
  {
   "cell_type": "code",
   "execution_count": 4,
   "metadata": {
    "collapsed": false
   },
   "outputs": [],
   "source": [
    "df[\"mois (0)\"]=df.apply(lambda row: monthCorrect(row['mois (0)']), axis=1)\n",
    "df[\"jour (0)\"]=df.apply(lambda row: monthCorrect(row['jour (0)']), axis=1)\n",
    "df[\"date\"]=df.apply(lambda row: str(row[\"Annee (0)\"]) +\"-\"+ str(row[\"mois (0)\"]), axis=1)\n",
    "df[\"fortnight\"]=df.apply(lambda row: fortnight(row[\"jour (0)\"]), axis=1)\n",
    "df[\"activity\"]=df.apply(lambda row: fortnight(row[\"Annee (0)\"]), axis=1)"
   ]
  },
  {
   "cell_type": "markdown",
   "metadata": {
    "collapsed": true
   },
   "source": [
    "#  "
   ]
  },
  {
   "cell_type": "markdown",
   "metadata": {},
   "source": [
    "# Matrice 1 : Agrégation par année, mois, zone et type de bateaux"
   ]
  },
  {
   "cell_type": "markdown",
   "metadata": {},
   "source": [
    "## Création de l'agrégation"
   ]
  },
  {
   "cell_type": "markdown",
   "metadata": {
    "collapsed": false
   },
   "source": [
    "Dans cette partie, notre but est de créér un dataframe agrégé par Année, mois, quinzaine, zones et type de bateaux."
   ]
  },
  {
   "cell_type": "markdown",
   "metadata": {},
   "source": [
    "On réalise un group by du dataframe original."
   ]
  },
  {
   "cell_type": "code",
   "execution_count": 12,
   "metadata": {
    "collapsed": true
   },
   "outputs": [],
   "source": [
    "dfAgregateByArea=pd.DataFrame({'count' : df.groupby( [ \"Annee (0)\",\"mois (0)\",\"area_by_hand\",\"fortnight\",\"new_type\"] ).size()}).reset_index()"
   ]
  },
  {
   "cell_type": "code",
   "execution_count": 13,
   "metadata": {
    "collapsed": false
   },
   "outputs": [
    {
     "name": "stdout",
     "output_type": "stream",
     "text": [
      "   Annee (0) mois (0) area_by_hand  fortnight         new_type  count\n",
      "0       2008       02           AL          1  Vehicle Carrier      1\n",
      "1       2008       02           AP          1            Other      1\n",
      "2       2008       02            K          1           Tanker      1\n",
      "3       2008       02            K          1              Tug      1\n",
      "4       2008       03           AI          1            Other      1\n",
      "5       2008       03           AP          1            Other      1\n",
      "6       2008       03           AP          2            Other      1\n",
      "7       2008       03            J          2           Tanker      1\n",
      "8       2008       03            K          2  Vehicle Carrier      1\n",
      "9       2008       03            M          2           Vessel      1\n",
      "\n",
      "-------------------------------------------------\n",
      "-------------------------------------------------\n",
      "La somme du nombre d'attaque total dans la zone :\n",
      "883\n"
     ]
    }
   ],
   "source": [
    "print dfAgregateByArea.head(10)\n",
    "print \"\"\n",
    "print \"-------------------------------------------------\"\n",
    "print \"-------------------------------------------------\"\n",
    "print \"La somme du nombre d'attaque total dans la zone :\"\n",
    "print dfAgregateByArea[\"count\"].sum()"
   ]
  },
  {
   "cell_type": "markdown",
   "metadata": {},
   "source": [
    "## Creation empty dataframe"
   ]
  },
  {
   "cell_type": "markdown",
   "metadata": {},
   "source": [
    "On créé un dataframe avec la colonne 'Count' =0. On créé ainsi un dataframe avec toutes les possibilités d'année, mois, zone, quinzaine et type de bateaux"
   ]
  },
  {
   "cell_type": "code",
   "execution_count": 14,
   "metadata": {
    "collapsed": false,
    "scrolled": true
   },
   "outputs": [],
   "source": [
    "uniqueArea=sorted(dfAgregateByArea[\"area_by_hand\"].unique())\n",
    "uniqueYears=dfAgregateByArea['Annee (0)'].unique()\n",
    "uniqueTypeBoat=dfAgregateByArea['new_type'].unique()\n",
    "uniqueMonth=np.linspace(1, 12, num=12)\n",
    "uniqueBinary=np.linspace(1, 2, num=2)\n",
    "\n",
    "\n",
    "\n",
    "ColYears=np.repeat(uniqueYears,len(uniqueMonth)*len(uniqueTypeBoat)*len(uniqueArea)*len(uniqueBinary))\n",
    "ColMonth=np.tile(np.repeat(uniqueMonth,len(uniqueArea)*len(uniqueBinary)*len(uniqueTypeBoat)), len(uniqueYears))\n",
    "ColArea=np.tile(uniqueArea,len(uniqueMonth)*len(uniqueTypeBoat)*len(uniqueBinary)*len(uniqueYears))\n",
    "ColType=np.tile(np.repeat(uniqueTypeBoat,len(uniqueArea)*len(uniqueBinary)),len(uniqueMonth)*len(uniqueYears))\n",
    "ColFortnight=np.tile(np.repeat(uniqueBinary, len(uniqueArea)),len(uniqueMonth)*len(uniqueTypeBoat)*len(uniqueYears))\n",
    "ColCount=np.repeat(0, len(ColFortnight))\n"
   ]
  },
  {
   "cell_type": "code",
   "execution_count": 15,
   "metadata": {
    "collapsed": false
   },
   "outputs": [
    {
     "name": "stdout",
     "output_type": "stream",
     "text": [
      "  Area  Count  Fortnight  Month             Type  Years\n",
      "0    A      0          1      1  Vehicle Carrier   2008\n",
      "1   AA      0          1      1  Vehicle Carrier   2008\n",
      "2   AB      0          1      1  Vehicle Carrier   2008\n",
      "3   AC      0          1      1  Vehicle Carrier   2008\n",
      "4   AE      0          1      1  Vehicle Carrier   2008\n",
      "5   AF      0          1      1  Vehicle Carrier   2008\n",
      "6   AG      0          1      1  Vehicle Carrier   2008\n",
      "7   AH      0          1      1  Vehicle Carrier   2008\n",
      "8   AI      0          1      1  Vehicle Carrier   2008\n",
      "9   AJ      0          1      1  Vehicle Carrier   2008\n"
     ]
    }
   ],
   "source": [
    "dic = {'Years': ColYears,'Month': ColMonth,'Fortnight': ColFortnight, 'Area': ColArea,'Type':ColType,'Count': ColCount}\n",
    "dfFinalArea= pd.DataFrame(dic)\n",
    "print dfFinalArea.head(10)"
   ]
  },
  {
   "cell_type": "code",
   "execution_count": 17,
   "metadata": {
    "collapsed": false
   },
   "outputs": [
    {
     "name": "stdout",
     "output_type": "stream",
     "text": [
      "On obtient alors un dataframe de taille : 60480\n"
     ]
    }
   ],
   "source": [
    "print \"On obtient alors un dataframe de taille : \"+str(len(dfFinalArea))"
   ]
  },
  {
   "cell_type": "markdown",
   "metadata": {},
   "source": [
    "## Remplissage dataframe"
   ]
  },
  {
   "cell_type": "markdown",
   "metadata": {},
   "source": [
    "On remplit ce dataframe avec l'agrégation."
   ]
  },
  {
   "cell_type": "code",
   "execution_count": 19,
   "metadata": {
    "collapsed": false,
    "scrolled": true
   },
   "outputs": [],
   "source": [
    "for index, row in dfAgregateByArea.iterrows():\n",
    "    idx=dfFinalArea[(dfFinalArea['Years']==row['Annee (0)']) & (dfFinalArea['Area']==row['area_by_hand']) \n",
    "                    & (dfFinalArea['Type']==row['new_type'])& (dfFinalArea['Fortnight']==row['fortnight'])\n",
    "                    & (dfFinalArea['Month']==int(row[\"mois (0)\"]))]\n",
    "    dfFinalArea.set_value(idx.index.values, \"Count\",row['count'])"
   ]
  },
  {
   "cell_type": "code",
   "execution_count": 21,
   "metadata": {
    "collapsed": false
   },
   "outputs": [],
   "source": [
    "def getActivity(Years):\n",
    "    activity=1\n",
    "    if Years<2013:\n",
    "        activity=2     \n",
    "    return activity\n",
    "\n",
    "dfFinalArea[\"Activity\"]=dfFinalArea.apply(lambda row: getActivity(row['Years']), axis=1)"
   ]
  },
  {
   "cell_type": "markdown",
   "metadata": {},
   "source": [
    "  \n",
    "  \n",
    "  \n",
    "  "
   ]
  },
  {
   "cell_type": "code",
   "execution_count": 22,
   "metadata": {
    "collapsed": true
   },
   "outputs": [],
   "source": [
    "dfFinalArea.to_csv(\"../data/aden_golfe_matrix_area_hand.csv\",sep=';', encoding='utf-8', index=False)"
   ]
  },
  {
   "cell_type": "markdown",
   "metadata": {},
   "source": [
    "  \n",
    "  \n",
    "  \n",
    "  "
   ]
  },
  {
   "cell_type": "markdown",
   "metadata": {},
   "source": [
    "  \n",
    "  \n",
    "  \n",
    "  "
   ]
  },
  {
   "cell_type": "markdown",
   "metadata": {},
   "source": [
    "  \n",
    "  \n",
    "  \n",
    "  "
   ]
  },
  {
   "cell_type": "markdown",
   "metadata": {},
   "source": [
    "  \n",
    "  \n",
    "  \n",
    "  "
   ]
  },
  {
   "cell_type": "markdown",
   "metadata": {},
   "source": [
    "# Matrice 2 : Agrégation par année, mois et type de bateaux"
   ]
  },
  {
   "cell_type": "markdown",
   "metadata": {},
   "source": [
    "On créé un dataframe agrégé par année, par mois et par type de bateaux"
   ]
  },
  {
   "cell_type": "code",
   "execution_count": 5,
   "metadata": {
    "collapsed": false
   },
   "outputs": [
    {
     "name": "stdout",
     "output_type": "stream",
     "text": [
      "         date         new_type  count\n",
      "0  2008-02-01            Other      1\n",
      "1  2008-02-01           Tanker      1\n",
      "2  2008-02-01              Tug      1\n",
      "3  2008-02-01  Vehicle Carrier      1\n",
      "4  2008-03-01            Other      3\n"
     ]
    }
   ],
   "source": [
    "dfAgregateTotalType=pd.DataFrame({'count' : df.groupby( [ \"date\",\"new_type\"] ).size()}).reset_index()\n",
    "dfAgregateTotalType[\"date\"]=dfAgregateTotalType[\"date\"]+\"-01\"\n",
    "print dfAgregateTotalType.head(5)"
   ]
  },
  {
   "cell_type": "markdown",
   "metadata": {},
   "source": [
    "On créé un dataframe vide."
   ]
  },
  {
   "cell_type": "code",
   "execution_count": 6,
   "metadata": {
    "collapsed": false
   },
   "outputs": [
    {
     "name": "stdout",
     "output_type": "stream",
     "text": [
      "   Barge  Military  Offshore Exploitation  Other  Ship  Tanker  Tug  \\\n",
      "0      0         0                      0      0     0       0    0   \n",
      "1      0         0                      0      0     0       0    0   \n",
      "2      0         0                      0      0     0       0    0   \n",
      "3      0         0                      0      0     0       0    0   \n",
      "4      0         0                      0      0     0       0    0   \n",
      "\n",
      "   Vehicle Carrier  Vessel        date  \n",
      "0                0       0  2008-01-01  \n",
      "1                0       0  2008-02-01  \n",
      "2                0       0  2008-03-01  \n",
      "3                0       0  2008-04-01  \n",
      "4                0       0  2008-05-01  \n"
     ]
    }
   ],
   "source": [
    "max_month=12\n",
    "unique_years=sorted(df[\"Annee (0)\"].unique())\n",
    "unique_type=sorted(dfAgregateTotalType[\"new_type\"].unique())\n",
    "month_repeat=np.linspace(1, max_month, num=max_month)\n",
    "\n",
    "colYears=np.repeat(unique_years, max_month)\n",
    "colMonth=np.tile(month_repeat, len(unique_years))\n",
    "                               \n",
    "dic2 = {'Years': colYears, 'Month': colMonth}\n",
    "dfGlobale = pd.DataFrame(dic2)\n",
    "\n",
    "for i in range(0,len(unique_type)):\n",
    "    nameColLat=str(unique_type[i])\n",
    "    dfGlobale[nameColLat]=0\n",
    "\n",
    "\n",
    "dfGlobale.head()\n",
    "dfGlobale[\"Month\"]=dfGlobale.apply(lambda row: monthCorrect(row['Month']), axis=1)\n",
    "dfGlobale[\"date\"]=dfGlobale.apply(lambda row: str(row[\"Years\"]) +\"-\"+ str(row[\"Month\"])+\"-01\", axis=1)\n",
    "dfGlobale = dfGlobale.drop('Month', 1)                            \n",
    "dfGlobale = dfGlobale.drop('Years', 1)\n",
    "print dfGlobale.head()"
   ]
  },
  {
   "cell_type": "markdown",
   "metadata": {},
   "source": [
    "## Remplissage dataframe"
   ]
  },
  {
   "cell_type": "code",
   "execution_count": 11,
   "metadata": {
    "collapsed": false
   },
   "outputs": [
    {
     "name": "stdout",
     "output_type": "stream",
     "text": [
      "         date  Vehicle Carrier  Vessel  Other  Ship  Offshore Exploitation\n",
      "0  2008-01-01                0       0      0     0                      0\n",
      "1  2008-02-01                1       0      1     0                      0\n",
      "2  2008-03-01                1       1      3     0                      0\n",
      "3  2008-04-01                2       3      2     0                      0\n",
      "4  2008-05-01                5       0      1     0                      0\n",
      "5  2008-06-01                1       0      1     0                      0\n",
      "6  2008-07-01                2       0      2     0                      0\n",
      "7  2008-08-01                6       0      4     0                      0\n",
      "8  2008-09-01               13       1      4     0                      0\n",
      "9  2008-10-01                8       0      3     0                      0\n"
     ]
    }
   ],
   "source": [
    "for index, row in dfAgregateTotalType.iterrows():\n",
    "    idx=dfGlobale[(dfGlobale['date']==row['date'])]\n",
    "    dfGlobale.set_value(idx.index.values, str(row[\"new_type\"]),row['count'])\n",
    "print dfGlobale[[\"date\",\"Vehicle Carrier\",\"Vessel\",\"Other\",\"Ship\",\"Offshore Exploitation\"]].head(10)"
   ]
  },
  {
   "cell_type": "code",
   "execution_count": 8,
   "metadata": {
    "collapsed": false
   },
   "outputs": [],
   "source": [
    "dfGlobale.to_csv(\"../data/aden_golfe_matrix_global.csv\",sep=';', encoding='utf-8', index=False)"
   ]
  },
  {
   "cell_type": "code",
   "execution_count": null,
   "metadata": {
    "collapsed": true
   },
   "outputs": [],
   "source": []
  }
 ],
 "metadata": {
  "kernelspec": {
   "display_name": "Python 2",
   "language": "python",
   "name": "python2"
  },
  "language_info": {
   "codemirror_mode": {
    "name": "ipython",
    "version": 2
   },
   "file_extension": ".py",
   "mimetype": "text/x-python",
   "name": "python",
   "nbconvert_exporter": "python",
   "pygments_lexer": "ipython2",
   "version": "2.7.11"
  }
 },
 "nbformat": 4,
 "nbformat_minor": 0
}
