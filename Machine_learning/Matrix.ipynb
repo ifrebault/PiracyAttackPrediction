{
 "cells": [
  {
   "cell_type": "code",
   "execution_count": 58,
   "metadata": {
    "collapsed": true
   },
   "outputs": [],
   "source": [
    "import numpy as np\n",
    "import pandas as pd\n",
    "from sklearn.preprocessing import label_binarize"
   ]
  },
  {
   "cell_type": "code",
   "execution_count": 59,
   "metadata": {
    "collapsed": false
   },
   "outputs": [],
   "source": [
    "df = pd.read_csv('../data/aden_golfe.csv',sep=';')"
   ]
  },
  {
   "cell_type": "code",
   "execution_count": 60,
   "metadata": {
    "collapsed": false
   },
   "outputs": [
    {
     "name": "stdout",
     "output_type": "stream",
     "text": [
      "416\n"
     ]
    }
   ],
   "source": [
    "max_quinzaine=24\n",
    "max_area_lat=12\n",
    "max_area_lon=31\n",
    "number_grid=(max_area_lat+1)*(max_area_lon+1)\n",
    "print number_grid"
   ]
  },
  {
   "cell_type": "code",
   "execution_count": 61,
   "metadata": {
    "collapsed": false
   },
   "outputs": [],
   "source": [
    "df['lat_area'] = df['lat_area'].astype(int)\n",
    "df['lon_area'] = df['lon_area'].astype(int)"
   ]
  },
  {
   "cell_type": "markdown",
   "metadata": {},
   "source": [
    "# Version 1"
   ]
  },
  {
   "cell_type": "code",
   "execution_count": 51,
   "metadata": {
    "collapsed": true
   },
   "outputs": [],
   "source": [
    "df['area'] = df.apply(lambda row: str(row['lat_area'])+'_'+str(row['lon_area']), axis=1)"
   ]
  },
  {
   "cell_type": "markdown",
   "metadata": {},
   "source": [
    "## Creation d'un data frame vide"
   ]
  },
  {
   "cell_type": "code",
   "execution_count": 52,
   "metadata": {
    "collapsed": false,
    "scrolled": true
   },
   "outputs": [],
   "source": [
    "dfAgregateTotal=pd.DataFrame({'count' : df.groupby( [ \"Annee (0)\",\"quinzaine_week\",\"area\"] ).size()}).reset_index()"
   ]
  },
  {
   "cell_type": "code",
   "execution_count": 53,
   "metadata": {
    "collapsed": false
   },
   "outputs": [
    {
     "name": "stdout",
     "output_type": "stream",
     "text": [
      "   Annee (0)  quinzaine_week  area  count lat_area lon_area\n",
      "0       2008               3  4_20      2        4       20\n",
      "1       2008               6  3_21      1        3       21\n",
      "2       2008               6  4_18      1        4       18\n",
      "3       2008               6  6_19      1        6       19\n",
      "4       2008               7  5_16      1        5       16\n"
     ]
    }
   ],
   "source": [
    "specifecArea=pd.DataFrame(dfAgregateTotal['area'].str.split('_',1).tolist(),columns = ['lat_area','lon_area'])\n",
    "dfAgregateTotal=pd.concat([dfAgregateTotal, specifecArea], axis=1)\n",
    "print dfAgregateTotal.head()"
   ]
  },
  {
   "cell_type": "code",
   "execution_count": 54,
   "metadata": {
    "collapsed": false
   },
   "outputs": [
    {
     "name": "stdout",
     "output_type": "stream",
     "text": [
      "[  0.   1.   2. ...,  29.  30.  31.]\n",
      "69888\n",
      "69888\n",
      "69888\n",
      "69888\n"
     ]
    }
   ],
   "source": [
    "uniqueYears=dfAgregateTotal['Annee (0)'].unique()\n",
    "Colyears=np.repeat(uniqueYears, 24*(max_area_lon+1)*(max_area_lat+1))\n",
    "\n",
    "TwoweekRepeat=np.repeat(np.linspace(1, max_quinzaine, num=max_quinzaine), (max_area_lon+1)*(max_area_lat+1))\n",
    "ColTwoweek=np.tile(TwoweekRepeat, len(uniqueYears))\n",
    "\n",
    "latRepeat=np.linspace(0, max_area_lat,num=max_area_lat+1)\n",
    "ColLatArea=np.repeat(latRepeat, max_area_lon+1)\n",
    "ColLatArea=np.tile(ColLatArea, max_quinzaine)\n",
    "ColLatArea=np.tile(ColLatArea, len(uniqueYears))\n",
    "\n",
    "#print ColLatArea\n",
    "\n",
    "lonRepeat=np.tile(np.linspace(0, max_area_lon, num=max_area_lon+1),max_area_lat+1)\n",
    "ColLonArea=np.tile(lonRepeat, max_quinzaine)\n",
    "ColLonArea=np.tile(ColLonArea, len(uniqueYears))\n",
    "\n",
    "print ColLonArea\n",
    "\n",
    "count=np.repeat(0, len(Colyears))\n",
    "\n",
    "print len(Colyears)\n",
    "print len(ColTwoweek)\n",
    "print len(ColLatArea)\n",
    "print len(ColLonArea)\n"
   ]
  },
  {
   "cell_type": "markdown",
   "metadata": {},
   "source": [
    "## Fill the matrice"
   ]
  },
  {
   "cell_type": "code",
   "execution_count": 55,
   "metadata": {
    "collapsed": false,
    "scrolled": true
   },
   "outputs": [
    {
     "name": "stdout",
     "output_type": "stream",
     "text": [
      "   2_week  Years  count lat_area lon_area\n",
      "0       1   2008      0        0        0\n",
      "1       1   2008      0        0        1\n",
      "2       1   2008      0        0        2\n",
      "3       1   2008      0        0        3\n",
      "4       1   2008      0        0        4\n"
     ]
    }
   ],
   "source": [
    "#columns = ['Years','2_week', 'lat_area','lon_area','count']\n",
    "#matriceML=pd.DataFrame(columns=columns)\n",
    "#matriceML = matriceML.fillna(0)\n",
    "\n",
    "dic = {'Years': Colyears, \n",
    "     '2_week': ColTwoweek, \n",
    "     'lat_area': ColLatArea,\n",
    "     'lon_area': ColLonArea,\n",
    "     'count': count\n",
    "      }\n",
    "\n",
    "dfFinal= pd.DataFrame(dic)\n",
    "\n",
    "dfFinal['lat_area']=dfFinal['lat_area'].astype(int).astype('str')\n",
    "dfFinal['lon_area']=dfFinal['lon_area'].astype(int).astype('str')\n",
    "\n",
    "print dfFinal.head()"
   ]
  },
  {
   "cell_type": "code",
   "execution_count": 56,
   "metadata": {
    "collapsed": false,
    "scrolled": true
   },
   "outputs": [
    {
     "name": "stdout",
     "output_type": "stream",
     "text": [
      "0\n",
      "100\n",
      "200\n",
      "300\n"
     ]
    }
   ],
   "source": [
    "for index, row in dfAgregateTotal.iterrows():\n",
    "    if index%100==0:\n",
    "        print index\n",
    "    #print row['Annee (0)'], row['quinzaine_week'], row['count'] ,  row['lat_area'] , row['lon_area'] \n",
    "    idx=dfFinal[(dfFinal['Years']==row['Annee (0)']) & (dfFinal['lat_area']==row['lat_area']) & (dfFinal['lon_area']==row['lon_area'] )& (dfFinal['2_week']==row['quinzaine_week'])]\n",
    "    #print 'index : '+str(idx.index.values)\n",
    "    #print 'count : '+str(row['count'])\n",
    "    dfFinal.set_value(idx.index.values, 'count',row['count'])"
   ]
  },
  {
   "cell_type": "code",
   "execution_count": 38,
   "metadata": {
    "collapsed": false
   },
   "outputs": [
    {
     "data": {
      "text/plain": [
       "421"
      ]
     },
     "execution_count": 38,
     "metadata": {},
     "output_type": "execute_result"
    }
   ],
   "source": [
    "dfFinal['count'].sum()"
   ]
  },
  {
   "cell_type": "markdown",
   "metadata": {},
   "source": [
    "## Write matrice in a file"
   ]
  },
  {
   "cell_type": "code",
   "execution_count": 57,
   "metadata": {
    "collapsed": false
   },
   "outputs": [],
   "source": [
    "dfFinal.to_csv(\"../data/aden_golfe_matrix_area.csv\",sep=';', encoding='utf-8', index=False)"
   ]
  },
  {
   "cell_type": "markdown",
   "metadata": {
    "collapsed": true
   },
   "source": [
    "#  "
   ]
  },
  {
   "cell_type": "markdown",
   "metadata": {},
   "source": [
    "# Version 2"
   ]
  },
  {
   "cell_type": "code",
   "execution_count": 62,
   "metadata": {
    "collapsed": false
   },
   "outputs": [
    {
     "data": {
      "text/html": [
       "<div>\n",
       "<table border=\"1\" class=\"dataframe\">\n",
       "  <thead>\n",
       "    <tr style=\"text-align: right;\">\n",
       "      <th></th>\n",
       "      <th>Annee (0)</th>\n",
       "      <th>quinzaine_week</th>\n",
       "      <th>count</th>\n",
       "    </tr>\n",
       "  </thead>\n",
       "  <tbody>\n",
       "    <tr>\n",
       "      <th>0</th>\n",
       "      <td>2008</td>\n",
       "      <td>3</td>\n",
       "      <td>2</td>\n",
       "    </tr>\n",
       "    <tr>\n",
       "      <th>1</th>\n",
       "      <td>2008</td>\n",
       "      <td>6</td>\n",
       "      <td>3</td>\n",
       "    </tr>\n",
       "    <tr>\n",
       "      <th>2</th>\n",
       "      <td>2008</td>\n",
       "      <td>7</td>\n",
       "      <td>3</td>\n",
       "    </tr>\n",
       "    <tr>\n",
       "      <th>3</th>\n",
       "      <td>2008</td>\n",
       "      <td>8</td>\n",
       "      <td>3</td>\n",
       "    </tr>\n",
       "    <tr>\n",
       "      <th>4</th>\n",
       "      <td>2008</td>\n",
       "      <td>10</td>\n",
       "      <td>6</td>\n",
       "    </tr>\n",
       "  </tbody>\n",
       "</table>\n",
       "</div>"
      ],
      "text/plain": [
       "   Annee (0)  quinzaine_week  count\n",
       "0       2008               3      2\n",
       "1       2008               6      3\n",
       "2       2008               7      3\n",
       "3       2008               8      3\n",
       "4       2008              10      6"
      ]
     },
     "execution_count": 62,
     "metadata": {},
     "output_type": "execute_result"
    }
   ],
   "source": [
    "dfAgregateTotal2=pd.DataFrame({'count' : df.groupby( [ \"Annee (0)\",\"quinzaine_week\"] ).size()}).reset_index()\n",
    "dfAgregateTotal2.head()"
   ]
  },
  {
   "cell_type": "code",
   "execution_count": 63,
   "metadata": {
    "collapsed": false
   },
   "outputs": [
    {
     "name": "stdout",
     "output_type": "stream",
     "text": [
      "[2008 2009 2010 2011 2012 2013 2014]\n"
     ]
    }
   ],
   "source": [
    "unique_years=dfAgregateTotal2['Annee (0)'].unique()\n",
    "\n",
    "#unique_type=dfAgregateTotal2['type d\\'attaque(0)'].unique()\n",
    "\n",
    "print unique_years\n",
    "#print unique_type"
   ]
  },
  {
   "cell_type": "code",
   "execution_count": 42,
   "metadata": {
    "collapsed": false
   },
   "outputs": [
    {
     "name": "stdout",
     "output_type": "stream",
     "text": [
      "168\n",
      "168\n"
     ]
    }
   ],
   "source": [
    "col_years=np.repeat(unique_years, max_quinzaine)\n",
    "print len(col_years)\n",
    "\n",
    "two_week_repeat=np.linspace(1, max_quinzaine, num=max_quinzaine)\n",
    "#print np.repeat(two_week_repeat,4)\n",
    "col_two_week=np.tile(two_week_repeat, len(unique_years))\n",
    "print len(col_two_week)\n",
    "\n",
    "col_count=np.repeat(0, len(col_two_week))\n",
    "\n",
    "\n",
    "dic2 = {'Years': col_years, \n",
    "     '2_week': col_two_week, \n",
    "     'count': col_count#,\n",
    "     #'type_attack': col_type\n",
    "      }\n",
    "\n",
    "dfFinal_2= pd.DataFrame(dic2)\n"
   ]
  },
  {
   "cell_type": "markdown",
   "metadata": {},
   "source": [
    "## Matrix empty"
   ]
  },
  {
   "cell_type": "code",
   "execution_count": 43,
   "metadata": {
    "collapsed": false
   },
   "outputs": [
    {
     "data": {
      "text/html": [
       "<div>\n",
       "<table border=\"1\" class=\"dataframe\">\n",
       "  <thead>\n",
       "    <tr style=\"text-align: right;\">\n",
       "      <th></th>\n",
       "      <th>2_week</th>\n",
       "      <th>Years</th>\n",
       "      <th>count</th>\n",
       "    </tr>\n",
       "  </thead>\n",
       "  <tbody>\n",
       "    <tr>\n",
       "      <th>0</th>\n",
       "      <td>1</td>\n",
       "      <td>2008</td>\n",
       "      <td>0</td>\n",
       "    </tr>\n",
       "    <tr>\n",
       "      <th>1</th>\n",
       "      <td>2</td>\n",
       "      <td>2008</td>\n",
       "      <td>0</td>\n",
       "    </tr>\n",
       "    <tr>\n",
       "      <th>2</th>\n",
       "      <td>3</td>\n",
       "      <td>2008</td>\n",
       "      <td>0</td>\n",
       "    </tr>\n",
       "    <tr>\n",
       "      <th>3</th>\n",
       "      <td>4</td>\n",
       "      <td>2008</td>\n",
       "      <td>0</td>\n",
       "    </tr>\n",
       "    <tr>\n",
       "      <th>4</th>\n",
       "      <td>5</td>\n",
       "      <td>2008</td>\n",
       "      <td>0</td>\n",
       "    </tr>\n",
       "  </tbody>\n",
       "</table>\n",
       "</div>"
      ],
      "text/plain": [
       "   2_week  Years  count\n",
       "0       1   2008      0\n",
       "1       2   2008      0\n",
       "2       3   2008      0\n",
       "3       4   2008      0\n",
       "4       5   2008      0"
      ]
     },
     "execution_count": 43,
     "metadata": {},
     "output_type": "execute_result"
    }
   ],
   "source": [
    "dfFinal_2.head()"
   ]
  },
  {
   "cell_type": "code",
   "execution_count": null,
   "metadata": {
    "collapsed": true
   },
   "outputs": [],
   "source": []
  },
  {
   "cell_type": "markdown",
   "metadata": {},
   "source": [
    "# Fill matrice"
   ]
  },
  {
   "cell_type": "code",
   "execution_count": 44,
   "metadata": {
    "collapsed": false
   },
   "outputs": [
    {
     "name": "stdout",
     "output_type": "stream",
     "text": [
      "Years 2008.0 2_week : 3.0 count : 2.0\n",
      "index : [2]\n",
      "count : 2.0\n",
      "Years 2008.0 2_week : 6.0 count : 3.0\n",
      "index : [5]\n",
      "count : 3.0\n",
      "Years 2008.0 2_week : 7.0 count : 3.0\n",
      "index : [6]\n",
      "count : 3.0\n",
      "Years 2008.0 2_week : 8.0 count : 3.0\n",
      "index : [7]\n",
      "count : 3.0\n",
      "Years 2008.0 2_week : 10.0 count : 6.0\n",
      "index : [9]\n",
      "count : 6.0\n",
      "Years 2008.0 2_week : 11.0 count : 1.0\n",
      "index : [10]\n",
      "count : 1.0\n",
      "Years 2008.0 2_week : 12.0 count : 1.0\n",
      "index : [11]\n",
      "count : 1.0\n",
      "Years 2008.0 2_week : 13.0 count : 1.0\n",
      "index : [12]\n",
      "count : 1.0\n",
      "Years 2008.0 2_week : 14.0 count : 3.0\n",
      "index : [13]\n",
      "count : 3.0\n",
      "Years 2008.0 2_week : 15.0 count : 2.0\n",
      "index : [14]\n",
      "count : 2.0\n",
      "Years 2008.0 2_week : 16.0 count : 7.0\n",
      "index : [15]\n",
      "count : 7.0\n",
      "Years 2008.0 2_week : 17.0 count : 14.0\n",
      "index : [16]\n",
      "count : 14.0\n",
      "Years 2008.0 2_week : 18.0 count : 5.0\n",
      "index : [17]\n",
      "count : 5.0\n",
      "Years 2008.0 2_week : 19.0 count : 9.0\n",
      "index : [18]\n",
      "count : 9.0\n",
      "Years 2008.0 2_week : 20.0 count : 7.0\n",
      "index : [19]\n",
      "count : 7.0\n",
      "Years 2008.0 2_week : 21.0 count : 8.0\n",
      "index : [20]\n",
      "count : 8.0\n",
      "Years 2008.0 2_week : 22.0 count : 8.0\n",
      "index : [21]\n",
      "count : 8.0\n",
      "Years 2008.0 2_week : 23.0 count : 4.0\n",
      "index : [22]\n",
      "count : 4.0\n",
      "Years 2008.0 2_week : 24.0 count : 6.0\n",
      "index : [23]\n",
      "count : 6.0\n",
      "Years 2009.0 2_week : 1.0 count : 17.0\n",
      "index : [24]\n",
      "count : 17.0\n",
      "Years 2009.0 2_week : 2.0 count : 2.0\n",
      "index : [25]\n",
      "count : 2.0\n",
      "Years 2009.0 2_week : 3.0 count : 4.0\n",
      "index : [26]\n",
      "count : 4.0\n",
      "Years 2009.0 2_week : 4.0 count : 5.0\n",
      "index : [27]\n",
      "count : 5.0\n",
      "Years 2009.0 2_week : 5.0 count : 5.0\n",
      "index : [28]\n",
      "count : 5.0\n",
      "Years 2009.0 2_week : 6.0 count : 8.0\n",
      "index : [29]\n",
      "count : 8.0\n",
      "Years 2009.0 2_week : 7.0 count : 8.0\n",
      "index : [30]\n",
      "count : 8.0\n",
      "Years 2009.0 2_week : 8.0 count : 9.0\n",
      "index : [31]\n",
      "count : 9.0\n",
      "Years 2009.0 2_week : 9.0 count : 10.0\n",
      "index : [32]\n",
      "count : 10.0\n",
      "Years 2009.0 2_week : 10.0 count : 12.0\n",
      "index : [33]\n",
      "count : 12.0\n",
      "Years 2009.0 2_week : 11.0 count : 8.0\n",
      "index : [34]\n",
      "count : 8.0\n",
      "Years 2009.0 2_week : 12.0 count : 5.0\n",
      "index : [35]\n",
      "count : 5.0\n",
      "Years 2009.0 2_week : 13.0 count : 2.0\n",
      "index : [36]\n",
      "count : 2.0\n",
      "Years 2009.0 2_week : 15.0 count : 3.0\n",
      "index : [38]\n",
      "count : 3.0\n",
      "Years 2009.0 2_week : 16.0 count : 1.0\n",
      "index : [39]\n",
      "count : 1.0\n",
      "Years 2009.0 2_week : 18.0 count : 9.0\n",
      "index : [41]\n",
      "count : 9.0\n",
      "Years 2009.0 2_week : 19.0 count : 3.0\n",
      "index : [42]\n",
      "count : 3.0\n",
      "Years 2009.0 2_week : 20.0 count : 2.0\n",
      "index : [43]\n",
      "count : 2.0\n",
      "Years 2009.0 2_week : 21.0 count : 5.0\n",
      "index : [44]\n",
      "count : 5.0\n",
      "Years 2009.0 2_week : 22.0 count : 2.0\n",
      "index : [45]\n",
      "count : 2.0\n",
      "Years 2009.0 2_week : 23.0 count : 2.0\n",
      "index : [46]\n",
      "count : 2.0\n",
      "Years 2009.0 2_week : 24.0 count : 1.0\n",
      "index : [47]\n",
      "count : 1.0\n",
      "Years 2010.0 2_week : 1.0 count : 1.0\n",
      "index : [48]\n",
      "count : 1.0\n",
      "Years 2010.0 2_week : 2.0 count : 2.0\n",
      "index : [49]\n",
      "count : 2.0\n",
      "Years 2010.0 2_week : 3.0 count : 2.0\n",
      "index : [50]\n",
      "count : 2.0\n",
      "Years 2010.0 2_week : 4.0 count : 1.0\n",
      "index : [51]\n",
      "count : 1.0\n",
      "Years 2010.0 2_week : 5.0 count : 3.0\n",
      "index : [52]\n",
      "count : 3.0\n",
      "Years 2010.0 2_week : 6.0 count : 5.0\n",
      "index : [53]\n",
      "count : 5.0\n",
      "Years 2010.0 2_week : 7.0 count : 5.0\n",
      "index : [54]\n",
      "count : 5.0\n",
      "Years 2010.0 2_week : 8.0 count : 2.0\n",
      "index : [55]\n",
      "count : 2.0\n",
      "Years 2010.0 2_week : 9.0 count : 5.0\n",
      "index : [56]\n",
      "count : 5.0\n",
      "Years 2010.0 2_week : 10.0 count : 2.0\n",
      "index : [57]\n",
      "count : 2.0\n",
      "Years 2010.0 2_week : 11.0 count : 6.0\n",
      "index : [58]\n",
      "count : 6.0\n",
      "Years 2010.0 2_week : 12.0 count : 8.0\n",
      "index : [59]\n",
      "count : 8.0\n",
      "Years 2010.0 2_week : 13.0 count : 4.0\n",
      "index : [60]\n",
      "count : 4.0\n",
      "Years 2010.0 2_week : 14.0 count : 1.0\n",
      "index : [61]\n",
      "count : 1.0\n",
      "Years 2010.0 2_week : 15.0 count : 8.0\n",
      "index : [62]\n",
      "count : 8.0\n",
      "Years 2010.0 2_week : 16.0 count : 4.0\n",
      "index : [63]\n",
      "count : 4.0\n",
      "Years 2010.0 2_week : 17.0 count : 3.0\n",
      "index : [64]\n",
      "count : 3.0\n",
      "Years 2010.0 2_week : 19.0 count : 1.0\n",
      "index : [66]\n",
      "count : 1.0\n",
      "Years 2010.0 2_week : 20.0 count : 5.0\n",
      "index : [67]\n",
      "count : 5.0\n",
      "Years 2010.0 2_week : 21.0 count : 1.0\n",
      "index : [68]\n",
      "count : 1.0\n",
      "Years 2010.0 2_week : 22.0 count : 2.0\n",
      "index : [69]\n",
      "count : 2.0\n",
      "Years 2010.0 2_week : 23.0 count : 2.0\n",
      "index : [70]\n",
      "count : 2.0\n",
      "Years 2011.0 2_week : 1.0 count : 5.0\n",
      "index : [72]\n",
      "count : 5.0\n",
      "Years 2011.0 2_week : 2.0 count : 2.0\n",
      "index : [73]\n",
      "count : 2.0\n",
      "Years 2011.0 2_week : 3.0 count : 3.0\n",
      "index : [74]\n",
      "count : 3.0\n",
      "Years 2011.0 2_week : 4.0 count : 2.0\n",
      "index : [75]\n",
      "count : 2.0\n",
      "Years 2011.0 2_week : 5.0 count : 1.0\n",
      "index : [76]\n",
      "count : 1.0\n",
      "Years 2011.0 2_week : 6.0 count : 3.0\n",
      "index : [77]\n",
      "count : 3.0\n",
      "Years 2011.0 2_week : 7.0 count : 6.0\n",
      "index : [78]\n",
      "count : 6.0\n",
      "Years 2011.0 2_week : 8.0 count : 3.0\n",
      "index : [79]\n",
      "count : 3.0\n",
      "Years 2011.0 2_week : 9.0 count : 3.0\n",
      "index : [80]\n",
      "count : 3.0\n",
      "Years 2011.0 2_week : 10.0 count : 9.0\n",
      "index : [81]\n",
      "count : 9.0\n",
      "Years 2011.0 2_week : 11.0 count : 6.0\n",
      "index : [82]\n",
      "count : 6.0\n",
      "Years 2011.0 2_week : 12.0 count : 2.0\n",
      "index : [83]\n",
      "count : 2.0\n",
      "Years 2011.0 2_week : 13.0 count : 2.0\n",
      "index : [84]\n",
      "count : 2.0\n",
      "Years 2011.0 2_week : 14.0 count : 11.0\n",
      "index : [85]\n",
      "count : 11.0\n",
      "Years 2011.0 2_week : 15.0 count : 5.0\n",
      "index : [86]\n",
      "count : 5.0\n",
      "Years 2011.0 2_week : 16.0 count : 7.0\n",
      "index : [87]\n",
      "count : 7.0\n",
      "Years 2011.0 2_week : 17.0 count : 2.0\n",
      "index : [88]\n",
      "count : 2.0\n",
      "Years 2011.0 2_week : 18.0 count : 6.0\n",
      "index : [89]\n",
      "count : 6.0\n",
      "Years 2011.0 2_week : 19.0 count : 1.0\n",
      "index : [90]\n",
      "count : 1.0\n",
      "Years 2011.0 2_week : 20.0 count : 2.0\n",
      "index : [91]\n",
      "count : 2.0\n",
      "Years 2011.0 2_week : 22.0 count : 3.0\n",
      "index : [93]\n",
      "count : 3.0\n",
      "Years 2011.0 2_week : 24.0 count : 1.0\n",
      "index : [95]\n",
      "count : 1.0\n",
      "Years 2012.0 2_week : 1.0 count : 3.0\n",
      "index : [96]\n",
      "count : 3.0\n",
      "Years 2012.0 2_week : 2.0 count : 2.0\n",
      "index : [97]\n",
      "count : 2.0\n",
      "Years 2012.0 2_week : 3.0 count : 3.0\n",
      "index : [98]\n",
      "count : 3.0\n",
      "Years 2012.0 2_week : 4.0 count : 4.0\n",
      "index : [99]\n",
      "count : 4.0\n",
      "Years 2012.0 2_week : 5.0 count : 3.0\n",
      "index : [100]\n",
      "count : 3.0\n",
      "Years 2012.0 2_week : 6.0 count : 1.0\n",
      "index : [101]\n",
      "count : 1.0\n",
      "Years 2012.0 2_week : 7.0 count : 1.0\n",
      "index : [102]\n",
      "count : 1.0\n",
      "Years 2012.0 2_week : 8.0 count : 3.0\n",
      "index : [103]\n",
      "count : 3.0\n",
      "Years 2012.0 2_week : 9.0 count : 1.0\n",
      "index : [104]\n",
      "count : 1.0\n",
      "Years 2012.0 2_week : 10.0 count : 1.0\n",
      "index : [105]\n",
      "count : 1.0\n",
      "Years 2012.0 2_week : 11.0 count : 2.0\n",
      "index : [106]\n",
      "count : 2.0\n",
      "Years 2012.0 2_week : 12.0 count : 2.0\n",
      "index : [107]\n",
      "count : 2.0\n",
      "Years 2012.0 2_week : 14.0 count : 1.0\n",
      "index : [109]\n",
      "count : 1.0\n",
      "Years 2012.0 2_week : 24.0 count : 1.0\n",
      "index : [119]\n",
      "count : 1.0\n",
      "Years 2013.0 2_week : 5.0 count : 2.0\n",
      "index : [124]\n",
      "count : 2.0\n",
      "Years 2013.0 2_week : 6.0 count : 1.0\n",
      "index : [125]\n",
      "count : 1.0\n",
      "Years 2013.0 2_week : 10.0 count : 1.0\n",
      "index : [129]\n",
      "count : 1.0\n",
      "Years 2013.0 2_week : 11.0 count : 1.0\n",
      "index : [130]\n",
      "count : 1.0\n",
      "Years 2013.0 2_week : 13.0 count : 1.0\n",
      "index : [132]\n",
      "count : 1.0\n",
      "Years 2013.0 2_week : 14.0 count : 1.0\n",
      "index : [133]\n",
      "count : 1.0\n",
      "Years 2013.0 2_week : 23.0 count : 2.0\n",
      "index : [142]\n",
      "count : 2.0\n",
      "Years 2014.0 2_week : 2.0 count : 1.0\n",
      "index : [145]\n",
      "count : 1.0\n",
      "Years 2014.0 2_week : 3.0 count : 1.0\n",
      "index : [146]\n",
      "count : 1.0\n",
      "Years 2014.0 2_week : 5.0 count : 1.0\n",
      "index : [148]\n",
      "count : 1.0\n",
      "Years 2014.0 2_week : 6.0 count : 1.0\n",
      "index : [149]\n",
      "count : 1.0\n",
      "Years 2014.0 2_week : 7.0 count : 3.0\n",
      "index : [150]\n",
      "count : 3.0\n",
      "Years 2014.0 2_week : 8.0 count : 1.0\n",
      "index : [151]\n",
      "count : 1.0\n",
      "Years 2014.0 2_week : 16.0 count : 1.0\n",
      "index : [159]\n",
      "count : 1.0\n",
      "Years 2014.0 2_week : 24.0 count : 1.0\n",
      "index : [167]\n",
      "count : 1.0\n"
     ]
    }
   ],
   "source": [
    "for index, row in dfAgregateTotal2.iterrows():\n",
    "\n",
    "    print 'Years '+str(row['Annee (0)']),'2_week : '+str( row['quinzaine_week']),'count : '+str(row['count'])#,'type_attack : '+str(row['type d\\'attaque(0)'])\n",
    "\n",
    "    idx=dfFinal_2[(dfFinal_2['Years']==row['Annee (0)']) & (dfFinal_2['2_week']==row['quinzaine_week'])]\n",
    "    print 'index : '+str(idx.index.values)\n",
    "    print 'count : '+str(row['count'])\n",
    "    dfFinal_2.set_value(idx.index.values, 'count',row['count'])"
   ]
  },
  {
   "cell_type": "code",
   "execution_count": 45,
   "metadata": {
    "collapsed": false,
    "scrolled": true
   },
   "outputs": [
    {
     "name": "stdout",
     "output_type": "stream",
     "text": [
      "     2_week  Years  count   full_years\n",
      "0         1   2008      0  2008.041667\n",
      "1         2   2008      0  2008.083333\n",
      "2         3   2008      2  2008.125000\n",
      "3         4   2008      0  2008.166667\n",
      "4         5   2008      0  2008.208333\n",
      "5         6   2008      3  2008.250000\n",
      "6         7   2008      3  2008.291667\n",
      "7         8   2008      3  2008.333333\n",
      "8         9   2008      0  2008.375000\n",
      "9        10   2008      6  2008.416667\n",
      "10       11   2008      1  2008.458333\n",
      "11       12   2008      1  2008.500000\n",
      "12       13   2008      1  2008.541667\n",
      "13       14   2008      3  2008.583333\n",
      "14       15   2008      2  2008.625000\n",
      "15       16   2008      7  2008.666667\n",
      "16       17   2008     14  2008.708333\n",
      "17       18   2008      5  2008.750000\n",
      "18       19   2008      9  2008.791667\n",
      "19       20   2008      7  2008.833333\n",
      "20       21   2008      8  2008.875000\n",
      "21       22   2008      8  2008.916667\n",
      "22       23   2008      4  2008.958333\n",
      "23       24   2008      6  2009.000000\n",
      "24        1   2009     17  2009.041667\n",
      "25        2   2009      2  2009.083333\n",
      "26        3   2009      4  2009.125000\n",
      "27        4   2009      5  2009.166667\n",
      "28        5   2009      5  2009.208333\n",
      "29        6   2009      8  2009.250000\n",
      "..      ...    ...    ...          ...\n",
      "138      19   2013      0  2013.791667\n",
      "139      20   2013      0  2013.833333\n",
      "140      21   2013      0  2013.875000\n",
      "141      22   2013      0  2013.916667\n",
      "142      23   2013      2  2013.958333\n",
      "143      24   2013      0  2014.000000\n",
      "144       1   2014      0  2014.041667\n",
      "145       2   2014      1  2014.083333\n",
      "146       3   2014      1  2014.125000\n",
      "147       4   2014      0  2014.166667\n",
      "148       5   2014      1  2014.208333\n",
      "149       6   2014      1  2014.250000\n",
      "150       7   2014      3  2014.291667\n",
      "151       8   2014      1  2014.333333\n",
      "152       9   2014      0  2014.375000\n",
      "153      10   2014      0  2014.416667\n",
      "154      11   2014      0  2014.458333\n",
      "155      12   2014      0  2014.500000\n",
      "156      13   2014      0  2014.541667\n",
      "157      14   2014      0  2014.583333\n",
      "158      15   2014      0  2014.625000\n",
      "159      16   2014      1  2014.666667\n",
      "160      17   2014      0  2014.708333\n",
      "161      18   2014      0  2014.750000\n",
      "162      19   2014      0  2014.791667\n",
      "163      20   2014      0  2014.833333\n",
      "164      21   2014      0  2014.875000\n",
      "165      22   2014      0  2014.916667\n",
      "166      23   2014      0  2014.958333\n",
      "167      24   2014      1  2015.000000\n",
      "\n",
      "[168 rows x 4 columns]\n"
     ]
    }
   ],
   "source": [
    "#binary=label_binarize(col_type, classes=unique_type)\n",
    "#dfFinal_2[unique_type[0]]=binary[:,0]\n",
    "#dfFinal_2[unique_type[1]]=binary[:,1]\n",
    "#dfFinal_2[unique_type[2]]=binary[:,2]\n",
    "#dfFinal_2[unique_type[3]]=binary[:,3]\n",
    "\n",
    "dfFinal_2['full_years'] =dfFinal_2.apply(lambda row: row['Years']+float(row['2_week']/24), axis=1)\n",
    "print dfFinal_2"
   ]
  },
  {
   "cell_type": "code",
   "execution_count": 46,
   "metadata": {
    "collapsed": false
   },
   "outputs": [],
   "source": [
    "dfFinal_2.to_csv(\"../data/aden_golfe_matrix_global.csv\",sep=';', encoding='utf-8', index=False)"
   ]
  },
  {
   "cell_type": "code",
   "execution_count": 64,
   "metadata": {
    "collapsed": true
   },
   "outputs": [],
   "source": [
    "dfAgregateTotal2.to_csv(\"../data/aden_golfe_matrix_global.csv\",sep=';', encoding='utf-8', index=False)"
   ]
  },
  {
   "cell_type": "code",
   "execution_count": null,
   "metadata": {
    "collapsed": true
   },
   "outputs": [],
   "source": []
  }
 ],
 "metadata": {
  "kernelspec": {
   "display_name": "Python 2",
   "language": "python",
   "name": "python2"
  },
  "language_info": {
   "codemirror_mode": {
    "name": "ipython",
    "version": 2
   },
   "file_extension": ".py",
   "mimetype": "text/x-python",
   "name": "python",
   "nbconvert_exporter": "python",
   "pygments_lexer": "ipython2",
   "version": "2.7.11"
  }
 },
 "nbformat": 4,
 "nbformat_minor": 0
}
