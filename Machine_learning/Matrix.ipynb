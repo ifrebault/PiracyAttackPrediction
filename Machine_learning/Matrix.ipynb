{
 "cells": [
  {
   "cell_type": "code",
   "execution_count": 1,
   "metadata": {
    "collapsed": true
   },
   "outputs": [],
   "source": [
    "import numpy as np\n",
    "import pandas as pd\n",
    "from sklearn.preprocessing import label_binarize\n",
    "import datetime"
   ]
  },
  {
   "cell_type": "code",
   "execution_count": 2,
   "metadata": {
    "collapsed": false
   },
   "outputs": [],
   "source": [
    "df = pd.read_csv('../data/aden_golfe.csv',sep=';')"
   ]
  },
  {
   "cell_type": "code",
   "execution_count": 68,
   "metadata": {
    "collapsed": false
   },
   "outputs": [],
   "source": [
    "def monthCorrect(month):\n",
    "    month=str(int(month))\n",
    "    if len(month)==1:\n",
    "        return '0'+month\n",
    "    else:\n",
    "        return month\n",
    "\n",
    "df[\"mois (0)\"]=df.apply(lambda row: monthCorrect(row['mois (0)']), axis=1)\n",
    "df[\"jour (0)\"]=df.apply(lambda row: monthCorrect(row['jour (0)']), axis=1)\n",
    "df[\"date\"]=df.apply(lambda row: str(row[\"Annee (0)\"]) +\"-\"+ str(row[\"mois (0)\"]), axis=1)"
   ]
  },
  {
   "cell_type": "code",
   "execution_count": 69,
   "metadata": {
    "collapsed": false
   },
   "outputs": [
    {
     "name": "stdout",
     "output_type": "stream",
     "text": [
      "   Annee (0) jour (0) mois (0)  dist cote (nq) zone lat (0)  long(0)  \\\n",
      "0       2010       28       10             NaN  BCD  12:08N  054:25E   \n",
      "1       2010       30       10             NaN  BCD  15:06N  055:58E   \n",
      "\n",
      "        type(0)    pavillon statut de l'attaque(0)   ...    quinzaine_week  \\\n",
      "0          Dhow  Not Stated               Steaming   ...                20   \n",
      "1  Bulk Carrier       Malta               Steaming   ...                20   \n",
      "\n",
      "                                       newDescriptif  Guns  mousson  \\\n",
      "0                           pirates hijacked a dhow.     0        0   \n",
      "1  armed pirates attacked and boarded the ship un...     0        0   \n",
      "\n",
      "   distance au port  distance_shorline  lat_area  lon_area  large_area  \\\n",
      "0        534.679104          35.872306         4        31           G   \n",
      "1        292.330113         233.517911        10        34           G   \n",
      "\n",
      "      date  \n",
      "0  2010-10  \n",
      "1  2010-10  \n",
      "\n",
      "[2 rows x 33 columns]\n"
     ]
    }
   ],
   "source": [
    "max_quinzaine=24\n",
    "max_month=12\n",
    "max_area_lat=12\n",
    "max_area_lon=31\n",
    "number_grid=(max_area_lat+1)*(max_area_lon+1)\n",
    "print df.head(2)"
   ]
  },
  {
   "cell_type": "code",
   "execution_count": 19,
   "metadata": {
    "collapsed": false
   },
   "outputs": [],
   "source": [
    "df['lat_area'] = df['lat_area'].astype(int)\n",
    "df['lon_area'] = df['lon_area'].astype(int)"
   ]
  },
  {
   "cell_type": "markdown",
   "metadata": {},
   "source": [
    "# Version 1 : Création d'une matrice en regroupant par quinzaine et zone"
   ]
  },
  {
   "cell_type": "code",
   "execution_count": 5,
   "metadata": {
    "collapsed": true
   },
   "outputs": [],
   "source": [
    "df['area'] = df.apply(lambda row: str(row['lat_area'])+'_'+str(row['lon_area']), axis=1)"
   ]
  },
  {
   "cell_type": "markdown",
   "metadata": {},
   "source": [
    "## Creation d'un data frame vide"
   ]
  },
  {
   "cell_type": "code",
   "execution_count": 52,
   "metadata": {
    "collapsed": false,
    "scrolled": true
   },
   "outputs": [],
   "source": [
    "dfAgregateTotal=pd.DataFrame({'count' : df.groupby( [ \"Annee (0)\",\"quinzaine_week\",\"area\"] ).size()}).reset_index()"
   ]
  },
  {
   "cell_type": "code",
   "execution_count": 53,
   "metadata": {
    "collapsed": false
   },
   "outputs": [
    {
     "name": "stdout",
     "output_type": "stream",
     "text": [
      "   Annee (0)  quinzaine_week  area  count lat_area lon_area\n",
      "0       2008               3  4_20      2        4       20\n",
      "1       2008               6  3_21      1        3       21\n",
      "2       2008               6  4_18      1        4       18\n",
      "3       2008               6  6_19      1        6       19\n",
      "4       2008               7  5_16      1        5       16\n"
     ]
    }
   ],
   "source": [
    "specifecArea=pd.DataFrame(dfAgregateTotal['area'].str.split('_',1).tolist(),columns = ['lat_area','lon_area'])\n",
    "dfAgregateTotal=pd.concat([dfAgregateTotal, specifecArea], axis=1)\n",
    "print dfAgregateTotal.head()"
   ]
  },
  {
   "cell_type": "code",
   "execution_count": 54,
   "metadata": {
    "collapsed": false
   },
   "outputs": [
    {
     "name": "stdout",
     "output_type": "stream",
     "text": [
      "[  0.   1.   2. ...,  29.  30.  31.]\n",
      "69888\n",
      "69888\n",
      "69888\n",
      "69888\n"
     ]
    }
   ],
   "source": [
    "uniqueYears=dfAgregateTotal['Annee (0)'].unique()\n",
    "Colyears=np.repeat(uniqueYears, 24*(max_area_lon+1)*(max_area_lat+1))\n",
    "\n",
    "TwoweekRepeat=np.repeat(np.linspace(1, max_quinzaine, num=max_quinzaine), (max_area_lon+1)*(max_area_lat+1))\n",
    "ColTwoweek=np.tile(TwoweekRepeat, len(uniqueYears))\n",
    "\n",
    "latRepeat=np.linspace(0, max_area_lat,num=max_area_lat+1)\n",
    "ColLatArea=np.repeat(latRepeat, max_area_lon+1)\n",
    "ColLatArea=np.tile(ColLatArea, max_quinzaine)\n",
    "ColLatArea=np.tile(ColLatArea, len(uniqueYears))\n",
    "\n",
    "#print ColLatArea\n",
    "\n",
    "lonRepeat=np.tile(np.linspace(0, max_area_lon, num=max_area_lon+1),max_area_lat+1)\n",
    "ColLonArea=np.tile(lonRepeat, max_quinzaine)\n",
    "ColLonArea=np.tile(ColLonArea, len(uniqueYears))\n",
    "\n",
    "print ColLonArea\n",
    "\n",
    "count=np.repeat(0, len(Colyears))\n",
    "\n",
    "print len(Colyears)\n",
    "print len(ColTwoweek)\n",
    "print len(ColLatArea)\n",
    "print len(ColLonArea)\n"
   ]
  },
  {
   "cell_type": "markdown",
   "metadata": {},
   "source": [
    "## Fill the matrice"
   ]
  },
  {
   "cell_type": "code",
   "execution_count": 55,
   "metadata": {
    "collapsed": false,
    "scrolled": true
   },
   "outputs": [
    {
     "name": "stdout",
     "output_type": "stream",
     "text": [
      "   2_week  Years  count lat_area lon_area\n",
      "0       1   2008      0        0        0\n",
      "1       1   2008      0        0        1\n",
      "2       1   2008      0        0        2\n",
      "3       1   2008      0        0        3\n",
      "4       1   2008      0        0        4\n"
     ]
    }
   ],
   "source": [
    "#columns = ['Years','2_week', 'lat_area','lon_area','count']\n",
    "#matriceML=pd.DataFrame(columns=columns)\n",
    "#matriceML = matriceML.fillna(0)\n",
    "\n",
    "dic = {'Years': Colyears, \n",
    "     '2_week': ColTwoweek, \n",
    "     'lat_area': ColLatArea,\n",
    "     'lon_area': ColLonArea,\n",
    "     'count': count\n",
    "      }\n",
    "\n",
    "dfFinal= pd.DataFrame(dic)\n",
    "\n",
    "dfFinal['lat_area']=dfFinal['lat_area'].astype(int).astype('str')\n",
    "dfFinal['lon_area']=dfFinal['lon_area'].astype(int).astype('str')\n",
    "\n",
    "print dfFinal.head()"
   ]
  },
  {
   "cell_type": "code",
   "execution_count": 56,
   "metadata": {
    "collapsed": false,
    "scrolled": true
   },
   "outputs": [
    {
     "name": "stdout",
     "output_type": "stream",
     "text": [
      "0\n",
      "100\n",
      "200\n",
      "300\n"
     ]
    }
   ],
   "source": [
    "for index, row in dfAgregateTotal.iterrows():\n",
    "    if index%100==0:\n",
    "        print index\n",
    "    #print row['Annee (0)'], row['quinzaine_week'], row['count'] ,  row['lat_area'] , row['lon_area'] \n",
    "    idx=dfFinal[(dfFinal['Years']==row['Annee (0)']) & (dfFinal['lat_area']==row['lat_area']) & (dfFinal['lon_area']==row['lon_area'] )& (dfFinal['2_week']==row['quinzaine_week'])]\n",
    "    #print 'index : '+str(idx.index.values)\n",
    "    #print 'count : '+str(row['count'])\n",
    "    dfFinal.set_value(idx.index.values, 'count',row['count'])"
   ]
  },
  {
   "cell_type": "code",
   "execution_count": 38,
   "metadata": {
    "collapsed": false
   },
   "outputs": [
    {
     "data": {
      "text/plain": [
       "421"
      ]
     },
     "execution_count": 38,
     "metadata": {},
     "output_type": "execute_result"
    }
   ],
   "source": [
    "dfFinal['count'].sum()"
   ]
  },
  {
   "cell_type": "markdown",
   "metadata": {},
   "source": [
    "## Write matrice in a file"
   ]
  },
  {
   "cell_type": "code",
   "execution_count": 57,
   "metadata": {
    "collapsed": false
   },
   "outputs": [],
   "source": [
    "dfFinal.to_csv(\"../data/aden_golfe_matrix_area.csv\",sep=';', encoding='utf-8', index=False)"
   ]
  },
  {
   "cell_type": "markdown",
   "metadata": {
    "collapsed": true
   },
   "source": [
    "#  "
   ]
  },
  {
   "cell_type": "markdown",
   "metadata": {},
   "source": [
    "# Version 2 : Création d'une matrice en regroupant par mois et par type"
   ]
  },
  {
   "cell_type": "code",
   "execution_count": 106,
   "metadata": {
    "collapsed": false
   },
   "outputs": [
    {
     "name": "stdout",
     "output_type": "stream",
     "text": [
      "      date type d'attaque(0)  count\n",
      "0  2008-02        Fired upon      1\n",
      "1  2008-02          Hijacked      1\n",
      "2  2008-03         Attempted      1\n",
      "3  2008-03           Boarded      1\n",
      "4  2008-03        Fired upon      1\n",
      "5  2008-04         Attempted      1\n",
      "6  2008-04        Fired upon      3\n",
      "7  2008-04          Hijacked      2\n",
      "8  2008-05         Attempted      2\n",
      "9  2008-05        Fired upon      2\n"
     ]
    }
   ],
   "source": [
    "dfAgregateTotal2=pd.DataFrame({'count' : df.groupby( [ \"date\",\"type d'attaque(0)\"] ).size()}).reset_index()\n",
    "print dfAgregateTotal2.head(10)"
   ]
  },
  {
   "cell_type": "markdown",
   "metadata": {},
   "source": [
    "## Matrix empty"
   ]
  },
  {
   "cell_type": "code",
   "execution_count": 107,
   "metadata": {
    "collapsed": false
   },
   "outputs": [
    {
     "data": {
      "text/html": [
       "<div>\n",
       "<table border=\"1\" class=\"dataframe\">\n",
       "  <thead>\n",
       "    <tr style=\"text-align: right;\">\n",
       "      <th></th>\n",
       "      <th>Attempted</th>\n",
       "      <th>Boarded</th>\n",
       "      <th>Fired upon</th>\n",
       "      <th>Hijacked</th>\n",
       "      <th>date</th>\n",
       "    </tr>\n",
       "  </thead>\n",
       "  <tbody>\n",
       "    <tr>\n",
       "      <th>0</th>\n",
       "      <td>0</td>\n",
       "      <td>0</td>\n",
       "      <td>0</td>\n",
       "      <td>0</td>\n",
       "      <td>2008-01</td>\n",
       "    </tr>\n",
       "    <tr>\n",
       "      <th>1</th>\n",
       "      <td>0</td>\n",
       "      <td>0</td>\n",
       "      <td>0</td>\n",
       "      <td>0</td>\n",
       "      <td>2008-02</td>\n",
       "    </tr>\n",
       "    <tr>\n",
       "      <th>2</th>\n",
       "      <td>0</td>\n",
       "      <td>0</td>\n",
       "      <td>0</td>\n",
       "      <td>0</td>\n",
       "      <td>2008-03</td>\n",
       "    </tr>\n",
       "    <tr>\n",
       "      <th>3</th>\n",
       "      <td>0</td>\n",
       "      <td>0</td>\n",
       "      <td>0</td>\n",
       "      <td>0</td>\n",
       "      <td>2008-04</td>\n",
       "    </tr>\n",
       "    <tr>\n",
       "      <th>4</th>\n",
       "      <td>0</td>\n",
       "      <td>0</td>\n",
       "      <td>0</td>\n",
       "      <td>0</td>\n",
       "      <td>2008-05</td>\n",
       "    </tr>\n",
       "  </tbody>\n",
       "</table>\n",
       "</div>"
      ],
      "text/plain": [
       "   Attempted  Boarded  Fired upon  Hijacked     date\n",
       "0          0        0           0         0  2008-01\n",
       "1          0        0           0         0  2008-02\n",
       "2          0        0           0         0  2008-03\n",
       "3          0        0           0         0  2008-04\n",
       "4          0        0           0         0  2008-05"
      ]
     },
     "execution_count": 107,
     "metadata": {},
     "output_type": "execute_result"
    }
   ],
   "source": [
    "col_years=np.repeat(np.sort(df[\"Annee (0)\"].unique()), max_month)\n",
    "\n",
    "month_repeat=np.linspace(1, max_month, num=max_month)\n",
    "month=np.tile(month_repeat, len(unique_years))\n",
    "\n",
    "col_count=np.repeat(0, len(month))\n",
    "\n",
    "\n",
    "dic2 = {'Years': col_years, \n",
    "     'Month': month, \n",
    "     'Fired upon': col_count,\n",
    "     'Hijacked': col_count,\n",
    "     'Attempted': col_count,\n",
    "     'Boarded': col_count\n",
    "       }\n",
    "\n",
    "dfFinal_2 = pd.DataFrame(dic2)\n",
    "dfFinal_2.head()\n",
    "dfFinal_2[\"Month\"]=dfFinal_2.apply(lambda row: monthCorrect(row['Month']), axis=1)\n",
    "dfFinal_2[\"date\"]=dfFinal_2.apply(lambda row: str(row[\"Years\"]) +\"-\"+ str(row[\"Month\"]), axis=1)\n",
    "dfFinal_2 = dfFinal_2.drop('Month', 1)\n",
    "dfFinal_2 = dfFinal_2.drop('Years', 1)\n",
    "dfFinal_2.head()"
   ]
  },
  {
   "cell_type": "markdown",
   "metadata": {},
   "source": [
    "# Fill matrice"
   ]
  },
  {
   "cell_type": "code",
   "execution_count": 108,
   "metadata": {
    "collapsed": false
   },
   "outputs": [
    {
     "data": {
      "text/html": [
       "<div>\n",
       "<table border=\"1\" class=\"dataframe\">\n",
       "  <thead>\n",
       "    <tr style=\"text-align: right;\">\n",
       "      <th></th>\n",
       "      <th>Attempted</th>\n",
       "      <th>Boarded</th>\n",
       "      <th>Fired upon</th>\n",
       "      <th>Hijacked</th>\n",
       "      <th>date</th>\n",
       "    </tr>\n",
       "  </thead>\n",
       "  <tbody>\n",
       "    <tr>\n",
       "      <th>0</th>\n",
       "      <td>0</td>\n",
       "      <td>0</td>\n",
       "      <td>0</td>\n",
       "      <td>0</td>\n",
       "      <td>2008-01</td>\n",
       "    </tr>\n",
       "    <tr>\n",
       "      <th>1</th>\n",
       "      <td>0</td>\n",
       "      <td>0</td>\n",
       "      <td>1</td>\n",
       "      <td>1</td>\n",
       "      <td>2008-02</td>\n",
       "    </tr>\n",
       "    <tr>\n",
       "      <th>2</th>\n",
       "      <td>1</td>\n",
       "      <td>1</td>\n",
       "      <td>1</td>\n",
       "      <td>0</td>\n",
       "      <td>2008-03</td>\n",
       "    </tr>\n",
       "    <tr>\n",
       "      <th>3</th>\n",
       "      <td>1</td>\n",
       "      <td>0</td>\n",
       "      <td>3</td>\n",
       "      <td>2</td>\n",
       "      <td>2008-04</td>\n",
       "    </tr>\n",
       "    <tr>\n",
       "      <th>4</th>\n",
       "      <td>2</td>\n",
       "      <td>0</td>\n",
       "      <td>2</td>\n",
       "      <td>2</td>\n",
       "      <td>2008-05</td>\n",
       "    </tr>\n",
       "  </tbody>\n",
       "</table>\n",
       "</div>"
      ],
      "text/plain": [
       "   Attempted  Boarded  Fired upon  Hijacked     date\n",
       "0          0        0           0         0  2008-01\n",
       "1          0        0           1         1  2008-02\n",
       "2          1        1           1         0  2008-03\n",
       "3          1        0           3         2  2008-04\n",
       "4          2        0           2         2  2008-05"
      ]
     },
     "execution_count": 108,
     "metadata": {},
     "output_type": "execute_result"
    }
   ],
   "source": [
    "for index, row in dfAgregateTotal2.iterrows():\n",
    "\n",
    "    #print 'Years '+str(row['Annee (0)']),'month : '+str( row['mois (0)']),'count : '+str(row['count'])#,'type_attack : '+str(row['type d\\'attaque(0)'])\n",
    "\n",
    "    idx=dfFinal_2[(dfFinal_2['date']==row['date'])]\n",
    "    #print 'index : '+str(idx.index.values)\n",
    "    #print \"type d'attaque(0) :\" +str(row[\"type d'attaque(0)\"])\n",
    "    #print 'count : '+str(row['count'])\n",
    "    dfFinal_2.set_value(idx.index.values, str(row[\"type d'attaque(0)\"]),row['count'])\n",
    "\n",
    "dfFinal_2.head()"
   ]
  },
  {
   "cell_type": "code",
   "execution_count": 109,
   "metadata": {
    "collapsed": false,
    "scrolled": true
   },
   "outputs": [
    {
     "name": "stdout",
     "output_type": "stream",
     "text": [
      "   Attempted  Boarded  Fired upon  Hijacked       date\n",
      "0          0        0           0         0 2008-01-01\n",
      "1          0        0           1         1 2008-02-01\n",
      "2          1        1           1         0 2008-03-01\n",
      "3          1        0           3         2 2008-04-01\n",
      "4          2        0           2         2 2008-05-01\n"
     ]
    }
   ],
   "source": [
    "dfFinal_2['date']=dfFinal_2.apply(lambda row: str(row['date'])+'-01', axis=1)\n",
    "dfFinal_2['date']=dfFinal_2.apply(lambda row: datetime.datetime.strptime(row['date'], \"%Y-%m-%d\"), axis=1)\n",
    "print dfFinal_2.head()"
   ]
  },
  {
   "cell_type": "code",
   "execution_count": 110,
   "metadata": {
    "collapsed": false
   },
   "outputs": [],
   "source": [
    "dfFinal_2.to_csv(\"../data/aden_golfe_matrix_global.csv\",sep=';', encoding='utf-8', index=False)"
   ]
  },
  {
   "cell_type": "code",
   "execution_count": null,
   "metadata": {
    "collapsed": true
   },
   "outputs": [],
   "source": []
  },
  {
   "cell_type": "code",
   "execution_count": 111,
   "metadata": {
    "collapsed": false
   },
   "outputs": [
    {
     "data": {
      "text/plain": [
       "array(['2010-10', '2010-01', '2010-02', '2010-03', '2010-05', '2010-06',\n",
       "       '2010-07', '2010-08', '2010-09', '2010-11', '2010-04', '2010-12',\n",
       "       '2008-02', '2008-03', '2008-04', '2008-05', '2008-07', '2008-08',\n",
       "       '2008-09', '2008-10', '2008-11', '2008-12', '2008-06', '2009-01',\n",
       "       '2009-02', '2009-03', '2009-04', '2009-05', '2009-07', '2009-12',\n",
       "       '2009-06', '2009-08', '2009-09', '2009-10', '2009-11', '2011-01',\n",
       "       '2011-04', '2011-09', '2011-02', '2011-05', '2011-07', '2011-08',\n",
       "       '2011-10', '2011-03', '2011-11', '2011-06', '2011-12', '2012-02',\n",
       "       '2012-12', '2012-03', '2012-04', '2012-01', '2012-06', '2012-05',\n",
       "       '2012-07', '2013-03', '2013-06', '2013-05', '2013-07', '2013-12',\n",
       "       '2014-01', '2014-04', '2014-02', '2014-03', '2014-08', '2014-12'], dtype=object)"
      ]
     },
     "execution_count": 111,
     "metadata": {},
     "output_type": "execute_result"
    }
   ],
   "source": [
    "df[\"date\"].unique()"
   ]
  }
 ],
 "metadata": {
  "kernelspec": {
   "display_name": "Python 2",
   "language": "python",
   "name": "python2"
  },
  "language_info": {
   "codemirror_mode": {
    "name": "ipython",
    "version": 2
   },
   "file_extension": ".py",
   "mimetype": "text/x-python",
   "name": "python",
   "nbconvert_exporter": "python",
   "pygments_lexer": "ipython2",
   "version": "2.7.11"
  }
 },
 "nbformat": 4,
 "nbformat_minor": 0
}
