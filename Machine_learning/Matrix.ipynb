{
 "cells": [
  {
   "cell_type": "code",
   "execution_count": 43,
   "metadata": {
    "collapsed": true
   },
   "outputs": [],
   "source": [
    "import numpy as np\n",
    "import pandas as pd\n",
    "from sklearn.preprocessing import label_binarize"
   ]
  },
  {
   "cell_type": "code",
   "execution_count": 44,
   "metadata": {
    "collapsed": false
   },
   "outputs": [],
   "source": [
    "df = pd.read_csv('../data/aden_golfe.csv',sep=';')"
   ]
  },
  {
   "cell_type": "code",
   "execution_count": 45,
   "metadata": {
    "collapsed": false
   },
   "outputs": [
    {
     "name": "stdout",
     "output_type": "stream",
     "text": [
      "416\n"
     ]
    }
   ],
   "source": [
    "max_quinzaine=24\n",
    "max_area_lat=12\n",
    "max_area_lon=31\n",
    "number_grid=(max_area_lat+1)*(max_area_lon+1)\n",
    "print number_grid"
   ]
  },
  {
   "cell_type": "code",
   "execution_count": 46,
   "metadata": {
    "collapsed": true
   },
   "outputs": [],
   "source": [
    "def monthCorrect(month):\n",
    "    month=str(int(month))\n",
    "    if len(month)==1:\n",
    "        return '0'+month\n",
    "    else:\n",
    "        return month"
   ]
  },
  {
   "cell_type": "code",
   "execution_count": 47,
   "metadata": {
    "collapsed": false
   },
   "outputs": [],
   "source": [
    "df[\"mois (0)\"]=df.apply(lambda row: monthCorrect(row['mois (0)']), axis=1)\n",
    "df[\"jour (0)\"]=df.apply(lambda row: monthCorrect(row['jour (0)']), axis=1)\n",
    "df[\"date\"]=df.apply(lambda row: str(row[\"Annee (0)\"]) +\"-\"+ str(row[\"mois (0)\"]), axis=1)"
   ]
  },
  {
   "cell_type": "markdown",
   "metadata": {},
   "source": [
    "# Version 1 : group by years, month, area"
   ]
  },
  {
   "cell_type": "code",
   "execution_count": 48,
   "metadata": {
    "collapsed": true
   },
   "outputs": [],
   "source": [
    "df['lat_area'] = df['lat_area'].astype(int)\n",
    "df['lon_area'] = df['lon_area'].astype(int)\n",
    "df['area'] = df.apply(lambda row: str(row['lat_area'])+'_'+str(row['lon_area']), axis=1)"
   ]
  },
  {
   "cell_type": "markdown",
   "metadata": {},
   "source": [
    "## Creation d'un data frame vide"
   ]
  },
  {
   "cell_type": "code",
   "execution_count": 49,
   "metadata": {
    "collapsed": false,
    "scrolled": true
   },
   "outputs": [],
   "source": [
    "dfAgregateTotal=pd.DataFrame({'count' : df.groupby( [ \"Annee (0)\",\"mois (0)\",\"area\"] ).size()}).reset_index()"
   ]
  },
  {
   "cell_type": "code",
   "execution_count": 50,
   "metadata": {
    "collapsed": false
   },
   "outputs": [
    {
     "name": "stdout",
     "output_type": "stream",
     "text": [
      "    Annee (0) mois (0)  area  count lat_area lon_area\n",
      "0        2008       02  4_20      2        4       20\n",
      "1        2008       03  3_21      1        3       21\n",
      "2        2008       03  4_18      1        4       18\n",
      "3        2008       03  6_19      1        6       19\n",
      "4        2008       04  4_16      1        4       16\n",
      "5        2008       04  4_17      1        4       17\n",
      "6        2008       04  5_16      1        5       16\n",
      "7        2008       04  5_18      1        5       18\n",
      "8        2008       04  6_18      1        6       18\n",
      "9        2008       04  7_16      1        7       16\n",
      "10       2008       05  4_16      1        4       16\n",
      "11       2008       05  4_19      1        4       19\n",
      "12       2008       05  5_14      1        5       14\n",
      "13       2008       05  5_16      1        5       16\n",
      "14       2008       05  5_19      1        5       19\n",
      "15       2008       05  6_19      1        6       19\n",
      "16       2008       06  4_14      1        4       14\n",
      "17       2008       06  4_17      1        4       17\n",
      "18       2008       07  4_19      1        4       19\n",
      "19       2008       07   4_6      1        4        6\n",
      "321\n"
     ]
    }
   ],
   "source": [
    "specifecArea=pd.DataFrame(dfAgregateTotal['area'].str.split('_',1).tolist(),columns = ['lat_area','lon_area'])\n",
    "dfAgregateTotal=pd.concat([dfAgregateTotal, specifecArea], axis=1)\n",
    "print dfAgregateTotal.head(20)\n",
    "print len(dfAgregateTotal)\n",
    "\n",
    "dfAgregateTotal['mois (0)']=dfAgregateTotal['mois (0)'].astype(int).astype(str)\n",
    "dfAgregateTotal['lat_area']=dfAgregateTotal['lat_area'].astype(int)\n",
    "dfAgregateTotal['lon_area']=dfAgregateTotal['lon_area'].astype(int)"
   ]
  },
  {
   "cell_type": "code",
   "execution_count": 51,
   "metadata": {
    "collapsed": false,
    "scrolled": false
   },
   "outputs": [
    {
     "name": "stdout",
     "output_type": "stream",
     "text": [
      "--------------------------------------------\n",
      "--------------------------------------------\n"
     ]
    }
   ],
   "source": [
    "uniqueLat=dfAgregateTotal[[\"lat_area\",\"lon_area\"]].values\n",
    "unique=pd.Series(zip(uniqueLat[:,0], uniqueLat[:,1])).unique()\n",
    "\n",
    "\n",
    "print \"--------------------------------------------\"\n",
    "list1, list2 = zip(*unique)\n",
    "array1=np.asarray(list1)\n",
    "array2=np.asarray(list2)\n",
    "\n",
    "ind = np.lexsort((array1,array2)) \n",
    "uniqueSort=[(array1[i],array2[i]) for i in ind]\n",
    "\n",
    "\n",
    "\n",
    "print \"--------------------------------------------\"\n",
    "\n",
    "list1, list2 = zip(*uniqueSort)\n",
    "array1_=np.asarray(list1)\n",
    "array2_=np.asarray(list2)\n",
    "a = np.column_stack((array1_,array2_))\n",
    "#print a\n"
   ]
  },
  {
   "cell_type": "code",
   "execution_count": 52,
   "metadata": {
    "collapsed": false
   },
   "outputs": [
    {
     "name": "stdout",
     "output_type": "stream",
     "text": [
      "-------------------------------------------------------------------\n",
      "6888\n",
      "6888\n",
      "6888\n",
      "6888\n"
     ]
    }
   ],
   "source": [
    "uniqueYears=dfAgregateTotal['Annee (0)'].unique()\n",
    "print \"-------------------------------------------------------------------\"\n",
    "ListAreaLat=np.tile(a[:,0],12*len(uniqueYears))\n",
    "ListAreaLon=np.tile(a[:,1],12*len(uniqueYears))\n",
    "\n",
    "uniqueMonth=np.linspace(1, 12, num=12)\n",
    "ColMonth=np.repeat(uniqueMonth,len(a[:,1]))\n",
    "#print ColMonth[1:100]\n",
    "ColMonth=np.tile(ColMonth,len(uniqueYears))\n",
    "\n",
    "\n",
    "Colyears=np.repeat(uniqueYears, 12*len(a[:,1]))\n",
    "count=np.repeat(0, len(Colyears))\n",
    "\n",
    "\n",
    "print len(ColMonth)\n",
    "print len(Colyears)\n",
    "print len(ListAreaLat)\n",
    "print len(ListAreaLon)"
   ]
  },
  {
   "cell_type": "markdown",
   "metadata": {},
   "source": [
    "## Fill the matrice"
   ]
  },
  {
   "cell_type": "code",
   "execution_count": 53,
   "metadata": {
    "collapsed": false,
    "scrolled": true
   },
   "outputs": [
    {
     "name": "stdout",
     "output_type": "stream",
     "text": [
      "   Month  Years  count  lat_area  lon_area\n",
      "0      1   2008      0         8         2\n",
      "1      1   2008      0         9         2\n",
      "2      1   2008      0         6         3\n",
      "3      1   2008      0         7         3\n",
      "4      1   2008      0         8         3\n",
      "5      1   2008      0         5         4\n",
      "6      1   2008      0         6         4\n",
      "7      1   2008      0         7         4\n",
      "8      1   2008      0         4         5\n",
      "9      1   2008      0         5         5\n",
      "Month       int64\n",
      "Years       int64\n",
      "count       int64\n",
      "lat_area    int64\n",
      "lon_area    int64\n",
      "dtype: object\n",
      "    Month  Years  count  lat_area  lon_area\n",
      "50      1   2008      0         4        20\n"
     ]
    }
   ],
   "source": [
    "#columns = ['Years','2_week', 'lat_area','lon_area','count']\n",
    "#matriceML=pd.DataFrame(columns=columns)\n",
    "#matriceML = matriceML.fillna(0)\n",
    "\n",
    "dic = {'Years': Colyears, \n",
    "     'Month': ColMonth, \n",
    "     'lat_area': ListAreaLat,\n",
    "     'lon_area': ListAreaLon,\n",
    "     'count': count\n",
    "      }\n",
    "\n",
    "dfFinal= pd.DataFrame(dic)\n",
    "\n",
    "dfFinal[\"Month\"]=dfFinal.apply(lambda row: monthCorrect(row['Month']), axis=1)\n",
    "dfFinal['Month']=dfFinal['Month'].astype(int)\n",
    "dfFinal['lat_area']=dfFinal['lat_area'].astype(int)\n",
    "dfFinal['lon_area']=dfFinal['lon_area'].astype(int)\n",
    "\n",
    "print dfFinal.head(10)\n",
    "print dfFinal.dtypes\n",
    "print dfFinal[(dfFinal['Years']==2008) &\n",
    "                (dfFinal['lat_area']==4) &\n",
    "                (dfFinal['lon_area']==20 )&\n",
    "                (dfFinal['Month']==1)]"
   ]
  },
  {
   "cell_type": "code",
   "execution_count": 54,
   "metadata": {
    "collapsed": false,
    "scrolled": true
   },
   "outputs": [
    {
     "name": "stdout",
     "output_type": "stream",
     "text": [
      "0\n",
      "100\n",
      "200\n",
      "300\n"
     ]
    }
   ],
   "source": [
    "for index, row in dfAgregateTotal.iterrows():\n",
    "    if index%100==0:\n",
    "        print index\n",
    "    #print \"---------------------------------------------------------\"\n",
    "    #print \"len : \"+str(len(dfFinal['Years']==row['Annee (0)']))\n",
    "    \n",
    "    #print row['Annee (0)'], int(row['mois (0)']), row['count'] ,  row['lat_area'] , row['lon_area'] \n",
    "    \n",
    "    \n",
    "    idx=dfFinal[(dfFinal['Years']==row['Annee (0)']) &\n",
    "                (dfFinal['lat_area']==row['lat_area']) &\n",
    "                (dfFinal['lon_area']==row['lon_area'] )&\n",
    "                (dfFinal['Month']==int(row[\"mois (0)\"]))]\n",
    "    \n",
    "    #print len(idx)\n",
    "    #print 'index : '+str(idx.index.values)\n",
    "    #print 'count : '+str(row['count'])\n",
    "    #dfFinal.set_value(idx.index.values, 'count',row['count'])\n",
    "    dfFinal.set_value(idx.index.values, \"count\",row['count'])"
   ]
  },
  {
   "cell_type": "code",
   "execution_count": 55,
   "metadata": {
    "collapsed": false
   },
   "outputs": [
    {
     "name": "stdout",
     "output_type": "stream",
     "text": [
      "421\n",
      "6888\n",
      "     Month  Years  count  lat_area  lon_area\n",
      "132      2   2008      2         4        20\n",
      "207      3   2008      1         4        18\n",
      "212      3   2008      1         6        19\n",
      "219      3   2008      1         3        21\n",
      "281      4   2008      1         4        16\n"
     ]
    }
   ],
   "source": [
    "print dfFinal['count'].sum()\n",
    "print len(dfFinal)\n",
    "print dfFinal[dfFinal['count']!=0].head()"
   ]
  },
  {
   "cell_type": "markdown",
   "metadata": {},
   "source": [
    "## Write matrice in a file"
   ]
  },
  {
   "cell_type": "code",
   "execution_count": 56,
   "metadata": {
    "collapsed": false
   },
   "outputs": [],
   "source": [
    "dfFinal.to_csv(\"../data/aden_golfe_matrix_area.csv\",sep=';', encoding='utf-8', index=False)"
   ]
  },
  {
   "cell_type": "markdown",
   "metadata": {
    "collapsed": true
   },
   "source": [
    "#  "
   ]
  },
  {
   "cell_type": "markdown",
   "metadata": {},
   "source": [
    "# Version 2 : group by Date, type attack"
   ]
  },
  {
   "cell_type": "code",
   "execution_count": 121,
   "metadata": {
    "collapsed": false
   },
   "outputs": [
    {
     "name": "stdout",
     "output_type": "stream",
     "text": [
      "      date type d'attaque(0)  count\n",
      "0  2008-02        Fired upon      1\n",
      "1  2008-02          Hijacked      1\n",
      "2  2008-03         Attempted      1\n",
      "3  2008-03           Boarded      1\n",
      "4  2008-03        Fired upon      1\n",
      "5  2008-04         Attempted      1\n",
      "6  2008-04        Fired upon      3\n",
      "7  2008-04          Hijacked      2\n",
      "8  2008-05         Attempted      2\n",
      "9  2008-05        Fired upon      2\n"
     ]
    }
   ],
   "source": [
    "dfAgregateTotal2=pd.DataFrame({'count' : df.groupby( [ \"date\",\"type d'attaque(0)\"] ).size()}).reset_index()\n",
    "print dfAgregateTotal2.head(10)"
   ]
  },
  {
   "cell_type": "code",
   "execution_count": 123,
   "metadata": {
    "collapsed": false
   },
   "outputs": [
    {
     "data": {
      "text/html": [
       "<div>\n",
       "<table border=\"1\" class=\"dataframe\">\n",
       "  <thead>\n",
       "    <tr style=\"text-align: right;\">\n",
       "      <th></th>\n",
       "      <th>Attempted</th>\n",
       "      <th>Boarded</th>\n",
       "      <th>Fired upon</th>\n",
       "      <th>Hijacked</th>\n",
       "      <th>date</th>\n",
       "    </tr>\n",
       "  </thead>\n",
       "  <tbody>\n",
       "    <tr>\n",
       "      <th>0</th>\n",
       "      <td>0</td>\n",
       "      <td>0</td>\n",
       "      <td>0</td>\n",
       "      <td>0</td>\n",
       "      <td>2008-01</td>\n",
       "    </tr>\n",
       "    <tr>\n",
       "      <th>1</th>\n",
       "      <td>0</td>\n",
       "      <td>0</td>\n",
       "      <td>0</td>\n",
       "      <td>0</td>\n",
       "      <td>2008-02</td>\n",
       "    </tr>\n",
       "    <tr>\n",
       "      <th>2</th>\n",
       "      <td>0</td>\n",
       "      <td>0</td>\n",
       "      <td>0</td>\n",
       "      <td>0</td>\n",
       "      <td>2008-03</td>\n",
       "    </tr>\n",
       "    <tr>\n",
       "      <th>3</th>\n",
       "      <td>0</td>\n",
       "      <td>0</td>\n",
       "      <td>0</td>\n",
       "      <td>0</td>\n",
       "      <td>2008-04</td>\n",
       "    </tr>\n",
       "    <tr>\n",
       "      <th>4</th>\n",
       "      <td>0</td>\n",
       "      <td>0</td>\n",
       "      <td>0</td>\n",
       "      <td>0</td>\n",
       "      <td>2008-05</td>\n",
       "    </tr>\n",
       "  </tbody>\n",
       "</table>\n",
       "</div>"
      ],
      "text/plain": [
       "   Attempted  Boarded  Fired upon  Hijacked     date\n",
       "0          0        0           0         0  2008-01\n",
       "1          0        0           0         0  2008-02\n",
       "2          0        0           0         0  2008-03\n",
       "3          0        0           0         0  2008-04\n",
       "4          0        0           0         0  2008-05"
      ]
     },
     "execution_count": 123,
     "metadata": {},
     "output_type": "execute_result"
    }
   ],
   "source": [
    "col_years=np.repeat(np.sort(df[\"Annee (0)\"].unique()), max_month)\n",
    "\n",
    "month_repeat=np.linspace(1, max_month, num=max_month)\n",
    "month=np.tile(month_repeat, len(unique_years))\n",
    "col_count=np.repeat(0, len(month))\n",
    "                               \n",
    "dic2 = {'Years': col_years,\n",
    "     'Month': month,\n",
    "     'Fired upon': col_count,\n",
    "     'Hijacked': col_count,\n",
    "      'Attempted': col_count,\n",
    "     'Boarded': col_count\n",
    "       }\n",
    "dfFinal_2 = pd.DataFrame(dic2)\n",
    "dfFinal_2.head()\n",
    "dfFinal_2[\"Month\"]=dfFinal_2.apply(lambda row: monthCorrect(row['Month']), axis=1)\n",
    "dfFinal_2[\"date\"]=dfFinal_2.apply(lambda row: str(row[\"Years\"]) +\"-\"+ str(row[\"Month\"]), axis=1)\n",
    "dfFinal_2 = dfFinal_2.drop('Month', 1)                            \n",
    "dfFinal_2 = dfFinal_2.drop('Years', 1)\n",
    "dfFinal_2.head()"
   ]
  },
  {
   "cell_type": "markdown",
   "metadata": {},
   "source": [
    "## Matrix empty"
   ]
  },
  {
   "cell_type": "code",
   "execution_count": 124,
   "metadata": {
    "collapsed": false
   },
   "outputs": [
    {
     "data": {
      "text/html": [
       "<div>\n",
       "<table border=\"1\" class=\"dataframe\">\n",
       "  <thead>\n",
       "    <tr style=\"text-align: right;\">\n",
       "      <th></th>\n",
       "      <th>Attempted</th>\n",
       "      <th>Boarded</th>\n",
       "      <th>Fired upon</th>\n",
       "      <th>Hijacked</th>\n",
       "      <th>date</th>\n",
       "    </tr>\n",
       "  </thead>\n",
       "  <tbody>\n",
       "    <tr>\n",
       "      <th>0</th>\n",
       "      <td>0</td>\n",
       "      <td>0</td>\n",
       "      <td>0</td>\n",
       "      <td>0</td>\n",
       "      <td>2008-01</td>\n",
       "    </tr>\n",
       "    <tr>\n",
       "      <th>1</th>\n",
       "      <td>0</td>\n",
       "      <td>0</td>\n",
       "      <td>0</td>\n",
       "      <td>0</td>\n",
       "      <td>2008-02</td>\n",
       "    </tr>\n",
       "    <tr>\n",
       "      <th>2</th>\n",
       "      <td>0</td>\n",
       "      <td>0</td>\n",
       "      <td>0</td>\n",
       "      <td>0</td>\n",
       "      <td>2008-03</td>\n",
       "    </tr>\n",
       "    <tr>\n",
       "      <th>3</th>\n",
       "      <td>0</td>\n",
       "      <td>0</td>\n",
       "      <td>0</td>\n",
       "      <td>0</td>\n",
       "      <td>2008-04</td>\n",
       "    </tr>\n",
       "    <tr>\n",
       "      <th>4</th>\n",
       "      <td>0</td>\n",
       "      <td>0</td>\n",
       "      <td>0</td>\n",
       "      <td>0</td>\n",
       "      <td>2008-05</td>\n",
       "    </tr>\n",
       "  </tbody>\n",
       "</table>\n",
       "</div>"
      ],
      "text/plain": [
       "   Attempted  Boarded  Fired upon  Hijacked     date\n",
       "0          0        0           0         0  2008-01\n",
       "1          0        0           0         0  2008-02\n",
       "2          0        0           0         0  2008-03\n",
       "3          0        0           0         0  2008-04\n",
       "4          0        0           0         0  2008-05"
      ]
     },
     "execution_count": 124,
     "metadata": {},
     "output_type": "execute_result"
    }
   ],
   "source": [
    "dfFinal_2.head()"
   ]
  },
  {
   "cell_type": "code",
   "execution_count": null,
   "metadata": {
    "collapsed": true
   },
   "outputs": [],
   "source": []
  },
  {
   "cell_type": "markdown",
   "metadata": {},
   "source": [
    "# Fill matrice"
   ]
  },
  {
   "cell_type": "code",
   "execution_count": 129,
   "metadata": {
    "collapsed": false
   },
   "outputs": [],
   "source": [
    "for index, row in dfAgregateTotal2.iterrows():\n",
    "\n",
    "    #print 'Years '+str(row['Annee (0)']),'2_week : '+str( row['quinzaine_week']),'count : '+str(row['count'])#,'type_attack : '+str(row['type d\\'attaque(0)'])\n",
    "\n",
    "    idx=dfFinal_2[(dfFinal_2['date']==row['date'])]\n",
    "    #print 'index : '+str(idx.index.values)\n",
    "    #print 'count : '+str(row['count'])\n",
    "    dfFinal_2.set_value(idx.index.values, str(row[\"type d'attaque(0)\"]),row['count'])"
   ]
  },
  {
   "cell_type": "code",
   "execution_count": 131,
   "metadata": {
    "collapsed": false,
    "scrolled": true
   },
   "outputs": [
    {
     "name": "stdout",
     "output_type": "stream",
     "text": [
      "    Attempted  Boarded  Fired upon  Hijacked        date\n",
      "0           0        0           0         0  2008-01-01\n",
      "1           0        0           1         1  2008-02-01\n",
      "2           1        1           1         0  2008-03-01\n",
      "3           1        0           3         2  2008-04-01\n",
      "4           2        0           2         2  2008-05-01\n",
      "5           1        0           1         0  2008-06-01\n",
      "6           2        0           1         1  2008-07-01\n",
      "7           0        0           3         6  2008-08-01\n",
      "8           7        0           6         6  2008-09-01\n",
      "9           7        0           4         5  2008-10-01\n",
      "10          5        0           4         7  2008-11-01\n",
      "11          1        1           5         3  2008-12-01\n",
      "12          8        0           8         3  2009-01-01\n",
      "13          4        0           4         1  2009-02-01\n",
      "14          8        0           4         1  2009-03-01\n",
      "15          3        0           9         5  2009-04-01\n",
      "16          8        0          12         2  2009-05-01\n",
      "17          5        0           8         0  2009-06-01\n",
      "18          0        0           1         1  2009-07-01\n",
      "19          0        0           4         0  2009-08-01\n",
      "20          5        0           4         0  2009-09-01\n",
      "21          2        0           3         0  2009-10-01\n",
      "22          1        0           6         0  2009-11-01\n",
      "23          0        0           2         1  2009-12-01\n",
      "24          0        0           2         1  2010-01-01\n",
      "25          1        1           0         1  2010-02-01\n",
      "26          4        0           3         1  2010-03-01\n",
      "27          4        0           3         0  2010-04-01\n",
      "28          2        0           3         2  2010-05-01\n",
      "29          8        0           4         2  2010-06-01\n",
      "..        ...      ...         ...       ...         ...\n",
      "54          1        0           0         0  2012-07-01\n",
      "55          0        0           0         0  2012-08-01\n",
      "56          0        0           0         0  2012-09-01\n",
      "57          0        0           0         0  2012-10-01\n",
      "58          0        0           0         0  2012-11-01\n",
      "59          0        0           0         1  2012-12-01\n",
      "60          0        0           0         0  2013-01-01\n",
      "61          0        0           0         0  2013-02-01\n",
      "62          2        0           0         1  2013-03-01\n",
      "63          0        0           0         0  2013-04-01\n",
      "64          1        0           0         0  2013-05-01\n",
      "65          0        0           0         1  2013-06-01\n",
      "66          2        0           0         0  2013-07-01\n",
      "67          0        0           0         0  2013-08-01\n",
      "68          0        0           0         0  2013-09-01\n",
      "69          0        0           0         0  2013-10-01\n",
      "70          0        0           0         0  2013-11-01\n",
      "71          0        0           2         0  2013-12-01\n",
      "72          0        0           1         0  2014-01-01\n",
      "73          1        0           0         0  2014-02-01\n",
      "74          2        0           0         0  2014-03-01\n",
      "75          4        0           0         0  2014-04-01\n",
      "76          0        0           0         0  2014-05-01\n",
      "77          0        0           0         0  2014-06-01\n",
      "78          0        0           0         0  2014-07-01\n",
      "79          1        0           0         0  2014-08-01\n",
      "80          0        0           0         0  2014-09-01\n",
      "81          0        0           0         0  2014-10-01\n",
      "82          0        0           0         0  2014-11-01\n",
      "83          1        0           0         0  2014-12-01\n",
      "\n",
      "[84 rows x 5 columns]\n"
     ]
    }
   ],
   "source": [
    "#binary=label_binarize(col_type, classes=unique_type)\n",
    "#dfFinal_2[unique_type[0]]=binary[:,0]\n",
    "#dfFinal_2[unique_type[1]]=binary[:,1]\n",
    "#dfFinal_2[unique_type[2]]=binary[:,2]\n",
    "#dfFinal_2[unique_type[3]]=binary[:,3]\n",
    "\n",
    "dfFinal_2['date']=dfFinal_2.apply(lambda row: str(row['date'])+'-01', axis=1)\n",
    "print dfFinal_2"
   ]
  },
  {
   "cell_type": "code",
   "execution_count": 132,
   "metadata": {
    "collapsed": false
   },
   "outputs": [],
   "source": [
    "dfFinal_2.to_csv(\"../data/aden_golfe_matrix_global.csv\",sep=';', encoding='utf-8', index=False)"
   ]
  }
 ],
 "metadata": {
  "kernelspec": {
   "display_name": "Python 2",
   "language": "python",
   "name": "python2"
  },
  "language_info": {
   "codemirror_mode": {
    "name": "ipython",
    "version": 2
   },
   "file_extension": ".py",
   "mimetype": "text/x-python",
   "name": "python",
   "nbconvert_exporter": "python",
   "pygments_lexer": "ipython2",
   "version": "2.7.11"
  }
 },
 "nbformat": 4,
 "nbformat_minor": 0
}
