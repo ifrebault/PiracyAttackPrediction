{
 "cells": [
  {
   "cell_type": "code",
   "execution_count": 1,
   "metadata": {
    "collapsed": false
   },
   "outputs": [],
   "source": [
    "from matplotlib import pyplot as plt\n",
    "from scipy.cluster.hierarchy import dendrogram, linkage\n",
    "import numpy as np\n",
    "import pandas as pd\n",
    "%matplotlib inline"
   ]
  },
  {
   "cell_type": "markdown",
   "metadata": {},
   "source": [
    "# Initialisation Data frame"
   ]
  },
  {
   "cell_type": "code",
   "execution_count": 89,
   "metadata": {
    "collapsed": true
   },
   "outputs": [],
   "source": [
    "dfinal=pd.DataFrame(columns=('BarLat','BarLong','Rayon','Number','date'))\n",
    "dfinal.loc[0] =[0,0, 0,0,0]"
   ]
  },
  {
   "cell_type": "markdown",
   "metadata": {},
   "source": [
    "# Lecture des données"
   ]
  },
  {
   "cell_type": "code",
   "execution_count": 90,
   "metadata": {
    "collapsed": false
   },
   "outputs": [],
   "source": [
    "df = pd.read_csv('../data/aden_golfe.csv',sep=';')\n",
    "size = len(df)"
   ]
  },
  {
   "cell_type": "code",
   "execution_count": 91,
   "metadata": {
    "collapsed": true
   },
   "outputs": [],
   "source": [
    "def fancy_dendrogram(*args, **kwargs):\n",
    "    max_d = kwargs.pop('max_d', None)\n",
    "    if max_d and 'color_threshold' not in kwargs:\n",
    "        kwargs['color_threshold'] = max_d\n",
    "    annotate_above = kwargs.pop('annotate_above', 0)\n",
    "\n",
    "    ddata = dendrogram(*args, **kwargs)\n",
    "\n",
    "    if not kwargs.get('no_plot', False):\n",
    "        plt.title('Hierarchical Clustering Dendrogram (with max distance)')\n",
    "        plt.xlabel('sample index')\n",
    "        plt.ylabel('distance')\n",
    "        for i, d, c in zip(ddata['icoord'], ddata['dcoord'], ddata['color_list']):\n",
    "            x = 0.5 * sum(i[1:3])\n",
    "            y = d[1]\n",
    "            if y > annotate_above:\n",
    "                plt.plot(x, y, 'o', c=c)\n",
    "                plt.annotate(\"%.3g\" % y, (x, y), xytext=(0, -5),\n",
    "                             textcoords='offset points',\n",
    "                             va='top', ha='center')\n",
    "        if max_d:\n",
    "            plt.axhline(y=max_d, c='k')\n",
    "    return ddata"
   ]
  },
  {
   "cell_type": "code",
   "execution_count": 92,
   "metadata": {
    "collapsed": true
   },
   "outputs": [],
   "source": [
    "df[\"date\"]=df.apply(lambda row: str(row[\"Annee (0)\"]) +\"-\"+ str(row[\"mois (0)\"]), axis=1)"
   ]
  },
  {
   "cell_type": "code",
   "execution_count": 93,
   "metadata": {
    "collapsed": false
   },
   "outputs": [
    {
     "data": {
      "text/plain": [
       "array(['2010-10', '2010-1', '2010-2', '2010-3', '2010-5', '2010-6',\n",
       "       '2010-7', '2010-8', '2010-9', '2010-11', '2010-4', '2010-12',\n",
       "       '2008-2', '2008-3', '2008-4', '2008-5', '2008-7', '2008-8',\n",
       "       '2008-9', '2008-10', '2008-11', '2008-12', '2008-6', '2009-1',\n",
       "       '2009-2', '2009-3', '2009-4', '2009-5', '2009-7', '2009-12',\n",
       "       '2009-6', '2009-8', '2009-9', '2009-10', '2009-11', '2011-1',\n",
       "       '2011-4', '2011-9', '2011-2', '2011-5', '2011-7', '2011-8',\n",
       "       '2011-10', '2011-3', '2011-11', '2011-6', '2011-12', '2012-2',\n",
       "       '2012-12', '2012-3', '2012-4', '2012-1', '2012-6', '2012-5',\n",
       "       '2012-7', '2013-3', '2013-6', '2013-5', '2013-7', '2013-12',\n",
       "       '2014-1', '2014-4', '2014-2', '2014-3', '2014-8', '2014-12'], dtype=object)"
      ]
     },
     "execution_count": 93,
     "metadata": {},
     "output_type": "execute_result"
    }
   ],
   "source": [
    "df[\"date\"].unique()"
   ]
  },
  {
   "cell_type": "code",
   "execution_count": 240,
   "metadata": {
    "collapsed": false,
    "scrolled": false
   },
   "outputs": [
    {
     "name": "stdout",
     "output_type": "stream",
     "text": [
      "17\n"
     ]
    },
    {
     "data": {
      "image/png": "[encoded data removed]",
      "text/plain": [
       "<matplotlib.figure.Figure at 0x1192f44d0>"
      ]
     },
     "metadata": {},
     "output_type": "display_data"
    },
    {
     "name": "stdout",
     "output_type": "stream",
     "text": [
      "[1 2 1 1 2 2 1 1 1]\n"
     ]
    },
    {
     "data": {
      "image/png": "[encoded data removed]",
      "text/plain": [
       "<matplotlib.figure.Figure at 0x119c04890>"
      ]
     },
     "metadata": {},
     "output_type": "display_data"
    }
   ],
   "source": [
    "date = df[\"date\"].unique()[k]\n",
    "#sous ensemble des données correspondant à la date choisie\n",
    "subDf = df[df[\"date\"]==date]\n",
    "#construction du dataframe 2D\n",
    "X = subDf[[\"longitude\",\"latitude\"]].values\n",
    "#clusterisation\n",
    "Z = linkage(X, 'ward', metric = 'euclidean')\n",
    "#affichage du dendrogram\n",
    "print k\n",
    "max_d = 4.5  #\n",
    "\n",
    "fancy_dendrogram(\n",
    "    Z,\n",
    "    truncate_mode='lastp',\n",
    "    p=12,\n",
    "    leaf_rotation=90.,\n",
    "    leaf_font_size=12.,\n",
    "    show_contracted=True,\n",
    "    max_d=max_d,  # arret du dendrogram\n",
    ")\n",
    "plt.show()\n",
    "#recuperation des clusters\n",
    "from scipy.cluster.hierarchy import fcluster\n",
    "clusters = fcluster(Z, max_d, criterion='distance')\n",
    "print clusters\n",
    "#calcul du barycentre de chaque cluster\n",
    "\n",
    "centroidX = []\n",
    "centroidY = []\n",
    "for i in range(min(clusters),max(clusters)+1):\n",
    "    x = np.mean(X[clusters==i,0])\n",
    "    y = np.mean(X[clusters==i,1])\n",
    "    centroidX.append(x)\n",
    "    centroidY.append(y)\n",
    "    maxIdx=dfinal.index.values.max() \n",
    "    #print maxIdx\n",
    "    dfinal.loc[maxIdx+1] =[x, y, 0,len(clusters[clusters==i]),date]\n",
    "\n",
    "#affichage des clusters\n",
    "plt.scatter(X[:,0], X[:,1], c=clusters, cmap='prism')  # plot points with cluster dependent colors\n",
    "#plt.scatter(centroidX,centroidY,cmap='prism')\n",
    "plt.title('Clusters and their centroid')\n",
    "plt.xlabel('Longitude')\n",
    "plt.ylabel('Latitude')\n",
    "plt.show()\n",
    "\n",
    "#dataframe final\n",
    "#print dfinal"
   ]
  },
  {
   "cell_type": "code",
   "execution_count": 239,
   "metadata": {
    "collapsed": true
   },
   "outputs": [],
   "source": [
    "k=k+1"
   ]
  },
  {
   "cell_type": "code",
   "execution_count": 205,
   "metadata": {
    "collapsed": true
   },
   "outputs": [],
   "source": [
    "k=0"
   ]
  },
  {
   "cell_type": "code",
   "execution_count": null,
   "metadata": {
    "collapsed": true
   },
   "outputs": [],
   "source": []
  }
 ],
 "metadata": {
  "kernelspec": {
   "display_name": "Python 2",
   "language": "python",
   "name": "python2"
  },
  "language_info": {
   "codemirror_mode": {
    "name": "ipython",
    "version": 2
   },
   "file_extension": ".py",
   "mimetype": "text/x-python",
   "name": "python",
   "nbconvert_exporter": "python",
   "pygments_lexer": "ipython2",
   "version": "2.7.11"
  }
 },
 "nbformat": 4,
 "nbformat_minor": 0
}
