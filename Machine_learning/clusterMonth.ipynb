{
 "cells": [
  {
   "cell_type": "code",
   "execution_count": 23,
   "metadata": {
    "collapsed": false
   },
   "outputs": [],
   "source": [
    "from matplotlib import pyplot as plt\n",
    "from scipy.cluster.hierarchy import dendrogram, linkage\n",
    "import numpy as np\n",
    "import pandas as pd\n",
    "from geopy.distance import vincenty\n",
    "%matplotlib inline"
   ]
  },
  {
   "cell_type": "markdown",
   "metadata": {},
   "source": [
    "# Initialisation Data frame\n",
    "### Création d'un data frame vide pour y ajouter ensuite les clusters de chaque zone"
   ]
  },
  {
   "cell_type": "code",
   "execution_count": 24,
   "metadata": {
    "collapsed": false
   },
   "outputs": [],
   "source": [
    "dfinal=pd.DataFrame(columns=('BarLong','BarLat','Rayon','Weight','NbDays','Month','Year','Id'))\n",
    "dfinal.loc[0] =[0,0,0,0,0,0,0,0]"
   ]
  },
  {
   "cell_type": "markdown",
   "metadata": {},
   "source": [
    "# Lecture des données\n",
    "### Les données sont séparées en deux data frame par zone : un contenant toute les attaques de la zone et un contenant le reste des attaques"
   ]
  },
  {
   "cell_type": "code",
   "execution_count": 25,
   "metadata": {
    "collapsed": false
   },
   "outputs": [],
   "source": [
    "df = pd.read_csv('../data/aden.csv',sep=';')\n",
    "df2 = df[df[\"large_area\"]!=\"G\"]\n",
    "\n",
    "dfA = df[df[\"large_area\"]==\"A\"]\n",
    "dfA2 = df[df[\"large_area\"]!=\"A\"]\n",
    "\n",
    "dfI = df[df[\"large_area\"]==\"I\"]\n",
    "dfI2 = df[df[\"large_area\"]!=\"I\"]\n",
    "\n",
    "df=df[df[\"large_area\"]==\"G\"]\n",
    "\n",
    "size = len(df)"
   ]
  },
  {
   "cell_type": "markdown",
   "metadata": {},
   "source": [
    "# Fonctions communes aux trois zones"
   ]
  },
  {
   "cell_type": "code",
   "execution_count": 26,
   "metadata": {
    "collapsed": true
   },
   "outputs": [],
   "source": [
    "#inscription du mois au même format qu'il soit composé d'un ou de deux chiffres\n",
    "def monthCorrect(month):\n",
    "    month=str(int(month))\n",
    "    if len(month)==1:\n",
    "        return '0'+month\n",
    "    else:\n",
    "        return month"
   ]
  },
  {
   "cell_type": "code",
   "execution_count": 27,
   "metadata": {
    "collapsed": true
   },
   "outputs": [],
   "source": [
    "#construction du dendrogramme\n",
    "def fancy_dendrogram(*args, **kwargs):\n",
    "    max_d = kwargs.pop('max_d', None)\n",
    "    if max_d and 'color_threshold' not in kwargs:\n",
    "        kwargs['color_threshold'] = max_d\n",
    "    annotate_above = kwargs.pop('annotate_above', 0)\n",
    "\n",
    "    ddata = dendrogram(*args, **kwargs)\n",
    "\n",
    "    if not kwargs.get('no_plot', False):\n",
    "        plt.title('Hierarchical Clustering Dendrogram (with max distance)')\n",
    "        plt.xlabel('sample index')\n",
    "        plt.ylabel('distance')\n",
    "        for i, d, c in zip(ddata['icoord'], ddata['dcoord'], ddata['color_list']):\n",
    "            x = 0.5 * sum(i[1:3])\n",
    "            y = d[1]\n",
    "            if y > annotate_above:\n",
    "                plt.plot(x, y, 'o', c=c)\n",
    "                plt.annotate(\"%.3g\" % y, (x, y), xytext=(0, -5),\n",
    "                             textcoords='offset points',\n",
    "                             va='top', ha='center')\n",
    "        if max_d:\n",
    "            plt.axhline(y=max_d, c='k')\n",
    "    return ddata"
   ]
  },
  {
   "cell_type": "code",
   "execution_count": 28,
   "metadata": {
    "collapsed": true
   },
   "outputs": [],
   "source": [
    "#construction des clusters\n",
    "def clusterise(date, max_d, df,zone):\n",
    "    #sous ensemble des données correspondant à la date choisie\n",
    "    clustersId = []\n",
    "    subDf = df[df[\"date\"]==date]\n",
    "    subDate = date.split(\"-\")\n",
    "    #dans le cas où le cluster ne contient qu'un seul élément :\n",
    "    if(len(subDf) == 1):\n",
    "        maxIdx=dfinal.index.values.max() \n",
    "        dfinal.loc[maxIdx+1] =[subDf[\"longitude\"].values[0], subDf[\"latitude\"].values[0],0,1,1,subDate[1],subDate[0],date+'_'+str(1)+'_'+zone]\n",
    "        df[\"id_cluster\"].loc[subDf.index.values[0]]=date+'_'+str(1)+'_'+zone\n",
    "        return dfinal\n",
    "    \n",
    "    #construction du dataframe 2D\n",
    "    X = subDf[[\"longitude\",\"latitude\"]].values\n",
    "    #clusterisation\n",
    "    Z = linkage(X, 'ward', metric = 'euclidean')\n",
    "    #affichage du dendrogram\n",
    "\n",
    "    #fancy_dendrogram(\n",
    "    #    Z,\n",
    "    #    truncate_mode='lastp',\n",
    "    #    p=12,\n",
    "    #    leaf_rotation=90.,\n",
    "    #    leaf_font_size=12.,\n",
    "    #    show_contracted=True,\n",
    "    #    max_d=max_d,  # arret du dendrogram\n",
    "    #)\n",
    "    #plt.show()\n",
    "    \n",
    "    #récuperation des clusters\n",
    "    from scipy.cluster.hierarchy import fcluster\n",
    "    clusters = fcluster(Z, max_d, criterion='distance')\n",
    "      \n",
    "    for p in range(0,len(subDf.index.values)):\n",
    "        df[\"id_cluster\"].loc[subDf.index.values[p]]=date+'_'+str(clusters[p])+'_'+zone\n",
    "        #print subDf.index.values[clusters==1]\n",
    "        #print subDf[\"jour (0)\"][subDf.index.values[clusters==1]]\n",
    "    \n",
    "    #calcul du barycentre de chaque cluster\n",
    "    centroidX = []\n",
    "    centroidY = []\n",
    "    for i in range(min(clusters),max(clusters)+1):\n",
    "        x = np.mean(X[clusters==i,0])\n",
    "        y = np.mean(X[clusters==i,1])\n",
    "        point = (x,y)\n",
    "        dist = []\n",
    "        for j in range(0,len(X[clusters==i,0])):\n",
    "            point2=(X[clusters==i,0][j], X[clusters==i,1][j])\n",
    "            dist.append(vincenty(point, point2).kilometers)\n",
    "        centroidX.append(x)\n",
    "        centroidY.append(y)\n",
    "\n",
    "        maxJ = max(subDf[\"jour (0)\"][subDf.index.values[clusters==i]])\n",
    "        minJ = min(subDf[\"jour (0)\"][subDf.index.values[clusters==i]])\n",
    "        \n",
    "        nbDay = maxJ - minJ        \n",
    "        maxIdx=dfinal.index.values.max() \n",
    "        dfinal.loc[maxIdx+1] =[x, y, max(dist),len(clusters[clusters==i]),nbDay,subDate[1], subDate[0],date+'_'+str(i)+'_'+zone]\n",
    "\n",
    "    #affichage des clusters\n",
    "    #plt.scatter(X[:,0], X[:,1], c=clusters, cmap='prism')  # plot points with cluster dependent colors\n",
    "    #affichage des barycentres\n",
    "    #plt.scatter(centroidX,centroidY,cmap='prism')\n",
    "    #plt.title('Clusters and their centroid')\n",
    "    #plt.xlabel('Longitude')\n",
    "    #plt.ylabel('Latitude')\n",
    "    #plt.show()"
   ]
  },
  {
   "cell_type": "markdown",
   "metadata": {},
   "source": [
    "## Zone G"
   ]
  },
  {
   "cell_type": "code",
   "execution_count": 29,
   "metadata": {
    "collapsed": false
   },
   "outputs": [],
   "source": [
    "# récupération des dates\n",
    "df[\"mois (0)\"]=df.apply(lambda row: monthCorrect(row['mois (0)']), axis=1)\n",
    "df[\"date\"]=df.apply(lambda row: str(row[\"Annee (0)\"]) +\"-\"+ str(row[\"mois (0)\"]), axis=1)"
   ]
  },
  {
   "cell_type": "code",
   "execution_count": 30,
   "metadata": {
    "collapsed": false
   },
   "outputs": [
    {
     "data": {
      "text/plain": [
       "array(['2010-10', '2010-01', '2010-02', '2010-03', '2010-05', '2010-06',\n",
       "       '2010-07', '2010-08', '2010-09', '2010-11', '2010-04', '2010-12',\n",
       "       '2008-02', '2008-03', '2008-04', '2008-05', '2008-07', '2008-08',\n",
       "       '2008-09', '2008-10', '2008-11', '2008-12', '2008-06', '2009-01',\n",
       "       '2009-02', '2009-03', '2009-04', '2009-05', '2009-07', '2009-12',\n",
       "       '2009-06', '2009-08', '2009-09', '2009-10', '2009-11', '2011-01',\n",
       "       '2011-04', '2011-09', '2011-02', '2011-05', '2011-07', '2011-08',\n",
       "       '2011-10', '2011-03', '2011-11', '2011-06', '2011-12', '2012-02',\n",
       "       '2012-12', '2012-03', '2012-04', '2012-01', '2012-06', '2012-05',\n",
       "       '2012-07', '2013-03', '2013-06', '2013-05', '2013-07', '2013-12',\n",
       "       '2014-01', '2014-04', '2014-02', '2014-03', '2014-08', '2014-12'], dtype=object)"
      ]
     },
     "execution_count": 30,
     "metadata": {},
     "output_type": "execute_result"
    }
   ],
   "source": [
    "df[\"date\"].unique()"
   ]
  },
  {
   "cell_type": "code",
   "execution_count": 31,
   "metadata": {
    "collapsed": false,
    "scrolled": true
   },
   "outputs": [],
   "source": [
    "# génération des clusters\n",
    "df[\"id_cluster\"] = \"\"\n",
    "for i in range(0,len(df[\"date\"].unique())):\n",
    "    clusterise(df[\"date\"].unique()[i], 4.5,df,\"G\")"
   ]
  },
  {
   "cell_type": "code",
   "execution_count": 32,
   "metadata": {
    "collapsed": false
   },
   "outputs": [
    {
     "data": {
      "text/html": [
       "<div>\n",
       "<table border=\"1\" class=\"dataframe\">\n",
       "  <thead>\n",
       "    <tr style=\"text-align: right;\">\n",
       "      <th></th>\n",
       "      <th>BarLong</th>\n",
       "      <th>BarLat</th>\n",
       "      <th>Rayon</th>\n",
       "      <th>Weight</th>\n",
       "      <th>NbDays</th>\n",
       "      <th>Month</th>\n",
       "      <th>Year</th>\n",
       "      <th>Id</th>\n",
       "    </tr>\n",
       "  </thead>\n",
       "  <tbody>\n",
       "    <tr>\n",
       "      <th>0</th>\n",
       "      <td>0.000000</td>\n",
       "      <td>0.000000</td>\n",
       "      <td>0.000000</td>\n",
       "      <td>0</td>\n",
       "      <td>0</td>\n",
       "      <td>0</td>\n",
       "      <td>0</td>\n",
       "      <td>0</td>\n",
       "    </tr>\n",
       "    <tr>\n",
       "      <th>1</th>\n",
       "      <td>49.162986</td>\n",
       "      <td>13.191875</td>\n",
       "      <td>47.973162</td>\n",
       "      <td>4</td>\n",
       "      <td>25</td>\n",
       "      <td>10</td>\n",
       "      <td>2010</td>\n",
       "      <td>2010-10_1_G</td>\n",
       "    </tr>\n",
       "    <tr>\n",
       "      <th>2</th>\n",
       "      <td>55.191667</td>\n",
       "      <td>13.616667</td>\n",
       "      <td>128.608970</td>\n",
       "      <td>2</td>\n",
       "      <td>2</td>\n",
       "      <td>10</td>\n",
       "      <td>2010</td>\n",
       "      <td>2010-10_2_G</td>\n",
       "    </tr>\n",
       "    <tr>\n",
       "      <th>3</th>\n",
       "      <td>47.850833</td>\n",
       "      <td>12.711389</td>\n",
       "      <td>96.305994</td>\n",
       "      <td>3</td>\n",
       "      <td>16</td>\n",
       "      <td>01</td>\n",
       "      <td>2010</td>\n",
       "      <td>2010-01_1_G</td>\n",
       "    </tr>\n",
       "    <tr>\n",
       "      <th>4</th>\n",
       "      <td>47.908333</td>\n",
       "      <td>13.033333</td>\n",
       "      <td>93.623201</td>\n",
       "      <td>2</td>\n",
       "      <td>2</td>\n",
       "      <td>02</td>\n",
       "      <td>2010</td>\n",
       "      <td>2010-02_1_G</td>\n",
       "    </tr>\n",
       "  </tbody>\n",
       "</table>\n",
       "</div>"
      ],
      "text/plain": [
       "     BarLong     BarLat       Rayon  Weight  NbDays Month  Year           Id\n",
       "0   0.000000   0.000000    0.000000       0       0     0     0            0\n",
       "1  49.162986  13.191875   47.973162       4      25    10  2010  2010-10_1_G\n",
       "2  55.191667  13.616667  128.608970       2       2    10  2010  2010-10_2_G\n",
       "3  47.850833  12.711389   96.305994       3      16    01  2010  2010-01_1_G\n",
       "4  47.908333  13.033333   93.623201       2       2    02  2010  2010-02_1_G"
      ]
     },
     "execution_count": 32,
     "metadata": {},
     "output_type": "execute_result"
    }
   ],
   "source": [
    "dfinal.head()"
   ]
  },
  {
   "cell_type": "code",
   "execution_count": 33,
   "metadata": {
    "collapsed": false
   },
   "outputs": [
    {
     "name": "stdout",
     "output_type": "stream",
     "text": [
      "     Kidnapping   meurtre  Annee (0)  Guns  Knives   Nombre P  Min  \\\n",
      "23            0         0       2010     0        0             -1   \n",
      "25            0         0       2010     0        0             -1   \n",
      "42            1         0       2010     0        0             -1   \n",
      "43            1         0       2010     0        0             -1   \n",
      "44            0         0       2010     1        0              6   \n",
      "\n",
      "    Nombre P  max  RPG  Vol �� bord  bless�es ...  mousson  \\\n",
      "23             -1    0            0         0 ...        0   \n",
      "25             -1    0            0         0 ...        0   \n",
      "42             -1    0            0         0 ...        0   \n",
      "43             -1    0            0         1 ...        0   \n",
      "44              6    0            0         0 ...        0   \n",
      "\n",
      "                                        newDescriptif         new_type  \\\n",
      "23                           pirates hijacked a dhow.            Other   \n",
      "25  armed pirates attacked and boarded the ship un...  Vehicle Carrier   \n",
      "42  pirates hijacked a tanker underway and took he...           Tanker   \n",
      "43  armed pirates attacked and hijacked a ship and...  Vehicle Carrier   \n",
      "44  six pirates in a high-speed boat armed with ma...  Vehicle Carrier   \n",
      "\n",
      "    nombre embarcation           pavillon  quinzaine_week  \\\n",
      "23                 NaN         Not Stated              20   \n",
      "25                 NaN              Malta              20   \n",
      "42                 NaN          Singapore               1   \n",
      "43                 NaN        North Korea               3   \n",
      "44                 NaN  Antigua & Barbuda               3   \n",
      "\n",
      "   statut de l'attaque(0)  type d'attaque(0)          type(0) zone  \n",
      "23               Steaming           Hijacked             Dhow  BCD  \n",
      "25               Steaming            Boarded     Bulk Carrier  BCD  \n",
      "42               Steaming           Hijacked  Chemical Tanker  BCD  \n",
      "43               Steaming           Hijacked    General Cargo  BCD  \n",
      "44               Steaming            Boarded     Bulk Carrier  BCD  \n",
      "\n",
      "[5 rows x 34 columns]\n"
     ]
    }
   ],
   "source": [
    "frames = [df, df2]\n",
    "\n",
    "result = pd.concat(frames)\n",
    "print result.head()\n",
    "result.to_csv(\"../data/aden.csv\",sep=';', index=False)"
   ]
  },
  {
   "cell_type": "markdown",
   "metadata": {},
   "source": [
    "## Zone A"
   ]
  },
  {
   "cell_type": "code",
   "execution_count": 34,
   "metadata": {
    "collapsed": false
   },
   "outputs": [
    {
     "name": "stdout",
     "output_type": "stream",
     "text": [
      "['2010-01' '2010-03' '2010-04' '2010-05' '2010-10' '2010-11' '2010-12'\n",
      " '2010-06' '2010-02' '2008-02' '2008-03' '2008-04' '2009-12' '2009-06'\n",
      " '2009-04' '2009-07' '2009-09' '2009-10' '2011-03' '2011-01' '2011-02'\n",
      " '2011-04' '2011-05' '2011-10' '2011-12' '2011-06' '2011-09' '2011-11'\n",
      " '2012-02' '2012-03' '2012-04' '2012-05' '2012-06' '2012-12' '2012-01'\n",
      " '2013-01' '2013-06' '2013-07' '2013-10' '2013-11' '2013-12' '2014-07'\n",
      " '2014-09' '2014-10' '2014-03']\n"
     ]
    }
   ],
   "source": [
    "dfA[\"mois (0)\"]=dfA.apply(lambda row: monthCorrect(row['mois (0)']), axis=1)\n",
    "dfA[\"date\"]=dfA.apply(lambda row: str(row[\"Annee (0)\"]) +\"-\"+ str(row[\"mois (0)\"]), axis=1)\n",
    "dfA[\"date\"].unique()\n",
    "print dfA[\"date\"].unique()"
   ]
  },
  {
   "cell_type": "code",
   "execution_count": 35,
   "metadata": {
    "collapsed": false,
    "scrolled": true
   },
   "outputs": [],
   "source": [
    "dfA[\"id_cluster\"] = \"\"\n",
    "for i in range(0,len(dfA[\"date\"].unique())):\n",
    "    clusterise(dfA[\"date\"].unique()[i], 6.9,dfA,\"A\")"
   ]
  },
  {
   "cell_type": "code",
   "execution_count": 36,
   "metadata": {
    "collapsed": false
   },
   "outputs": [
    {
     "name": "stdout",
     "output_type": "stream",
     "text": [
      "    Kidnapping   meurtre  Annee (0)  Guns  Knives   Nombre P  Min  \\\n",
      "0            1         0       2010     0        0             -1   \n",
      "3            1         0       2010     0        0             -1   \n",
      "4            1         0       2010     0        0             -1   \n",
      "5            1         0       2010     0        0             -1   \n",
      "7            0         0       2010     0        0             -1   \n",
      "\n",
      "   Nombre P  max  RPG  Vol �� bord  bless�es ...  mousson  \\\n",
      "0             -1    0            0         0 ...        0   \n",
      "3             -1    0            0         0 ...        0   \n",
      "4             -1    0            0         0 ...        0   \n",
      "5             -1    0            0         0 ...        0   \n",
      "7             -1    0            0         0 ...        0   \n",
      "\n",
      "                                       newDescriptif         new_type  \\\n",
      "0  pirates hijacked a ship underway and took her ...  Vehicle Carrier   \n",
      "3  armed pirates attacked, boarded and hijacked t...  Vehicle Carrier   \n",
      "4  pirates attacked and hijacked the ship underwa...  Vehicle Carrier   \n",
      "5  pirates boarded and hijacked the fishing vesse...           Vessel   \n",
      "7  pirates in two skiffs boarded a container ship...            Other   \n",
      "\n",
      "   nombre embarcation        pavillon  quinzaine_week statut de l'attaque(0)  \\\n",
      "0                 NaN  United Kingdom               1               Steaming   \n",
      "3                 NaN           Malta               6               Steaming   \n",
      "4                 NaN         Bermuda               6               Steaming   \n",
      "5                 NaN          Taiwan               6               Steaming   \n",
      "7                 NaN         Germany               7               Steaming   \n",
      "\n",
      "   type d'attaque(0)             type(0) zone  \n",
      "0           Hijacked     Vehicle Carrier  BCD  \n",
      "3           Hijacked        Bulk Carrier  BCD  \n",
      "4           Hijacked  Refrigerated Cargo  BCD  \n",
      "5           Hijacked      Fishing Vessel  BCD  \n",
      "7            Boarded           Container  BCD  \n",
      "\n",
      "[5 rows x 34 columns]\n"
     ]
    }
   ],
   "source": [
    "frames = [dfA, dfA2]\n",
    "\n",
    "result = pd.concat(frames)\n",
    "print result.head()"
   ]
  },
  {
   "cell_type": "markdown",
   "metadata": {},
   "source": [
    "## Zone I"
   ]
  },
  {
   "cell_type": "code",
   "execution_count": 37,
   "metadata": {
    "collapsed": false
   },
   "outputs": [
    {
     "data": {
      "text/plain": [
       "array(['2010-03', '2010-04', '2010-05', '2010-09', '2010-10', '2010-11',\n",
       "       '2010-12', '2010-08', '2008-08', '2008-09', '2008-04', '2008-05',\n",
       "       '2008-11', '2008-02', '2008-03', '2008-07', '2008-10', '2008-12',\n",
       "       '2009-05', '2009-12', '2009-03', '2009-04', '2009-10', '2009-11',\n",
       "       '2009-01', '2009-02', '2009-08', '2009-09', '2011-03', '2011-05',\n",
       "       '2011-01', '2011-04', '2011-06', '2011-09', '2011-10', '2011-11',\n",
       "       '2011-07', '2011-08', '2011-02', '2012-11', '2012-03', '2012-05',\n",
       "       '2012-10', '2012-02', '2012-01', '2013-02', '2013-03', '2013-05',\n",
       "       '2013-01', '2013-04', '2013-10', '2013-11', '2014-03', '2014-01',\n",
       "       '2014-04', '2014-02'], dtype=object)"
      ]
     },
     "execution_count": 37,
     "metadata": {},
     "output_type": "execute_result"
    }
   ],
   "source": [
    "dfI[\"mois (0)\"]=dfI.apply(lambda row: monthCorrect(row['mois (0)']), axis=1)\n",
    "dfI[\"date\"]=dfI.apply(lambda row: str(row[\"Annee (0)\"]) +\"-\"+ str(row[\"mois (0)\"]), axis=1)\n",
    "dfI[\"date\"].unique()"
   ]
  },
  {
   "cell_type": "code",
   "execution_count": 38,
   "metadata": {
    "collapsed": false,
    "scrolled": false
   },
   "outputs": [],
   "source": [
    "dfI[\"id_cluster\"] = \"\"\n",
    "for i in range(0,len(dfI[\"date\"].unique())):\n",
    "    clusterise(dfI[\"date\"].unique()[i], 7.6, dfI,\"I\")"
   ]
  },
  {
   "cell_type": "code",
   "execution_count": 39,
   "metadata": {
    "collapsed": false
   },
   "outputs": [
    {
     "name": "stdout",
     "output_type": "stream",
     "text": [
      "    Kidnapping   meurtre  Annee (0)  Guns  Knives   Nombre P  Min  \\\n",
      "1            1         0       2010     1        0             11   \n",
      "2            1         0       2010     0        0             -1   \n",
      "6            1         0       2010     0        0             -1   \n",
      "8            0         0       2010     1        0             -1   \n",
      "9            0         0       2010     0        0             -1   \n",
      "\n",
      "   Nombre P  max  RPG  Vol �� bord  bless�es ...  mousson  \\\n",
      "1             11    1            1         1 ...        0   \n",
      "2             -1    0            0         0 ...        0   \n",
      "6             -1    0            0         0 ...        0   \n",
      "8             -1    1            0         0 ...        0   \n",
      "9             -1    0            0         0 ...        0   \n",
      "\n",
      "                                       newDescriptif         new_type  \\\n",
      "1  eleven pirates in three skiffs armed with guns...           Vessel   \n",
      "2  armed pirates attacked and hijacked a tanker u...           Tanker   \n",
      "6  pirates in skiffs attacked, boarded and hijack...           Tanker   \n",
      "8  pirates in skiffs chased, fired upon and board...  Vehicle Carrier   \n",
      "9  armed pirates attacked and hijacked the ship u...  Vehicle Carrier   \n",
      "\n",
      "   nombre embarcation                  pavillon  quinzaine_week  \\\n",
      "1                 NaN                     Kenya               5   \n",
      "2                 NaN          Marshall Islands               5   \n",
      "6                 NaN          Marshall Islands               7   \n",
      "8                 NaN                    Turkey               7   \n",
      "9                 NaN  St. Vincent & Grenadines               7   \n",
      "\n",
      "  statut de l'attaque(0)  type d'attaque(0)          type(0) zone  \n",
      "1               Steaming           Hijacked   Fishing Vessel  BCD  \n",
      "2               Steaming           Hijacked  Chemical Tanker  BCD  \n",
      "6               Steaming           Hijacked             VLCC  BCD  \n",
      "8               Steaming            Boarded     Bulk Carrier  BCD  \n",
      "9               Steaming           Hijacked    General Cargo  BCD  \n",
      "\n",
      "[5 rows x 34 columns]\n"
     ]
    }
   ],
   "source": [
    "frames = [dfI, dfI2]\n",
    "\n",
    "result = pd.concat(frames)\n",
    "print result.head()"
   ]
  },
  {
   "cell_type": "markdown",
   "metadata": {},
   "source": [
    "# Inscription dans le fichier"
   ]
  },
  {
   "cell_type": "code",
   "execution_count": 40,
   "metadata": {
    "collapsed": true
   },
   "outputs": [],
   "source": [
    "dfinal.to_csv(\"../data/aden_golfe_matrix_cluster.csv\",sep=';', encoding='utf-8', index=False)"
   ]
  }
 ],
 "metadata": {
  "kernelspec": {
   "display_name": "Python 2",
   "language": "python",
   "name": "python2"
  },
  "language_info": {
   "codemirror_mode": {
    "name": "ipython",
    "version": 2
   },
   "file_extension": ".py",
   "mimetype": "text/x-python",
   "name": "python",
   "nbconvert_exporter": "python",
   "pygments_lexer": "ipython2",
   "version": "2.7.11"
  }
 },
 "nbformat": 4,
 "nbformat_minor": 0
}
