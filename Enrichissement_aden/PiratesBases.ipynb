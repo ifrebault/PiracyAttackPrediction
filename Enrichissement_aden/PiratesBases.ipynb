{
 "cells": [
  {
   "cell_type": "markdown",
   "metadata": {},
   "source": [
    "# enrichissement aden #2"
   ]
  },
  {
   "cell_type": "code",
   "execution_count": 1,
   "metadata": {
    "collapsed": true
   },
   "outputs": [],
   "source": [
    "import pandas as pd\n",
    "from decimal import *\n",
    "import numpy as np\n",
    "import re\n",
    "import unicodedata\n",
    "import csv\n",
    "from geopy.distance import vincenty"
   ]
  },
  {
   "cell_type": "markdown",
   "metadata": {},
   "source": [
    "# Récupération des bases de pirates"
   ]
  },
  {
   "cell_type": "markdown",
   "metadata": {},
   "source": [
    "#### Sources : Pôle de Recherches sur le Développement - Centre d’Études et de Recherches Internationales Université de Montréal (PRD -CÉRIUM) ; http://www.diplomatie-presse.com/?p=30"
   ]
  },
  {
   "cell_type": "code",
   "execution_count": 2,
   "metadata": {
    "collapsed": false
   },
   "outputs": [],
   "source": [
    "dfBases = pd.read_csv('../data/referentiels/pirates_bases.csv',sep=';')\n",
    "df = pd.read_csv(\"../data/aden.csv\", sep=';')"
   ]
  },
  {
   "cell_type": "code",
   "execution_count": 3,
   "metadata": {
    "collapsed": false
   },
   "outputs": [
    {
     "data": {
      "text/html": [
       "<div>\n",
       "<table border=\"1\" class=\"dataframe\">\n",
       "  <thead>\n",
       "    <tr style=\"text-align: right;\">\n",
       "      <th></th>\n",
       "      <th>Base</th>\n",
       "      <th>Latitude2</th>\n",
       "      <th>Longitude2</th>\n",
       "    </tr>\n",
       "  </thead>\n",
       "  <tbody>\n",
       "    <tr>\n",
       "      <th>0</th>\n",
       "      <td>Bosaso</td>\n",
       "      <td>11.283333</td>\n",
       "      <td>49.166667</td>\n",
       "    </tr>\n",
       "    <tr>\n",
       "      <th>1</th>\n",
       "      <td>Ras Asir</td>\n",
       "      <td>11.816667</td>\n",
       "      <td>51.250000</td>\n",
       "    </tr>\n",
       "    <tr>\n",
       "      <th>2</th>\n",
       "      <td>Hafun</td>\n",
       "      <td>10.421506</td>\n",
       "      <td>51.260316</td>\n",
       "    </tr>\n",
       "    <tr>\n",
       "      <th>3</th>\n",
       "      <td>Eyl</td>\n",
       "      <td>7.980000</td>\n",
       "      <td>49.817500</td>\n",
       "    </tr>\n",
       "    <tr>\n",
       "      <th>4</th>\n",
       "      <td>Harardhere</td>\n",
       "      <td>4.746867</td>\n",
       "      <td>47.894666</td>\n",
       "    </tr>\n",
       "  </tbody>\n",
       "</table>\n",
       "</div>"
      ],
      "text/plain": [
       "         Base  Latitude2  Longitude2\n",
       "0      Bosaso  11.283333   49.166667\n",
       "1    Ras Asir  11.816667   51.250000\n",
       "2       Hafun  10.421506   51.260316\n",
       "3         Eyl   7.980000   49.817500\n",
       "4  Harardhere   4.746867   47.894666"
      ]
     },
     "execution_count": 3,
     "metadata": {},
     "output_type": "execute_result"
    }
   ],
   "source": [
    "dfBases"
   ]
  },
  {
   "cell_type": "code",
   "execution_count": 4,
   "metadata": {
    "collapsed": false
   },
   "outputs": [],
   "source": [
    "def get_distance(lat, lon):\n",
    "    tab=[]\n",
    "    tab2=[]\n",
    "    pointAttack=(lat, lon)\n",
    "    length=len(dfBases)\n",
    "\n",
    "    for index in range(0,length):\n",
    "        pointCoast= (dfBases.Latitude2[index], dfBases.Longitude2[index])\n",
    "        distance =vincenty(pointCoast, pointAttack).kilometers\n",
    "        tab.append(distance)\n",
    "        tab2.append(dfBases.iloc[index]['Base'])\n",
    "    \n",
    "    return min(tab)\n"
   ]
  },
  {
   "cell_type": "code",
   "execution_count": 5,
   "metadata": {
    "collapsed": false
   },
   "outputs": [],
   "source": [
    "df['distance a la base de pirate'] = df.apply(lambda row: get_distance(row['latitude'],row['longitude']), axis=1)"
   ]
  },
  {
   "cell_type": "code",
   "execution_count": 6,
   "metadata": {
    "collapsed": false
   },
   "outputs": [],
   "source": [
    "df.to_csv(\"../data/aden.csv\",sep=';', index=False)"
   ]
  },
  {
   "cell_type": "code",
   "execution_count": null,
   "metadata": {
    "collapsed": true
   },
   "outputs": [],
   "source": []
  }
 ],
 "metadata": {
  "kernelspec": {
   "display_name": "Python 2",
   "language": "python",
   "name": "python2"
  },
  "language_info": {
   "codemirror_mode": {
    "name": "ipython",
    "version": 2
   },
   "file_extension": ".py",
   "mimetype": "text/x-python",
   "name": "python",
   "nbconvert_exporter": "python",
   "pygments_lexer": "ipython2",
   "version": "2.7.11"
  }
 },
 "nbformat": 4,
 "nbformat_minor": 0
}
