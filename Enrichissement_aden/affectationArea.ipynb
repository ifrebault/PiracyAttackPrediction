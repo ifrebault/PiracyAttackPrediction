{
 "cells": [
  {
   "cell_type": "markdown",
   "metadata": {},
   "source": [
    "# enrichissement aden #3"
   ]
  },
  {
   "cell_type": "code",
   "execution_count": 2,
   "metadata": {
    "collapsed": true
   },
   "outputs": [],
   "source": [
    "import pandas as pd\n",
    "import math\n",
    "from decimal import *\n",
    "import numpy as np"
   ]
  },
  {
   "cell_type": "code",
   "execution_count": 3,
   "metadata": {
    "collapsed": true
   },
   "outputs": [],
   "source": [
    "dfAden = pd.read_csv('../data/aden.csv',sep=';')"
   ]
  },
  {
   "cell_type": "markdown",
   "metadata": {},
   "source": [
    "# Ajustement"
   ]
  },
  {
   "cell_type": "code",
   "execution_count": 4,
   "metadata": {
    "collapsed": true
   },
   "outputs": [],
   "source": [
    "dfAden['Annee (0)'] = dfAden['Annee (0)'].astype(int)\n",
    "dfAden['jour (0)'] = dfAden['jour (0)'].astype(int)\n",
    "dfAden['mois (0)'] = dfAden['mois (0)'].astype(int)\n",
    "dfAden['descriptif']=dfAden.apply(lambda row: row['descriptif'].replace('\\r', ''), axis=1)"
   ]
  },
  {
   "cell_type": "markdown",
   "metadata": {},
   "source": [
    "# Affectation grandes zones"
   ]
  },
  {
   "cell_type": "markdown",
   "metadata": {},
   "source": [
    "Dans cette section, on définit les grandes zones :\n",
    "- Golfe d'aden\n",
    "- Est\n",
    "- Sud"
   ]
  },
  {
   "cell_type": "code",
   "execution_count": 5,
   "metadata": {
    "collapsed": false
   },
   "outputs": [],
   "source": [
    "golfe_min_lat=10\n",
    "golfe_max_lat=17\n",
    "golfe_min_lon=40\n",
    "golfe_max_lon=56\n",
    "\n",
    "arabie_min_lon=56\n",
    "golfe_min_lat=10\n",
    "\n",
    "def choose_large_area(latitude,longitude):\n",
    "    if latitude<golfe_max_lat and latitude>golfe_min_lat and longitude<=golfe_max_lon and longitude>golfe_min_lon :\n",
    "        return\"G\"\n",
    "    elif latitude>golfe_min_lat and longitude>arabie_min_lon:\n",
    "        return\"A\"\n",
    "    else:\n",
    "        return\"I\"\n",
    "\n",
    "dfAden['large_area'] = dfAden.apply(lambda row: choose_large_area(row['latitude'],row['longitude']), axis=1)\n",
    "\n",
    "dfAden.to_csv(\"../data/aden.csv\",sep=';', index=False)"
   ]
  },
  {
   "cell_type": "markdown",
   "metadata": {},
   "source": [
    "# Affectation des sous zones"
   ]
  },
  {
   "cell_type": "markdown",
   "metadata": {},
   "source": [
    "On définit les zones en important les données du référentiel que l'on a prédéfinit manuellement. "
   ]
  },
  {
   "cell_type": "code",
   "execution_count": 6,
   "metadata": {
    "collapsed": false
   },
   "outputs": [
    {
     "name": "stdout",
     "output_type": "stream",
     "text": [
      "  zone  min_lat  max_lat  min_lon  max_lon\n",
      "0    A   14.842   16.049    41.22    42.47\n",
      "1    B   13.928   14.835    41.83    43.06\n",
      "2    C   13.081   13.930    42.26    43.29\n"
     ]
    }
   ],
   "source": [
    "dfAreaAden = pd.read_csv('../data/referentiels/area_aden.csv',sep=';')\n",
    "print dfAreaAden.head(3)"
   ]
  },
  {
   "cell_type": "code",
   "execution_count": 7,
   "metadata": {
    "collapsed": false
   },
   "outputs": [],
   "source": [
    "def get_area_by_hand(lat,lon,dfAreaAden): \n",
    "    zone=\"\"    \n",
    "    for index, row in dfAreaAden.iterrows():\n",
    "        if row['max_lat']>lat>row['min_lat'] and row['max_lon']>lon>row['min_lon']:\n",
    "            zone=str(row['zone'])\n",
    "    return zone"
   ]
  },
  {
   "cell_type": "code",
   "execution_count": 8,
   "metadata": {
    "collapsed": false
   },
   "outputs": [],
   "source": [
    "dfAden['area_by_hand'] = dfAden.apply(lambda row: get_area_by_hand(float(row['latitude']),float(row['longitude']),dfAreaAden), axis=1)"
   ]
  },
  {
   "cell_type": "markdown",
   "metadata": {},
   "source": [
    "## On ecrit un fichier pour la zone golfe"
   ]
  },
  {
   "cell_type": "code",
   "execution_count": 9,
   "metadata": {
    "collapsed": false
   },
   "outputs": [
    {
     "name": "stdout",
     "output_type": "stream",
     "text": [
      "liste des zones affectées : \n",
      "['A', 'AA', 'AB', 'AC', 'AE', 'AF', 'AG', 'AH', 'AI', 'AJ', 'AL', 'AM', 'AN', 'AO', 'AP', 'AQ', 'AR', 'B', 'C', 'D', 'E', 'F', 'G', 'H', 'I', 'J', 'K', 'L', 'M', 'N', 'O', 'P', 'R', 'S', 'T', 'V', 'W', 'X', 'Y', 'Z']\n"
     ]
    }
   ],
   "source": [
    "dfToWrite=dfAden[dfAden['area_by_hand']!=\"\"]\n",
    "print \"liste des zones affectées : \"\n",
    "print sorted(dfToWrite['area_by_hand'].unique())\n",
    "dfToWrite.to_csv(\"../data/aden_golfe.csv\",sep=';', index=False)"
   ]
  },
  {
   "cell_type": "code",
   "execution_count": null,
   "metadata": {
    "collapsed": true
   },
   "outputs": [],
   "source": []
  }
 ],
 "metadata": {
  "kernelspec": {
   "display_name": "Python 2",
   "language": "python",
   "name": "python2"
  },
  "language_info": {
   "codemirror_mode": {
    "name": "ipython",
    "version": 2
   },
   "file_extension": ".py",
   "mimetype": "text/x-python",
   "name": "python",
   "nbconvert_exporter": "python",
   "pygments_lexer": "ipython2",
   "version": "2.7.11"
  }
 },
 "nbformat": 4,
 "nbformat_minor": 0
}
