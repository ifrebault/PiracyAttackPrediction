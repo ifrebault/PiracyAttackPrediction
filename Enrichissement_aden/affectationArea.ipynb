{
 "cells": [
  {
   "cell_type": "code",
   "execution_count": 12,
   "metadata": {
    "collapsed": true
   },
   "outputs": [],
   "source": [
    "import pandas as pd\n",
    "import math\n",
    "from decimal import *\n",
    "import numpy as np"
   ]
  },
  {
   "cell_type": "code",
   "execution_count": 13,
   "metadata": {
    "collapsed": true
   },
   "outputs": [],
   "source": [
    "dfAden = pd.read_csv('../data/aden.csv',sep=';')"
   ]
  },
  {
   "cell_type": "markdown",
   "metadata": {},
   "source": [
    "# Ajustement"
   ]
  },
  {
   "cell_type": "code",
   "execution_count": 14,
   "metadata": {
    "collapsed": true
   },
   "outputs": [],
   "source": [
    "dfAden['Annee (0)'] = dfAden['Annee (0)'].astype(int)\n",
    "dfAden['jour (0)'] = dfAden['jour (0)'].astype(int)\n",
    "dfAden['mois (0)'] = dfAden['mois (0)'].astype(int)\n",
    "\n",
    "dfAden['descriptif']=dfAden.apply(lambda row: row['descriptif'].replace('\\r', ''), axis=1)"
   ]
  },
  {
   "cell_type": "markdown",
   "metadata": {},
   "source": [
    "# Affectation grandes zones"
   ]
  },
  {
   "cell_type": "markdown",
   "metadata": {},
   "source": [
    "Dans cette section, on définit les grandes zones :\n",
    "- Golfe d'aden\n",
    "- Est\n",
    "- Sud"
   ]
  },
  {
   "cell_type": "code",
   "execution_count": 15,
   "metadata": {
    "collapsed": false
   },
   "outputs": [],
   "source": [
    "golfe_min_lat=10\n",
    "golfe_max_lat=17\n",
    "golfe_min_lon=40\n",
    "golfe_max_lon=56\n",
    "\n",
    "arabie_min_lon=56\n",
    "golfe_min_lat=10\n",
    "\n",
    "def choose_large_area(latitude,longitude):\n",
    "    if latitude<golfe_max_lat and latitude>golfe_min_lat and longitude<=golfe_max_lon and longitude>golfe_min_lon :\n",
    "        return\"G\"\n",
    "    elif latitude>golfe_min_lat and longitude>arabie_min_lon:\n",
    "        return\"A\"\n",
    "    else:\n",
    "        return\"I\"\n",
    "    \n",
    "#print choose_large_area(11,41)\n",
    "\n",
    "dfAden['large_area'] = dfAden.apply(lambda row: choose_large_area(row['latitude'],row['longitude']), axis=1)\n",
    "\n",
    "dfAden.to_csv(\"../data/aden.csv\",sep=';', index=False)"
   ]
  },
  {
   "cell_type": "markdown",
   "metadata": {},
   "source": [
    "# Affectation des sous zones"
   ]
  },
  {
   "cell_type": "code",
   "execution_count": 16,
   "metadata": {
    "collapsed": true
   },
   "outputs": [],
   "source": [
    "dfAden = pd.read_csv('../data/aden.csv',sep=';')"
   ]
  },
  {
   "cell_type": "markdown",
   "metadata": {},
   "source": [
    "Cette fonction renvoie deux tableaux contenant le découpage en zones"
   ]
  },
  {
   "cell_type": "code",
   "execution_count": 17,
   "metadata": {
    "collapsed": false
   },
   "outputs": [
    {
     "name": "stdout",
     "output_type": "stream",
     "text": [
      "12\n",
      "31\n",
      "[10.0, 10.636363636363637, 11.272727272727273, 11.90909090909091, 12.545454545454545, 13.181818181818182, 13.818181818181818, 14.454545454545453, 15.09090909090909, 15.727272727272727, 16.363636363636363, 17.0]\n",
      "[40, 40.548881779729705, 41.098909650518635, 41.65015655057219, 42.20269620596189, 42.756603182819944, 43.31195294089674, 43.86882188858008, 44.42728743947935, 44.987428070682796, 45.549323382801425, 46.11305416191886, 46.668786358456941, 47.224518554995022, 47.780250751533103, 48.335982948071184, 48.891715144609265, 49.447447341147345, 50.003179537685426, 50.558911734223507, 51.114643930761588, 51.670376127299669, 52.226108323837749, 52.78184052037583, 53.337572716913911, 53.893304913451992, 54.449037109990073, 55.004769306528154, 55.560501503066234, 56.116233699604315, 56.671965896142396]\n"
     ]
    }
   ],
   "source": [
    "def get_grid_area(min_lat,max_lat,min_lon,max_lon,accuracy_km=60): \n",
    "    #accuracy_km est la précision que l'on veut donner\n",
    "    #un degre de latitude \"vaut\"  111,11 km\n",
    "    accuracy_lat=accuracy_km/111.11\n",
    "\n",
    "    diff_lat=max_lat-min_lat\n",
    "    diff_lon=max_lon-min_lon\n",
    "\n",
    "    path_lat=float(diff_lat)/float(accuracy_lat)\n",
    "\n",
    "    latitude_grid=np.linspace(min_lat, max_lat, path_lat)\n",
    "    longitude_grid=[]\n",
    "    longitude_grid.append(golfe_min_lon)\n",
    "\n",
    "    tab=[]\n",
    "    for i in range(0,len(latitude_grid)-1):\n",
    "        mean_lat=float(latitude_grid[i]+latitude_grid[i+1])/2\n",
    "        km_lon=111.11*math.cos(math.radians(mean_lat))\n",
    "        accuracy_lon=accuracy_km/km_lon\n",
    "        tab.append(accuracy_lon) \n",
    "        currentLon=longitude_grid[i]+accuracy_lon\n",
    "        longitude_grid.append(currentLon)\n",
    "\n",
    "    #on complete jusqu'a golfe_max_lon\n",
    "    maxCurrent=max(longitude_grid)\n",
    "    meanPath=np.mean(tab)\n",
    "    while maxCurrent<max_lon:\n",
    "        maxCurrent=max(longitude_grid)\n",
    "        longitude_grid.append(maxCurrent+meanPath)\n",
    "    \n",
    "    return latitude_grid.tolist(),longitude_grid\n",
    "\n",
    "\n",
    "golfe_latitude_grid,golfe_longitude_grid=get_grid_area(golfe_min_lat,golfe_max_lat,golfe_min_lon,golfe_max_lon)\n",
    "\n",
    "\n",
    "print len(golfe_latitude_grid)\n",
    "print len(golfe_longitude_grid)\n",
    "print golfe_latitude_grid\n",
    "print golfe_longitude_grid"
   ]
  },
  {
   "cell_type": "markdown",
   "metadata": {},
   "source": [
    "On utilise ce découpage pour créer deux colonnes : lat_area et lon_area"
   ]
  },
  {
   "cell_type": "code",
   "execution_count": 18,
   "metadata": {
    "collapsed": true
   },
   "outputs": [],
   "source": [
    "def affectation_zone(latitude,longitude,latitude_grid,longitude_grid,lat_bool):\n",
    "    #print 'latitude : '+ str(latitude)\n",
    "    #print 'longitude : '+ str(longitude)\n",
    "    #print latitude_grid\n",
    "    idx_zone_lat=None\n",
    "    idx_zone_lon=None\n",
    "    \n",
    "    for i in range(0,len(latitude_grid)-1):        \n",
    "        if latitude<=latitude_grid[i+1] and latitude>latitude_grid[i]:\n",
    "            idx_zone_lat=i\n",
    "\n",
    "    for i in range(0,len(longitude_grid)-1):\n",
    "        if longitude<=longitude_grid[i+1] and longitude>longitude_grid[i]:\n",
    "            idx_zone_lon=i\n",
    "\n",
    "    #print idx_zone_lon\n",
    "    #print idx_zone_lat\n",
    "    if lat_bool:\n",
    "        return idx_zone_lat\n",
    "    else:\n",
    "        return idx_zone_lon"
   ]
  },
  {
   "cell_type": "markdown",
   "metadata": {},
   "source": [
    "Test"
   ]
  },
  {
   "cell_type": "code",
   "execution_count": 19,
   "metadata": {
    "collapsed": false
   },
   "outputs": [
    {
     "name": "stdout",
     "output_type": "stream",
     "text": [
      "None\n",
      "4\n"
     ]
    }
   ],
   "source": [
    "latitude=-5.23333333333\n",
    "longitude=42.6166666667\n",
    "idx_zone_lat=affectation_zone(latitude,longitude,golfe_latitude_grid,golfe_longitude_grid,True)\n",
    "idx_zone_lon=affectation_zone(latitude,longitude,golfe_latitude_grid,golfe_longitude_grid,False)\n",
    "print idx_zone_lat\n",
    "print idx_zone_lon"
   ]
  },
  {
   "cell_type": "code",
   "execution_count": 20,
   "metadata": {
    "collapsed": false
   },
   "outputs": [],
   "source": [
    "dfAden['lat_area'] = dfAden[dfAden['large_area']==\"G\"].apply(lambda row: affectation_zone(row['latitude'],row['longitude'],golfe_latitude_grid,golfe_longitude_grid,True), axis=1)\n",
    "dfAden['lon_area'] = dfAden[dfAden['large_area']==\"G\"].apply(lambda row: affectation_zone(row['latitude'],row['longitude'],golfe_latitude_grid,golfe_longitude_grid,False), axis=1)"
   ]
  },
  {
   "cell_type": "code",
   "execution_count": 21,
   "metadata": {
    "collapsed": false
   },
   "outputs": [
    {
     "data": {
      "text/html": [
       "<div>\n",
       "<table border=\"1\" class=\"dataframe\">\n",
       "  <thead>\n",
       "    <tr style=\"text-align: right;\">\n",
       "      <th></th>\n",
       "      <th>Annee (0)</th>\n",
       "      <th>jour (0)</th>\n",
       "      <th>mois (0)</th>\n",
       "      <th>dist cote (nq)</th>\n",
       "      <th>zone</th>\n",
       "      <th>lat (0)</th>\n",
       "      <th>long(0)</th>\n",
       "      <th>type(0)</th>\n",
       "      <th>pavillon</th>\n",
       "      <th>statut de l'attaque(0)</th>\n",
       "      <th>...</th>\n",
       "      <th>quinzaine_week</th>\n",
       "      <th>newDescriptif</th>\n",
       "      <th>Guns</th>\n",
       "      <th>mousson</th>\n",
       "      <th>distance au port</th>\n",
       "      <th>distance_shorline</th>\n",
       "      <th>lat_area</th>\n",
       "      <th>lon_area</th>\n",
       "      <th>large_area</th>\n",
       "      <th>distance a la base de pirate</th>\n",
       "    </tr>\n",
       "  </thead>\n",
       "  <tbody>\n",
       "    <tr>\n",
       "      <th>23</th>\n",
       "      <td>2010</td>\n",
       "      <td>28</td>\n",
       "      <td>10</td>\n",
       "      <td>NaN</td>\n",
       "      <td>BCD</td>\n",
       "      <td>12:08N</td>\n",
       "      <td>054:25E</td>\n",
       "      <td>Dhow</td>\n",
       "      <td>Not Stated</td>\n",
       "      <td>Steaming</td>\n",
       "      <td>...</td>\n",
       "      <td>20</td>\n",
       "      <td>pirates hijacked a dhow.</td>\n",
       "      <td>0</td>\n",
       "      <td>0</td>\n",
       "      <td>534.679104</td>\n",
       "      <td>35.872306</td>\n",
       "      <td>3</td>\n",
       "      <td>25</td>\n",
       "      <td>G</td>\n",
       "      <td>346.662210</td>\n",
       "    </tr>\n",
       "    <tr>\n",
       "      <th>25</th>\n",
       "      <td>2010</td>\n",
       "      <td>30</td>\n",
       "      <td>10</td>\n",
       "      <td>NaN</td>\n",
       "      <td>BCD</td>\n",
       "      <td>15:06N</td>\n",
       "      <td>055:58E</td>\n",
       "      <td>Bulk Carrier</td>\n",
       "      <td>Malta</td>\n",
       "      <td>Steaming</td>\n",
       "      <td>...</td>\n",
       "      <td>20</td>\n",
       "      <td>armed pirates attacked and boarded the ship un...</td>\n",
       "      <td>0</td>\n",
       "      <td>0</td>\n",
       "      <td>292.330113</td>\n",
       "      <td>233.517911</td>\n",
       "      <td>8</td>\n",
       "      <td>28</td>\n",
       "      <td>G</td>\n",
       "      <td>626.662668</td>\n",
       "    </tr>\n",
       "    <tr>\n",
       "      <th>42</th>\n",
       "      <td>2010</td>\n",
       "      <td>1</td>\n",
       "      <td>1</td>\n",
       "      <td>NaN</td>\n",
       "      <td>BCD</td>\n",
       "      <td>12:31N</td>\n",
       "      <td>047:18E</td>\n",
       "      <td>Chemical Tanker</td>\n",
       "      <td>Singapore</td>\n",
       "      <td>Steaming</td>\n",
       "      <td>...</td>\n",
       "      <td>1</td>\n",
       "      <td>pirates hijacked a tanker underway and took he...</td>\n",
       "      <td>0</td>\n",
       "      <td>0</td>\n",
       "      <td>259.217741</td>\n",
       "      <td>118.411436</td>\n",
       "      <td>3</td>\n",
       "      <td>13</td>\n",
       "      <td>G</td>\n",
       "      <td>244.881989</td>\n",
       "    </tr>\n",
       "  </tbody>\n",
       "</table>\n",
       "<p>3 rows × 33 columns</p>\n",
       "</div>"
      ],
      "text/plain": [
       "    Annee (0)  jour (0)  mois (0)  dist cote (nq) zone lat (0)  long(0)  \\\n",
       "23       2010        28        10             NaN  BCD  12:08N  054:25E   \n",
       "25       2010        30        10             NaN  BCD  15:06N  055:58E   \n",
       "42       2010         1         1             NaN  BCD  12:31N  047:18E   \n",
       "\n",
       "            type(0)    pavillon statut de l'attaque(0)  \\\n",
       "23             Dhow  Not Stated               Steaming   \n",
       "25     Bulk Carrier       Malta               Steaming   \n",
       "42  Chemical Tanker   Singapore               Steaming   \n",
       "\n",
       "                ...              quinzaine_week  \\\n",
       "23              ...                          20   \n",
       "25              ...                          20   \n",
       "42              ...                           1   \n",
       "\n",
       "                                        newDescriptif  Guns  mousson  \\\n",
       "23                           pirates hijacked a dhow.     0        0   \n",
       "25  armed pirates attacked and boarded the ship un...     0        0   \n",
       "42  pirates hijacked a tanker underway and took he...     0        0   \n",
       "\n",
       "    distance au port  distance_shorline  lat_area  lon_area  large_area  \\\n",
       "23        534.679104          35.872306         3        25           G   \n",
       "25        292.330113         233.517911         8        28           G   \n",
       "42        259.217741         118.411436         3        13           G   \n",
       "\n",
       "    distance a la base de pirate  \n",
       "23                    346.662210  \n",
       "25                    626.662668  \n",
       "42                    244.881989  \n",
       "\n",
       "[3 rows x 33 columns]"
      ]
     },
     "execution_count": 21,
     "metadata": {},
     "output_type": "execute_result"
    }
   ],
   "source": [
    "dfAden[dfAden['large_area']==\"G\"].head(3)"
   ]
  },
  {
   "cell_type": "markdown",
   "metadata": {},
   "source": [
    "### On ecrit un fichier par zone"
   ]
  },
  {
   "cell_type": "code",
   "execution_count": 22,
   "metadata": {
    "collapsed": false
   },
   "outputs": [],
   "source": [
    "dfAden[dfAden['large_area']==\"G\"].to_csv(\"../data/aden_golfe.csv\",sep=';', index=False)"
   ]
  },
  {
   "cell_type": "code",
   "execution_count": null,
   "metadata": {
    "collapsed": true
   },
   "outputs": [],
   "source": []
  }
 ],
 "metadata": {
  "kernelspec": {
   "display_name": "Python 2",
   "language": "python",
   "name": "python2"
  },
  "language_info": {
   "codemirror_mode": {
    "name": "ipython",
    "version": 2
   },
   "file_extension": ".py",
   "mimetype": "text/x-python",
   "name": "python",
   "nbconvert_exporter": "python",
   "pygments_lexer": "ipython2",
   "version": "2.7.11"
  }
 },
 "nbformat": 4,
 "nbformat_minor": 0
}
