{
 "cells": [
  {
   "cell_type": "code",
   "execution_count": 33,
   "metadata": {
    "collapsed": true
   },
   "outputs": [],
   "source": [
    "import pandas as pd\n",
    "import math\n",
    "from decimal import *\n",
    "import numpy as np"
   ]
  },
  {
   "cell_type": "code",
   "execution_count": 34,
   "metadata": {
    "collapsed": true
   },
   "outputs": [],
   "source": [
    "dfAden = pd.read_csv('../data/aden.csv',sep=';')"
   ]
  },
  {
   "cell_type": "markdown",
   "metadata": {},
   "source": [
    "# Affectation des zones"
   ]
  },
  {
   "cell_type": "code",
   "execution_count": 35,
   "metadata": {
    "collapsed": false
   },
   "outputs": [
    {
     "name": "stdout",
     "output_type": "stream",
     "text": [
      "70\n",
      "80\n"
     ]
    }
   ],
   "source": [
    "min_lat=-10\n",
    "max_lat=31\n",
    "min_lon=31\n",
    "max_lon=78\n",
    "\n",
    "#un degre de latitude \"vaut\"  111,11 km\n",
    "accuracy_km=65\n",
    "accuracy_lat=accuracy_km/111.11\n",
    "\n",
    "diff_lat=max_lat-min_lat\n",
    "diff_lon=max_lon-min_lon\n",
    "\n",
    "path_lat=float(diff_lat)/float(accuracy_lat)\n",
    "\n",
    "latitude_grid=np.linspace(min_lat, max_lat, path_lat)\n",
    "longitude_grid=[]\n",
    "longitude_grid.append(min_lon)\n",
    "\n",
    "tab=[]\n",
    "for i in range(0,len(latitude_grid)-1):\n",
    "    mean_lat=float(latitude_grid[i]+latitude_grid[i+1])/2\n",
    "    \n",
    "    #print mean_lat\n",
    "    #print math.cos(math.radians(mean_lat))\n",
    "    km_lon=111.11*math.cos(math.radians(mean_lat))\n",
    "    accuracy_lon=accuracy_km/km_lon\n",
    "    \n",
    "    tab.append(accuracy_lon)\n",
    "    \n",
    "    currentLon=longitude_grid[i]+accuracy_lon\n",
    "    longitude_grid.append(currentLon)\n",
    "    #print 111.11*math.cos(math.radians(mean_lat))\n",
    "\n",
    "    \n",
    "#on complete jusqu'a 78\n",
    "maxCurrent=max(longitude_grid)\n",
    "meanPath=np.mean(tab)\n",
    "while maxCurrent<78:\n",
    "    maxCurrent=max(longitude_grid)\n",
    "    longitude_grid.append(maxCurrent+meanPath)\n",
    "    \n",
    "    \n",
    "print len(latitude_grid)\n",
    "print len(longitude_grid)\n",
    "#print latitude_grid\n",
    "#print longitude_grid\n"
   ]
  },
  {
   "cell_type": "code",
   "execution_count": 36,
   "metadata": {
    "collapsed": true
   },
   "outputs": [],
   "source": [
    "def affectation_zone(latitude,longitude,latitude_grid,longitude_grid,lat_bool):\n",
    "    #print 'latitude : '+ str(latitude)\n",
    "    #print 'longitude : '+ str(longitude)\n",
    "    \n",
    "    for i in range(0,len(latitude_grid)-1):\n",
    "        if latitude<latitude_grid[i+1] and latitude>latitude_grid[i]:\n",
    "            idx_zone_lat=i\n",
    "            \n",
    "    for i in range(0,len(longitude_grid)-1):\n",
    "        if longitude<longitude_grid[i+1] and longitude>longitude_grid[i]:\n",
    "            idx_zone_lon=i\n",
    "\n",
    "    #print idx_zone_lon\n",
    "    #print idx_zone_lat\n",
    "    if lat_bool:\n",
    "        return idx_zone_lat\n",
    "    else:\n",
    "        return idx_zone_lon"
   ]
  },
  {
   "cell_type": "code",
   "execution_count": 37,
   "metadata": {
    "collapsed": false
   },
   "outputs": [
    {
     "name": "stdout",
     "output_type": "stream",
     "text": [
      "33\n",
      "74\n"
     ]
    }
   ],
   "source": [
    "latitude=9.91666666667\n",
    "longitude=76.0833333333\n",
    "idx_zone_lat=affectation_zone(latitude,longitude,latitude_grid,longitude_grid,True)\n",
    "idx_zone_lon=affectation_zone(latitude,longitude,latitude_grid,longitude_grid,False)\n",
    "print idx_zone_lat\n",
    "print idx_zone_lon"
   ]
  },
  {
   "cell_type": "code",
   "execution_count": 38,
   "metadata": {
    "collapsed": false
   },
   "outputs": [],
   "source": [
    "dfAden['lat_area'] = dfAden.apply(lambda row: affectation_zone(row['latitude'],row['longitude'],latitude_grid,longitude_grid,True), axis=1)\n",
    "dfAden['lon_area'] = dfAden.apply(lambda row: affectation_zone(row['latitude'],row['longitude'],latitude_grid,longitude_grid,False), axis=1)"
   ]
  },
  {
   "cell_type": "code",
   "execution_count": 43,
   "metadata": {
    "collapsed": false
   },
   "outputs": [],
   "source": [
    "dfAden['Annee (0)'] = dfAden['Annee (0)'].astype(int)\n",
    "dfAden['jour (0)'] = dfAden['jour (0)'].astype(int)\n",
    "dfAden['mois (0)'] = dfAden['mois (0)'].astype(int)"
   ]
  },
  {
   "cell_type": "code",
   "execution_count": 59,
   "metadata": {
    "collapsed": false
   },
   "outputs": [
    {
     "name": "stdout",
     "output_type": "stream",
     "text": [
      "['Unnamed: 0.1.1']\n",
      "Unnamed: 0.1.1\n"
     ]
    },
    {
     "ename": "ValueError",
     "evalue": "labels ['Unnamed: 0.1.1'] not contained in axis",
     "output_type": "error",
     "traceback": [
      "\u001b[0;31m---------------------------------------------------------------------------\u001b[0m",
      "\u001b[0;31mValueError\u001b[0m                                Traceback (most recent call last)",
      "\u001b[0;32m<ipython-input-59-c6cd45a6701f>\u001b[0m in \u001b[0;36m<module>\u001b[0;34m()\u001b[0m\n\u001b[1;32m      5\u001b[0m \u001b[0;32mfor\u001b[0m \u001b[0mcol\u001b[0m \u001b[0;32min\u001b[0m \u001b[0mcolumnTodelete\u001b[0m\u001b[0;34m:\u001b[0m\u001b[0;34m\u001b[0m\u001b[0m\n\u001b[1;32m      6\u001b[0m     \u001b[0;32mprint\u001b[0m \u001b[0mcol\u001b[0m\u001b[0;34m\u001b[0m\u001b[0m\n\u001b[0;32m----> 7\u001b[0;31m     \u001b[0mdfAden\u001b[0m \u001b[0;34m=\u001b[0m \u001b[0mdfAden\u001b[0m\u001b[0;34m.\u001b[0m\u001b[0mdrop\u001b[0m\u001b[0;34m(\u001b[0m\u001b[0mcol\u001b[0m\u001b[0;34m)\u001b[0m\u001b[0;34m\u001b[0m\u001b[0m\n\u001b[0m",
      "\u001b[0;32m/Users/romainphilippe/app/anaconda2/lib/python2.7/site-packages/pandas/core/generic.pyc\u001b[0m in \u001b[0;36mdrop\u001b[0;34m(self, labels, axis, level, inplace, errors)\u001b[0m\n\u001b[1;32m   1615\u001b[0m                 \u001b[0mnew_axis\u001b[0m \u001b[0;34m=\u001b[0m \u001b[0maxis\u001b[0m\u001b[0;34m.\u001b[0m\u001b[0mdrop\u001b[0m\u001b[0;34m(\u001b[0m\u001b[0mlabels\u001b[0m\u001b[0;34m,\u001b[0m \u001b[0mlevel\u001b[0m\u001b[0;34m=\u001b[0m\u001b[0mlevel\u001b[0m\u001b[0;34m,\u001b[0m \u001b[0merrors\u001b[0m\u001b[0;34m=\u001b[0m\u001b[0merrors\u001b[0m\u001b[0;34m)\u001b[0m\u001b[0;34m\u001b[0m\u001b[0m\n\u001b[1;32m   1616\u001b[0m             \u001b[0;32melse\u001b[0m\u001b[0;34m:\u001b[0m\u001b[0;34m\u001b[0m\u001b[0m\n\u001b[0;32m-> 1617\u001b[0;31m                 \u001b[0mnew_axis\u001b[0m \u001b[0;34m=\u001b[0m \u001b[0maxis\u001b[0m\u001b[0;34m.\u001b[0m\u001b[0mdrop\u001b[0m\u001b[0;34m(\u001b[0m\u001b[0mlabels\u001b[0m\u001b[0;34m,\u001b[0m \u001b[0merrors\u001b[0m\u001b[0;34m=\u001b[0m\u001b[0merrors\u001b[0m\u001b[0;34m)\u001b[0m\u001b[0;34m\u001b[0m\u001b[0m\n\u001b[0m\u001b[1;32m   1618\u001b[0m             \u001b[0mdropped\u001b[0m \u001b[0;34m=\u001b[0m \u001b[0mself\u001b[0m\u001b[0;34m.\u001b[0m\u001b[0mreindex\u001b[0m\u001b[0;34m(\u001b[0m\u001b[0;34m**\u001b[0m\u001b[0;34m{\u001b[0m\u001b[0maxis_name\u001b[0m\u001b[0;34m:\u001b[0m \u001b[0mnew_axis\u001b[0m\u001b[0;34m}\u001b[0m\u001b[0;34m)\u001b[0m\u001b[0;34m\u001b[0m\u001b[0m\n\u001b[1;32m   1619\u001b[0m             \u001b[0;32mtry\u001b[0m\u001b[0;34m:\u001b[0m\u001b[0;34m\u001b[0m\u001b[0m\n",
      "\u001b[0;32m/Users/romainphilippe/app/anaconda2/lib/python2.7/site-packages/pandas/core/index.pyc\u001b[0m in \u001b[0;36mdrop\u001b[0;34m(self, labels, errors)\u001b[0m\n\u001b[1;32m   2801\u001b[0m         \u001b[0;32mif\u001b[0m \u001b[0mmask\u001b[0m\u001b[0;34m.\u001b[0m\u001b[0many\u001b[0m\u001b[0;34m(\u001b[0m\u001b[0;34m)\u001b[0m\u001b[0;34m:\u001b[0m\u001b[0;34m\u001b[0m\u001b[0m\n\u001b[1;32m   2802\u001b[0m             \u001b[0;32mif\u001b[0m \u001b[0merrors\u001b[0m \u001b[0;34m!=\u001b[0m \u001b[0;34m'ignore'\u001b[0m\u001b[0;34m:\u001b[0m\u001b[0;34m\u001b[0m\u001b[0m\n\u001b[0;32m-> 2803\u001b[0;31m                 \u001b[0;32mraise\u001b[0m \u001b[0mValueError\u001b[0m\u001b[0;34m(\u001b[0m\u001b[0;34m'labels %s not contained in axis'\u001b[0m \u001b[0;34m%\u001b[0m \u001b[0mlabels\u001b[0m\u001b[0;34m[\u001b[0m\u001b[0mmask\u001b[0m\u001b[0;34m]\u001b[0m\u001b[0;34m)\u001b[0m\u001b[0;34m\u001b[0m\u001b[0m\n\u001b[0m\u001b[1;32m   2804\u001b[0m             \u001b[0mindexer\u001b[0m \u001b[0;34m=\u001b[0m \u001b[0mindexer\u001b[0m\u001b[0;34m[\u001b[0m\u001b[0;34m~\u001b[0m\u001b[0mmask\u001b[0m\u001b[0;34m]\u001b[0m\u001b[0;34m\u001b[0m\u001b[0m\n\u001b[1;32m   2805\u001b[0m         \u001b[0;32mreturn\u001b[0m \u001b[0mself\u001b[0m\u001b[0;34m.\u001b[0m\u001b[0mdelete\u001b[0m\u001b[0;34m(\u001b[0m\u001b[0mindexer\u001b[0m\u001b[0;34m)\u001b[0m\u001b[0;34m\u001b[0m\u001b[0m\n",
      "\u001b[0;31mValueError\u001b[0m: labels ['Unnamed: 0.1.1'] not contained in axis"
     ]
    }
   ],
   "source": [
    "#dfAden.columns[0]\n",
    "columnTodelete=filter(lambda x:'Unna' in x, dfAden.columns)\n",
    "\n",
    "print columnTodelete\n",
    "for col in columnTodelete:\n",
    "    print col\n",
    "    dfAden = dfAden.drop(col)"
   ]
  },
  {
   "cell_type": "code",
   "execution_count": 60,
   "metadata": {
    "collapsed": false
   },
   "outputs": [],
   "source": [
    "dfAden.to_csv(\"../data/aden.csv\",sep=';', encoding='utf-8')"
   ]
  },
  {
   "cell_type": "code",
   "execution_count": 58,
   "metadata": {
    "collapsed": false
   },
   "outputs": [
    {
     "data": {
      "text/plain": [
       "Index([u'Unnamed: 0.1.1', u'Annee (0)', u'jour (0)', u'mois (0)',\n",
       "       u'dist à la côte (nq)', u'zone', u'lat (0)', u'long(0)', u'type(0)',\n",
       "       u'pavillon', u'statut de l'attaque(0)', u'type d'attaque(0)',\n",
       "       u'Nombre P  Min', u'Nombre P  max', u'nombre embarcation',\n",
       "       u'Vol à bord', u' Kidnapping', u'blessées', u' meurtre', u'Knives ',\n",
       "       u'RPG', u'descriptif', u'latitude', u'longitude', u'quinzaine_week',\n",
       "       u'newDescriptif', u'Guns', u'mousson', u'distance au port',\n",
       "       u'distance_shorline', u'lat_area', u'lon_area'],\n",
       "      dtype='object')"
      ]
     },
     "execution_count": 58,
     "metadata": {},
     "output_type": "execute_result"
    }
   ],
   "source": [
    "dfAden.columns"
   ]
  },
  {
   "cell_type": "code",
   "execution_count": null,
   "metadata": {
    "collapsed": true
   },
   "outputs": [],
   "source": []
  }
 ],
 "metadata": {
  "kernelspec": {
   "display_name": "Python 2",
   "language": "python",
   "name": "python2"
  },
  "language_info": {
   "codemirror_mode": {
    "name": "ipython",
    "version": 2
   },
   "file_extension": ".py",
   "mimetype": "text/x-python",
   "name": "python",
   "nbconvert_exporter": "python",
   "pygments_lexer": "ipython2",
   "version": "2.7.11"
  }
 },
 "nbformat": 4,
 "nbformat_minor": 0
}
