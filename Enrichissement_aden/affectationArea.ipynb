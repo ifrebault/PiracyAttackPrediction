{
 "cells": [
  {
   "cell_type": "code",
   "execution_count": 55,
   "metadata": {
    "collapsed": true
   },
   "outputs": [],
   "source": [
    "import pandas as pd\n",
    "import math\n",
    "from decimal import *\n",
    "import numpy as np"
   ]
  },
  {
   "cell_type": "code",
   "execution_count": 56,
   "metadata": {
    "collapsed": true
   },
   "outputs": [],
   "source": [
    "dfAden = pd.read_csv('../data/aden.csv',sep=';')"
   ]
  },
  {
   "cell_type": "markdown",
   "metadata": {},
   "source": [
    "# Ajustement"
   ]
  },
  {
   "cell_type": "code",
   "execution_count": 57,
   "metadata": {
    "collapsed": true
   },
   "outputs": [],
   "source": [
    "dfAden['Annee (0)'] = dfAden['Annee (0)'].astype(int)\n",
    "dfAden['jour (0)'] = dfAden['jour (0)'].astype(int)\n",
    "dfAden['mois (0)'] = dfAden['mois (0)'].astype(int)\n",
    "\n",
    "dfAden['descriptif']=dfAden.apply(lambda row: row['descriptif'].replace('\\r', ''), axis=1)"
   ]
  },
  {
   "cell_type": "markdown",
   "metadata": {},
   "source": [
    "# Affectation grandes zones"
   ]
  },
  {
   "cell_type": "markdown",
   "metadata": {},
   "source": [
    "Dans cette section, on définit les grandes zones :\n",
    "- Golfe d'aden\n",
    "- Est\n",
    "- Sud"
   ]
  },
  {
   "cell_type": "code",
   "execution_count": 58,
   "metadata": {
    "collapsed": false
   },
   "outputs": [],
   "source": [
    "golfe_min_lat=10\n",
    "golfe_max_lat=17\n",
    "golfe_min_lon=40\n",
    "golfe_max_lon=56\n",
    "\n",
    "arabie_min_lon=56\n",
    "golfe_min_lat=10\n",
    "\n",
    "def choose_large_area(latitude,longitude):\n",
    "    if latitude<golfe_max_lat and latitude>golfe_min_lat and longitude<=golfe_max_lon and longitude>golfe_min_lon :\n",
    "        return\"G\"\n",
    "    elif latitude>golfe_min_lat and longitude>arabie_min_lon:\n",
    "        return\"A\"\n",
    "    else:\n",
    "        return\"I\"\n",
    "    \n",
    "#print choose_large_area(11,41)\n",
    "\n",
    "dfAden['large_area'] = dfAden.apply(lambda row: choose_large_area(row['latitude'],row['longitude']), axis=1)\n",
    "\n",
    "dfAden.to_csv(\"../data/aden.csv\",sep=';', index=False)"
   ]
  },
  {
   "cell_type": "markdown",
   "metadata": {},
   "source": [
    "# Affectation des sous zones"
   ]
  },
  {
   "cell_type": "code",
   "execution_count": 59,
   "metadata": {
    "collapsed": false
   },
   "outputs": [
    {
     "name": "stdout",
     "output_type": "stream",
     "text": [
      "Index([u'Annee (0)', u'jour (0)', u'mois (0)', u'dist �� la c��te (nq)',\n",
      "       u'zone', u'lat (0)', u'long(0)', u'type(0)', u'pavillon',\n",
      "       u'statut de l'attaque(0)', u'type d'attaque(0)', u'Nombre P  Min',\n",
      "       u'Nombre P  max', u'nombre embarcation', u'Vol �� bord', u' Kidnapping',\n",
      "       u'bless��es', u' meurtre', u'Knives ', u'RPG', u'descriptif',\n",
      "       u'latitude', u'longitude', u'quinzaine_week', u'newDescriptif', u'Guns',\n",
      "       u'mousson', u'distance au port', u'new_type', u'large_area'],\n",
      "      dtype='object')\n"
     ]
    }
   ],
   "source": [
    "dfAden = pd.read_csv('../data/aden.csv',sep=';')\n",
    "print dfAden.columns"
   ]
  },
  {
   "cell_type": "markdown",
   "metadata": {},
   "source": [
    "## Sous grille automatique"
   ]
  },
  {
   "cell_type": "markdown",
   "metadata": {},
   "source": [
    "Cette fonction renvoie deux tableaux contenant le découpage en zones"
   ]
  },
  {
   "cell_type": "code",
   "execution_count": 60,
   "metadata": {
    "collapsed": false
   },
   "outputs": [
    {
     "name": "stdout",
     "output_type": "stream",
     "text": [
      "7\n",
      "20\n",
      "[10.0, 11.166666666666666, 12.333333333333334, 13.5, 14.666666666666668, 15.833333333333334, 17.0]\n",
      "[40, 40.91558417010453, 41.834856078697285, 42.758229934975276, 43.6861289450159, 44.618986350851486, 45.55724652549592, 46.483454279745239, 47.409662033994557, 48.335869788243876, 49.262077542493195, 50.188285296742514, 51.114493050991832, 52.040700805241151, 52.96690855949047, 53.893116313739789, 54.819324067989108, 55.745531822238426, 56.671739576487745, 57.597947330737064]\n"
     ]
    }
   ],
   "source": [
    "def get_grid_area(min_lat,max_lat,min_lon,max_lon,accuracy_km=100): \n",
    "    #accuracy_km est la précision que l'on veut donner\n",
    "    #un degre de latitude \"vaut\"  111,11 km\n",
    "    accuracy_lat=accuracy_km/111.11\n",
    "\n",
    "    diff_lat=max_lat-min_lat\n",
    "    diff_lon=max_lon-min_lon\n",
    "\n",
    "    path_lat=float(diff_lat)/float(accuracy_lat)\n",
    "\n",
    "    latitude_grid=np.linspace(min_lat, max_lat, path_lat)\n",
    "    longitude_grid=[]\n",
    "    longitude_grid.append(golfe_min_lon)\n",
    "\n",
    "    tab=[]\n",
    "    for i in range(0,len(latitude_grid)-1):\n",
    "        mean_lat=float(latitude_grid[i]+latitude_grid[i+1])/2\n",
    "        km_lon=111.11*math.cos(math.radians(mean_lat))\n",
    "        accuracy_lon=accuracy_km/km_lon\n",
    "        tab.append(accuracy_lon) \n",
    "        currentLon=longitude_grid[i]+accuracy_lon\n",
    "        longitude_grid.append(currentLon)\n",
    "\n",
    "    #on complete jusqu'a golfe_max_lon\n",
    "    maxCurrent=max(longitude_grid)\n",
    "    meanPath=np.mean(tab)\n",
    "    while maxCurrent<max_lon:\n",
    "        maxCurrent=max(longitude_grid)\n",
    "        longitude_grid.append(maxCurrent+meanPath)\n",
    "    \n",
    "    return latitude_grid.tolist(),longitude_grid\n",
    "\n",
    "\n",
    "golfe_latitude_grid,golfe_longitude_grid=get_grid_area(golfe_min_lat,golfe_max_lat,golfe_min_lon,golfe_max_lon)\n",
    "\n",
    "\n",
    "print len(golfe_latitude_grid)\n",
    "print len(golfe_longitude_grid)\n",
    "print golfe_latitude_grid\n",
    "print golfe_longitude_grid"
   ]
  },
  {
   "cell_type": "markdown",
   "metadata": {},
   "source": [
    "On utilise ce découpage pour créer deux colonnes : lat_area et lon_area"
   ]
  },
  {
   "cell_type": "code",
   "execution_count": 18,
   "metadata": {
    "collapsed": true
   },
   "outputs": [],
   "source": [
    "def affectation_zone(latitude,longitude,latitude_grid,longitude_grid,lat_bool):\n",
    "    #print 'latitude : '+ str(latitude)\n",
    "    #print 'longitude : '+ str(longitude)\n",
    "    #print latitude_grid\n",
    "    idx_zone_lat=None\n",
    "    idx_zone_lon=None\n",
    "    \n",
    "    for i in range(0,len(latitude_grid)-1):        \n",
    "        if latitude<=latitude_grid[i+1] and latitude>latitude_grid[i]:\n",
    "            idx_zone_lat=i\n",
    "\n",
    "    for i in range(0,len(longitude_grid)-1):\n",
    "        if longitude<=longitude_grid[i+1] and longitude>longitude_grid[i]:\n",
    "            idx_zone_lon=i\n",
    "\n",
    "    #print idx_zone_lon\n",
    "    #print idx_zone_lat\n",
    "    if lat_bool:\n",
    "        return idx_zone_lat\n",
    "    else:\n",
    "        return idx_zone_lon"
   ]
  },
  {
   "cell_type": "code",
   "execution_count": 19,
   "metadata": {
    "collapsed": false
   },
   "outputs": [],
   "source": [
    "dfAden['lat_area'] = dfAden[dfAden['large_area']==\"G\"].apply(lambda row: affectation_zone(row['latitude'],row['longitude'],golfe_latitude_grid,golfe_longitude_grid,True), axis=1)\n",
    "dfAden['lon_area'] = dfAden[dfAden['large_area']==\"G\"].apply(lambda row: affectation_zone(row['latitude'],row['longitude'],golfe_latitude_grid,golfe_longitude_grid,False), axis=1)"
   ]
  },
  {
   "cell_type": "code",
   "execution_count": 20,
   "metadata": {
    "collapsed": false
   },
   "outputs": [
    {
     "data": {
      "text/html": [
       "<div>\n",
       "<table border=\"1\" class=\"dataframe\">\n",
       "  <thead>\n",
       "    <tr style=\"text-align: right;\">\n",
       "      <th></th>\n",
       "      <th>Annee (0)</th>\n",
       "      <th>jour (0)</th>\n",
       "      <th>mois (0)</th>\n",
       "      <th>dist cote (nq)</th>\n",
       "      <th>zone</th>\n",
       "      <th>lat (0)</th>\n",
       "      <th>long(0)</th>\n",
       "      <th>type(0)</th>\n",
       "      <th>pavillon</th>\n",
       "      <th>statut de l'attaque(0)</th>\n",
       "      <th>...</th>\n",
       "      <th>newDescriptif</th>\n",
       "      <th>Guns</th>\n",
       "      <th>mousson</th>\n",
       "      <th>distance au port</th>\n",
       "      <th>distance_shorline</th>\n",
       "      <th>lat_area</th>\n",
       "      <th>lon_area</th>\n",
       "      <th>large_area</th>\n",
       "      <th>distance a la base de pirate</th>\n",
       "      <th>id_cluster</th>\n",
       "    </tr>\n",
       "  </thead>\n",
       "  <tbody>\n",
       "    <tr>\n",
       "      <th>0</th>\n",
       "      <td>2010</td>\n",
       "      <td>28</td>\n",
       "      <td>10</td>\n",
       "      <td>NaN</td>\n",
       "      <td>BCD</td>\n",
       "      <td>12:08N</td>\n",
       "      <td>054:25E</td>\n",
       "      <td>Dhow</td>\n",
       "      <td>Not Stated</td>\n",
       "      <td>Steaming</td>\n",
       "      <td>...</td>\n",
       "      <td>pirates hijacked a dhow.</td>\n",
       "      <td>0</td>\n",
       "      <td>0</td>\n",
       "      <td>534.679104</td>\n",
       "      <td>35.872306</td>\n",
       "      <td>1</td>\n",
       "      <td>15</td>\n",
       "      <td>G</td>\n",
       "      <td>346.662210</td>\n",
       "      <td>2010-10_2</td>\n",
       "    </tr>\n",
       "    <tr>\n",
       "      <th>1</th>\n",
       "      <td>2010</td>\n",
       "      <td>30</td>\n",
       "      <td>10</td>\n",
       "      <td>NaN</td>\n",
       "      <td>BCD</td>\n",
       "      <td>15:06N</td>\n",
       "      <td>055:58E</td>\n",
       "      <td>Bulk Carrier</td>\n",
       "      <td>Malta</td>\n",
       "      <td>Steaming</td>\n",
       "      <td>...</td>\n",
       "      <td>armed pirates attacked and boarded the ship un...</td>\n",
       "      <td>0</td>\n",
       "      <td>0</td>\n",
       "      <td>292.330113</td>\n",
       "      <td>233.517911</td>\n",
       "      <td>4</td>\n",
       "      <td>17</td>\n",
       "      <td>G</td>\n",
       "      <td>626.662668</td>\n",
       "      <td>2010-10_2</td>\n",
       "    </tr>\n",
       "    <tr>\n",
       "      <th>2</th>\n",
       "      <td>2010</td>\n",
       "      <td>1</td>\n",
       "      <td>1</td>\n",
       "      <td>NaN</td>\n",
       "      <td>BCD</td>\n",
       "      <td>12:31N</td>\n",
       "      <td>047:18E</td>\n",
       "      <td>Chemical Tanker</td>\n",
       "      <td>Singapore</td>\n",
       "      <td>Steaming</td>\n",
       "      <td>...</td>\n",
       "      <td>pirates hijacked a tanker underway and took he...</td>\n",
       "      <td>0</td>\n",
       "      <td>0</td>\n",
       "      <td>259.217741</td>\n",
       "      <td>118.411436</td>\n",
       "      <td>2</td>\n",
       "      <td>7</td>\n",
       "      <td>G</td>\n",
       "      <td>244.881989</td>\n",
       "      <td>2010-01_1</td>\n",
       "    </tr>\n",
       "  </tbody>\n",
       "</table>\n",
       "<p>3 rows × 34 columns</p>\n",
       "</div>"
      ],
      "text/plain": [
       "   Annee (0)  jour (0)  mois (0)  dist cote (nq) zone lat (0)  long(0)  \\\n",
       "0       2010        28        10             NaN  BCD  12:08N  054:25E   \n",
       "1       2010        30        10             NaN  BCD  15:06N  055:58E   \n",
       "2       2010         1         1             NaN  BCD  12:31N  047:18E   \n",
       "\n",
       "           type(0)    pavillon statut de l'attaque(0)     ...      \\\n",
       "0             Dhow  Not Stated               Steaming     ...       \n",
       "1     Bulk Carrier       Malta               Steaming     ...       \n",
       "2  Chemical Tanker   Singapore               Steaming     ...       \n",
       "\n",
       "                                       newDescriptif  Guns  mousson  \\\n",
       "0                           pirates hijacked a dhow.     0        0   \n",
       "1  armed pirates attacked and boarded the ship un...     0        0   \n",
       "2  pirates hijacked a tanker underway and took he...     0        0   \n",
       "\n",
       "   distance au port  distance_shorline  lat_area  lon_area  large_area  \\\n",
       "0        534.679104          35.872306         1        15           G   \n",
       "1        292.330113         233.517911         4        17           G   \n",
       "2        259.217741         118.411436         2         7           G   \n",
       "\n",
       "   distance a la base de pirate  id_cluster  \n",
       "0                    346.662210   2010-10_2  \n",
       "1                    626.662668   2010-10_2  \n",
       "2                    244.881989   2010-01_1  \n",
       "\n",
       "[3 rows x 34 columns]"
      ]
     },
     "execution_count": 20,
     "metadata": {},
     "output_type": "execute_result"
    }
   ],
   "source": [
    "dfAden[dfAden['large_area']==\"G\"].head(3)"
   ]
  },
  {
   "cell_type": "markdown",
   "metadata": {},
   "source": [
    "## Sous grille manuelle"
   ]
  },
  {
   "cell_type": "markdown",
   "metadata": {},
   "source": [
    "On définit les zones manuellement."
   ]
  },
  {
   "cell_type": "code",
   "execution_count": 61,
   "metadata": {
    "collapsed": false
   },
   "outputs": [
    {
     "name": "stdout",
     "output_type": "stream",
     "text": [
      "  zone  min_lat  max_lat  min_lon  max_lon\n",
      "0    A   14.842   16.049    41.22    42.47\n",
      "1    B   13.928   14.835    41.83    43.06\n",
      "2    C   13.081   13.930    42.26    43.29\n",
      "3    D   12.531   13.081    43.08    43.50\n",
      "4    E   11.737   12.531    43.50    44.47\n"
     ]
    }
   ],
   "source": [
    "dfAreaAden = pd.read_csv('../data/referentiels/area_aden.csv',sep=';')\n",
    "\n",
    "print dfAreaAden.head()"
   ]
  },
  {
   "cell_type": "code",
   "execution_count": 62,
   "metadata": {
    "collapsed": false
   },
   "outputs": [],
   "source": [
    "def get_area_by_hand(lat,lon,dfAreaAden): \n",
    "    #print \"----------------------------------------------------------------\"\n",
    "    zone=\"\"    \n",
    "    for index, row in dfAreaAden.iterrows():\n",
    "        #print row['zone'],row['min_lat'], row['max_lat'], row['min_lon'] ,  row['max_lon']\n",
    "        if row['max_lat']>lat>row['min_lat'] and row['max_lon']>lon>row['min_lon']:\n",
    "            zone=str(row['zone'])\n",
    "    if zone=='':\n",
    "        print zone\n",
    "        print lat\n",
    "        print lon\n",
    "    return zone\n",
    "\n",
    "#print \"TEST\"\n",
    "#print get_area_by_hand(float(15.0),float(41.5),dfAreaAden)\n",
    "#print get_area_by_hand(float(14.7),float(41.90),dfAreaAden)\n",
    "#print get_area_by_hand(float(13.5),float(42.3),dfAreaAden)\n",
    "#print get_area_by_hand(float(13.05),float(43.2),dfAreaAden)\n",
    "#print get_area_by_hand(float(12.5),float(43.6),dfAreaAden)\n",
    "#print get_area_by_hand(float(11.8),float(44.6),dfAreaAden)\n",
    "#print get_area_by_hand(float(11.8),float(45.9),dfAreaAden)\n",
    "#print get_area_by_hand(float(11.8),float(47),dfAreaAden)\n",
    "#print get_area_by_hand(float(14.5),float(48),dfAreaAden)\n",
    "#print get_area_by_hand(float(14.5),float(50),dfAreaAden)\n",
    "#print get_area_by_hand(float(14.5),float(51),dfAreaAden)\n",
    "#print get_area_by_hand(float(12),float(53),dfAreaAden)"
   ]
  },
  {
   "cell_type": "code",
   "execution_count": 63,
   "metadata": {
    "collapsed": false
   },
   "outputs": [],
   "source": [
    "dfAden['area_by_hand'] = dfAden[dfAden['large_area']==\"G\"].apply(lambda row: get_area_by_hand(float(row['latitude']),float(row['longitude']),dfAreaAden), axis=1)\n",
    "#dfAden['area_by_hand'].unique()"
   ]
  },
  {
   "cell_type": "markdown",
   "metadata": {},
   "source": [
    "## On ecrit un fichier pour la zone golfe"
   ]
  },
  {
   "cell_type": "code",
   "execution_count": 64,
   "metadata": {
    "collapsed": false
   },
   "outputs": [
    {
     "name": "stdout",
     "output_type": "stream",
     "text": [
      "['M' 'L' 'H' 'I' 'G' 'J' 'C' 'D' 'F' 'K' 'E' 'A' 'B']\n"
     ]
    }
   ],
   "source": [
    "dfToWrite=dfAden[dfAden['large_area']==\"G\"]\n",
    "print dfToWrite['area_by_hand'].unique()\n",
    "dfToWrite.to_csv(\"../data/aden_golfe.csv\",sep=';', index=False)"
   ]
  },
  {
   "cell_type": "code",
   "execution_count": null,
   "metadata": {
    "collapsed": true
   },
   "outputs": [],
   "source": []
  }
 ],
 "metadata": {
  "kernelspec": {
   "display_name": "Python 2",
   "language": "python",
   "name": "python2"
  },
  "language_info": {
   "codemirror_mode": {
    "name": "ipython",
    "version": 2
   },
   "file_extension": ".py",
   "mimetype": "text/x-python",
   "name": "python",
   "nbconvert_exporter": "python",
   "pygments_lexer": "ipython2",
   "version": "2.7.11"
  }
 },
 "nbformat": 4,
 "nbformat_minor": 0
}
