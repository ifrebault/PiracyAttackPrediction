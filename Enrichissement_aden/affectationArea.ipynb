{
 "cells": [
  {
   "cell_type": "code",
   "execution_count": 4,
   "metadata": {
    "collapsed": true
   },
   "outputs": [],
   "source": [
    "import pandas as pd\n",
    "import math\n",
    "from decimal import *\n",
    "import numpy as np"
   ]
  },
  {
   "cell_type": "code",
   "execution_count": 5,
   "metadata": {
    "collapsed": true
   },
   "outputs": [],
   "source": [
    "dfAden = pd.read_csv('../data/aden.csv',sep=';')"
   ]
  },
  {
   "cell_type": "code",
   "execution_count": 6,
   "metadata": {
    "collapsed": false
   },
   "outputs": [
    {
     "data": {
      "text/plain": [
       "Index([u'Unnamed: 0', u'Annee (0)', u'jour (0)', u'mois (0)',\n",
       "       u'dist cote (nq)', u'zone', u'lat (0)', u'long(0)', u'type(0)',\n",
       "       u'pavillon', u'statut de l'attaque(0)', u'type d'attaque(0)',\n",
       "       u'Nombre P  Min', u'Nombre P  max', u'nombre embarcation',\n",
       "       u'Vol a bord', u' Kidnapping', u'blessees', u' meurtre', u'Knives ',\n",
       "       u'RPG', u'descriptif', u'latitude', u'longitude', u'quinzaine_week',\n",
       "       u'newDescriptif', u'Guns', u'mousson', u'distance au port',\n",
       "       u'distance_shorline', u'lat_area', u'lon_area'],\n",
       "      dtype='object')"
      ]
     },
     "execution_count": 6,
     "metadata": {},
     "output_type": "execute_result"
    }
   ],
   "source": [
    "dfAden.columns"
   ]
  },
  {
   "cell_type": "markdown",
   "metadata": {},
   "source": [
    "# Affectation des zones"
   ]
  },
  {
   "cell_type": "code",
   "execution_count": 141,
   "metadata": {
    "collapsed": false
   },
   "outputs": [
    {
     "name": "stdout",
     "output_type": "stream",
     "text": [
      "45\n",
      "53\n",
      "[-10.          -9.06818182  -8.13636364  -7.20454545  -6.27272727\n",
      "  -5.34090909  -4.40909091  -3.47727273  -2.54545455  -1.61363636\n",
      "  -0.68181818   0.25         1.18181818   2.11363636   3.04545455\n",
      "   3.97727273   4.90909091   5.84090909   6.77272727   7.70454545\n",
      "   8.63636364   9.56818182  10.5         11.43181818  12.36363636\n",
      "  13.29545455  14.22727273  15.15909091  16.09090909  17.02272727\n",
      "  17.95454545  18.88636364  19.81818182  20.75        21.68181818\n",
      "  22.61363636  23.54545455  24.47727273  25.40909091  26.34090909\n",
      "  27.27272727  28.20454545  29.13636364  30.06818182  31.        ]\n",
      "[31, 31.912614743237555, 32.822863634917184, 33.730998480299164, 34.637268219262715, 35.541919276934024, 36.44519590596541, 37.34734052164988, 38.248594031010946, 39.1491961569706, 40.049385758668464, 40.94940114898154, 41.849480410277394, 42.74986170942264, 43.65078361306438, 44.5524854042037, 45.45520740108823, 46.35919127946465, 47.26468039925254, 48.171920136727636, 49.08115822333648, 49.992645092305075, 50.90663423425274, 51.8233825630787, 52.74315079345392, 53.666203831325184, 54.59281117892262, 55.523247355857315, 56.45779233800295, 57.396732015975715, 58.34035867516187, 59.288971499393305, 60.242877100539886, 61.20239007647636, 62.167833600091726, 63.13954004224444, 64.11785163182964, 65.10312115641825, 66.09571270725705, 67.09600247278637, 68.10437958524551, 69.12124702539882, 70.1470225909359, 71.1821399346854, 72.22704967944146, 73.164028081246954, 74.101006483052444, 75.037984884857934, 75.974963286663424, 76.911941688468914, 77.848920090274405, 78.785898492079895, 79.722876893885385]\n"
     ]
    }
   ],
   "source": [
    "min_lat=-10\n",
    "max_lat=31\n",
    "min_lon=31\n",
    "max_lon=78\n",
    "\n",
    "#un degre de latitude \"vaut\"  111,11 km\n",
    "accuracy_km=100\n",
    "accuracy_lat=accuracy_km/111.11\n",
    "\n",
    "diff_lat=max_lat-min_lat\n",
    "diff_lon=max_lon-min_lon\n",
    "\n",
    "path_lat=float(diff_lat)/float(accuracy_lat)\n",
    "\n",
    "latitude_grid=np.linspace(min_lat, max_lat, path_lat)\n",
    "longitude_grid=[]\n",
    "longitude_grid.append(min_lon)\n",
    "\n",
    "tab=[]\n",
    "for i in range(0,len(latitude_grid)-1):\n",
    "    mean_lat=float(latitude_grid[i]+latitude_grid[i+1])/2\n",
    "    \n",
    "    #print mean_lat\n",
    "    #print math.cos(math.radians(mean_lat))\n",
    "    km_lon=111.11*math.cos(math.radians(mean_lat))\n",
    "    accuracy_lon=accuracy_km/km_lon\n",
    "    \n",
    "    tab.append(accuracy_lon)\n",
    "    \n",
    "    currentLon=longitude_grid[i]+accuracy_lon\n",
    "    longitude_grid.append(currentLon)\n",
    "    #print 111.11*math.cos(math.radians(mean_lat))\n",
    "\n",
    "    \n",
    "#on complete jusqu'a 78\n",
    "maxCurrent=max(longitude_grid)\n",
    "meanPath=np.mean(tab)\n",
    "while maxCurrent<78:\n",
    "    maxCurrent=max(longitude_grid)\n",
    "    longitude_grid.append(maxCurrent+meanPath)\n",
    "    \n",
    "    \n",
    "print len(latitude_grid)\n",
    "print len(longitude_grid)\n",
    "print latitude_grid\n",
    "print longitude_grid\n"
   ]
  },
  {
   "cell_type": "code",
   "execution_count": 142,
   "metadata": {
    "collapsed": true
   },
   "outputs": [],
   "source": [
    "def affectation_zone(latitude,longitude,latitude_grid,longitude_grid,lat_bool):\n",
    "    #print 'latitude : '+ str(latitude)\n",
    "    #print 'longitude : '+ str(longitude)\n",
    "    \n",
    "    for i in range(0,len(latitude_grid)-1):\n",
    "        if latitude<latitude_grid[i+1] and latitude>latitude_grid[i]:\n",
    "            idx_zone_lat=i\n",
    "            \n",
    "    for i in range(0,len(longitude_grid)-1):\n",
    "        if longitude<longitude_grid[i+1] and longitude>longitude_grid[i]:\n",
    "            idx_zone_lon=i\n",
    "\n",
    "    #print idx_zone_lon\n",
    "    #print idx_zone_lat\n",
    "    if lat_bool:\n",
    "        return idx_zone_lat\n",
    "    else:\n",
    "        return idx_zone_lon"
   ]
  },
  {
   "cell_type": "code",
   "execution_count": 143,
   "metadata": {
    "collapsed": false
   },
   "outputs": [
    {
     "name": "stdout",
     "output_type": "stream",
     "text": [
      "21\n",
      "48\n"
     ]
    }
   ],
   "source": [
    "latitude=9.91666666667\n",
    "longitude=76.0833333333\n",
    "idx_zone_lat=affectation_zone(latitude,longitude,latitude_grid,longitude_grid,True)\n",
    "idx_zone_lon=affectation_zone(latitude,longitude,latitude_grid,longitude_grid,False)\n",
    "print idx_zone_lat\n",
    "print idx_zone_lon"
   ]
  },
  {
   "cell_type": "code",
   "execution_count": 144,
   "metadata": {
    "collapsed": false
   },
   "outputs": [],
   "source": [
    "dfAden['lat_area'] = dfAden.apply(lambda row: affectation_zone(row['latitude'],row['longitude'],latitude_grid,longitude_grid,True), axis=1)\n",
    "dfAden['lon_area'] = dfAden.apply(lambda row: affectation_zone(row['latitude'],row['longitude'],latitude_grid,longitude_grid,False), axis=1)"
   ]
  },
  {
   "cell_type": "code",
   "execution_count": 145,
   "metadata": {
    "collapsed": false
   },
   "outputs": [],
   "source": [
    "dfAden['Annee (0)'] = dfAden['Annee (0)'].astype(int)\n",
    "dfAden['jour (0)'] = dfAden['jour (0)'].astype(int)\n",
    "dfAden['mois (0)'] = dfAden['mois (0)'].astype(int)"
   ]
  },
  {
   "cell_type": "code",
   "execution_count": 146,
   "metadata": {
    "collapsed": false
   },
   "outputs": [],
   "source": [
    "#dfAden.columns[0]\n",
    "columnTodelete=filter(lambda x:'Unna' in x, dfAden.columns)\n",
    "\n",
    "dfAden['descriptif']=dfAden.apply(lambda row: row['descriptif'].replace('\\r', ''), axis=1)\n",
    "dfAden['descriptif']=dfAden.apply(lambda row: row['descriptif'].replace('\\r', ''), axis=1)\n",
    "#print columnTodelete\n",
    "#for col in columnTodelete:\n",
    "#    print col\n",
    "#    dfAden = dfAden.drop('Unnamed: 0')"
   ]
  },
  {
   "cell_type": "code",
   "execution_count": 147,
   "metadata": {
    "collapsed": false
   },
   "outputs": [
    {
     "data": {
      "text/plain": [
       "Index([u'Unnamed: 0', u'Unnamed: 0.1', u'Annee (0)', u'jour (0)', u'mois (0)',\n",
       "       u'dist cote (nq)', u'zone', u'lat (0)', u'long(0)', u'type(0)',\n",
       "       u'pavillon', u'statut de l'attaque(0)', u'type d'attaque(0)',\n",
       "       u'Nombre P  Min', u'Nombre P  max', u'nombre embarcation',\n",
       "       u'Vol a bord', u' Kidnapping', u'blessees', u' meurtre', u'Knives ',\n",
       "       u'RPG', u'descriptif', u'latitude', u'longitude', u'quinzaine_week',\n",
       "       u'newDescriptif', u'Guns', u'mousson', u'distance au port',\n",
       "       u'distance_shorline', u'lat_area', u'lon_area'],\n",
       "      dtype='object')"
      ]
     },
     "execution_count": 147,
     "metadata": {},
     "output_type": "execute_result"
    }
   ],
   "source": [
    "dfAden.columns"
   ]
  },
  {
   "cell_type": "code",
   "execution_count": 148,
   "metadata": {
    "collapsed": false
   },
   "outputs": [],
   "source": [
    "dfAden.to_csv(\"../data/aden.csv\",sep=';')"
   ]
  },
  {
   "cell_type": "code",
   "execution_count": null,
   "metadata": {
    "collapsed": true
   },
   "outputs": [],
   "source": []
  }
 ],
 "metadata": {
  "kernelspec": {
   "display_name": "Python 2",
   "language": "python",
   "name": "python2"
  },
  "language_info": {
   "codemirror_mode": {
    "name": "ipython",
    "version": 2
   },
   "file_extension": ".py",
   "mimetype": "text/x-python",
   "name": "python",
   "nbconvert_exporter": "python",
   "pygments_lexer": "ipython2",
   "version": "2.7.11"
  }
 },
 "nbformat": 4,
 "nbformat_minor": 0
}
