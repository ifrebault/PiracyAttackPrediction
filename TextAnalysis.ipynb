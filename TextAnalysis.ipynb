{
 "cells": [
  {
   "cell_type": "code",
   "execution_count": 14,
   "metadata": {
    "collapsed": true
   },
   "outputs": [],
   "source": [
    "import pandas as pd\n",
    "from decimal import *\n",
    "import numpy as np\n",
    "import re"
   ]
  },
  {
   "cell_type": "code",
   "execution_count": 3,
   "metadata": {
    "collapsed": false
   },
   "outputs": [],
   "source": [
    "df = pd.read_csv('./data/donneesBrutesPirateriesLatLon.csv',sep=';')"
   ]
  },
  {
   "cell_type": "code",
   "execution_count": 309,
   "metadata": {
    "collapsed": false
   },
   "outputs": [
    {
     "name": "stdout",
     "output_type": "stream",
     "text": [
      "2188\n"
     ]
    }
   ],
   "source": [
    "size = len(df['descriptif'])\n",
    "print size"
   ]
  },
  {
   "cell_type": "code",
   "execution_count": 5,
   "metadata": {
    "collapsed": false
   },
   "outputs": [
    {
     "data": {
      "text/plain": [
       "\"Three robbers boarded the ship berthed \\nvia poop deck and steering gear room. \\nThey tied up the A/B and assaulted him. \\nRobbers stole ship's properties and \\nescaped.\""
      ]
     },
     "execution_count": 5,
     "metadata": {},
     "output_type": "execute_result"
    }
   ],
   "source": [
    "df.descriptif[0]"
   ]
  },
  {
   "cell_type": "code",
   "execution_count": 6,
   "metadata": {
    "collapsed": false
   },
   "outputs": [
    {
     "data": {
      "text/plain": [
       "'The chief officer onboard the tanker sighted \\na small high speedboat approaching from \\nastern and informed the bridge. Alarm \\nraised, speed increased, evasive manoeuvre, \\ntaken, fire pump activated, ships in vicinity \\ninformed, UKMTO contacted and the non-\\nessential crewmembers mustered in the \\ncitadel. As the skiff closed, three armed \\npersons were seen attempting to board the \\ntanker using hooks attached with ropes. Due \\nto the continued manoeuvres and hardening \\nmeasures taken by the tanker, the persons \\nwere unable to board the tanker.'"
      ]
     },
     "execution_count": 6,
     "metadata": {},
     "output_type": "execute_result"
    }
   ],
   "source": [
    "df.descriptif[size-1]"
   ]
  },
  {
   "cell_type": "markdown",
   "metadata": {},
   "source": [
    "# Nettoyage des chaînes"
   ]
  },
  {
   "cell_type": "code",
   "execution_count": 7,
   "metadata": {
    "collapsed": false
   },
   "outputs": [],
   "source": [
    "newDescriptif = []\n",
    "for i in range(0,size) :\n",
    "    newDescriptif.append(df.descriptif[i].replace(\"\\n\",\"\").lower())"
   ]
  },
  {
   "cell_type": "code",
   "execution_count": 8,
   "metadata": {
    "collapsed": false
   },
   "outputs": [
    {
     "data": {
      "text/plain": [
       "\"three robbers boarded the ship berthed via poop deck and steering gear room. they tied up the a/b and assaulted him. robbers stole ship's properties and escaped.\""
      ]
     },
     "execution_count": 8,
     "metadata": {},
     "output_type": "execute_result"
    }
   ],
   "source": [
    "newDescriptif[0]"
   ]
  },
  {
   "cell_type": "code",
   "execution_count": 9,
   "metadata": {
    "collapsed": false
   },
   "outputs": [
    {
     "data": {
      "text/plain": [
       "'the chief officer onboard the tanker sighted a small high speedboat approaching from astern and informed the bridge. alarm raised, speed increased, evasive manoeuvre, taken, fire pump activated, ships in vicinity informed, ukmto contacted and the non-essential crewmembers mustered in the citadel. as the skiff closed, three armed persons were seen attempting to board the tanker using hooks attached with ropes. due to the continued manoeuvres and hardening measures taken by the tanker, the persons were unable to board the tanker.'"
      ]
     },
     "execution_count": 9,
     "metadata": {},
     "output_type": "execute_result"
    }
   ],
   "source": [
    "newDescriptif[size-1]"
   ]
  },
  {
   "cell_type": "code",
   "execution_count": 10,
   "metadata": {
    "collapsed": false
   },
   "outputs": [
    {
     "data": {
      "text/plain": [
       "0"
      ]
     },
     "execution_count": 10,
     "metadata": {},
     "output_type": "execute_result"
    }
   ],
   "source": [
    "len(newDescriptif) - size"
   ]
  },
  {
   "cell_type": "markdown",
   "metadata": {},
   "source": [
    "# RPG"
   ]
  },
  {
   "cell_type": "code",
   "execution_count": 11,
   "metadata": {
    "collapsed": false
   },
   "outputs": [],
   "source": [
    "RPG = []\n",
    "for i in range(0,size) :\n",
    "    if (newDescriptif[i].find(\"rpg\") > -1):\n",
    "        RPG.append(1)\n",
    "    elif (newDescriptif[i].find(\"launcher\") > -1):\n",
    "        RPG.append(1)\n",
    "    else:\n",
    "        RPG.append(0)\n"
   ]
  },
  {
   "cell_type": "code",
   "execution_count": 12,
   "metadata": {
    "collapsed": false
   },
   "outputs": [
    {
     "data": {
      "text/plain": [
       "0"
      ]
     },
     "execution_count": 12,
     "metadata": {},
     "output_type": "execute_result"
    }
   ],
   "source": [
    "RPG[950]"
   ]
  },
  {
   "cell_type": "code",
   "execution_count": 13,
   "metadata": {
    "collapsed": false
   },
   "outputs": [
    {
     "data": {
      "text/plain": [
       "'0729 utc steaming attempted maud obo carrier liberia 45593 9036519 13:01.37n \\xe2\\x80\\x93 048:48.63e, gulf of aden pirates in a skiff approached the ship on the port quarter. master immediately contacted the coalition warship and a helicopter was dispatched. the helicopter fired shots on to the skiff and the attempted boarding was thwarted successfully.'"
      ]
     },
     "execution_count": 13,
     "metadata": {},
     "output_type": "execute_result"
    }
   ],
   "source": [
    "newDescriptif[950]"
   ]
  },
  {
   "cell_type": "code",
   "execution_count": 14,
   "metadata": {
    "collapsed": false
   },
   "outputs": [
    {
     "data": {
      "text/plain": [
       "0"
      ]
     },
     "execution_count": 14,
     "metadata": {},
     "output_type": "execute_result"
    }
   ],
   "source": [
    "len(RPG) - size"
   ]
  },
  {
   "cell_type": "markdown",
   "metadata": {},
   "source": [
    "# Guns"
   ]
  },
  {
   "cell_type": "code",
   "execution_count": 15,
   "metadata": {
    "collapsed": false
   },
   "outputs": [],
   "source": [
    "Guns = []\n",
    "for i in range(0,size) :\n",
    "    if (newDescriptif[i].find(\"no gun\") > -1):\n",
    "        Guns.append(0)\n",
    "    elif (newDescriptif[i].find(\"gun\") > -1):\n",
    "        Guns.append(1)\n",
    "    elif (newDescriptif[i].find(\"no rifle\") > -1):\n",
    "        Guns.append(0)\n",
    "    elif (newDescriptif[i].find(\"rifle\") > -1):\n",
    "        Guns.append(1)\n",
    "    elif (newDescriptif[i].find(\"no pistol\") > -1):\n",
    "        Guns.append(0)\n",
    "    elif (newDescriptif[i].find(\"pistol\") > -1):\n",
    "        Guns.append(1)\n",
    "    elif (newDescriptif[i].find(\"automatic weapon\") > -1):\n",
    "        Guns.append(1)\n",
    "#    elif (newDescriptif[i].find(\"no arm\") > -1):\n",
    "#        Guns.append(0)\n",
    "#    elif (newDescriptif[i].find(\"armed\") > -1):\n",
    "#        if (newDescriptif[newDescriptif[i].find(\"armed\")-1]!=\"h\"):\n",
    "#            Guns.append(1) \n",
    "    else:\n",
    "        Guns.append(0)"
   ]
  },
  {
   "cell_type": "code",
   "execution_count": 16,
   "metadata": {
    "collapsed": false
   },
   "outputs": [
    {
     "data": {
      "text/plain": [
       "0"
      ]
     },
     "execution_count": 16,
     "metadata": {},
     "output_type": "execute_result"
    }
   ],
   "source": [
    "Guns[1477]"
   ]
  },
  {
   "cell_type": "code",
   "execution_count": 17,
   "metadata": {
    "collapsed": false
   },
   "outputs": [
    {
     "data": {
      "text/plain": [
       "'two robbers armed with knives boarded the berthed tanker. ship\\xe2\\x80\\x99s property was stolen. later, crew caught the robbers and recovered the stolen items.'"
      ]
     },
     "execution_count": 17,
     "metadata": {},
     "output_type": "execute_result"
    }
   ],
   "source": [
    "newDescriptif[1477]"
   ]
  },
  {
   "cell_type": "code",
   "execution_count": 18,
   "metadata": {
    "collapsed": false
   },
   "outputs": [
    {
     "data": {
      "text/plain": [
       "0"
      ]
     },
     "execution_count": 18,
     "metadata": {},
     "output_type": "execute_result"
    }
   ],
   "source": [
    "len(Guns) - size"
   ]
  },
  {
   "cell_type": "markdown",
   "metadata": {},
   "source": [
    "# Knives"
   ]
  },
  {
   "cell_type": "code",
   "execution_count": 19,
   "metadata": {
    "collapsed": false
   },
   "outputs": [],
   "source": [
    "Knives = []\n",
    "for i in range(0,size) :\n",
    "    if (newDescriptif[i].find(\"no knive\") > -1):\n",
    "        Knives.append(0)\n",
    "    elif (newDescriptif[i].find(\"knives\") > -1):\n",
    "        Knives.append(1)\n",
    "    elif (newDescriptif[i].find(\"no machete\") > -1):\n",
    "        Knives.append(0)\n",
    "    elif (newDescriptif[i].find(\"machete\") > -1):\n",
    "        Knives.append(1)\n",
    "    elif (newDescriptif[i].find(\"no axe\") > -1):\n",
    "        Knives.append(0)\n",
    "    elif (newDescriptif[i].find(\"axe\") > -1):\n",
    "        Knives.append(1)\n",
    "    else:\n",
    "        Knives.append(0)"
   ]
  },
  {
   "cell_type": "code",
   "execution_count": 20,
   "metadata": {
    "collapsed": false
   },
   "outputs": [
    {
     "data": {
      "text/plain": [
       "1"
      ]
     },
     "execution_count": 20,
     "metadata": {},
     "output_type": "execute_result"
    }
   ],
   "source": [
    "Knives[900]"
   ]
  },
  {
   "cell_type": "code",
   "execution_count": 21,
   "metadata": {
    "collapsed": false
   },
   "outputs": [
    {
     "data": {
      "text/plain": [
       "'1245 utc steaming attempted daylam tanker malta 160576 9218466 13:02.18n \\xe2\\x80\\x93 046:41.06e, gulf of aden eight pirates armed with guns in two boats attempted to attack the tanker underway. master raised alarm, sent distress message, contacted coalition warships and adopted evasive manoeuvres. a coalition warship responded and was ready to dispatch a helicopter. pirate boats slowed down and aborted the attempt upon noticing the british security team at the bridge wings armed with axes.'"
      ]
     },
     "execution_count": 21,
     "metadata": {},
     "output_type": "execute_result"
    }
   ],
   "source": [
    "newDescriptif[900]"
   ]
  },
  {
   "cell_type": "code",
   "execution_count": 22,
   "metadata": {
    "collapsed": false
   },
   "outputs": [
    {
     "data": {
      "text/plain": [
       "0"
      ]
     },
     "execution_count": 22,
     "metadata": {},
     "output_type": "execute_result"
    }
   ],
   "source": [
    "len(Knives) - size"
   ]
  },
  {
   "cell_type": "markdown",
   "metadata": {},
   "source": [
    "# Death"
   ]
  },
  {
   "cell_type": "code",
   "execution_count": 23,
   "metadata": {
    "collapsed": true
   },
   "outputs": [],
   "source": [
    "Death = []\n",
    "for i in range(0,size) :\n",
    "    if (newDescriptif[i].find(\"dead\") > -1):\n",
    "        Death.append(1)\n",
    "    elif (newDescriptif[i].find(\"killed\") > -1):\n",
    "        Death.append(1)\n",
    "    elif (newDescriptif[i].find(\"died\") > -1):\n",
    "        Death.append(1)\n",
    "    else:\n",
    "        Death.append(0)"
   ]
  },
  {
   "cell_type": "code",
   "execution_count": 24,
   "metadata": {
    "collapsed": false
   },
   "outputs": [
    {
     "data": {
      "text/plain": [
       "1"
      ]
     },
     "execution_count": 24,
     "metadata": {},
     "output_type": "execute_result"
    }
   ],
   "source": [
    "Death[771]"
   ]
  },
  {
   "cell_type": "code",
   "execution_count": 25,
   "metadata": {
    "collapsed": false
   },
   "outputs": [
    {
     "data": {
      "text/plain": [
       "'0500 lt steaming hijacked sea princess ii product tanker panama 1902 7718814 12:55n \\xe2\\x80\\x93 045:10e, gulf of aden armed pirates in four boats attacked and hijacked the tanker underway. information indicates the tanker has been taken to eyl. 15 crewmembers taken hostage.  the crew and ship was released on 26.04.2009.  it is believed a ransom was paid for their safe release. one crew died during the captivity period.'"
      ]
     },
     "execution_count": 25,
     "metadata": {},
     "output_type": "execute_result"
    }
   ],
   "source": [
    "newDescriptif[771]"
   ]
  },
  {
   "cell_type": "code",
   "execution_count": 26,
   "metadata": {
    "collapsed": false
   },
   "outputs": [
    {
     "data": {
      "text/plain": [
       "0"
      ]
     },
     "execution_count": 26,
     "metadata": {},
     "output_type": "execute_result"
    }
   ],
   "source": [
    "len(Death) - size"
   ]
  },
  {
   "cell_type": "markdown",
   "metadata": {
    "collapsed": true
   },
   "source": [
    "# Blessés"
   ]
  },
  {
   "cell_type": "code",
   "execution_count": 27,
   "metadata": {
    "collapsed": false
   },
   "outputs": [],
   "source": [
    "Injuries = []\n",
    "for i in range(0,size) :\n",
    "    if (newDescriptif[i].find(\"not injur\") > -1):\n",
    "        Injuries.append(0)\n",
    "    elif (newDescriptif[i].find(\"no injur\") > -1):\n",
    "        Injuries.append(0)\n",
    "    elif (newDescriptif[i].find(\"uninjur\") > -1):\n",
    "        Injuries.append(0)\n",
    "    elif (newDescriptif[i].find(\"injur\") > -1):\n",
    "        Injuries.append(1)\n",
    "    elif (newDescriptif[i].find(\"not harm\") > -1):\n",
    "        Injuries.append(0)\n",
    "    elif (newDescriptif[i].find(\"no harm\") > -1):\n",
    "        Injuries.append(0)\n",
    "    elif (newDescriptif[i].find(\"not to harm\") > -1):\n",
    "        Injuries.append(0)\n",
    "    elif (newDescriptif[i].find(\"unharm\") > -1):\n",
    "        Injuries.append(0)\n",
    "    elif (newDescriptif[i].find(\"harmony\") > -1):\n",
    "        Injuries.append(0)\n",
    "    elif (newDescriptif[i].find(\"harm\") > -1):\n",
    "        Injuries.append(1)\n",
    "    elif (newDescriptif[i].find(\"not wound\") > -1):\n",
    "        Injuries.append(0)\n",
    "    elif (newDescriptif[i].find(\"no wound\") > -1):\n",
    "        Injuries.append(0)\n",
    "    elif (newDescriptif[i].find(\"unwound\") > -1):\n",
    "        Injuries.append(0)\n",
    "    elif (newDescriptif[i].find(\"wound\") > -1):\n",
    "        Injuries.append(1)\n",
    "    elif (newDescriptif[i].find(\"not hurt\") > -1):\n",
    "        Injuries.append(0)\n",
    "    elif (newDescriptif[i].find(\"no hurt\") > -1):\n",
    "        Injuries.append(0)\n",
    "    elif (newDescriptif[i].find(\"unhurt\") > -1):\n",
    "        Injuries.append(0)\n",
    "    elif (newDescriptif[i].find(\"hurt\") > -1):\n",
    "        Injuries.append(1)\n",
    "    else:\n",
    "        Injuries.append(0)"
   ]
  },
  {
   "cell_type": "code",
   "execution_count": 28,
   "metadata": {
    "collapsed": false
   },
   "outputs": [
    {
     "data": {
      "text/plain": [
       "0"
      ]
     },
     "execution_count": 28,
     "metadata": {},
     "output_type": "execute_result"
    }
   ],
   "source": [
    "Injuries[792]"
   ]
  },
  {
   "cell_type": "code",
   "execution_count": 29,
   "metadata": {
    "collapsed": false
   },
   "outputs": [
    {
     "data": {
      "text/plain": [
       "\"2030 lt steaming boarded aleyna mercan chemical tanker marshall islands 2897 9296547  04:00.00n \\xe2\\x80\\x93 006:07.50e, 30 nm off onne, nigeria about eight pirates, in a speedboat, wearing masks and armed with guns fired upon the tanker underway. they boarded the tanker, shut down the inmarsat system and took hostage the chief officer. main engine was stopped under armed threat and another boat came alongside with two more pirates. the pirates told the crew their intention was to get the ship's cash and not to harm any crew. master gave all cash to the pirates. pirates kidnapped the master and 2/e and escaped with ship's cash and crew personal belongings. the kidnapped crew were released on 22 april 2009.\""
      ]
     },
     "execution_count": 29,
     "metadata": {},
     "output_type": "execute_result"
    }
   ],
   "source": [
    "newDescriptif[792]"
   ]
  },
  {
   "cell_type": "code",
   "execution_count": 30,
   "metadata": {
    "collapsed": false
   },
   "outputs": [
    {
     "data": {
      "text/plain": [
       "0"
      ]
     },
     "execution_count": 30,
     "metadata": {},
     "output_type": "execute_result"
    }
   ],
   "source": [
    "len(Death) - size"
   ]
  },
  {
   "cell_type": "markdown",
   "metadata": {},
   "source": [
    "# Kidnapping"
   ]
  },
  {
   "cell_type": "code",
   "execution_count": 31,
   "metadata": {
    "collapsed": true
   },
   "outputs": [],
   "source": [
    "Kidnapping = []\n",
    "for i in range(0,size) :\n",
    "    if (newDescriptif[i].find(\"no kidnapp\") > -1):\n",
    "        Kidnapping.append(1)\n",
    "    elif (newDescriptif[i].find(\"kidnapp\") > -1):\n",
    "        Kidnapping.append(1)\n",
    "    elif (newDescriptif[i].find(\"no hostage\") > -1):\n",
    "        Kidnapping.append(0)\n",
    "    elif (newDescriptif[i].find(\"hostage\") > -1):\n",
    "        Kidnapping.append(1)\n",
    "    else:\n",
    "        Kidnapping.append(0)"
   ]
  },
  {
   "cell_type": "code",
   "execution_count": 32,
   "metadata": {
    "collapsed": false
   },
   "outputs": [
    {
     "data": {
      "text/plain": [
       "0"
      ]
     },
     "execution_count": 32,
     "metadata": {},
     "output_type": "execute_result"
    }
   ],
   "source": [
    "Kidnapping[745]"
   ]
  },
  {
   "cell_type": "code",
   "execution_count": 33,
   "metadata": {
    "collapsed": false
   },
   "outputs": [
    {
     "data": {
      "text/plain": [
       "'2300 lt anchored boarded marina 1 general cargo antigua and barbuda 7878 9369095 18.33n \\xe2\\x80\\x93 072:23w, port au prince anchorage, haiti duty officer heard some noises on the poop deck and upon investigation found three robbers already in the process of leaving in their boat after lowering some ship\\xe2\\x80\\x99s stores. authorities informed and a coast guard boat arrived at location.'"
      ]
     },
     "execution_count": 33,
     "metadata": {},
     "output_type": "execute_result"
    }
   ],
   "source": [
    "newDescriptif[745]"
   ]
  },
  {
   "cell_type": "code",
   "execution_count": 44,
   "metadata": {
    "collapsed": false
   },
   "outputs": [
    {
     "data": {
      "text/plain": [
       "0"
      ]
     },
     "execution_count": 44,
     "metadata": {},
     "output_type": "execute_result"
    }
   ],
   "source": [
    "len(Kidnapping) - size"
   ]
  },
  {
   "cell_type": "markdown",
   "metadata": {
    "collapsed": true
   },
   "source": [
    "# Theft"
   ]
  },
  {
   "cell_type": "code",
   "execution_count": 318,
   "metadata": {
    "collapsed": false
   },
   "outputs": [],
   "source": [
    "Theft = []\n",
    "for i in range(0,size) :\n",
    "    if (newDescriptif[i].find(\"without stealing\") > -1):\n",
    "        Theft.append(0)\n",
    "    elif (newDescriptif[i].find(\"attempted to steal\") > -1):\n",
    "        Theft.append(0)\n",
    "    elif (newDescriptif[i].find(\"tried to steal\") > -1):\n",
    "        Theft.append(0)\n",
    "    elif (newDescriptif[i].find(\"steal\") > -1):\n",
    "        Theft.append(1)\n",
    "    elif (newDescriptif[i].find(\"nothing stolen\") > -1):\n",
    "        Theft.append(0)\n",
    "    elif (newDescriptif[i].find(\"nothing was stolen\") > -1):\n",
    "        Theft.append(0)\n",
    "    elif (newDescriptif[i].find(\"stole\") > -1):\n",
    "        Theft.append(1)\n",
    "    elif (newDescriptif[i].find(\"theft was prevented\") > -1):\n",
    "        Theft.append(0)\n",
    "    elif (newDescriptif[i].find(\"escaped with\") > -1):\n",
    "        Theft.append(1)\n",
    "    elif (newDescriptif[i].find(\"theft\") > -1):\n",
    "        Theft.append(1)\n",
    "    elif (newDescriptif[i].find(\"burgled\") > -1):\n",
    "        Theft.append(1)\n",
    "    else:\n",
    "        Theft.append(0)"
   ]
  },
  {
   "cell_type": "code",
   "execution_count": 319,
   "metadata": {
    "collapsed": false
   },
   "outputs": [
    {
     "data": {
      "text/plain": [
       "1"
      ]
     },
     "execution_count": 319,
     "metadata": {},
     "output_type": "execute_result"
    }
   ],
   "source": [
    "Theft[2003]"
   ]
  },
  {
   "cell_type": "code",
   "execution_count": 320,
   "metadata": {
    "collapsed": false
   },
   "outputs": [
    {
     "data": {
      "text/plain": [
       "'while enroute from port klang to gresik, robbers boarded the ship unnoticed. chief engineer found the engine room stores burgled and reported engine spares missing.'"
      ]
     },
     "execution_count": 320,
     "metadata": {},
     "output_type": "execute_result"
    }
   ],
   "source": [
    "newDescriptif[2003]"
   ]
  },
  {
   "cell_type": "code",
   "execution_count": 45,
   "metadata": {
    "collapsed": false
   },
   "outputs": [
    {
     "data": {
      "text/plain": [
       "0"
      ]
     },
     "execution_count": 45,
     "metadata": {},
     "output_type": "execute_result"
    }
   ],
   "source": [
    "len(Theft) - size"
   ]
  },
  {
   "cell_type": "markdown",
   "metadata": {},
   "source": [
    "# NumberOfPirates"
   ]
  },
  {
   "cell_type": "markdown",
   "metadata": {},
   "source": [
    "### La classe Numbers nous permet d'énumérer les nombres de manière litérale"
   ]
  },
  {
   "cell_type": "code",
   "execution_count": 108,
   "metadata": {
    "collapsed": false
   },
   "outputs": [],
   "source": [
    "Numbers = {\n",
    "    'zero': 0,\n",
    "    'one': 1,\n",
    "    'two': 2,\n",
    "    'three': 3,\n",
    "    'four': 4,\n",
    "    'five': 5,\n",
    "    'six': 6,\n",
    "    'seven': 7,\n",
    "    'eight': 8,\n",
    "    'nine': 9,\n",
    "    'ten': 10,\n",
    "    'eleven': 11,\n",
    "    'twelve': 12,\n",
    "    'thirteen': 13,\n",
    "    'fourteen': 14,\n",
    "    'fifteen': 15,\n",
    "    'sixteen': 16,\n",
    "    'seventeen': 17,\n",
    "    'eighteen': 18,\n",
    "    'nineteen': 19,\n",
    "    'twenty': 20,\n",
    "    'twenty-one': 21,\n",
    "    'twenty one': 21,\n",
    "    'twenty-two': 22,\n",
    "    'twenty two': 22,\n",
    "    'twenty-three': 23,\n",
    "    'twenty three': 23,\n",
    "    'twenty-four': 24,\n",
    "    'twenty four': 24,\n",
    "    'twenty-five': 25,\n",
    "    'twenty five': 25,\n",
    "    'twenty-six': 26,\n",
    "    'twenty six': 26,\n",
    "}"
   ]
  },
  {
   "cell_type": "code",
   "execution_count": 290,
   "metadata": {
    "collapsed": false
   },
   "outputs": [],
   "source": [
    "def literalToInt(index):\n",
    "    #\"this returns a list of int containing the number of pirates\"\n",
    "    indexPirates= []\n",
    "    numberPirates = []\n",
    "    sentence = newDescriptif[index]\n",
    "    words = re.sub(\"[^\\w]\"+\"\\.\", \" \",  sentence).split()\n",
    "    for i in range(1,len(words)) :\n",
    "        if (words[i].find(\"robber\") > -1):\n",
    "            indexPirates.append(words[i-1])\n",
    "        elif (words[i].find(\"pirate\") > -1):\n",
    "            indexPirates.append(words[i-1])\n",
    "    for i in range(0,len(indexPirates)) :\n",
    "        x = Numbers.get(indexPirates[i], None)\n",
    "        if x is not None:\n",
    "            numberPirates.append(x)\n",
    "    if(len(numberPirates) == 0):\n",
    "        numberPirates.append(-1)\n",
    "    return [numberPirates]"
   ]
  },
  {
   "cell_type": "code",
   "execution_count": 291,
   "metadata": {
    "collapsed": false
   },
   "outputs": [
    {
     "name": "stdout",
     "output_type": "stream",
     "text": [
      "four robbers in a speed boat approached an anchored ship from the port quarter. one robber boarded by using a hook attached to a rope. he was spotted by the deck watchman. alarm raised and the robber escaped via the same rope.  local authorities informed.\n"
     ]
    }
   ],
   "source": [
    "sentence = newDescriptif[5]\n",
    "print sentence"
   ]
  },
  {
   "cell_type": "code",
   "execution_count": 315,
   "metadata": {
    "collapsed": false
   },
   "outputs": [],
   "source": [
    "pMin = []\n",
    "pMax = []\n",
    "for i in range(0,size) :\n",
    "    numberOfPirates = []\n",
    "    numberOfPirates = literalToInt(i)    \n",
    "    pMin.append(min(min((literalToInt(i)))))\n",
    "    pMax.append(max(max((literalToInt(i)))))"
   ]
  }
 ],
 "metadata": {
  "kernelspec": {
   "display_name": "Python 2",
   "language": "python",
   "name": "python2"
  },
  "language_info": {
   "codemirror_mode": {
    "name": "ipython",
    "version": 2
   },
   "file_extension": ".py",
   "mimetype": "text/x-python",
   "name": "python",
   "nbconvert_exporter": "python",
   "pygments_lexer": "ipython2",
   "version": "2.7.11"
  }
 },
 "nbformat": 4,
 "nbformat_minor": 0
}
