{
 "cells": [
  {
   "cell_type": "code",
   "execution_count": 51,
   "metadata": {
    "collapsed": true
   },
   "outputs": [],
   "source": [
    "import pandas as pd\n",
    "from decimal import *\n",
    "import numpy as np"
   ]
  },
  {
   "cell_type": "code",
   "execution_count": 52,
   "metadata": {
    "collapsed": false
   },
   "outputs": [],
   "source": [
    "df = pd.read_csv('./data/donneesBrutesPirateriesLatLon.csv',sep=';')"
   ]
  },
  {
   "cell_type": "code",
   "execution_count": 53,
   "metadata": {
    "collapsed": false
   },
   "outputs": [
    {
     "name": "stdout",
     "output_type": "stream",
     "text": [
      "2188\n"
     ]
    }
   ],
   "source": [
    "size = len(df['descriptif'])\n",
    "print size"
   ]
  },
  {
   "cell_type": "code",
   "execution_count": 55,
   "metadata": {
    "collapsed": false
   },
   "outputs": [
    {
     "data": {
      "text/plain": [
       "\"Three robbers boarded the ship berthed \\nvia poop deck and steering gear room. \\nThey tied up the A/B and assaulted him. \\nRobbers stole ship's properties and \\nescaped.\""
      ]
     },
     "execution_count": 55,
     "metadata": {},
     "output_type": "execute_result"
    }
   ],
   "source": [
    "df.descriptif[0]"
   ]
  },
  {
   "cell_type": "code",
   "execution_count": 64,
   "metadata": {
    "collapsed": false
   },
   "outputs": [
    {
     "data": {
      "text/plain": [
       "'The chief officer onboard the tanker sighted \\na small high speedboat approaching from \\nastern and informed the bridge. Alarm \\nraised, speed increased, evasive manoeuvre, \\ntaken, fire pump activated, ships in vicinity \\ninformed, UKMTO contacted and the non-\\nessential crewmembers mustered in the \\ncitadel. As the skiff closed, three armed \\npersons were seen attempting to board the \\ntanker using hooks attached with ropes. Due \\nto the continued manoeuvres and hardening \\nmeasures taken by the tanker, the persons \\nwere unable to board the tanker.'"
      ]
     },
     "execution_count": 64,
     "metadata": {},
     "output_type": "execute_result"
    }
   ],
   "source": [
    "df.descriptif[size-1]"
   ]
  },
  {
   "cell_type": "markdown",
   "metadata": {},
   "source": [
    "# Nettoyage des chaînes"
   ]
  },
  {
   "cell_type": "code",
   "execution_count": 69,
   "metadata": {
    "collapsed": false
   },
   "outputs": [],
   "source": [
    "newDescriptif = []\n",
    "for i in range(0,size) :\n",
    "    newDescriptif.append(df.descriptif[i].replace(\"\\n\",\"\").lower())"
   ]
  },
  {
   "cell_type": "code",
   "execution_count": 70,
   "metadata": {
    "collapsed": false
   },
   "outputs": [
    {
     "data": {
      "text/plain": [
       "\"three robbers boarded the ship berthed via poop deck and steering gear room. they tied up the a/b and assaulted him. robbers stole ship's properties and escaped.\""
      ]
     },
     "execution_count": 70,
     "metadata": {},
     "output_type": "execute_result"
    }
   ],
   "source": [
    "newDescriptif[0]"
   ]
  },
  {
   "cell_type": "code",
   "execution_count": 71,
   "metadata": {
    "collapsed": false
   },
   "outputs": [
    {
     "data": {
      "text/plain": [
       "'the chief officer onboard the tanker sighted a small high speedboat approaching from astern and informed the bridge. alarm raised, speed increased, evasive manoeuvre, taken, fire pump activated, ships in vicinity informed, ukmto contacted and the non-essential crewmembers mustered in the citadel. as the skiff closed, three armed persons were seen attempting to board the tanker using hooks attached with ropes. due to the continued manoeuvres and hardening measures taken by the tanker, the persons were unable to board the tanker.'"
      ]
     },
     "execution_count": 71,
     "metadata": {},
     "output_type": "execute_result"
    }
   ],
   "source": [
    "newDescriptif[size-1]"
   ]
  },
  {
   "cell_type": "code",
   "execution_count": 73,
   "metadata": {
    "collapsed": false
   },
   "outputs": [
    {
     "data": {
      "text/plain": [
       "0"
      ]
     },
     "execution_count": 73,
     "metadata": {},
     "output_type": "execute_result"
    }
   ],
   "source": [
    "len(newDescriptif) - size"
   ]
  },
  {
   "cell_type": "markdown",
   "metadata": {},
   "source": [
    "# RPG"
   ]
  },
  {
   "cell_type": "code",
   "execution_count": 135,
   "metadata": {
    "collapsed": false
   },
   "outputs": [],
   "source": [
    "RPG = []\n",
    "for i in range(0,size) :\n",
    "    if (newDescriptif[i].find(\"rpg\") > -1):\n",
    "        RPG.append(1)\n",
    "    elif (newDescriptif[i].find(\"launcher\") > -1):\n",
    "        RPG.append(1)\n",
    "    else:\n",
    "        RPG.append(0)\n"
   ]
  },
  {
   "cell_type": "code",
   "execution_count": 143,
   "metadata": {
    "collapsed": false
   },
   "outputs": [
    {
     "data": {
      "text/plain": [
       "0"
      ]
     },
     "execution_count": 143,
     "metadata": {},
     "output_type": "execute_result"
    }
   ],
   "source": [
    "RPG[950]"
   ]
  },
  {
   "cell_type": "code",
   "execution_count": 142,
   "metadata": {
    "collapsed": false
   },
   "outputs": [
    {
     "data": {
      "text/plain": [
       "'0729 utc steaming attempted maud obo carrier liberia 45593 9036519 13:01.37n \\xe2\\x80\\x93 048:48.63e, gulf of aden pirates in a skiff approached the ship on the port quarter. master immediately contacted the coalition warship and a helicopter was dispatched. the helicopter fired shots on to the skiff and the attempted boarding was thwarted successfully.'"
      ]
     },
     "execution_count": 142,
     "metadata": {},
     "output_type": "execute_result"
    }
   ],
   "source": [
    "newDescriptif[950]"
   ]
  },
  {
   "cell_type": "code",
   "execution_count": 144,
   "metadata": {
    "collapsed": false
   },
   "outputs": [
    {
     "data": {
      "text/plain": [
       "0"
      ]
     },
     "execution_count": 144,
     "metadata": {},
     "output_type": "execute_result"
    }
   ],
   "source": [
    "len(RPG) - size"
   ]
  },
  {
   "cell_type": "markdown",
   "metadata": {},
   "source": [
    "# Guns"
   ]
  },
  {
   "cell_type": "code",
   "execution_count": 205,
   "metadata": {
    "collapsed": false
   },
   "outputs": [],
   "source": [
    "Guns = []\n",
    "for i in range(0,size) :\n",
    "    if (newDescriptif[i].find(\"no gun\") > -1):\n",
    "        Guns.append(0)\n",
    "    elif (newDescriptif[i].find(\"gun\") > -1):\n",
    "        Guns.append(1)\n",
    "    elif (newDescriptif[i].find(\"no rifle\") > -1):\n",
    "        Guns.append(0)\n",
    "    elif (newDescriptif[i].find(\"rifle\") > -1):\n",
    "        Guns.append(1)\n",
    "    elif (newDescriptif[i].find(\"no pistol\") > -1):\n",
    "        Guns.append(0)\n",
    "    elif (newDescriptif[i].find(\"pistol\") > -1):\n",
    "        Guns.append(1)\n",
    "    elif (newDescriptif[i].find(\"automatic weapon\") > -1):\n",
    "        Guns.append(1)\n",
    "#    elif (newDescriptif[i].find(\"no arm\") > -1):\n",
    "#        Guns.append(0)\n",
    "#    elif (newDescriptif[i].find(\"armed\") > -1):\n",
    "#        if (newDescriptif[newDescriptif[i].find(\"armed\")-1]!=\"h\"):\n",
    "#            Guns.append(1) \n",
    "    else:\n",
    "        Guns.append(0)"
   ]
  },
  {
   "cell_type": "code",
   "execution_count": 206,
   "metadata": {
    "collapsed": false
   },
   "outputs": [
    {
     "data": {
      "text/plain": [
       "0"
      ]
     },
     "execution_count": 206,
     "metadata": {},
     "output_type": "execute_result"
    }
   ],
   "source": [
    "Guns[1477]"
   ]
  },
  {
   "cell_type": "code",
   "execution_count": 207,
   "metadata": {
    "collapsed": false
   },
   "outputs": [
    {
     "data": {
      "text/plain": [
       "'two robbers armed with knives boarded the berthed tanker. ship\\xe2\\x80\\x99s property was stolen. later, crew caught the robbers and recovered the stolen items.'"
      ]
     },
     "execution_count": 207,
     "metadata": {},
     "output_type": "execute_result"
    }
   ],
   "source": [
    "newDescriptif[1477]"
   ]
  },
  {
   "cell_type": "code",
   "execution_count": 221,
   "metadata": {
    "collapsed": false
   },
   "outputs": [
    {
     "data": {
      "text/plain": [
       "0"
      ]
     },
     "execution_count": 221,
     "metadata": {},
     "output_type": "execute_result"
    }
   ],
   "source": [
    "len(Guns) - size"
   ]
  },
  {
   "cell_type": "markdown",
   "metadata": {},
   "source": [
    "# Knives"
   ]
  },
  {
   "cell_type": "code",
   "execution_count": 208,
   "metadata": {
    "collapsed": false
   },
   "outputs": [],
   "source": [
    "Knives = []\n",
    "for i in range(0,size) :\n",
    "    if (newDescriptif[i].find(\"no knive\") > -1):\n",
    "        Knives.append(0)\n",
    "    elif (newDescriptif[i].find(\"knives\") > -1):\n",
    "        Knives.append(1)\n",
    "    elif (newDescriptif[i].find(\"no machete\") > -1):\n",
    "        Knives.append(0)\n",
    "    elif (newDescriptif[i].find(\"machete\") > -1):\n",
    "        Knives.append(1)\n",
    "    elif (newDescriptif[i].find(\"no axe\") > -1):\n",
    "        Knives.append(0)\n",
    "    elif (newDescriptif[i].find(\"axe\") > -1):\n",
    "        Knives.append(1)\n",
    "    else:\n",
    "        Knives.append(0)"
   ]
  },
  {
   "cell_type": "code",
   "execution_count": 219,
   "metadata": {
    "collapsed": false
   },
   "outputs": [
    {
     "data": {
      "text/plain": [
       "1"
      ]
     },
     "execution_count": 219,
     "metadata": {},
     "output_type": "execute_result"
    }
   ],
   "source": [
    "Knives[900]"
   ]
  },
  {
   "cell_type": "code",
   "execution_count": 218,
   "metadata": {
    "collapsed": false
   },
   "outputs": [
    {
     "data": {
      "text/plain": [
       "'1245 utc steaming attempted daylam tanker malta 160576 9218466 13:02.18n \\xe2\\x80\\x93 046:41.06e, gulf of aden eight pirates armed with guns in two boats attempted to attack the tanker underway. master raised alarm, sent distress message, contacted coalition warships and adopted evasive manoeuvres. a coalition warship responded and was ready to dispatch a helicopter. pirate boats slowed down and aborted the attempt upon noticing the british security team at the bridge wings armed with axes.'"
      ]
     },
     "execution_count": 218,
     "metadata": {},
     "output_type": "execute_result"
    }
   ],
   "source": [
    "newDescriptif[900]"
   ]
  },
  {
   "cell_type": "code",
   "execution_count": 222,
   "metadata": {
    "collapsed": false
   },
   "outputs": [
    {
     "data": {
      "text/plain": [
       "0"
      ]
     },
     "execution_count": 222,
     "metadata": {},
     "output_type": "execute_result"
    }
   ],
   "source": [
    "len(Knives) - size"
   ]
  },
  {
   "cell_type": "markdown",
   "metadata": {},
   "source": [
    "# Death"
   ]
  },
  {
   "cell_type": "code",
   "execution_count": 87,
   "metadata": {
    "collapsed": true
   },
   "outputs": [],
   "source": [
    "Death = []\n",
    "for i in range(0,size) :\n",
    "    if (newDescriptif[i].find(\"dead\") > -1):\n",
    "        Death.append(1)\n",
    "    elif (newDescriptif[i].find(\"killed\") > -1):\n",
    "        Death.append(1)\n",
    "    elif (newDescriptif[i].find(\"died\") > -1):\n",
    "        Death.append(1)\n",
    "    else:\n",
    "        Death.append(0)"
   ]
  },
  {
   "cell_type": "code",
   "execution_count": 88,
   "metadata": {
    "collapsed": false
   },
   "outputs": [
    {
     "data": {
      "text/plain": [
       "1"
      ]
     },
     "execution_count": 88,
     "metadata": {},
     "output_type": "execute_result"
    }
   ],
   "source": [
    "Death[771]"
   ]
  },
  {
   "cell_type": "code",
   "execution_count": 89,
   "metadata": {
    "collapsed": false
   },
   "outputs": [
    {
     "data": {
      "text/plain": [
       "'0500 lt steaming hijacked sea princess ii product tanker panama 1902 7718814 12:55n \\xe2\\x80\\x93 045:10e, gulf of aden armed pirates in four boats attacked and hijacked the tanker underway. information indicates the tanker has been taken to eyl. 15 crewmembers taken hostage.  the crew and ship was released on 26.04.2009.  it is believed a ransom was paid for their safe release. one crew died during the captivity period.'"
      ]
     },
     "execution_count": 89,
     "metadata": {},
     "output_type": "execute_result"
    }
   ],
   "source": [
    "newDescriptif[771]"
   ]
  },
  {
   "cell_type": "code",
   "execution_count": 223,
   "metadata": {
    "collapsed": false
   },
   "outputs": [
    {
     "data": {
      "text/plain": [
       "0"
      ]
     },
     "execution_count": 223,
     "metadata": {},
     "output_type": "execute_result"
    }
   ],
   "source": [
    "len(Death) - size"
   ]
  },
  {
   "cell_type": "markdown",
   "metadata": {
    "collapsed": true
   },
   "source": [
    "# Blessés"
   ]
  },
  {
   "cell_type": "code",
   "execution_count": 123,
   "metadata": {
    "collapsed": false
   },
   "outputs": [],
   "source": [
    "Injuries = []\n",
    "for i in range(0,size) :\n",
    "    if (newDescriptif[i].find(\"not injur\") > -1):\n",
    "        Injuries.append(0)\n",
    "    elif (newDescriptif[i].find(\"no injur\") > -1):\n",
    "        Injuries.append(0)\n",
    "    elif (newDescriptif[i].find(\"uninjur\") > -1):\n",
    "        Injuries.append(0)\n",
    "    elif (newDescriptif[i].find(\"injur\") > -1):\n",
    "        Injuries.append(1)\n",
    "    elif (newDescriptif[i].find(\"not harm\") > -1):\n",
    "        Injuries.append(0)\n",
    "    elif (newDescriptif[i].find(\"no harm\") > -1):\n",
    "        Injuries.append(0)\n",
    "    elif (newDescriptif[i].find(\"not to harm\") > -1):\n",
    "        Injuries.append(0)\n",
    "    elif (newDescriptif[i].find(\"unharm\") > -1):\n",
    "        Injuries.append(0)\n",
    "    elif (newDescriptif[i].find(\"harmony\") > -1):\n",
    "        Injuries.append(0)\n",
    "    elif (newDescriptif[i].find(\"harm\") > -1):\n",
    "        Injuries.append(1)\n",
    "    elif (newDescriptif[i].find(\"not wound\") > -1):\n",
    "        Injuries.append(0)\n",
    "    elif (newDescriptif[i].find(\"no wound\") > -1):\n",
    "        Injuries.append(0)\n",
    "    elif (newDescriptif[i].find(\"unwound\") > -1):\n",
    "        Injuries.append(0)\n",
    "    elif (newDescriptif[i].find(\"wound\") > -1):\n",
    "        Injuries.append(1)\n",
    "    elif (newDescriptif[i].find(\"not hurt\") > -1):\n",
    "        Injuries.append(0)\n",
    "    elif (newDescriptif[i].find(\"no hurt\") > -1):\n",
    "        Injuries.append(0)\n",
    "    elif (newDescriptif[i].find(\"unhurt\") > -1):\n",
    "        Injuries.append(0)\n",
    "    elif (newDescriptif[i].find(\"hurt\") > -1):\n",
    "        Injuries.append(1)\n",
    "    else:\n",
    "        Injuries.append(0)"
   ]
  },
  {
   "cell_type": "code",
   "execution_count": 133,
   "metadata": {
    "collapsed": false
   },
   "outputs": [
    {
     "data": {
      "text/plain": [
       "0"
      ]
     },
     "execution_count": 133,
     "metadata": {},
     "output_type": "execute_result"
    }
   ],
   "source": [
    "Injuries[792]"
   ]
  },
  {
   "cell_type": "code",
   "execution_count": 134,
   "metadata": {
    "collapsed": false
   },
   "outputs": [
    {
     "data": {
      "text/plain": [
       "\"2030 lt steaming boarded aleyna mercan chemical tanker marshall islands 2897 9296547  04:00.00n \\xe2\\x80\\x93 006:07.50e, 30 nm off onne, nigeria about eight pirates, in a speedboat, wearing masks and armed with guns fired upon the tanker underway. they boarded the tanker, shut down the inmarsat system and took hostage the chief officer. main engine was stopped under armed threat and another boat came alongside with two more pirates. the pirates told the crew their intention was to get the ship's cash and not to harm any crew. master gave all cash to the pirates. pirates kidnapped the master and 2/e and escaped with ship's cash and crew personal belongings. the kidnapped crew were released on 22 april 2009.\""
      ]
     },
     "execution_count": 134,
     "metadata": {},
     "output_type": "execute_result"
    }
   ],
   "source": [
    "newDescriptif[792]"
   ]
  },
  {
   "cell_type": "code",
   "execution_count": 224,
   "metadata": {
    "collapsed": false
   },
   "outputs": [
    {
     "data": {
      "text/plain": [
       "0"
      ]
     },
     "execution_count": 224,
     "metadata": {},
     "output_type": "execute_result"
    }
   ],
   "source": [
    "len(Death) - size"
   ]
  },
  {
   "cell_type": "markdown",
   "metadata": {},
   "source": [
    "# Kidnapping"
   ]
  },
  {
   "cell_type": "code",
   "execution_count": 225,
   "metadata": {
    "collapsed": true
   },
   "outputs": [],
   "source": [
    "Kidnapping = []\n",
    "for i in range(0,size) :\n",
    "    if (newDescriptif[i].find(\"no kidnapp\") > -1):\n",
    "        Kidnapping.append(1)\n",
    "    elif (newDescriptif[i].find(\"kidnapp\") > -1):\n",
    "        Kidnapping.append(1)\n",
    "    elif (newDescriptif[i].find(\"no hostage\") > -1):\n",
    "        Kidnapping.append(0)\n",
    "    elif (newDescriptif[i].find(\"hostage\") > -1):\n",
    "        Kidnapping.append(1)\n",
    "    else:\n",
    "        Kidnapping.append(0)"
   ]
  },
  {
   "cell_type": "code",
   "execution_count": 234,
   "metadata": {
    "collapsed": false
   },
   "outputs": [
    {
     "data": {
      "text/plain": [
       "0"
      ]
     },
     "execution_count": 234,
     "metadata": {},
     "output_type": "execute_result"
    }
   ],
   "source": [
    "Kidnapping[745]"
   ]
  },
  {
   "cell_type": "code",
   "execution_count": 233,
   "metadata": {
    "collapsed": false
   },
   "outputs": [
    {
     "data": {
      "text/plain": [
       "'2300 lt anchored boarded marina 1 general cargo antigua and barbuda 7878 9369095 18.33n \\xe2\\x80\\x93 072:23w, port au prince anchorage, haiti duty officer heard some noises on the poop deck and upon investigation found three robbers already in the process of leaving in their boat after lowering some ship\\xe2\\x80\\x99s stores. authorities informed and a coast guard boat arrived at location.'"
      ]
     },
     "execution_count": 233,
     "metadata": {},
     "output_type": "execute_result"
    }
   ],
   "source": [
    "newDescriptif[745]"
   ]
  },
  {
   "cell_type": "code",
   "execution_count": null,
   "metadata": {
    "collapsed": true
   },
   "outputs": [],
   "source": []
  }
 ],
 "metadata": {
  "kernelspec": {
   "display_name": "Python 2",
   "language": "python",
   "name": "python2"
  },
  "language_info": {
   "codemirror_mode": {
    "name": "ipython",
    "version": 2
   },
   "file_extension": ".py",
   "mimetype": "text/x-python",
   "name": "python",
   "nbconvert_exporter": "python",
   "pygments_lexer": "ipython2",
   "version": "2.7.11"
  }
 },
 "nbformat": 4,
 "nbformat_minor": 0
}
