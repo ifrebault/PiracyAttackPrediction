{
 "cells": [
  {
   "cell_type": "code",
   "execution_count": 60,
   "metadata": {
    "collapsed": true
   },
   "outputs": [],
   "source": [
    "import pandas as pd\n",
    "from geopy.distance import vincenty"
   ]
  },
  {
   "cell_type": "code",
   "execution_count": 61,
   "metadata": {
    "collapsed": false
   },
   "outputs": [],
   "source": [
    "shorlineAden = pd.read_csv('./data/shorlineAden.csv',sep=';')\n",
    "df = pd.read_csv('./data/donneesBrutesPirateriesLatLon.csv',sep=';')"
   ]
  },
  {
   "cell_type": "code",
   "execution_count": 105,
   "metadata": {
    "collapsed": false
   },
   "outputs": [
    {
     "data": {
      "text/plain": [
       "63028"
      ]
     },
     "execution_count": 105,
     "metadata": {},
     "output_type": "execute_result"
    }
   ],
   "source": [
    "shorlineAden.head()\n",
    "len(shorlineAden)"
   ]
  },
  {
   "cell_type": "code",
   "execution_count": 106,
   "metadata": {
    "collapsed": false
   },
   "outputs": [
    {
     "name": "stdout",
     "output_type": "stream",
     "text": [
      "909\n"
     ]
    }
   ],
   "source": [
    "dfAden=df[(df.latitude<31.) & (df.latitude>-10.) & (df.longitude>31.) & (df.longitude<78.)]\n",
    "print len(dfAden)\n",
    "#print dfAden.head()"
   ]
  },
  {
   "cell_type": "code",
   "execution_count": 64,
   "metadata": {
    "collapsed": false
   },
   "outputs": [
    {
     "name": "stderr",
     "output_type": "stream",
     "text": [
      "/Users/romainphilippe/app/anaconda2/lib/python2.7/site-packages/ipykernel/__main__.py:3: FutureWarning: convert_objects is deprecated.  Use the data-type specific converters pd.to_datetime, pd.to_timedelta and pd.to_numeric.\n",
      "  app.launch_new_instance()\n",
      "/Users/romainphilippe/app/anaconda2/lib/python2.7/site-packages/ipykernel/__main__.py:4: FutureWarning: convert_objects is deprecated.  Use the data-type specific converters pd.to_datetime, pd.to_timedelta and pd.to_numeric.\n"
     ]
    }
   ],
   "source": [
    "shorlineAden=shorlineAden.replace({',': '.'}, regex=True)\n",
    "#object to numeric\n",
    "shorlineAden['latitude']=shorlineAden['latitude'].convert_objects(convert_numeric=True)\n",
    "shorlineAden['longitude']=shorlineAden['longitude'].convert_objects(convert_numeric=True)"
   ]
  },
  {
   "cell_type": "code",
   "execution_count": 108,
   "metadata": {
    "collapsed": false
   },
   "outputs": [
    {
     "name": "stdout",
     "output_type": "stream",
     "text": [
      "(10.783333, 61.616667)\n",
      "3342\n",
      "distance : 796.381175941\n"
     ]
    }
   ],
   "source": [
    "lon=61.616667\n",
    "lat=10.783333\n",
    "threshold=10\n",
    "\n",
    "#print shorlineAdenCurrent=shorlineAden[(shorlineAden.latitude<lat+threshold)\n",
    "\n",
    "def get_distance(lat, lon):\n",
    "    tab=[]\n",
    "    pointAttack=(lat, lon)\n",
    "    print pointAttack\n",
    "    shorlineAdenCurrent=shorlineAden[(shorlineAden.latitude<lat+threshold) & (shorlineAden.latitude>lat-threshold) & (shorlineAden.longitude>lon-threshold) & (shorlineAden.longitude<lon+threshold)]\n",
    "    #print 'len shorlineAdenCurrent'\n",
    "    length=len(shorlineAdenCurrent)\n",
    "    print length\n",
    "    for index in range(0,length):\n",
    "        pointCoast= (shorlineAdenCurrent.iloc[index]['latitude'], shorlineAdenCurrent.iloc[index]['longitude'])\n",
    "        distance =vincenty(pointCoast, pointAttack).kilometers\n",
    "        #print distance\n",
    "        tab.append(distance)\n",
    "    #print tab\n",
    "    return min(tab)\n",
    "\n",
    "print 'distance : ' +str(get_distance(lat, lon))"
   ]
  },
  {
   "cell_type": "code",
   "execution_count": 113,
   "metadata": {
    "collapsed": false
   },
   "outputs": [],
   "source": [
    "headDf=dfAden.head(10)"
   ]
  },
  {
   "cell_type": "code",
   "execution_count": 114,
   "metadata": {
    "collapsed": false,
    "scrolled": true
   },
   "outputs": [
    {
     "name": "stdout",
     "output_type": "stream",
     "text": [
      "(10.7833333333, 61.6166666667)\n",
      "3342\n",
      "(-5.23333333333, 42.6166666667)\n",
      "8849\n",
      "(-9.583333333330001, 44.3)\n",
      "7692\n",
      "(11.6980555556, 66.0938888889)\n",
      "5672\n",
      "(17.4666666667, 56.7)\n",
      "24684\n",
      "(10.5666666667, 57.55)\n",
      "5982\n",
      "(8.35, 65.0)\n",
      "1952\n",
      "(12.3833333333, 60.35)\n",
      "4727\n",
      "(-4.98333333333, 43.8666666667)\n",
      "8909\n",
      "(-4.75, 51.0)\n",
      "4500\n"
     ]
    },
    {
     "data": {
      "text/plain": [
       "128     796.381131\n",
       "129     305.174046\n",
       "130     221.696589\n",
       "131     925.841311\n",
       "132      62.261858\n",
       "133     395.010618\n",
       "134    1184.201993\n",
       "135     632.512335\n",
       "136     437.675337\n",
       "137     467.709155\n",
       "dtype: float64"
      ]
     },
     "execution_count": 114,
     "metadata": {},
     "output_type": "execute_result"
    }
   ],
   "source": [
    "headDf.apply(lambda row: get_distance(row['latitude'], row['longitude']), axis=1)"
   ]
  },
  {
   "cell_type": "code",
   "execution_count": null,
   "metadata": {
    "collapsed": false,
    "scrolled": true
   },
   "outputs": [
    {
     "name": "stdout",
     "output_type": "stream",
     "text": [
      "(10.7833333333, 61.6166666667)\n",
      "3342\n",
      "(-5.23333333333, 42.6166666667)\n",
      "8849\n",
      "(-9.583333333330001, 44.3)\n",
      "7692\n",
      "(11.6980555556, 66.0938888889)\n",
      "5672\n",
      "(17.4666666667, 56.7)\n",
      "24684\n",
      "(10.5666666667, 57.55)\n",
      "5982\n",
      "(8.35, 65.0)\n",
      "1952\n",
      "(12.3833333333, 60.35)\n",
      "4727\n",
      "(-4.98333333333, 43.8666666667)\n",
      "8909\n",
      "(-4.75, 51.0)\n",
      "4500\n",
      "(9.48333333333, 69.3)\n",
      "3246\n",
      "(9.48333333333, 69.3)\n",
      "3246\n",
      "(9.48333333333, 69.3)\n",
      "3246\n",
      "(12.251944444400001, 59.5005555556)\n",
      "5052\n",
      "(1.8333333333300001, 67.8333333333)\n",
      "760\n",
      "(15.916666666700001, 60.8333333333)\n",
      "18283\n",
      "(7.4, 64.8333333333)\n",
      "1348\n",
      "(-7.11666666667, 41.0333333333)\n",
      "8300\n",
      "(-1.6666666666699999, 41.7172222222)\n",
      "7177\n",
      "(-3.46666666667, 40.8166666667)\n",
      "9196\n",
      "(8.183333333330001, 67.9333333333)\n",
      "2357\n",
      "(-4.23333333333, 41.3166666667)\n",
      "9118\n",
      "(3.48333333333, 59.5833333333)\n",
      "3182\n",
      "(12.1333333333, 54.4166666667)\n",
      "8414\n",
      "(12.2, 64.8833333333)\n",
      "5909\n",
      "(15.1, 55.9666666667)\n",
      "12139\n",
      "(-9.95, 42.3166666667)\n",
      "7681\n",
      "(-5.25, 43.65)\n",
      "8846\n",
      "(11.433333333299998, 66.0833333333)\n",
      "5388\n",
      "(17.2166666667, 65.0166666667)\n",
      "22068\n"
     ]
    }
   ],
   "source": [
    "dfAden['distance_shorline']=dfAden.apply(lambda row: get_distance(row['latitude'], row['longitude']), axis=1)"
   ]
  },
  {
   "cell_type": "code",
   "execution_count": null,
   "metadata": {
    "collapsed": true
   },
   "outputs": [],
   "source": [
    "newport_ri = (41.49008, -71.312796)\n",
    "cleveland_oh = (41.499498, -81.695391)\n",
    "print(vincenty(newport_ri, cleveland_oh).miles)"
   ]
  },
  {
   "cell_type": "code",
   "execution_count": null,
   "metadata": {
    "collapsed": true
   },
   "outputs": [],
   "source": [
    "dfAden.to_csv(\"./data/aden.csv\",sep=';', encoding='utf-8')"
   ]
  }
 ],
 "metadata": {
  "kernelspec": {
   "display_name": "Python 2",
   "language": "python",
   "name": "python2"
  },
  "language_info": {
   "codemirror_mode": {
    "name": "ipython",
    "version": 2
   },
   "file_extension": ".py",
   "mimetype": "text/x-python",
   "name": "python",
   "nbconvert_exporter": "python",
   "pygments_lexer": "ipython2",
   "version": "2.7.11"
  }
 },
 "nbformat": 4,
 "nbformat_minor": 0
}
