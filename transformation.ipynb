{
 "cells": [
  {
   "cell_type": "code",
   "execution_count": 1,
   "metadata": {
    "collapsed": false
   },
   "outputs": [],
   "source": [
    "import pandas as pd\n",
    "from decimal import *\n",
    "import numpy as np\n",
    "from geopy.distance import vincenty"
   ]
  },
  {
   "cell_type": "code",
   "execution_count": 2,
   "metadata": {
    "collapsed": false
   },
   "outputs": [],
   "source": [
    "xl = pd.ExcelFile(\"./data/donneesBrutesPirateriesIssuesInternet.xlsx\")\n",
    "shorlineAden = pd.read_csv('./data/shorlineAden.csv',sep=';')"
   ]
  },
  {
   "cell_type": "code",
   "execution_count": 3,
   "metadata": {
    "collapsed": false
   },
   "outputs": [
    {
     "data": {
      "text/plain": [
       "[u'Feuil1']"
      ]
     },
     "execution_count": 3,
     "metadata": {},
     "output_type": "execute_result"
    }
   ],
   "source": [
    "xl.sheet_names"
   ]
  },
  {
   "cell_type": "code",
   "execution_count": 4,
   "metadata": {
    "collapsed": false
   },
   "outputs": [],
   "source": [
    "df = xl.parse(\"Feuil1\")"
   ]
  },
  {
   "cell_type": "code",
   "execution_count": 5,
   "metadata": {
    "collapsed": false
   },
   "outputs": [
    {
     "data": {
      "text/html": [
       "<div>\n",
       "<table border=\"1\" class=\"dataframe\">\n",
       "  <thead>\n",
       "    <tr style=\"text-align: right;\">\n",
       "      <th></th>\n",
       "      <th>Unnamed: 0</th>\n",
       "      <th>longitude</th>\n",
       "      <th>latitude</th>\n",
       "      <th>id</th>\n",
       "    </tr>\n",
       "  </thead>\n",
       "  <tbody>\n",
       "    <tr>\n",
       "      <th>0</th>\n",
       "      <td>358</td>\n",
       "      <td>53,9743183</td>\n",
       "      <td>26,497247</td>\n",
       "      <td>25208</td>\n",
       "    </tr>\n",
       "    <tr>\n",
       "      <th>1</th>\n",
       "      <td>368</td>\n",
       "      <td>53,9697719</td>\n",
       "      <td>26,4984432</td>\n",
       "      <td>25208</td>\n",
       "    </tr>\n",
       "    <tr>\n",
       "      <th>2</th>\n",
       "      <td>378</td>\n",
       "      <td>53,9669274</td>\n",
       "      <td>26,4991375</td>\n",
       "      <td>25208</td>\n",
       "    </tr>\n",
       "    <tr>\n",
       "      <th>3</th>\n",
       "      <td>388</td>\n",
       "      <td>53,9644766</td>\n",
       "      <td>26,4990889</td>\n",
       "      <td>25208</td>\n",
       "    </tr>\n",
       "    <tr>\n",
       "      <th>4</th>\n",
       "      <td>398</td>\n",
       "      <td>53,9611029</td>\n",
       "      <td>26,5011279</td>\n",
       "      <td>25208</td>\n",
       "    </tr>\n",
       "  </tbody>\n",
       "</table>\n",
       "</div>"
      ],
      "text/plain": [
       "   Unnamed: 0   longitude    latitude     id\n",
       "0         358  53,9743183   26,497247  25208\n",
       "1         368  53,9697719  26,4984432  25208\n",
       "2         378  53,9669274  26,4991375  25208\n",
       "3         388  53,9644766  26,4990889  25208\n",
       "4         398  53,9611029  26,5011279  25208"
      ]
     },
     "execution_count": 5,
     "metadata": {},
     "output_type": "execute_result"
    }
   ],
   "source": [
    "shorlineAden.head()"
   ]
  },
  {
   "cell_type": "code",
   "execution_count": 6,
   "metadata": {
    "collapsed": false
   },
   "outputs": [],
   "source": [
    "df=df.drop(df.index[0])"
   ]
  },
  {
   "cell_type": "code",
   "execution_count": 7,
   "metadata": {
    "collapsed": false
   },
   "outputs": [
    {
     "name": "stdout",
     "output_type": "stream",
     "text": [
      "-9.40166666667\n",
      "-9.401667\n",
      "-9.4017\n"
     ]
    }
   ],
   "source": [
    "def dmsToDd(dms):  \n",
    "    #remove the last character : N S E W\n",
    "    direction=dms[-1:]\n",
    "    dms = dms[:-1]\n",
    "    \n",
    "    tab=dms.split(':', 1 )\n",
    "    degree=tab[0]\n",
    "    minuteSeconde=tab[1]\n",
    "    #print degree\n",
    "    #print minuteSeconde\n",
    "    if \":\" in minuteSeconde:\n",
    "        minuteSeconde=minuteSeconde.replace(\":\", \".\")\n",
    "    #print \"-------------\"\n",
    "    #print degree\n",
    "    #print minuteSeconde\n",
    "    lastChar=minuteSeconde[-1:]\n",
    "    if lastChar==\".\":\n",
    "        minuteSeconde=minuteSeconde[:-1]\n",
    "    \n",
    "    if \".\" in minuteSeconde:\n",
    "        tab2=minuteSeconde.split('.', 1 )\n",
    "        minute=tab2[0]\n",
    "        seconde=tab2[1]\n",
    "        #print minuteSeconde\n",
    "        #print minute\n",
    "        #print seconde\n",
    "        result=float(degree)+(float(minute)/60)+(float(seconde)/3600) \n",
    "    else:\n",
    "        result=float(degree)+(float(minuteSeconde)/60)\n",
    "    \n",
    "    if direction==\"S\" or direction==\"W\":\n",
    "        result=-result\n",
    "    return result\n",
    "    \n",
    "\n",
    "dms=\"09:24.6S\"\n",
    "\n",
    "toto =dmsToDd(dms)\n",
    "print toto\n",
    "print format(toto, '.6f')\n",
    "print round(toto, 4)"
   ]
  },
  {
   "cell_type": "code",
   "execution_count": 8,
   "metadata": {
    "collapsed": false
   },
   "outputs": [],
   "source": [
    "df['latitude'] = df.apply(lambda row: dmsToDd(row['lat (0)']), axis=1)\n",
    "df['longitude'] = df.apply(lambda row: dmsToDd(row['long(0)']), axis=1)"
   ]
  },
  {
   "cell_type": "code",
   "execution_count": 36,
   "metadata": {
    "collapsed": false
   },
   "outputs": [
    {
     "name": "stdout",
     "output_type": "stream",
     "text": [
      "924\n",
      "2188\n"
     ]
    }
   ],
   "source": [
    "dfAden=df[(df.latitude<33.) & (df.latitude>-13.) & (df.longitude>30.) & (df.longitude<77.)]\n",
    "print len(dfAden)\n",
    "print len(df)"
   ]
  },
  {
   "cell_type": "code",
   "execution_count": 37,
   "metadata": {
    "collapsed": false
   },
   "outputs": [],
   "source": [
    "shorlineAden=shorlineAden.replace({',': '.'}, regex=True)"
   ]
  },
  {
   "cell_type": "code",
   "execution_count": 40,
   "metadata": {
    "collapsed": false
   },
   "outputs": [
    {
     "name": "stdout",
     "output_type": "stream",
     "text": [
      "0\n",
      "distance : 2513.93353557\n"
     ]
    }
   ],
   "source": [
    "lon=50.42038\n",
    "lat=4.039618\n",
    "threshold=100\n",
    "def distance(lat, lon):\n",
    "    tab=[]\n",
    "    pointAttack=(lat, lon)\n",
    "    shorlineAdenCurrent=shorlineAden[(shorlineAden.latitude<lat+threshold) & (shorlineAden.latitude>lat-threshold) & (shorlineAden.longitude>lon-threshold) & (shorlineAden.longitude<lon+threshold)]\n",
    "    print len(shorlineAdenCurrent)\n",
    "    for index in range(0,2):\n",
    "        #if index%10000==0:\n",
    "        #    print index\n",
    "        #print shorlineAden.iloc[index]['x0']\n",
    "        pointCoast= (shorlineAden.iloc[index]['latitude'], shorlineAden.iloc[index]['longitude'])\n",
    "        distance =vincenty(pointCoast, pointAttack).kilometers\n",
    "        #print distance\n",
    "        tab.append(distance)\n",
    "     \n",
    "    return min(tab)\n",
    "\n",
    "print 'distance : ' +str(distance(lat, lon))"
   ]
  },
  {
   "cell_type": "code",
   "execution_count": null,
   "metadata": {
    "collapsed": true
   },
   "outputs": [],
   "source": [
    "newport_ri = (41.49008, -71.312796)\n",
    "cleveland_oh = (41.499498, -81.695391)\n",
    "print(vincenty(newport_ri, cleveland_oh).miles)"
   ]
  },
  {
   "cell_type": "code",
   "execution_count": null,
   "metadata": {
    "collapsed": true
   },
   "outputs": [],
   "source": [
    "dfAden['distance_shorline']=dfAden.apply(lambda row: distance(row['latitude'], row['longitude']), axis=1)"
   ]
  },
  {
   "cell_type": "code",
   "execution_count": 15,
   "metadata": {
    "collapsed": false
   },
   "outputs": [],
   "source": [
    "df.to_excel(\"./data/donneesBrutesPirateriesLatLon.xlsx\", encoding='utf-8')"
   ]
  },
  {
   "cell_type": "code",
   "execution_count": 19,
   "metadata": {
    "collapsed": false
   },
   "outputs": [],
   "source": []
  },
  {
   "cell_type": "code",
   "execution_count": null,
   "metadata": {
    "collapsed": true
   },
   "outputs": [],
   "source": []
  }
 ],
 "metadata": {
  "kernelspec": {
   "display_name": "Python 2",
   "language": "python",
   "name": "python2"
  },
  "language_info": {
   "codemirror_mode": {
    "name": "ipython",
    "version": 2
   },
   "file_extension": ".py",
   "mimetype": "text/x-python",
   "name": "python",
   "nbconvert_exporter": "python",
   "pygments_lexer": "ipython2",
   "version": "2.7.11"
  }
 },
 "nbformat": 4,
 "nbformat_minor": 0
}
