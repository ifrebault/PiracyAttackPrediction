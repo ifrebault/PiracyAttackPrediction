{
 "cells": [
  {
   "cell_type": "markdown",
   "metadata": {},
   "source": [
    "# enrichissement full #3"
   ]
  },
  {
   "cell_type": "code",
   "execution_count": 1,
   "metadata": {
    "collapsed": true
   },
   "outputs": [],
   "source": [
    "import pandas as pd\n",
    "from decimal import *\n",
    "import numpy as np\n",
    "import re"
   ]
  },
  {
   "cell_type": "code",
   "execution_count": 2,
   "metadata": {
    "collapsed": false
   },
   "outputs": [],
   "source": [
    "df = pd.read_csv('../data/donneesBrutesPirateriesLatLon.csv',sep=';')"
   ]
  },
  {
   "cell_type": "code",
   "execution_count": 3,
   "metadata": {
    "collapsed": false
   },
   "outputs": [],
   "source": [
    "size = len(df['descriptif'])\n",
    "descriptif = []\n",
    "for i in range(0,size) :\n",
    "    descriptif.append(df.descriptif[i].replace(\"\\n\",\"\").lower())\n",
    "\n",
    "df['descriptif']=descriptif"
   ]
  },
  {
   "cell_type": "markdown",
   "metadata": {},
   "source": [
    "# Redéfinition des types de bateaux"
   ]
  },
  {
   "cell_type": "code",
   "execution_count": 4,
   "metadata": {
    "collapsed": false
   },
   "outputs": [],
   "source": [
    "uniqueFirst=df[\"type(0)\"].unique()"
   ]
  },
  {
   "cell_type": "code",
   "execution_count": 5,
   "metadata": {
    "collapsed": false
   },
   "outputs": [],
   "source": [
    "def getRightType(oldType):\n",
    "    newType=\"Other\"\n",
    "    if isinstance(oldType, basestring):\n",
    "        if oldType==\"Tanker\" or oldType==\"Chemical Tanker\" or oldType==\"LPG Tanker\"  or oldType==\"Product Tanker\" or oldType==\"LNG Tanker\" or oldType==\"VLCC\": \n",
    "            newType=\"Tanker\"\n",
    "            \n",
    "        elif oldType==\"Carrier\" or oldType==\"Bulk Carrier\" or oldType==\"General Cargo\" or oldType==\"Heavy Load Carrier\" or oldType==\"Refrigerated Cargo\" or oldType==\"Asphalt Tanker\" or oldType==\"Bitumen Tanker\" or oldType==\"Cement Carrier \" or oldType==\"Livestock Carrier\" or oldType==\"OBO Carrier\" or oldType==\"Cement Carrier\": \n",
    "            newType=\"Vehicle Carrier\"\n",
    "            \n",
    "        elif oldType==\"Ro-Ro\" or oldType==\"Vehicle Carrier\": \n",
    "            newType=\"Vehicle Carrier\"\n",
    "            \n",
    "        elif oldType==\"Drilling Ship\" or oldType==\"Research Vessel\" or oldType==\"Offshore Supply Ship\" or oldType==\"Pipe Layer Vessel\" or oldType==\"Diving Support\" or oldType==\"Offshore Processing Ship\": \n",
    "            newType=\"Offshore Exploitation\"\n",
    "            \n",
    "        elif oldType==\"Naval Auxiliary\" or oldType==\"Warship\": \n",
    "            newType=\"Military\"\n",
    "            \n",
    "        elif oldType==\"Catamaran\" or oldType==\"Water Barge\" or oldType==\"Yacht\": \n",
    "            newType=\"Barge\"\n",
    "        \n",
    "        elif oldType==\"Storage Tanker\" or oldType==\"Wood Chips Carrier\" or oldType==\"Wood Chip Carrier\" or oldType==\"Wood Chip Carrier\": \n",
    "            newType=\"Heavy Tanker\"\n",
    "        \n",
    "        elif oldType==\"Supply Ship\" or oldType==\"Patrol Boat\" or oldType==\"Crew Boat\": \n",
    "            newType=\"Ship\"\n",
    "    \n",
    "        elif oldType==\"Tug\" or oldType==\"Offshore Tug\": \n",
    "            newType=\"Tug\"\n",
    "            \n",
    "        elif \"Vessel\" in oldType: \n",
    "            newType=\"Vessel\"\n",
    "            \n",
    "    return newType"
   ]
  },
  {
   "cell_type": "code",
   "execution_count": 6,
   "metadata": {
    "collapsed": false
   },
   "outputs": [],
   "source": [
    "df['new_type']= df.apply(lambda row: getRightType(row['type(0)']), axis=1)"
   ]
  },
  {
   "cell_type": "code",
   "execution_count": 7,
   "metadata": {
    "collapsed": false
   },
   "outputs": [],
   "source": [
    "uniqueFinal=df[\"new_type\"].unique()"
   ]
  },
  {
   "cell_type": "markdown",
   "metadata": {},
   "source": [
    "# Ecriture dans le fichier"
   ]
  },
  {
   "cell_type": "code",
   "execution_count": 8,
   "metadata": {
    "collapsed": false
   },
   "outputs": [],
   "source": [
    "df.to_csv(\"../data/donneesBrutesPirateriesLatLon.csv\",sep=';')"
   ]
  }
 ],
 "metadata": {
  "kernelspec": {
   "display_name": "Python 2",
   "language": "python",
   "name": "python2"
  },
  "language_info": {
   "codemirror_mode": {
    "name": "ipython",
    "version": 2
   },
   "file_extension": ".py",
   "mimetype": "text/x-python",
   "name": "python",
   "nbconvert_exporter": "python",
   "pygments_lexer": "ipython2",
   "version": "2.7.11"
  }
 },
 "nbformat": 4,
 "nbformat_minor": 0
}
