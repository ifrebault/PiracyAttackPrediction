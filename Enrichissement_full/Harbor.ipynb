{
 "cells": [
  {
   "cell_type": "markdown",
   "metadata": {},
   "source": [
    "# enrichissment full #4"
   ]
  },
  {
   "cell_type": "code",
   "execution_count": 1,
   "metadata": {
    "collapsed": false
   },
   "outputs": [],
   "source": [
    "import urllib2\n",
    "from bs4 import BeautifulSoup\n",
    "import pandas as pd\n",
    "from decimal import *\n",
    "import numpy as np\n",
    "import re\n",
    "import unicodedata\n",
    "import csv\n",
    "from geopy.distance import vincenty"
   ]
  },
  {
   "cell_type": "markdown",
   "metadata": {},
   "source": [
    "# Récupération des ports"
   ]
  },
  {
   "cell_type": "markdown",
   "metadata": {},
   "source": [
    "## Source des données : http://www.vesseltracker.com/en/CoveredAreas.html"
   ]
  },
  {
   "cell_type": "code",
   "execution_count": 2,
   "metadata": {
    "collapsed": false
   },
   "outputs": [],
   "source": [
    "response = urllib2.urlopen('http://www.vesseltracker.com/en/CoveredAreas.html')\n",
    "html = response.read()"
   ]
  },
  {
   "cell_type": "code",
   "execution_count": 3,
   "metadata": {
    "collapsed": false
   },
   "outputs": [
    {
     "name": "stderr",
     "output_type": "stream",
     "text": [
      "/Users/inesfrebault/app/anaconda2/lib/python2.7/site-packages/bs4/__init__.py:166: UserWarning: No parser was explicitly specified, so I'm using the best available HTML parser for this system (\"lxml\"). This usually isn't a problem, but if you run this code on another system, or in a different virtual environment, it may use a different parser and behave differently.\n",
      "\n",
      "To get rid of this warning, change this:\n",
      "\n",
      " BeautifulSoup([your markup])\n",
      "\n",
      "to this:\n",
      "\n",
      " BeautifulSoup([your markup], \"lxml\")\n",
      "\n",
      "  markup_type=markup_type))\n"
     ]
    }
   ],
   "source": [
    "page = BeautifulSoup(html)"
   ]
  },
  {
   "cell_type": "code",
   "execution_count": 6,
   "metadata": {
    "collapsed": false
   },
   "outputs": [],
   "source": [
    "def recup_href(doc_html):\n",
    "    with open('../data/referentiels/harbors.csv', 'w') as csvfile:\n",
    "        fieldnames = ['Harbor', 'Latitude','Longitude']\n",
    "\n",
    "        writer = csv.DictWriter(csvfile, delimiter=';',fieldnames=fieldnames)\n",
    "        writer.writeheader()\n",
    "        \n",
    "        spamwriter = csv.writer(csvfile, delimiter=';',\n",
    "                            quotechar='|', quoting=csv.QUOTE_MINIMAL)\n",
    "        \n",
    "        for i in range(13,2003):\n",
    "            # retrieval of the href of harbors\n",
    "            stringId = 'theLink_' + str(i)\n",
    "            for link in doc_html.find_all(id=stringId):\n",
    "                port = link.get('href')\n",
    "                port = port.replace(\" \",\"%20\")\n",
    "                string = 'http://www.vesseltracker.com' + port\n",
    "                harbor = urllib2.urlopen(string)\n",
    "                html2 = harbor.read()\n",
    "                page2 = BeautifulSoup(html2)\n",
    "                stringSplit=string.split('/')\n",
    "                # retrieval of the coordinates fom the harbor's page\n",
    "                for a in page2.find_all('div',{'class' : 'info'}):\n",
    "                    for b in a.find_all('div',{'class' : 'item'}):\n",
    "                        if (b.get_text().find('Coordinates') > -1):\n",
    "                            text=a.get_text()\n",
    "                            text = text.encode('ascii', 'ignore')\n",
    "                            Arraytext = text.split(\":\")\n",
    "                            coord=Arraytext[1]\n",
    "                            ArrayCoord = coord.split(\"'\")\n",
    "                            spamwriter.writerow([stringSplit[5],ArrayCoord[0],ArrayCoord[1]])"
   ]
  },
  {
   "cell_type": "code",
   "execution_count": 7,
   "metadata": {
    "collapsed": false,
    "scrolled": true
   },
   "outputs": [],
   "source": [
    "recup_href(page)"
   ]
  },
  {
   "cell_type": "markdown",
   "metadata": {},
   "source": [
    "# Conversion"
   ]
  },
  {
   "cell_type": "code",
   "execution_count": 8,
   "metadata": {
    "collapsed": true
   },
   "outputs": [],
   "source": [
    "def convert(string):\n",
    "    stringSplitted = string.split(\" \")\n",
    "    result = float(stringSplitted[1]) + float(stringSplitted[2])/60\n",
    "    if (stringSplitted[0] == \"S\" or stringSplitted[0] == \"W\"):\n",
    "        result = -result\n",
    "    return result"
   ]
  },
  {
   "cell_type": "code",
   "execution_count": 9,
   "metadata": {
    "collapsed": true
   },
   "outputs": [],
   "source": [
    "dfHarbor = pd.read_csv('../data/referentiels/harbors.csv',sep=';')"
   ]
  },
  {
   "cell_type": "code",
   "execution_count": 10,
   "metadata": {
    "collapsed": true
   },
   "outputs": [],
   "source": [
    "dfHarbor['Latitude2'] = dfHarbor.apply(lambda row: convert(row['Latitude']), axis=1)\n",
    "dfHarbor['Longitude2'] = dfHarbor.apply(lambda row: convert(row['Longitude']), axis=1)"
   ]
  },
  {
   "cell_type": "code",
   "execution_count": 11,
   "metadata": {
    "collapsed": true
   },
   "outputs": [],
   "source": [
    "dfHarbor.to_csv(\"../data/referentiels/harbors.csv\",sep=';',index=False, encoding='utf-8')"
   ]
  },
  {
   "cell_type": "markdown",
   "metadata": {},
   "source": [
    "# Distance"
   ]
  },
  {
   "cell_type": "code",
   "execution_count": 12,
   "metadata": {
    "collapsed": false
   },
   "outputs": [],
   "source": [
    "threshold=40\n",
    "\n",
    "def get_distance(lat, lon,dataset):\n",
    "    tab=[]\n",
    "    tab2=[]\n",
    "    pointAttack=(lat, lon)\n",
    "    HarborCurrent=dataset[(dataset.Latitude2<lat+threshold) & (dataset.Latitude2>lat-threshold) & (dataset.Longitude2>lon-threshold) & (dataset.Longitude2<lon+threshold)]\n",
    "    length=len(HarborCurrent)\n",
    "\n",
    "    for index in range(0,length):\n",
    "        pointCoast= (HarborCurrent.iloc[index]['Latitude2'], HarborCurrent.iloc[index]['Longitude2'])\n",
    "        distance =vincenty(pointCoast, pointAttack).kilometers\n",
    "        tab.append(distance)\n",
    "        tab2.append(HarborCurrent.iloc[index]['Harbor'])\n",
    "    \n",
    "    return min(tab)\n",
    "\n",
    "#print 'distance : ' +str(get_distance(lat, lon,dfHarbor))"
   ]
  },
  {
   "cell_type": "code",
   "execution_count": 13,
   "metadata": {
    "collapsed": false,
    "scrolled": true
   },
   "outputs": [],
   "source": [
    "df = pd.read_csv('../data/donneesBrutesPirateriesLatLon.csv',sep=';')\n",
    "df['distance au port'] = df.apply(lambda row: get_distance(row['latitude'],row['longitude'],dfHarbor), axis=1)"
   ]
  },
  {
   "cell_type": "code",
   "execution_count": 14,
   "metadata": {
    "collapsed": true
   },
   "outputs": [],
   "source": [
    "df.to_csv(\"../data/donneesBrutesPirateriesLatLon.csv\",sep=';',index=False, encoding='utf-8')"
   ]
  }
 ],
 "metadata": {
  "kernelspec": {
   "display_name": "Python 2",
   "language": "python",
   "name": "python2"
  },
  "language_info": {
   "codemirror_mode": {
    "name": "ipython",
    "version": 2
   },
   "file_extension": ".py",
   "mimetype": "text/x-python",
   "name": "python",
   "nbconvert_exporter": "python",
   "pygments_lexer": "ipython2",
   "version": "2.7.11"
  }
 },
 "nbformat": 4,
 "nbformat_minor": 0
}
