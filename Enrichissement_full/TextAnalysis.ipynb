{
 "cells": [
  {
   "cell_type": "code",
   "execution_count": 2,
   "metadata": {
    "collapsed": true
   },
   "outputs": [],
   "source": [
    "import pandas as pd\n",
    "from decimal import *\n",
    "import numpy as np\n",
    "import re"
   ]
  },
  {
   "cell_type": "markdown",
   "metadata": {},
   "source": [
    "# Lecture des données"
   ]
  },
  {
   "cell_type": "code",
   "execution_count": 3,
   "metadata": {
    "collapsed": false
   },
   "outputs": [],
   "source": [
    "df = pd.read_csv('../data/donneesBrutesPirateriesLatLon.csv',sep=';')"
   ]
  },
  {
   "cell_type": "markdown",
   "metadata": {},
   "source": [
    "# Nettoyage des chaînes"
   ]
  },
  {
   "cell_type": "code",
   "execution_count": 5,
   "metadata": {
    "collapsed": false
   },
   "outputs": [],
   "source": [
    "size=len(df)\n",
    "newDescriptif = []\n",
    "for i in range(0,size) :\n",
    "    newDescriptif.append(df.descriptif[i].replace(\"\\n\",\"\").lower())"
   ]
  },
  {
   "cell_type": "code",
   "execution_count": 6,
   "metadata": {
    "collapsed": true
   },
   "outputs": [],
   "source": [
    "df['newDescriptif']=newDescriptif"
   ]
  },
  {
   "cell_type": "markdown",
   "metadata": {},
   "source": [
    "# RPG"
   ]
  },
  {
   "cell_type": "code",
   "execution_count": 7,
   "metadata": {
    "collapsed": true
   },
   "outputs": [],
   "source": [
    "def rpg(des):\n",
    "    if (des.find(\"rpg\") > -1):\n",
    "        output=1\n",
    "    elif (des.find(\"launcher\") > -1):\n",
    "        output=1\n",
    "    else:\n",
    "        output=0\n",
    "    return output   "
   ]
  },
  {
   "cell_type": "code",
   "execution_count": 8,
   "metadata": {
    "collapsed": false
   },
   "outputs": [],
   "source": [
    "df['RPG'] = df.apply(lambda row: rpg(row['newDescriptif']), axis=1)"
   ]
  },
  {
   "cell_type": "markdown",
   "metadata": {},
   "source": [
    "# Guns"
   ]
  },
  {
   "cell_type": "code",
   "execution_count": 9,
   "metadata": {
    "collapsed": true
   },
   "outputs": [],
   "source": [
    "def guns(des):\n",
    "    if (des.find(\"no gun\") > -1):\n",
    "        output = 0\n",
    "    elif (des.find(\"gun\") > -1):\n",
    "        output = 1\n",
    "    elif (des.find(\"no rifle\") > -1):\n",
    "        output = 0\n",
    "    elif (des.find(\"rifle\") > -1):\n",
    "        output = 1\n",
    "    elif (des.find(\"no pistol\") > -1):\n",
    "        output = 0\n",
    "    elif (des.find(\"pistol\") > -1):\n",
    "        output = 1\n",
    "    elif (des.find(\"automatic weapon\") > -1):\n",
    "        output = 1\n",
    "    else:\n",
    "        output = 0\n",
    "    return output"
   ]
  },
  {
   "cell_type": "code",
   "execution_count": 10,
   "metadata": {
    "collapsed": false
   },
   "outputs": [],
   "source": [
    "df['Guns'] = df.apply(lambda row: guns(row['newDescriptif']), axis=1)"
   ]
  },
  {
   "cell_type": "markdown",
   "metadata": {},
   "source": [
    "# Knives"
   ]
  },
  {
   "cell_type": "code",
   "execution_count": 11,
   "metadata": {
    "collapsed": true
   },
   "outputs": [],
   "source": [
    "def knives(des):\n",
    "    if (des.find(\"no knive\") > -1):\n",
    "        output = 0\n",
    "    elif (des.find(\"knive\") > -1):\n",
    "        output = 1\n",
    "    elif (des.find(\"no machete\") > -1):\n",
    "        output = 0\n",
    "    elif (des.find(\"machete\") > -1):\n",
    "        output = 1\n",
    "    elif (des.find(\"no axe\") > -1):\n",
    "        output = 0\n",
    "    elif (des.find(\"axe\") > -1):\n",
    "        output = 1\n",
    "    else:\n",
    "        output = 0\n",
    "    return output"
   ]
  },
  {
   "cell_type": "code",
   "execution_count": 12,
   "metadata": {
    "collapsed": false
   },
   "outputs": [],
   "source": [
    "df['Knives '] = df.apply(lambda row: knives(row['newDescriptif']), axis=1)"
   ]
  },
  {
   "cell_type": "markdown",
   "metadata": {},
   "source": [
    "# Death"
   ]
  },
  {
   "cell_type": "code",
   "execution_count": 13,
   "metadata": {
    "collapsed": true
   },
   "outputs": [],
   "source": [
    "def dead(des):\n",
    "    if (des.find(\"dead\") > -1):\n",
    "        output = 1\n",
    "    elif (des.find(\"killed\") > -1):\n",
    "        output = 1\n",
    "    elif (des.find(\"died\") > -1):\n",
    "        output = 1\n",
    "    else:\n",
    "        output = 0\n",
    "    return output"
   ]
  },
  {
   "cell_type": "code",
   "execution_count": 14,
   "metadata": {
    "collapsed": false
   },
   "outputs": [],
   "source": [
    "df[' meurtre'] = df.apply(lambda row: dead(row['newDescriptif']), axis=1)"
   ]
  },
  {
   "cell_type": "markdown",
   "metadata": {
    "collapsed": true
   },
   "source": [
    "# Blessés"
   ]
  },
  {
   "cell_type": "code",
   "execution_count": 15,
   "metadata": {
    "collapsed": true
   },
   "outputs": [],
   "source": [
    "def injured(des):\n",
    "    if (des.find(\"not injur\") > -1):\n",
    "        output = 0\n",
    "    elif (des.find(\"no injur\") > -1):\n",
    "        output = 0\n",
    "    elif (des.find(\"uninjur\") > -1):\n",
    "        output = 0\n",
    "    elif (des.find(\"injur\") > -1):\n",
    "        output = 1\n",
    "    elif (des.find(\"not harm\") > -1):\n",
    "        output = 0\n",
    "    elif (des.find(\"no harm\") > -1):\n",
    "        output = 0\n",
    "    elif (des.find(\"not to harm\") > -1):\n",
    "        output = 0\n",
    "    elif (des.find(\"unharm\") > -1):\n",
    "        output = 0\n",
    "    elif (des.find(\"harmony\") > -1):\n",
    "        output = 0\n",
    "    elif (des.find(\"harm\") > -1):\n",
    "        output = 1\n",
    "    elif (des.find(\"not wound\") > -1):\n",
    "        output = 0\n",
    "    elif (des.find(\"no wound\") > -1):\n",
    "        output = 0\n",
    "    elif (des.find(\"unwound\") > -1):\n",
    "        output = 0\n",
    "    elif (des.find(\"wound\") > -1):\n",
    "        output = 1\n",
    "    elif (des.find(\"not hurt\") > -1):\n",
    "        output = 0\n",
    "    elif (des.find(\"no hurt\") > -1):\n",
    "        output = 0\n",
    "    elif (des.find(\"unhurt\") > -1):\n",
    "        output = 0\n",
    "    elif (des.find(\"hurt\") > -1):\n",
    "        output = 1\n",
    "    else:\n",
    "        output = 0\n",
    "    return output"
   ]
  },
  {
   "cell_type": "code",
   "execution_count": 16,
   "metadata": {
    "collapsed": false
   },
   "outputs": [],
   "source": [
    "df['blessées'] = df.apply(lambda row: injured(row['newDescriptif']), axis=1)"
   ]
  },
  {
   "cell_type": "markdown",
   "metadata": {},
   "source": [
    "# Kidnapping"
   ]
  },
  {
   "cell_type": "code",
   "execution_count": 17,
   "metadata": {
    "collapsed": true
   },
   "outputs": [],
   "source": [
    "def kidnapping(des):\n",
    "    if (des.find(\"no kidnapp\") > -1):\n",
    "        output = 0\n",
    "    elif (des.find(\"kidnapp\") > -1):\n",
    "        output = 1\n",
    "    elif (des.find(\"no hostage\") > -1):\n",
    "        output = 0\n",
    "    elif (des.find(\"hostage\") > -1):\n",
    "        output = 1\n",
    "    else:\n",
    "        output = 0\n",
    "    return output"
   ]
  },
  {
   "cell_type": "code",
   "execution_count": 18,
   "metadata": {
    "collapsed": false
   },
   "outputs": [],
   "source": [
    "df[' Kidnapping'] = df.apply(lambda row: kidnapping(row['newDescriptif']), axis=1)"
   ]
  },
  {
   "cell_type": "markdown",
   "metadata": {
    "collapsed": true
   },
   "source": [
    "# Theft"
   ]
  },
  {
   "cell_type": "code",
   "execution_count": 19,
   "metadata": {
    "collapsed": true
   },
   "outputs": [],
   "source": [
    "def theft(des):\n",
    "    if (des.find(\"without stealing\") > -1):\n",
    "        output = 0\n",
    "    elif (des.find(\"attempted to steal\") > -1):\n",
    "        output = 0\n",
    "    elif (des.find(\"tried to steal\") > -1):\n",
    "        output = 0\n",
    "    elif (des.find(\"steal\") > -1):\n",
    "        output = 1\n",
    "    elif (des.find(\"nothing stolen\") > -1):\n",
    "        output = 0\n",
    "    elif (des.find(\"nothing was stolen\") > -1):\n",
    "        output = 0\n",
    "    elif (des.find(\"stole\") > -1):\n",
    "        output = 1\n",
    "    elif (des.find(\"theft was prevented\") > -1):\n",
    "        output = 0\n",
    "    elif (des.find(\"escaped with\") > -1):\n",
    "        output = 1\n",
    "    elif (des.find(\"theft\") > -1):\n",
    "        output = 1\n",
    "    elif (des.find(\"burgled\") > -1):\n",
    "        output = 1\n",
    "    else:\n",
    "        output = 0\n",
    "    return output"
   ]
  },
  {
   "cell_type": "code",
   "execution_count": 20,
   "metadata": {
    "collapsed": false
   },
   "outputs": [],
   "source": [
    "df['Vol à bord'] = df.apply(lambda row: theft(row['newDescriptif']), axis=1)"
   ]
  },
  {
   "cell_type": "markdown",
   "metadata": {},
   "source": [
    "# NumberOfPirates"
   ]
  },
  {
   "cell_type": "markdown",
   "metadata": {},
   "source": [
    "### La classe Numbers nous permet d'énumérer les nombres de manière litérale"
   ]
  },
  {
   "cell_type": "code",
   "execution_count": 21,
   "metadata": {
    "collapsed": false
   },
   "outputs": [],
   "source": [
    "Numbers = {\n",
    "    'zero': 0,\n",
    "    'one': 1,\n",
    "    'two': 2,\n",
    "    'three': 3,\n",
    "    'four': 4,\n",
    "    'five': 5,\n",
    "    'six': 6,\n",
    "    'seven': 7,\n",
    "    'eight': 8,\n",
    "    'nine': 9,\n",
    "    'ten': 10,\n",
    "    'eleven': 11,\n",
    "    'twelve': 12,\n",
    "    'thirteen': 13,\n",
    "    'fourteen': 14,\n",
    "    'fifteen': 15,\n",
    "    'sixteen': 16,\n",
    "    'seventeen': 17,\n",
    "    'eighteen': 18,\n",
    "    'nineteen': 19,\n",
    "    'twenty': 20,\n",
    "    'twenty-one': 21,\n",
    "    'twenty one': 21,\n",
    "    'twenty-two': 22,\n",
    "    'twenty two': 22,\n",
    "    'twenty-three': 23,\n",
    "    'twenty three': 23,\n",
    "    'twenty-four': 24,\n",
    "    'twenty four': 24,\n",
    "    'twenty-five': 25,\n",
    "    'twenty five': 25,\n",
    "    'twenty-six': 26,\n",
    "    'twenty six': 26,\n",
    "}"
   ]
  },
  {
   "cell_type": "code",
   "execution_count": 22,
   "metadata": {
    "collapsed": false
   },
   "outputs": [],
   "source": [
    "def literalToInt(sentence,min_boo):\n",
    "    #\"this returns a list of int containing the number of pirates\"\n",
    "    indexPirates= []\n",
    "    numberPirates = []\n",
    "    #sentence is converted into an array of words\n",
    "    words = re.sub(\"[^\\w]\"+\"\\.\", \" \",  sentence).split()\n",
    "    for i in range(1,len(words)) :\n",
    "        if (words[i].find(\"robber\") > -1):\n",
    "            indexPirates.append(words[i-1])\n",
    "        elif (words[i].find(\"pirate\") > -1):\n",
    "            indexPirates.append(words[i-1])\n",
    "    #we analyse the word before robber or pirate, it is supposed to be a number\n",
    "    for i in range(0,len(indexPirates)) :\n",
    "        x = Numbers.get(indexPirates[i], None)\n",
    "        if x is not None:\n",
    "            numberPirates.append(x)\n",
    "    if(len(numberPirates) == 0):\n",
    "        numberPirates.append(-1)\n",
    "    if min_boo:\n",
    "        return min(numberPirates)\n",
    "    else:\n",
    "        return max(numberPirates)"
   ]
  },
  {
   "cell_type": "code",
   "execution_count": 23,
   "metadata": {
    "collapsed": false
   },
   "outputs": [
    {
     "name": "stdout",
     "output_type": "stream",
     "text": [
      "four robbers in a speed boat approached an anchored ship from the port quarter. one robber boarded by using a hook attached to a rope. he was spotted by the deck watchman. alarm raised and the robber escaped via the same rope.  local authorities informed.\n",
      "1\n",
      "4\n"
     ]
    }
   ],
   "source": [
    "sentence = newDescriptif[5]\n",
    "print sentence\n",
    "minPirate=literalToInt(sentence,True)\n",
    "maxPirate=literalToInt(sentence,False)\n",
    "print minPirate\n",
    "print maxPirate"
   ]
  },
  {
   "cell_type": "code",
   "execution_count": 24,
   "metadata": {
    "collapsed": false
   },
   "outputs": [],
   "source": [
    "df['Nombre P  Min']= df.apply(lambda row: literalToInt(row['newDescriptif'],True), axis=1)\n",
    "df['Nombre P  max']= df.apply(lambda row: literalToInt(row['newDescriptif'],False), axis=1)"
   ]
  },
  {
   "cell_type": "markdown",
   "metadata": {},
   "source": [
    "# Mousson"
   ]
  },
  {
   "cell_type": "markdown",
   "metadata": {},
   "source": [
    "### Selon AMMA, la mousson africaine se déroule de juin à septembre\n",
    "#### http://archive.wikiwix.com/cache/?url=http%3A%2F%2Fwww.amma-international.org%2Farticle.php3%3Fid_article%3D37"
   ]
  },
  {
   "cell_type": "code",
   "execution_count": 25,
   "metadata": {
    "collapsed": false
   },
   "outputs": [],
   "source": [
    "def isMousson(month):\n",
    "    if (month >= 6.0 and month <= 9.0):\n",
    "        output = 1\n",
    "    else:\n",
    "        output = 0\n",
    "    return output"
   ]
  },
  {
   "cell_type": "code",
   "execution_count": 26,
   "metadata": {
    "collapsed": false
   },
   "outputs": [
    {
     "data": {
      "text/plain": [
       "1"
      ]
     },
     "execution_count": 26,
     "metadata": {},
     "output_type": "execute_result"
    }
   ],
   "source": [
    "isMousson(6.0)"
   ]
  },
  {
   "cell_type": "code",
   "execution_count": 27,
   "metadata": {
    "collapsed": false
   },
   "outputs": [],
   "source": [
    "df['mousson']= df.apply(lambda row: isMousson(row['mois (0)']), axis=1)"
   ]
  },
  {
   "cell_type": "markdown",
   "metadata": {},
   "source": [
    "# Ecriture dans le fichier"
   ]
  },
  {
   "cell_type": "code",
   "execution_count": 29,
   "metadata": {
    "collapsed": false
   },
   "outputs": [],
   "source": [
    "df.to_csv(\"../data/donneesBrutesPirateriesLatLon.csv\",sep=';',index=False, encoding='utf-8')"
   ]
  },
  {
   "cell_type": "code",
   "execution_count": null,
   "metadata": {
    "collapsed": true
   },
   "outputs": [],
   "source": []
  }
 ],
 "metadata": {
  "kernelspec": {
   "display_name": "Python 2",
   "language": "python",
   "name": "python2"
  },
  "language_info": {
   "codemirror_mode": {
    "name": "ipython",
    "version": 2
   },
   "file_extension": ".py",
   "mimetype": "text/x-python",
   "name": "python",
   "nbconvert_exporter": "python",
   "pygments_lexer": "ipython2",
   "version": "2.7.11"
  }
 },
 "nbformat": 4,
 "nbformat_minor": 0
}
